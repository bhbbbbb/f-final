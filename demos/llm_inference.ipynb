{
 "cells": [
  {
   "cell_type": "code",
   "execution_count": 3,
   "metadata": {},
   "outputs": [
    {
     "name": "stdout",
     "output_type": "stream",
     "text": [
      "ho colab\n"
     ]
    }
   ],
   "source": [
    "\"\"\" It is recommmended NOT to change codes in this cell \"\"\"\n",
    "try:\n",
    "    import google.colab\n",
    "    !pip install bitsandbytes==0.43.0\n",
    "    !pip install datasets==2.10.1\n",
    "    !pip install transformers==4.38.2\n",
    "    !pip install peft==0.11.0\n",
    "    !pip install sentencepiece==0.1.99\n",
    "    !pip install -U accelerate==0.28.0\n",
    "    !pip install colorama==0.4.6\n",
    "    !pip install git+https://github.com/bhbbbbb/f-final\n",
    "except:\n",
    "    pass"
   ]
  },
  {
   "cell_type": "code",
   "execution_count": 1,
   "metadata": {},
   "outputs": [],
   "source": [
    "import warnings\n",
    "warnings.filterwarnings(\"ignore\")\n",
    "from transformers import GenerationConfig\n",
    "import final\n",
    "from final.llm import LLM\n",
    "final.data.set_password(...)"
   ]
  },
  {
   "cell_type": "markdown",
   "metadata": {},
   "source": [
    "## Instruction & Inference Dataset\n",
    "\n",
    "It's recommended not to modify this block, but one can play around and check what is used in the inference_dataset.\n"
   ]
  },
  {
   "cell_type": "code",
   "execution_count": 2,
   "metadata": {},
   "outputs": [
    {
     "name": "stdout",
     "output_type": "stream",
     "text": [
      "{5: ['Love Ataulfo Mango', 'Mango', 'Mango Ice', 'Fresh Mangoes', 'Exquisite Fruits', 'Fruit Gift Box', 'Juicy Mango', 'Premium Mango', 'Summer Delight', 'Perfect Gift'], 23: ['Frozen Broccoli', 'Cruciferous Vegetables', 'Cancer-fighting', 'Low-Calorie Diet', 'Healthy Eating', 'Quick Meal Prep', 'Fitness Recipes', 'Weight Loss', 'Low-Carb Option', 'Salad Ingredient'], 24: ['Frozen Cauliflower', 'Healthy Eating', 'Meal Preparation', 'Fitness', 'Weight Control', 'Quick Meals', 'Frozen Vegetables', 'Nutritious Ingredients', 'Diet Control', \"Kids' Lunch\"], 25: ['Healthy Eating', 'Frozen Vegetables', 'Meal Prep', 'Fitness Food', 'Health Recipes', 'Controlled Diet', 'Quick Meals', 'Broccoli', 'Cauliflower', 'Convenient'], 28: ['Pork Balls', 'Taiwan Pork', 'Hot Pot Ingredients', 'Fresh Meat', 'Pork Leg', 'Meatballs', 'Pure Pork', 'Yummy Soup', 'Local Ingredients', 'Meat Density'], 46: ['Gourmet Fish Dish', 'Taiwan Sea Bass', 'Post-surgery Diet', 'Meal Prep', 'Sea Bass Recipe', 'Nutritious Meal', 'Eye-catching Fish', 'Health Boosting', 'Recovery Food', 'Fine Dining Option'], 51: ['High Protein Chicken', 'Fitness Recipe', 'Low Calorie Meal', 'Muscle Building', 'Ready-to-Eat', 'Salted Chicken Breast', 'Lean Muscle', 'Healthy Meal Prep', 'Quick Frozen', 'Gourmet Protein'], 56: ['Breakfast delight', 'Savory pastry', 'Scallion pancake', 'Handcrafted goodness', 'Fluffy texture', 'Crispy outside', 'Scrumptious aroma', 'Gourmet treat', 'Locally sourced scallions', 'Authentic Taiwanese flavor'], 76: ['Whitefish Fillet', 'Gourmet Fish', 'Fish Recipes', 'Gourmet Cooking', 'Cod Fillet', 'Culinary Delight', 'Premium Seafood', 'Delicious Fish', 'Frozen Fillet', 'Seafood Delicacy'], 77: ['Flower crab', 'Seafood delicacy', 'Crab meat', 'Fresh seafood', 'Seafood recipe', 'Quick frozen', 'Gourmet cuisine', 'Crab dish', 'Wild caught', 'Savory flavor'], 79: ['Fried Fish', 'Fish Nuggets', 'Snack', 'Deep-fried Delights', 'Crispy Fish', 'Fast Food', 'Air Fryer Cooking', 'Late-night Snack', 'Seafood', 'Taiwanese Fried Food'], 81: ['Healthy Shrimp', 'Taiwan Shrimp', 'Hot Pot Seafood', 'Shrimp Recipe', 'Non-Toxic Shrimp', 'Freshwater Shrimp', 'Shrimp Dish', 'Premium Quality Shrimp', 'Sustainable Shrimp', 'Shrimp Farming'], 87: ['Norwegian Sardine', 'Low-Salt Sardines', 'Seafood Delight', 'Japanese Grilled Fish', 'Gourmet Fish Dish', 'Omega-3 Source', 'Healthy Meal Prep', 'Bento Box Staple', 'Fish Recipe', 'Succulent Sardine'], 93: ['Frozen Green Beans', 'Healthy Eating', 'Meal Preparation', 'Quick Frozen Vegetables', 'Fitness', 'Healthy Cooking', 'Weight Management', 'Convenient Meal Prep', 'IQF Frozen Produce', 'Healthy Living'], 95: ['Frozen Okra', 'Quick Meal Prep', 'Healthy Eating', 'Frozen Vegetables', 'Fitness', 'Meal Prep', 'Nutritious Veggies', 'Cooking Convenience', 'Diet Control', 'Healthier Meals'], 119: ['Handmade Squid Balls', 'Hotpot Ingredient', 'Gourmet Squid Balls', 'Squid Ball Delights', 'Fresh Squid Balls', 'Handcrafted Seafood Balls', 'Premium Squid Balls', 'Top-Quality Seafood Balls', 'Authentic Hotpot Addition', 'Delicious Homemade Squid Balls'], 133: ['Angus Beef', 'Prime Cut', 'Wagyu', 'Beef Steak', 'Beef Cubes', 'Juicy Beef', 'Sirloin', 'Beef Recipe', 'Beef Soup', 'Stir-fry Beef'], 151: ['Hot Pot', 'Instant Meal', 'Beef Stew', 'Meat Soup', 'Taiwan Cuisine', 'Premium Ingredients', 'Ready to Heat', 'Gourmet Dish', 'Herbal Infusion', 'New Zealand Beef'], 173: ['Beef Recipes', 'Meal Prep', 'Hot Pot Beef Slices', 'Beef Loin', 'Beef Cooking', 'Grilling Meat', 'Quality Beef', 'Gourmet Beef', 'Utah Beef', 'Tender Beef'], 183: ['French Fries', 'Fast Food', 'Crispy Snack', 'Golden Crispy Fries', 'Air Fryer Cooking', 'Midnight Snack', 'American Fast Food', 'Potato Sticks', 'Snack Food', 'Popular Fries'], 189: ['Sweet Potatoes', 'Healthy Snack', 'Low-Carb Diet', 'Fitness Recipe', 'Weight Management', 'Antioxidant Food', 'Detox Diet', 'Quick Meal Prep', 'Clean Eating', 'Nutrient-Rich'], 195: ['Norwegian Mackerel', 'Low-Salt Mackerel', 'Seafood Delight', 'Japanese Grilled Fish', 'DHA-Rich', 'Meal Prep', 'Bento Main Course', 'Healthy Eating', 'Gourmet Norwegian Mackerel', 'Delicious Fish Recipe'], 212: ['White Mullet', 'Gourmet Fish', 'Atlantic White Mullet', 'Fish Fillet Recipes', 'Meal Prep', 'Premium Fish Cuts', 'Cooking with Fish', 'White Mullet Steak', 'Seafood Delicacy', 'Omega-3 Rich Fish'], 232: ['Frozen Broccoli Florets', 'Healthy Eating', 'Meal Prep', 'Fitness', 'Quick Meal Prep', 'Frozen Vegetables', 'Health-conscious Cooking', 'Convenience', 'Frozen Food', 'Nutritious Choices'], 236: ['Fresh Tiger Grouper Fillet', 'Gourmet Seafood', 'Frozen Fish Fillet', 'Easy Meal Prep', 'Grouper Recipe', 'High-quality Seafood', 'Seafood Delicacy', 'Fish Fillet Dish', 'Grouper Cuisine', 'Premium Frozen Fish'], 264: ['Japanese A5 Wagyu', 'Wagyu burger patties', 'Gourmet beef burgers', 'Juicy Wagyu', 'A5 Wagyu beef', 'Premium hamburger steaks', 'Wagyu meat patties', 'Indulgent Wagyu', 'Decadent burger patties', 'Unforgettable Wagyu flavor'], 282: ['Sweet Potato', 'Healthy Snack', 'Artisanal Cultivation', 'Low Carb Diet', 'Fitness Recipe', 'Weight Management', 'Non-Toxic', 'Low Calorie', 'SGS Certified', 'Unique Variety'], 295: ['Wild Seaweed', 'Penghu Seaweed', 'Seafood Recipe', 'Seaweed Salad', 'Wild Kelp', 'Fresh Seaweed', 'Seaweed Dish', 'Gourmet Seafood', 'Sea Kelp Sprouts', 'Premium Ocean Delicacy'], 320: ['Penghu Seaweed', 'Wild Seaweed', 'Gourmet Seafood', 'Seaweed Salad', 'Five-Star Quality', 'Seafood Recipes', 'Healthy Superfood', 'Pure Penghu Harvest', 'Oceanic Delights', 'Seaside Cuisine'], 324: ['Taiwan mackerel', 'Lightly salted mackerel', 'Seafood delicacy', 'Japanese grilled fish', 'One-night dried', 'DHA-rich fish', 'Natural fish oil', 'Bento main dish', 'Fish recipe', 'Izakaya cuisine'], 345: ['Angus beef', 'Grilled beef', 'Ribeye beef slices', 'Marbled beef', 'Beef recipes', 'Grass-fed beef', 'Barbecue meat', 'Meal prep', 'Premium beef cuts', 'Juicy beef slices'], 352: ['Spicy Sunflower Seeds', 'Appetizer Snack', 'Refreshing Starter', 'Spicy Sichuan Flavor', 'Chili Pepper Infusion', 'Sichuan Peppercorn', 'Spicy Seafood Snack', 'Spicy Appetizer', 'Satisfying mouthfeel', 'Flavorful Snack'], 353: ['Seafood', 'Coral Grass', 'Nutritious', 'Penghu', 'Sea Cucumber', 'Gourmet', 'Healthy Eating', 'Meal Preparation', 'Hot Pot Ingredient', 'Seafood Recipe'], 365: ['Lean Muscle', 'High Protein', 'Fitness Recipe', 'Low Calorie', 'Quick Meal', 'Ready to Eat', 'Garlic Flavor', 'Spicy', 'Meal Prep', 'Quality Protein'], 373: ['Gourmet Fish Roe', 'Ready-to-Eat', 'Delicate Texture', 'Vacuum Packed', 'Fresh Flavor', 'Crispy Sautéed', 'Delicious Mayonnaise', 'Simple Happiness', 'No Fishy Taste', 'Satisfying Crunch'], 376: ['Lean Protein', 'Curry Flavor', 'Fitness Recipe', 'High Protein', 'Meal Prep', 'Low Calorie', 'Muscle Building', 'Instant Meal', 'Tender Chicken Breast', 'Balanced Nutrition'], 380: ['Salmon Belly', 'Salmon Recipes', 'Meal Prep', 'High Protein', 'DHA Rich', 'Bento Main Course', 'Fitness Nutrition', 'Muscle Building', 'Weight Loss', 'Quality Protein'], 381: ['Prime Grade Steak', 'Thick Cut Steak', 'Marble Texture Beef', 'Wet-aged Steak', 'Australian Beef', 'American Beef', 'BBQ Steak', 'Frosted Beef', 'Mega-sized Steak', 'Juicy Tender Steak'], 383: ['Fresh Seafood', 'Gourmet Fish', 'Delicious Fish Belly', 'Premium Seafood', 'Nutrient-rich Fish', 'i3Fresh Selection', 'Tainan Specialty', 'Sustainably Farmed', 'High-quality Fish', 'Exquisite Taste'], 386: ['Non-toxic vegetables', 'Salad box', 'Fresh salad', 'Certified by SGS', 'Low-carb', 'Weight management', 'Health-conscious', 'Meal prep', 'Fitness nutrition', 'Balanced diet'], 387: ['Jumbo White Shrimp', 'Non-Toxic Shrimp', 'Healthy Seafood', 'Taiwan Shrimp', 'Shrimp Recipes', 'Hot Pot Seafood', 'Pure Water Farming', 'Toxin-Free Shrimp', 'Premium White Shrimp', 'Safe to Eat Shrimp'], 400: ['Handmade Squid and Shrimp Fritters', 'Seafood Snack', 'Air Fryer Delights', 'No Preservatives', 'Authentic Recipe', 'Crispy Coating', 'Artisanal Snack', 'Squid and Shrimp Combo', 'Healthy Frying', 'Gourmet Appetizer'], 401: ['Shaddock Fish Balls', 'Handmade Fish Balls', 'Hot Pot Ingredient', 'Traditional Taiwanese Cuisine', 'Fresh Fish Balls', 'Non-toxic Snacks', 'Preservative-Free', 'Authentic Flavor', 'Gourmet Fish Balls', 'Frozen Delicacies'], 437: ['Shrimp Snack', 'Gourmet Snack', 'Crispy Seafood', 'Antibiotic-Free', 'Unique Gift', 'Local Delicacy', 'Gourmet Biscuits', 'Group Purchase', 'Squid Crisps', 'Premium Quality'], 449: ['Ribeye steak', 'Grilled steak', 'Angus beef', 'Prime ribeye', 'Beef recipes', 'Marbling texture', 'Ribeye cut', 'BBQ steak', 'Angus steak', 'Marbled ribeye'], 454: ['Frozen spinach', 'Healthy eating', 'Convenience', 'Frozen vegetables', 'Fitness', 'Meal preparation', 'Spinach', 'Quick meals', 'Frozen food', 'Dietary control'], 455: ['Fresh Frozen Chilean Salmon', 'Omega-3 Rich Salmon', 'Premium Frozen Fish', 'Sustainably Sourced Salmon', 'Healthy Seafood Option', 'Direct-to-Home Delivery', 'Gourmet Frozen Salmon', 'High-Quality Fish', 'Convenient Frozen Seafood', 'Chilean Salmon Delicacy'], 457: ['Squid Snack', 'Calamari Chips', 'Taiwanese Delicacy', 'Gourmet Seafood', 'Crispy Delights', 'Savory Treats', 'Fresh Squid', 'Artisanal Snacks', 'Gourmet Biscuits', 'Late-Night Snacking'], 459: ['Taiwan Caviar', 'Gourmet Gift', 'Exquisite Delicacy', 'Lunar New Year Gift', 'Gourmet Treats', 'Premium Seafood', 'Taiwanese Delicacy', 'Instant Gourmet', 'Festive Hamper', 'Caviar Gift Box'], 477: ['Spicy Snack', 'Gourmet Shrimp Chips', 'Crispy Seafood', 'Local Gourmet', 'Antibiotic-Free', 'Gourmet Gift Box', 'Crunchy Squid', 'Yummy Snacks', 'Group Purchase', 'Delicious Treats'], 499: ['New Zealand Lamb Ribs', 'Gourmet Lamb Dish', 'Meal Prep', 'Succulent Lamb Cut', 'Premium Lamb Selection', 'Tender Lamb Shoulder', 'Lamb Recipe Ideas', 'Fine Dining Lamb', 'Quality New Zealand Lamb', 'Juicy Lamb Chops'], 520: ['High Protein', 'Fitness Recipe', 'Low Calorie', 'Muscle Building', 'Sichuan Flavor', 'Ready-to-Eat', 'Lean Chicken Breast', 'Spicy', 'Meal Prep', 'Healthy Eating'], 526: ['Spicy Crab Snack', 'Salted Egg Flavor', 'Seafood Delight', 'Crunchy Biscuit', 'Late Night Snack', 'Savory Treat', 'Unique Snack', 'Wild Caught Crab', 'Finger-Licking Good', 'Vacuum Fried'], 527: ['Crab Snack', 'Salted Crispy Crab', 'Gourmet Biscuits', 'Evening Snack', 'Pepper Salt Flavor', 'Seafood Delicacy', 'Crispy Sea Crab', 'Premium Snack', 'Savory Treats', 'Unique Food Experience'], 530: ['USDA Prime Boneless Beef Ribs', 'American Beef', 'Blue Ribbon Beef', 'Tender Shoulder Beef', 'Dry-Aged Beef', 'BBQ Meat', 'Grass-Fed Beef', 'Ribeye Recipe', 'Angus Beef', 'Gourmet Beef Ribs'], 531: ['Japanese Sweet Potato', 'Resistant Starch', 'Light Snack', 'Fasting', 'Low Carb Diet', 'Dietary Control', 'Weight Loss Recipe', 'Fitness Meal', 'Meal Prep', 'Detox Diet'], 534: ['Boneless Milkfish Fillet', 'High Protein Fish', 'Milkfish Recipe Ingredients', 'Milkfish Soup', 'Fish Fillet', 'Precious Fish Cut', 'Fresh Tainan Milkfish', 'Nutritious Fish', 'Milkfish Belly Fillet', 'Fish Cuisine'], 535: ['Shi Drum Fish Skin', 'Collagen-Rich Fish Skin', 'Premium Delicacy', 'Versatile Cooking Ingredient', 'Nutritious Snack', 'Shi Drum Fish Recipes', 'Healthy Eating Option', 'Beauty Benefits', 'Shi Drum Fish Soup', 'Top-Grade Flavor'], 554: ['Beef slices', 'Hot pot meat', 'American Blue Ribbon beef', 'Tender beef slices', 'Premium shoulder beef', 'American beef', 'Sautéed beef', 'Quality meat', 'Grilling option', 'Succulent texture'], 556: ['Prime American Beef', 'Angus Beef', 'Ribeye Steak', 'Beef Tenderloin', 'Cube Beef', 'Beef Cutlet', 'Beef Soup', 'Stir-fried Beef', 'Juicy Beef', 'Gourmet Beef'], 565: ['Mozzarella Cheese Stick', 'Snack Food', 'Cheese Snack', 'Crispy Cheese Stick', 'Appetizer', 'Air Fryer Recipe', 'Late-Night Snack', 'Cheese Lover', 'Stringy Cheese', 'American Fried Food'], 578: ['Vegetable Crisps', 'Snack Mix', 'Crispy Veggie Chips', 'Office Snacks', 'Healthy Snacking', 'Root Vegetables', 'Gourmet Chips', 'Non-GMO Snacks', 'Office Pantry Essentials', 'Vegetarian Snacks'], 579: ['Fruit Crisps', 'Office Snacks', 'Apple Crisps', 'Pineapple Crisps', 'Banana Crisps', 'Strawberry Crisps', 'Starfruit Crisps', 'Healthy Snacking', 'Gourmet Treats', 'Preservative-Free'], 592: ['Gourmet Powdered Liver', 'Sesame Oil Delight', 'Perfect Pairing with Drinks', 'Private Recipe', 'Taiwanese Delicacy', 'Must-Try for Drinking Sessions', 'Flavorful Small Plates', 'i3fresh Specialty', 'Exquisite Sesame Powdered Liver', 'Braised Liver Dish'], 596: ['Whiting fish', 'Seafood delicacy', 'Seafood recipes', 'Whiting fish congee', 'Whiting fish omelette', 'Southern Kiss Fish', 'Dried small fish', 'Premium whiting fish', 'Seafood cooking', 'Whiting fish without bleaching'], 636: ['Smoked Boneless Phoenix Claws', 'Appetizer', 'Snack', 'Sichuan Flavor', 'Ready-to-Eat', 'Chill and Serve', 'Q Texture (chewy texture)', 'Boneless Phoenix Claws', 'TV Snack', 'Gelatinous Texture'], 644: ['Karala Roll', 'Snack', 'Biscuit', 'Afternoon Tea', 'Midnight Snack', 'Salt and Pepper Flavor', 'Salt and Pepper', 'Freshly Baked', 'Low Temperature Freezing', 'Sweet and Non-greasy'], 645: ['Kara Roll Snack', 'Mustard Flavor', 'Crispy Snack', 'Gourmet Snack', 'Afternoon Tea Delight', 'Midnight Snacking', 'Biscuit Treat', 'Tangy Plum Flavor', 'Dragon Ball Inspired', 'Fresh and Sweet'], 646: ['Gourmet Snack', 'Calamari Flavoured', 'Dragon Ball-inspired', 'Argentine Squid', 'Lightly Baked', 'Midnight Snack', 'Tea Time', 'Crispy Biscuits', 'Sweet and Savory', 'Fresh and Light'], 647: ['Gourmet snacks', 'Mustard flavor', 'Dragon balls', 'Argentine squid', 'Biscuits', 'Gourmand delights', 'Afternoon tea', 'Late-night snack', 'Umami taste', 'Unique baking technique'], 649: ['Spicy Chicken Feet (Boneless)', 'Sichuan Flavor', 'Smoked', 'Appetizer', 'Easy-to-open', 'Ready-to-eat', 'Cold Dish', 'Rich Texture', 'Spicy', 'Finger Food'], 695: ['Strawberry Crispy Fruit', 'Freeze-Dried Strawberry', 'Popular Snack', 'Office Snack', 'Group Buy Snack', 'Fruit Snack', 'Crispy Snack', 'Super Popular', 'Freeze-Dried Fruit', 'Sweet and Tangy'], 701: ['Marinated Pork Knuckles', 'Taiwanese Delicacy', 'Ready-to-Eat', 'Citrus Garlic Flavor', 'Authentic Taiwanese Cuisine', 'Gourmet Pork Dish', 'Heat and Serve', 'Lemon Garlic Pork Knuckles', 'Taiwanese Street Food', 'Gourmet Meal Kit'], 736: ['Guava', 'Dried Fruit', 'Gourmet Snack', 'Taiwanese Produce', 'Office Snack', 'Healthy Snack', 'Preservatives-Free', 'Low-Temperature Baking', 'Natural Flavor', 'Fiber-rich'], 737: ['Peach Dried Fruit', 'Taiwan Peach', 'Snacks', 'Fruit Snacks', 'Healthy Snacking', 'Gourmet Treats', 'Low-Temperature Baked', 'Natural Flavor', 'Tasty Dessert', 'Fruit Delight'], 740: ['Mulberry', 'Antioxidants', 'Taiwanese Fruit', 'Anthocyanins', 'Artisanal', 'Health Benefits', 'Yizhu Township', 'Freshly Harvested', 'Natural Farming', 'Superfood'], 753: ['French Fries', 'Fast Food', 'American Snacks', 'Golden Crispy Fries', 'Air Fryer Meals', 'Midnight Snack', 'Fried Foods', 'Potatoes', 'Crispy Fries', 'Snack Food'], 765: ['Grass-fed beef', 'New Zealand beef', 'Fillet steak', 'Top-grade beef', 'Cube steak', 'Premium quality', 'Natural grazing', 'Low fat content', 'Juicy flavor', 'Gourmet restaurant-grade'], 816: ['Norwegian Mackerel', 'Seafood Delight', 'Grilled Fish', 'Japanese Grilled Fish', 'DHA Enriched', 'Meal Prep', 'Bento Box Staple', 'Gourmet Fish', 'Fish Recipes', 'Healthy Omega-3'], 818: ['Boneless Chicken Thigh Fillet', 'Chicken Thigh Recipe', 'Meal Prep', 'Grilled Chicken', 'Quick Frozen', 'Premium Meat', 'Lunch Box Main Course', 'Chicken Thigh Dish', 'Boneless Chicken', 'Chicken Recipe'], 824: ['Chicken Nuggets', 'Tender Chicken', 'Fried Food', 'Snack', 'Premium Chicken Nuggets', 'Juicy Chicken', 'Quick Snack', 'High Meat Content', 'Popular Snack', 'Family Favorite'], 835: ['Spicy Snack', 'Sichuan Flavors', 'Crispy Shrimp', 'Gourmet Snack', 'Group Purchase', 'Afternoon Tea', 'Authentic Taste', 'Late-Night Snack', 'Delicious Biscuits', 'Antibiotic-Free Shrimp'], 836: ['Gourmet Crab Snack', 'Meimei Crab Flavor', 'Crispy Seafood Snack', 'Crab Biscuit Delight', 'Evening Tea Treat', 'Convenient Crab Snack', 'Wild-Caught Crab Delight', 'Flavorful Tea Time Snack', 'Delicious Midnight Bite', 'Unique Gourmet Crab Experience'], 890: ['Angus beef', 'Ribeye steak', 'Grass-fed beef', 'American beef', 'Marbling', 'Grilled beef', 'Barbecue', 'Juicy tender', 'Beef recipe', 'Steak dining'], 891: ['Sweet White Shrimp', 'Fresh Seafood', 'Taiwan Shrimp', 'Shrimp Recipes', 'Shellfish', 'Healthy Shrimp', 'Quick-Frozen', 'Deveined Shrimp', 'Seafood Dishes', 'Meal Prep'], 925: ['Canadian Capelin', 'Fish Roe', 'Easy Meal Prep', 'Crunchy Snack', 'Fish Recipes', 'Gourmet Fish', \"Kids' Favorite\", 'Seafood Delicacy', 'Appetizer Pairing', 'Fish Meat dishes'], 926: ['Edamame', 'Healthy Eating', 'Meal Prep', 'Fitness', 'Salted Edamame', 'Dietary Control', 'Snack', 'Green Soybean Pods', 'Fresh Ingredients', 'Source Traceability'], 949: ['Prime Grade Steak', '16oz Mega-sized Steak', 'Marble Texture Beef', 'Wet-aged Steak', 'Buy One Get One Free Offer', 'Limited Time Deal', 'Juicy Tender Steak', 'American and Australian Beef', 'Thick Cut Sirloin', 'Grilling Steak'], 1014: ['High Protein Chicken Breast', 'Fitness Meal Prep', 'Low Calorie Diet', 'Muscle Building', 'Lean Chicken Breast', 'Ready-to-Eat', 'Nutritionally Balanced', 'Healthy Eating', 'Weight Management', 'Gourmet Protein'], 1026: ['Thick Cut Steak', 'Prime Grade', 'Ribeye Steak', \"President's Choice\", 'Juicy Steak', 'Premium Beef', 'Giant Cut', 'Marbling', 'Tender Texture', 'Gourmet Meat'], 1034: ['Air-fried Seafood Combo', 'Crispy Chicken Nuggets', 'American-style Appetizers', 'Snack Food Bundle', 'Air Fryer Recipes', 'Fried Calamari Strips', 'Crispy Potato Sticks', 'Late Night Snacks', 'Taiwanese Snack Foods', 'Air-fried Delicacies'], 1036: ['Fried Snacks', 'American Style', 'Air Fryer Cooking', 'Midnight Snack', 'Air-Fried Delights', 'Chicken Nuggets', 'Crispy Fries', 'Snack Combo', 'Chicken Tenders', 'Original Flavor'], 1037: ['Deep-Fried Delights', 'Family Feast Combo', 'Crispy Chicken Nuggets', 'Golden Fries', 'Gourmet Fish Fillets', 'Fried Favorites', 'Air-Fryer Convenience', 'Value Meal Set', 'Crispy Treats', 'Finger Food Selection'], 1039: ['Frozen Vegetables Selection', 'Quick Frozen Vegetables', 'Healthy Meal Prep', 'Convenient Frozen Veggies', 'Fresh Frozen Vegetables', 'Nutrient-Rich Veggies', 'Time-Saving Vegetables', 'Quality Frozen Produce', 'Versatile Vegetable Options', 'Instant Meal Solution'], 1065: ['Specialty coffee', 'Small-scale farming', 'Limited edition', 'Japanese origin', 'Artisanal blend', 'Time-limited offer', 'Group buying', 'Single-origin', 'Arabica variety', 'Fragrant wood notes'], 1075: ['Gourmet Fruit Spread', 'Premium Citrus Jam', 'Artisanal Yellow Pomelo Jam', 'Limited Time Offer', 'Natural Fruit Preserve', 'Local Tainan Specialty', 'Tangy Sweet Flavor', 'Handmade Fruit Conserve', 'Exclusive Group Purchase', 'No Additives Preserves'], 1098: ['Low-calorie diet', 'High protein', 'Meal prep', 'Fitness recipe', 'Muscle building', 'Weight loss', 'Nutritious protein', 'Ready-to-eat', 'Herbal cuisine', 'Tender chicken breast'], 1099: ['Healthy Eating', 'Meal Prep', 'Fitness', 'Weight Control', 'Low-Calorie', 'Cauliflower Rice', 'Healthier Cooking', 'Diet Control', 'Convenience', 'Nutritious Options'], 1100: ['Edamame', 'HealthySnacking', 'FrozenGreenBeans', 'MealPrep', 'FitnessFood', 'SaltFree', 'ReadyToEat', 'Appetizer', 'Healthyeating', 'SnackOption'], 1121: ['Frozen Mixed Berries', 'Berry Bowl', 'Smoothie Mix', 'Cranberry Juice', 'Blackberry Delight', 'Frozen Fruit Blend', 'Quick Meal Prep', 'Baking Essentials', 'Nutrient-Rich Berries', 'Versatile Ingredient'], 1123: ['Frozen blackberries', 'Berry smoothie', 'Frozen fruit bowl', 'Blackberries', 'Freshly frozen', 'Quick meal prep', 'Juicy berries', 'Nutritious blackberries', 'Versatile ingredient', 'Seasonal harvest'], 1125: ['Frozen Berries', 'Mixed Berries', 'Smoothie Ingredients', 'Berry Bowl', 'Berry Juice', 'Quick Meal Prep', 'Berry Smoothie', 'Baking With Berries', 'Berry Jam', 'Nutrient-rich Berries'], 1147: ['Low Calorie Recipes', 'Fitness Meal Ideas', 'High Protein Options', 'Grain Bowls', 'Lean Cuisine', 'Fitness Nutrition', 'Muscle Building Foods', 'Meal Prep', 'Quinoa', 'Balanced Diet'], 1195: ['Cheese Balls', 'Snack Food', 'Cheddar Cheese', 'American Cheese', 'Air Fryer Recipes', 'Party Snack', 'Late Night Snack', 'Fried Snacks', 'Original Flavor', 'Crispy Cheese Balls'], 1197: ['New Zealand Pumpkin', 'Roasted Chestnut Pumpkin', 'Healthy Eating', 'Meal Prep', 'Fitness Food', 'Quick Recipes', 'Frozen Vegetables', 'Nutritious Cooking', 'Weight Management', 'Convenience'], 1198: ['Non-GMO Tofu Skin', 'Low Carb Snack', 'Healthy Eating', 'Fitness Food', 'Meal Prep', 'Weight Loss', 'Carb Reduction', 'Natural Ingredients', 'Fasting Diet', 'Controlled Diet'], 1210: ['Chicken Thigh Fillet', 'Boneless Chicken Thigh', 'Meal Prep', 'Marinated Chicken', 'Grilled Meat', 'Chicken Recipe', 'Lunchbox Main Dish', 'Easy Meal Prep', 'Tender Chicken', 'Frozen Chicken'], 1216: ['Salmon fillet', 'Fish dishes', 'Healthy recipes', 'Protein-rich', 'Meal prep', 'Muscle building', 'Weight management', 'Grilled salmon', 'High-quality protein', 'Chilean salmon'], 1217: ['Salmon fillet', 'DHA-rich', 'Meal prep', 'High protein', 'Salmon recipes', 'Fitness diet', 'Lunchbox main', 'Bodybuilding', 'Quality protein', 'Omega-3'], 1232: ['Weight Loss', 'Low Carb', 'Calorie Deficit', 'Health Eating', 'Meal Prep', 'Protein', 'Microwaveable', 'Fitness', 'Portion Control', 'Convenience'], 1233: ['Customized Caloric Deficit Meals', 'Weight Loss', 'Low Carbs', 'Healthy Eating', 'Meal Preparation', 'Microwavable', 'Fitness', 'Protein', 'Portion Control', 'Light Meals'], 1234: ['Weight Loss Meals', 'Calorie Deficit', 'Low Carb', 'Healthy Eating', 'Meal Prep', 'Fitness Nutrition', 'Protein-rich', 'Microwaveable', 'Light Meals', 'Food Control'], 1235: ['Weight Loss', 'Customized Meal Plan', 'Calorie Deficit', 'Low Carb', 'Meal Prep', 'Healthy Eating', 'Microwavable', 'Fitness', 'Protein Rich', 'Controlled Diet'], 1236: ['Weight loss', 'Calorie deficit', 'Meal prep', 'Healthy eating', 'Low-carb', 'Protein', 'Quick meals', 'Fitness', 'Control diet', 'Convenience'], 1237: ['Weight Loss', 'Calorie Deficit', 'Health Eating', 'Low Carb', 'Meal Prep', 'Protein', 'Fitness', 'Microwaveable', 'Light Meals', 'Food Control'], 1240: ['Fried Onion Rings', 'Appetizer', 'Snack', 'Party Food', 'Air Fryer Recipe', 'American Fried Snacks Platter', 'Crispy Onion Rings', 'Late Night Snack', 'Fried Food', 'Air Fryer Cooking'], 1242: ['Summer Delight Mango', 'Group Buy', 'Limited Time Offer', 'Fresh Mango', 'Sweet and Juicy', 'Premium Quality', 'Red Ripe Mango', 'Special Selection', 'Seasonal Treat', 'Irresistible Flavor'], 1285: ['Purple Sweet Potato', 'Roasted Purple Sweet Potato', 'Organic Farming', 'Low-carb Diet', 'Healthy Eating', 'Fitness Recipes', 'Weight Management', 'Plant-Based Diet', 'Antioxidant-Rich', 'Nutrient-Dense'], 1404: ['Fresh Frozen Gold Eye Snapper Fillet', 'Taiwan Snapper', 'Snapper Fillet', 'Fish Meat Recipes', 'Fish Soup', 'Health-boosting Food', 'Post-surgery Diet', 'Nutritious Fish', 'Recovery Diet', 'Gold Eye Snapper Species'], 1418: ['Pumpkin Soup', 'Creamy Soup', 'Snack', 'Pumpkin', 'Corn Soup', 'Comfort Food', 'Night Snack', 'Healthy Choice', 'Creamy Pumpkin Soup', 'No MSG'], 1419: ['Seafood Chowder', 'Instant Meal', 'Gourmet Soup', 'Heat and Serve', 'Midnight Snack', 'Soup Mix', 'Convenience Food', 'Seafood Delight', 'Easy Prep', 'Brunch Option'], 1437: ['Sweet Potato', 'Roasted Sweet Potato', 'Organic Farming', 'Resistant Starch', 'Healthy Eating', 'Weight Management', 'Meal Prep', 'Low Carb Diet', 'Detox Diet', 'Japanese Sweet Potato'], 1440: ['Seaweed', 'Handmade squid balls', 'Hot pot ingredients', 'Coral grass', 'Local delicacies from Penghu', 'Seaweed soup', 'Seaweed salad', 'Gourmet selection from Penghu', 'Oceanic delicacies', 'Authentic flavors'], 1441: ['Seaweed snacks', 'Gourmet seafood selection', 'Handmade squid balls', 'Hot pot ingredients', 'Coral grass delicacy', 'Local delights from Penghu', 'Seaweed soup mix', 'Seafood salad essentials', 'Exquisite ball-shaped treats', 'Premium natural ingredients'], 1442: ['Seaweed', 'Hotpot ingredients', 'Handmade squid balls', 'Purified seaweed', 'Coral grass', 'Seaweed soup', 'Seafood delicacies', 'Local delicacies', 'Gourmet selection', 'Healthy choices'], 1452: ['Healthy Eating', 'Meal Planning', 'Fitness', 'Low Carb', 'Balanced Diet', 'Quinoa Recipes', 'Prepping Meals', 'Quinoa Varieties', 'Fitness Nutrition', 'Flavorful Dishes'], 1453: ['Healthy Eating', 'Meal Prep', 'Fitness', 'Low Carb', 'Healthier Cooking', 'Quinoa and Soybeans', 'Balanced Diet', 'Vegetarian Options', 'Quick and Easy Meals', 'Nutritious Ingredients'], 1454: ['Healthy Eating', 'Meal Prep', 'Fitness', 'Low Carb', 'Balanced Diet', 'Quinoa Edamame', 'Quinoa Millet', 'Quinoa Chickpea', 'Quinoa Rice Bowl', 'Japanese Teriyaki Chicken'], 1455: ['Healthy Eating', 'Meal Prep', 'Frozen Cauliflower Rice', 'Weight Management', 'Fitness', 'Calorie Control', 'Health Food', 'Healthy Cooking', 'Dietary Control', 'Cauliflower Rice'], 1491: ['Thin 0.01cm Dumpling Skin', 'Non-GMO Soybeans', 'Low Carb', 'i3fresh', 'Fresh Online Shopping', 'Gyoza Wrappers', 'Fresh Ingredients', 'Handmade', 'Group Buy', 'Satisfyingly Juicy'], 1494: ['Healthy Eating', 'Meal Prep', 'Fitness', 'Low Carb', 'Gourmet Cooking', 'Quinoa Rice', 'Pre-cooked Meals', 'Fitness Meals', 'Seafood Delights', 'Herbal Infusions'], 1495: ['Healthy Eating', 'Meal Prep', 'Fitness', 'Low Carb', 'Quinoa Rice', 'Balanced Diet', 'Precooked Meal', 'Healthier Choices', 'Quick and Easy', 'Flavorful Options'], 1496: ['Healthy Eating', 'Meal Prep', 'Fitness Food', 'Low Carb', 'Quinoa Edamame', 'Quinoa Millet', 'Quinoa Chickpeas', 'Convenient Meals', 'Balanced Nutrition', 'Quick & Easy'], 1497: ['High protein chicken breast', 'Fitness meal prep', 'Low calorie eating', 'Lean muscle building', 'Quick and easy meal', 'Healthy eating', 'Ready-to-eat chicken breast', 'Gym diet', 'Instant protein source', 'Nutrition-packed poultry'], 1499: ['High Protein', 'Meal Prep', 'Low Calorie', 'Fitness Recipe', 'Lean Muscle', 'Convenient', 'Healthy Eating', 'Quick Meal', 'Chicken Breast', 'Quality Protein'], 1512: ['Healthy Eating', 'Meal Prep', 'Weight Management', 'Fitness Food', 'Quick & Easy Meals', 'Low-Calorie Options', 'Balanced Nutrition', 'Health Conscious', 'Superfood', 'Meal Planning'], 1515: ['Frozen Corn Shoots', 'Healthy Eating', 'Meal Prep', 'Fitness', 'Frozen Vegetables', 'Dietary Control', 'Quick Meal Preparation', 'Nutritious Ingredients', 'Convenient Cooking', 'Quality Corn Shoots'], 1516: ['Chicken Thigh Recipe', 'Boneless Chicken Thigh', 'Meal Prep', 'Lunchbox Main Course', 'Party Food', 'Juicy Chicken Thigh', 'Snack Ideas', 'Marinated Chicken', 'Crispy Chicken', 'Flavorful Dish'], 1539: ['Premium Pork Chop', 'Easy Meal Prep', 'Taiwanese Pork', 'Bone-In Pork', 'Pork Cutlet', 'Pork Back Ribs', 'Delicious Pork Recipes', 'Meal Planning', 'Pork Loin', 'BBQ Pork'], 1575: ['Gourmet snack box', 'Crispy shrimp', 'Snack gift set', 'Additive-free snacks', 'Vacuum fried', 'Antibiotic-free', 'Group purchase', 'Cala crispy squid', 'Cala gift box', 'Biscuits'], 1686: ['Snacks', 'Vegetable Chips', 'Healthy Snack', 'Office Snack', 'Fruit and Vegetable Chips', 'Natural Snack', 'Variety Pack', 'Crunchy Snack', 'Low-Temperature Dried', 'Nutritious Chips'], 1687: ['Vegetable Crisps', 'Snack Mix', 'Office Snacks', 'Healthy Snacking', 'Sweet Potato', 'Root Vegetables', 'Mushroom Snacks', 'Carrot Chips', 'Wholesome Treats', 'Tasty Dried Vegetables'], 1688: ['Vegetable Chips', 'Snack Variety Pack', 'Fruit Crisps', 'Healthy Snacks', 'Office Snacks', 'Mixed Vegetable Chips', 'Dried Fruits', 'Sweet Potato Chips', 'Gourmet Snacks', 'Crispy Fruits'], 1700: ['Nutritious Soup', 'Vegetarian Dish', 'Mushroom Soup', 'Herbal Recipe', 'Gourmet Soup', 'Nourishing Broth', 'Unique Ingredients', 'Gourmet Vegetarian', 'Mushroom Delight', 'Slow-Cooked Goodness'], 1701: ['Healthy Eating', 'Meal Prep', 'Fitness Food', 'Low Carb', 'Convenience', 'Balanced Diet', 'Quinoa Rice', 'Lean Protein', 'Quick Meal', 'Savory Options'], 1719: ['Japanese-style meat slices', 'Pork recipe', 'Taiwanese pork', 'Marinated pork', 'Convenient meal preparation', 'Japanese cuisine', 'Premium pork', 'Meat dish', 'Grilled meat slices', 'Tasty pre-cooked food'], 1722: ['Gourmet Uwajima Caviar', 'Foodie Gifts', 'Lunar New Year Gift Set', 'Delicious Uwajima Caviar', 'Artisanal Uwajima Caviar', 'Premium Uwajima Caviar Box', 'Festive Food Gift', 'Uwajima Caviar Treats', 'Exclusive Uwajima Caviar', 'Snackable Caviar Delight'], 1729: ['Fresh Sheephead Fish', 'Taiwanese Specialty', 'Homemade Fish Balls', 'Hot Pot Ingredients', 'Quality Seafood', 'Gourmet Fish Recipes', 'Handcrafted Fish Balls', 'No Preservatives', 'Tainan Sheephead Fish', 'Fish Ball Soup'], 1746: ['Fried Chicken', 'Chicken Nuggets', 'Snack Food', 'Air Fryer Cooking', 'Home-style Cooking', 'Convenience Food', 'Party Snacks', 'Takeout', 'Late-night snack', \"McDonald's Style Chicken Nuggets\"], 1758: ['Meal Prep', 'Low Carb Diet', 'Fitness Food', 'High Protein', 'Ready to Eat', 'Weight Management', 'Muscle Building', 'Convenient Nutrition', 'Lean Chicken Breast', 'Quick Frozen Vegetables'], 1767: ['Healthy Eating', 'Meal Prep', 'Fitness Food', 'Low Carb', 'Balanced Nutrition', 'Quinoa Edamame', 'Red and White Quinoa', 'Convenient Meal', 'Nutrient-rich', 'Weight Management'], 1799: ['Durian Fruit', 'Thai Durian', 'Exotic Fruit', 'Premium Fruit', 'King of Fruits', 'Frozen Delight', 'Durian Gift Box', 'Tropical Fruit', 'Unique Flavor', 'Durian Experience'], 1816: ['Taiwanese Mackerel', 'Low-Salt Mackerel', 'Seafood Delight', 'Overnight Dried Fish', 'Grilled Fish', 'Japanese Grilled Fish', 'Izakaya Cuisine', 'DHA Rich', 'Meal Prep', 'Bento Main Dish'], 1857: ['Iberico Pork', 'Spanish BBQ Pork Slices', 'Pork Recipe Ideas', 'Gourmet Pork Dish', 'Iberico Pork Delicacy', 'BBQ Meat Selection', 'Premium Pork Cuts', 'Delicious Pork Grilling', 'Flavorful Spanish Pork', 'Succulent Pork Options'], 1858: ['A5 Wagyu', 'Premium Japanese Wagyu', 'Kumamoto Beef', 'Wagyu Hotpot Slices', 'Hotpot Beef Slices', 'Top Grade A5 Wagyu', 'Wagyu Beef', 'Japanese Hotpot', 'Wagyu Slices', 'Top Quality Wagyu'], 1859: ['A5 Wagyu', 'Japanese Wagyu', 'Premium Beef', 'Kumamoto Wagyu', 'Beef Cubes', 'Grilling Slices', 'Top-Grade Beef', 'Wagyu Beef', 'Marbled Beef', 'Finest Quality Beef'], 1860: ['Wagyu Beef Slices', 'Hotpot Meat Slices', 'BBQ Meat Slices', 'Marbled Beef', 'Premium Beef Cuts', 'Australian Wagyu', 'Grilled Meat', 'Snowflake Beef', 'Wagyu Hotpot', 'Grain-Fed Beef'], 1861: ['Wagyu Beef', 'BBQ', 'Grilled Beef', 'Australian Beef', 'Premium Wagyu', 'Marbling', 'Steak Cubes', 'Gourmet Beef', 'Wagyu Steak', 'Fine Dining'], 1864: ['Frozen Vegetables', 'Broccoli', 'Cauliflower', 'Carrots', 'Convenient Meal Prep', 'Healthy Eating', 'European Import', 'Quick Frozen', 'Nutritious Veggies', 'Meal Planning'], 1893: ['Pork Selection', 'Bento Box', 'Taiwanese Pork', 'Meal Prep', 'Pork Recipes', 'Pork Cuts', 'Pork Belly', 'Local Pork', 'Pork Loin', 'Pork Dish'], 1906: ['Boneless Chicken Thigh', 'Deep-Fried Snack', 'Air Fryer Recipes', 'Taiwanese Snack', 'Japanese Snack', 'Party Appetizer', 'Juicy Meat', 'Crispy Chicken', 'Midnight Snack', 'Air-Fried Delicacy'], 1914: ['Spanish Pork', 'Premium Pork', 'BBQ Meat', 'Pork Recipes', 'Gourmet Pork', 'Marbled Pork', 'Pork Cuts', 'Pork Belly', 'Meal Prep', 'Spanish Cuisine'], 1925: ['Weight loss', 'Low carb', 'Calorie deficit', 'Microwavable', 'Healthy eating', 'Meal prep', 'Protein-rich', 'Fitness', 'Controlled diet', 'Lean cuisine'], 1926: ['Weight loss', 'Low-carb', 'Calorie deficit', 'Healthymeals', 'Meal prep', 'High protein', 'Microwavable', 'Fitness', 'Portion control', 'Lean cuisine'], 1927: ['Weight Loss', 'Low Carb', 'Calorie Deficit', 'Meal Prep', 'Healthy Eating', 'Protein', 'Microwavable', 'Fitness', 'Portion Control', 'Lean Cuisine'], 1928: ['Low-carb', 'Weight loss', 'Calorie deficit', 'Meal prep', 'Light food', 'Healthy eating', 'Protein-rich', 'Microwaveable', 'Fitness', 'Portion control'], 1929: ['Low Carb', 'Weight Loss', 'Calorie Deficit', 'Healthy Eating', 'Meal Prep', 'Fitness', 'High Protein', 'Microwavable', 'Light Meals', 'Food Control'], 1930: ['Low Carb', 'Weight Loss', 'Calorie Deficit', 'Healthy Eating', 'Meal Prep', 'Protein', 'Microwavable', 'Light Meal', 'Fitness', 'Food Control'], 1931: ['Weight Loss', 'Low Carb', 'Calorie Deficit', 'Healthy Eating', 'Meal Prep', 'Fitness', 'Protein', 'Microwavable', 'Light Meal', 'Portion Control'], 1932: ['Weight Loss', 'Low Carb', 'Calorie Deficit', 'Healthy Eating', 'Meal Prep', 'Protein', 'Fitness', 'Microwavable', 'Light Meal', 'Control Diet'], 1997: ['High Protein', 'Low Carb', 'Fitness', 'Weight Loss', 'Healthy Meal Box', 'Lean Chicken Breast', 'Instant', 'Frozen Vegetables', 'Quinoa Edamame Mix', 'Dietary Fiber'], 1999: ['High Protein Selection', 'Low Carb Diet', 'Fitness Nutrition', 'Weight Loss Meals', 'Healthy Meal Box', 'Succulent Chicken Breast', 'Ready-to-Eat', 'Frozen Vegetables', 'Quinoa Edamame Mix', 'Chickpea Millet Bowl'], 2001: ['Crispy Pastry', 'Cheese', 'Breakfast', 'Snack', 'Chinese Dim Sum', 'Ready-to-Eat', 'Red Bean', 'Taro', 'Sweet Potato', 'Layered Texture'], 2005: ['Breakfast', 'Snack', 'Cheese', 'Scallion Pancakes', 'Ready-to-Eat', 'Chinese Snack', 'Crispy Crust', 'Sweet Potato', 'Red Bean', 'Dim Sum'], 2019: ['Fried Chicken', 'Salty Crispy Chicken', 'Air Fryer Cooking', 'Late-Night Snack', 'Snack Food', 'Taiwanese Fried Food', 'Boneless Fried Chicken', 'Chicken Popcorn', 'Crispy Fried Chicken', 'Air-Fried Delicacies'], 2027: ['Premium Musang King Durian', 'Malaysian Durian', 'i3fresh', 'Fresh Fruit Meat', 'Exotic Fruits', 'Online Shopping', 'Gourmet Delights', 'Durian Lover', 'Luxurious Treat', 'Taste of Malaysia'], 2048: ['Taiwanese cuisine', 'Pork cartilage', 'Traditional flavors', 'Instant meal', 'Heritage recipe', 'Local delicacy', 'Taiwanese pork', 'Slow-cooked', 'SGS certified', 'Easy prep'], 2049: ['Taiwanese Delicacy', 'Braised Pork Cartilage', 'Slow-cooked Goodness', 'Traditional Flavor', 'Easy to Prepare', 'Pork Soft Bones', 'Authentic Taste', 'Nostalgic Recipe', 'Top-rated Heritage', 'Instant Heat-and-Eat'], 2077: ['Prime Grade Beef', 'Hot Pot Sliced Beef', 'Marbled Beef', 'Snowflake Beef', 'Grilled Beef Slices', 'BBQ Meat Slices', 'Premium American Beef', 'Tender Beef', 'Gourmet Beef', 'Succulent Meat'], 2083: ['100% fruit juice', 'Freshly squeezed juice', 'Pineapple juice', 'Orange juice', 'Guava juice', 'Dragon fruit juice', 'Lime juice', 'Pure fruit juice', 'Variety of flavors', 'Natural fruit flavors'], 2124: ['Thai Style', 'Healthy Eating', 'Meal Prep', 'Fitness Nutrition', 'Thai Cuisine', 'Clean Eating', 'Weight Management', 'Fresh Ingredients', 'Balanced Diet', 'Low-Calorie'], 2125: ['Plant-based meat', 'Thai cuisine', 'Thai-style lemon pork', 'Vegan meat', 'Stir-fried pork', 'Fresh ingredients', 'Thai cooking', 'Vegetarian-friendly', 'Flavorful dish', 'Meat substitute'], 2239: ['Healthy Eating', 'Meal Prep', 'Fitness', 'Low Carb', 'Dietary Control', 'Quinoa Edamame', 'Red and White Quinoa', 'Balanced Nutrition', 'Pre-cooked Meals', 'High Protein'], 2240: ['Dumplings', 'Healthy Eating', 'Meal Prep', 'Fitness', 'Kimchi', 'Spicy Peppers', 'Cabbage', 'Shrimp', 'Corn Meat', 'Low Carb'], 2254: ['Gourmet Pizza Selection', 'Artisanal Handcrafted Pizza', 'Italian Red Sauce Base', 'European Mozzarella Cheese', 'Apple Honey Mustard Pizza', 'Savory Sausage Toppings', 'Indian Curry Chicken Pizza', 'Spicy Kimchi Pork Pizza', 'Hawaiian Flavor Pizza', 'Margherita Pizza'], 2265: ['Low-carb diet', 'Meal prep', 'Fitness recipes', 'Lean protein', 'High protein', 'Quick and easy', 'Weight management', 'Convenient meals', 'Muscle building', 'Vegetable options'], 2266: ['Sashimi', 'Swordfish Sashimi', 'Salmon Sashimi', 'Black Skin Swordfish Sashimi', 'Yellowtail Sashimi', 'Thaw & Eat', 'Fresh Fish', 'Japanese Cuisine', 'Gourmet Food', 'Convenient Dining'], 2270: ['High Protein Chicken Breast', 'Fitness Meal Prep', 'Lean Muscle', 'Low Calorie Diet', 'Healthy Eating', 'Quick and Easy', 'Nutritious Chicken Breast', 'Muscle Building', 'Weight Loss Recipe', 'Tender Chicken Breast'], 2312: ['American beef', 'Beef chunks', 'Welfare beef', 'Beef cuts', 'Prime beef', 'Beef stew', 'Beef noodles', 'Beef dishes', 'Tender beef', 'Value beef'], 2477: ['Sweet Potato', 'Roasted Sweet Potato', 'Organic Farming', 'Low-carb Diet', 'Japan Sweet Potato', 'Weight Management', 'Detox Diet', 'No Pesticides', 'Resistant Starch', 'Fitness Meal Prep'], 2495: ['Healthy Eating', 'Meal Preparation', 'Fitness', 'Frozen Vegetables', 'Dietary Control', 'Corn Shoots', 'Convenience', 'Quick Meal', 'Quality Ingredients', 'I.Q.F Rapid Freezing'], 2570: ['American Beef', 'Ribeye Steak', 'Grilled Steak', 'Blue Ribbon Beef', 'Dry-Aged Beef', 'Grass-Fed Beef', 'New York Strip', 'Beef Recipes', 'Premium Cut', 'Special Sale Offer'], 2572: ['Crispy Pastry', 'Cheese', 'Breakfast', 'Snack', 'Heat and Eat', 'Red Bean', 'Sweet Potato', 'Chinese Snack', 'Crispy Crust', 'Yam'], 2574: ['Snack food', 'Breakfast item', 'Crispy pancakes', 'Chinese dim sum', 'Quick and easy meal', 'Savory pastries', 'Tarot fragrance', 'Healthy ingredients', 'Convenience food', 'Scallion pancakes'], 2576: ['Braised Pork', 'Taiwanese Cuisine', 'Taiwanese Meat Dish', 'Taiwanese Street Food', 'Pork Rice Bowl', 'Night Market Snack', 'Traditional Taiwanese Recipe', 'Premium Pork Meat', 'Local Favorite Dish', 'Authentic Taiwanese Flavor'], 2577: ['Lu Rou', 'Minced Pork', 'Taiwanese Cuisine', 'Braised Pork Rice', 'Night Market Snack', 'Pork Belly', 'Taiwanese Dish', 'Authentic Taiwanese', 'Famous Recipe', 'Meat Sauce'], 2678: ['Pork cutlet', 'Taiwanese pork', 'Meal prep', 'Easy cooking', 'Gourmet pork', 'Pork recipe', 'Bento meal', 'Heat and eat', 'BBQ pork', 'Pork slices'], 2679: ['Frozen Vegetables', 'Quick Meal Prep', 'Cucumber', 'Onion Strips', 'Bitter Melon', 'Shiitake Mushrooms', 'Convenient Cooking', 'Corn Kernels', 'Radish Cubes', 'Fitness Meals'], 2712: ['Taiwanese Chicken', 'Chicken Breast', 'Chicken Wings', 'Gourmet Chicken', 'Chicken Recipes', 'Meal Prep', 'Premium Poultry', 'Tender Chicken', 'Taiwanese Cuisine', 'Smoked Chicken'], 2782: ['Grilled Eel', 'Unagi', 'Japanese Eel', 'Eel Rice Bowl', 'Japanese Cuisine', 'Gourmet Japanese Food', 'Premium Eel Dish', 'Savory Sweet Eel Sauce', 'Taiwan Fresh Eel', 'Delicate and Smooth Texture'], 2799: ['Healthy Shrimp', 'Freshwater Shrimp', 'Taiwanese Shrimp', 'Non-toxic Shrimp', 'Shrimp Recipes', 'Hot Pot Seafood', 'Sustainable Shrimp Farming', 'Premium Shrimp', 'Delicious Shrimp Dishes', 'Safe Shrimp Harvesting'], 2803: ['Chicken Leg Recipe', 'Meal Prep', 'Roasted Chicken Leg', 'Country-style Salt and Pepper Chicken Leg', 'Delicious Chicken Leg', 'Spicy Chicken Leg', 'Convenience Meal', 'Chicken Thigh', 'Chicken Leg Dish', 'Flavorful Grilled Chicken Leg'], 2823: ['Japanese grilled fish', 'DHA supplement', 'Bento box main dish', 'Seafood recipe', 'Izakaya cuisine', 'Natural fish oil', 'Overnight-dried fish', 'Gourmet dried fish', 'Seafood delicacy', 'Yellowfin trevally'], 2832: ['Frozen Seafood Mix', 'Squid', 'Scallops', 'White Shrimp', 'Seafood Platter', 'Instant Seafood', 'Meal Prep', 'Seafood Recipe', 'Seafood Dish', 'Prepared Seafood'], 2840: ['Roast Goose Breast', 'Steamed Goose Leg', 'Gourmet Goose Selections', 'Sugarcane-infused Goose', 'Duck Meat Delicacies', 'Heat-and-Eat Meals', 'Premium White Roman Goose', 'Handcrafted Goose Products', 'Tender Goose Meat', 'Artisanal Poultry Selection'], 2851: ['Milk Tea Bun', 'Sweet Potato Filling', 'Limited Time Offer', 'Group Purchase', 'Steamed Bun', 'Snack Delight', 'Irresistible Treat', 'Soft and Fluffy', 'Unique Flavor Combination', 'Asian Dessert'], 2886: ['Dumplings', 'Pan-fried dumplings', 'Soup dumplings', 'Wonton', 'Bamboo shoot', 'Glutinous rice', 'Pork', 'Steamed bun', 'Fresh meat', 'Xiaoyuechuan'], 2887: ['Delicious Dumplings', 'Pork Filling', 'Steamed Dumplings', 'Pan-fried Dumplings', 'Pork Delights', 'Sweet Bamboo Shoots', 'Glutinous Rice', 'Stuffed Buns', 'Dim Sum Treats', 'Nourishing Broth'], 2903: ['Salt-Free Mackerel', 'Seafood Delight', 'Grilled Fish', 'Japanese Style Grilled Fish', 'Sashimi Grade', 'Low-Sodium', 'Healthy Eating', 'Omega-3 Rich', 'Meal Prep', 'Bento Main Dish'], 2907: ['USDA beef', 'Blue Ribbon steak', 'Tender shoulder steak', 'Grilled steak', 'Grass-fed beef', 'Prime rib', 'Beef recipes', 'Natural grazing', 'Wet-aged beef', 'Barbecue beef'], 2917: ['Non-fried noodles', 'Vegetable-based', 'Vegetarian noodles', 'Instant noodles', 'Natural ingredients', 'Wild vegetables', 'Soup noodles', 'Healthy instant food', 'Convenient meal', 'Quick and delicious'], 2918: ['Non-fried noodles', 'Vegetarian meal', 'Instant vegetable noodles', 'Instant meal', 'Noodles with vegetables', 'Healthy instant noodles', 'Convenient meal', 'Vegetarian noodles', 'Non-fried instant noodles', 'Quick veggie noodles'], 2947: ['Pork trotter', 'Taiwanese cuisine', 'Braised pork trotter', 'Secret recipe', 'Gourmet delight', 'Local delicacy', 'Appetizer', 'Taiwanese pork dish', 'Marinated pork', 'Popular dish'], 2955: ['Frozen Spinach', 'Healthy Eating', 'Meal Prep', 'Fitness', 'Quick Cooking', 'Convenience', 'Frozen Vegetables', 'Nutritious', 'Weight Management', 'Spinach'], 2988: ['Ready-to-eat', 'Chinese cuisine', 'Hot pot soup', 'Soup package', 'Beef soup', 'Gourmet soup', 'Easy meal', 'Low-fat beef', 'Signature dish', 'Warm and hearty'], 3021: ['Taiwanese Fresh Chicken', 'Smoked Chicken', 'Chicken Breast Selection', 'Chicken Wings Selection', 'Tender Juicy Chicken', 'No Gamey Taste', 'Traditional Smoking Method', 'Multipack Chicken Choices', 'Sugar Cane Chicken', 'Ready-to-Cook Chicken Meals'], 3039: ['Ready-to-Eat', 'Luan Beef Shank', 'Cooking Packet', 'Braised Beef', 'Gourmet Delight', 'Quick Meal', 'Tender Texture', 'Homemade Recipe', 'Savory Sweetness', 'Convenient Heat-and-Eat'], 3062: ['Smoked Chicken Slices', 'Breakfast Option', 'Ready to Heat', 'Chicken Recipe Ideas', 'Meal Prep', 'Chicken Thigh Meat', 'Gourmet Delicacy', 'Flavorful Smoked Chicken', 'Tender and Juicy', 'German Smoking Method'], 3227: ['Mixed Frozen Berries', 'Smoothie Ingredients', 'Berry Bowl', 'Freshly Frozen Berries', 'Quick Meal Prep', 'Berry Smoothie', 'Baking with Berries', 'Nutrient-Rich Fruit', 'Versatile Berries', 'Berry Juice'], 3232: ['Italian Pasta', 'Pesto Sauce', 'Red Sauce Pasta', 'Creamy White Sauce', 'Spicy Meat Sauce', 'Durum Wheat', 'Heat and Eat', 'Ready-to-Cook Pack', 'Authentic Italian', 'Convenient Meal'], 3233: ['Gourmet Italian Pasta', 'Convenience Pack', 'Delectable Sauces', 'Durum Wheat Pasta', 'Instant Heat and Eat', 'Variety of Sauces', 'Satisfying Portions', 'Italian Style', 'Quick Meal Solution', 'Flavorful Choices'], 3239: ['Nostalgic Taiwanese Cuisine', 'Tainan Traditional Delicacy', 'Pork Cartilage Noodles', 'Quick and Easy Meal', 'Taiwanese Pork', 'Hearty Broth', 'Authentic Taste', 'SGS Certified', 'Gourmet Noodles', 'Slow-cooked Flavor'], 3304: ['Seafood Chowder', 'Creamy Soup', 'Winter Comfort', 'Lobster', 'Squid', 'Pumpkin Soup', 'Soup Selection', 'Homemade Broth', 'Seafood Delight', 'Gourmet Chowders'], 3306: ['Seafood Chowder', 'Lobster Soup', 'Squid', 'Seafood Soup', 'Pumpkin Soup', 'Rich Broth', 'New Zealand Pumpkin', 'Creamy Texture', 'Shellfish', 'Chewing Sensation'], 3319: ['Grilled Fish', 'DHA Rich', 'Easy Meal Prep', 'Japanese Grilled Fish', 'Gourmet Fish Dish', 'Healthy Fish Recipe', 'Limited Sale', 'Bento Main', 'Sea Salt Marinated', 'Boneless Fish'], 3329: ['Golden Crispy Sweet Potato Fries', 'Air Fryer Snack', 'Homemade Snacks', 'Crispy Sweet Potatoes', 'Fiber-Rich', 'Handmade Delights', 'Snack Time', 'Crispy Treats', 'Taiwanese Delicacy', 'Healthy Snacking'], 3340: ['Summer Snack', 'Clam Dish', 'Appetizer', 'Traditional Chinese Medicine Ingredients', 'Refreshing Salad', 'Late-Night Snack', 'Small Plates', 'Wine Pairing', 'Fresh Clams', 'Tasty and Nutritious'], 3346: ['Taiwanese Caviar', 'Lunar New Year Snack', 'Gourmet Snack', 'Traditional Twist', 'Ready-to-Eat', 'Festive Treat', 'Premium Delicacy', 'Exotic Flavors', \"Taiwan's Best\", 'Convenient Indulgence'], 3362: ['Salmon Fillet', 'DHA Source', 'Meal Prep', 'High Protein', 'Fitness Fuel', 'Salmon Recipes', 'Healthy Meal', 'Muscle Building', 'Weight Management', 'Gourmet Fish'], 3366: ['Premium Seafood', 'King Crab Legs', 'Wild Caught Crab', 'Gourmet Delicacy', 'Crab Feast', 'Frozen Gourmet Crab', 'Japanese Delicacy', 'Succulent Crab Meat', 'Top-Quality Seafood', 'Exquisite Crab Variety'], 3367: ['Chilean King Crab Legs', 'Premium Seafood', 'King Crab', 'Antarctic King Crab', 'Crab Legs', 'Frozen King Crab', 'Gourmet Seafood', 'Delicacy from Chile', 'Pure Ocean Delicacy', 'Last Pristine Marine Reserve'], 3369: ['Shilu Fish Selection', 'Shilu Fish Delicacies', 'Taiwanese Shilu Fish', 'Shilu Fish Recipes', 'Hot Pot Ingredients', 'Handmade Fish Balls', 'Fresh Shilu Fish', 'Preservative-Free', 'Homemade Fish Ball Soup', 'Gourmet Fish Dishes'], 3373: ['Pork Belly Dish', 'Bento Meal', 'Meal Prep', 'Traditional Pork', 'Taiwanese Cuisine', 'Easy Heating', 'Smoked Pork Belly', 'Cooking Pork', 'Gourmet Meal', 'Flavorful Pork'], 3395: ['Vegetarian Noodles', 'Instant Noodles', 'Non-fried Noodles', 'Vegetable Noodles', 'Soup Noodles', 'Healthy Convenience', 'Quick Meal', 'Wild Vegetables', 'Noodle Bowl', 'Ready-to-Eat'], 3400: ['Salmon Sashimi', 'High Protein Meal', 'Salmon Recipes', 'Meal Prep', 'Fitness Diet', 'Bodybuilding Nutrition', 'Omega-3 Source', 'Lunch Box Idea', 'Fresh Seafood', 'Muscle Building'], 3409: ['Prime Ribeye', 'American Beef', 'Australian Beef', 'Short Rib', 'Thick Cut', 'Sirloin', 'Juicy', 'Marbling', 'Premium Quality', 'Gourmet Beef'], 3427: ['Gourmet Squid Snacks', 'Healthy Snack Options', 'Artisanal Squid Chips', 'Preservative-free Treats', 'Unique Seafood Snacks', 'Premium Baked Squid', 'Exquisite Snack Gift Box', 'Crunchy Calamari Bites', 'Group Purchase Discounts', 'Antibiotic-free Delights'], 3431: ['Boneless Seasoned Chicken Thighs', 'Chicken Thigh Recipes', 'Meal Prep', 'Lunchbox Main', 'Seasoned Chicken Thigh Cutlets', 'Taiwanese Chicken Thighs', 'Easy Cooking', 'Delicious Chicken Thighs', 'Convenient Meals', 'Juicy Chicken Thighs'], 3489: ['Squid rings', 'Seafood delicacy', 'Argentinian calamari', 'Gourmet seafood', 'Quick-frozen squid', 'Seafood recipes', 'Calamari soup', 'Tender texture', 'Cooking calamari', 'Authentic flavors'], 3521: ['Lean Protein', 'Fitness Recipe', 'Meal Prep', 'Low Calorie', 'High Protein', 'Muscle Building', 'Ready-to-Eat', 'Healthy Eating', 'Chicken Breast', 'Fitness Food'], 3522: ['Low Carb Diet', 'High Protein', 'Fitness Recipes', 'Meal Prep', 'Chicken Breast', 'Lean Muscle', 'Ready-to-Eat', 'Health Conscious', 'Quick Meal', 'Salad Option'], 3523: ['European Imported Frozen Vegetables', 'Quick Meal Prep', 'High-Quality Frozen Vegetables', 'Convenient Frozen Veggies', 'Broccoli', 'Cauliflower', 'Carrots', 'Sweet Peas', 'Green Beans', 'Red Bell Pepper'], 3524: ['Flash Frozen Vegetables', 'Quick Meal Preparation', 'Sweet Peas and Carrots', 'Broccoli and Cauliflower', 'Red Bell Peppers', 'Nutrient-Rich Vegetables', 'Kid-friendly Lunch Ingredients', 'Fitness Meal Prep', 'Convenient Cooking', 'Mixed Vegetable Pack'], 3525: ['Frozen Vegetables', 'Meal Prep', 'Quick Meal', 'Fresh Frozen Vegetables', 'Broccoli', 'Green Beans', 'Spinach', 'Convenient', 'Mixed Vegetables', 'Potatoes'], 3530: ['High Protein Chicken Breast', 'Fitness Recipe', 'Low Calorie Meal', 'Muscle Building', 'Ready-to-Eat', 'Lean Chicken Breast', 'Quality Protein', 'Meal Prep', 'Healthier Eating', 'Tender Chicken Breast'], 3532: ['Sweet Potato Delights', 'Roasted Sweet Potato', 'Healthy Snacking', 'Organic Farming', 'Low Carb Diet', 'Fitness Recipes', 'Detox Meal', 'Japanese Sweet Potato', 'Weight Management', 'Nutrient-rich Choices'], 3534: ['Low-calorie diet', 'High protein', 'Fitness recipes', 'Meal prep', 'Quinoa', 'Muscle gain', 'Weight loss', 'Ready-to-eat', 'Lean chicken breast', 'Superfoods'], 3536: ['Organic Vegetables', 'Salad Box', 'Weight Loss', 'Health Food', 'Low Carb', 'Meal Prep', 'Fresh Greens', 'Detox', 'Healthy Eating', 'Fitness Journey'], 3537: ['Frozen Cauliflower Rice', 'Low-Calorie Meal', 'Healthy Eating', 'Fitness Recipe', 'Meal Prep', 'Weight Loss', 'Onion', 'Sweet Corn', 'Edamame', 'Quinoa'], 3538: ['Low Sodium Saba Fish', 'Fresh Seafood', 'Japanese Grilled Fish', 'Healthy Eating', 'Salt Control', 'DHA Supplement', 'Ready-to-Eat Meals', 'Sashimi-grade Fish', 'Salt-free Saba', 'Southern Au Specialties'], 3539: ['Japanese BBQ Pork Slices', 'Marinated Pork', 'Quick Meal Options', 'Fresh Meat', 'Japanese Cuisine', 'BBQ Ready', 'Convenience Food', 'Gourmet Delight', 'Online Grocery', 'Premium Quality Pork'], 3540: ['Microwavable Quinoa Rice', 'Healthy Fitness Meal', 'Convenient Ready-to-Eat', 'Low-Carb Quinoa Option', 'Online Grocery', 'Fresh Grain Blend', 'Fitness Nutrition', 'Time-Saving Meal', 'Group Buying', 'Quick Meal Prep'], 3542: ['Seafood Chowder', 'Creamy Soup', 'Winter Delight', 'Lobster Bisque', 'Pumpkin Soup', 'Homestyle Cooking', 'Rich Broth', 'Gourmet Treat', 'Comfort Food', 'Soup Selection'], 3543: ['Wild Vegetables', 'Instant Noodles', 'Vegetarian Noodles', 'Non-Fried Noodles', 'Vegetable Noodles', 'Convenience Food', 'Soup Noodles', 'Healthy Eating', 'Quick Meal', 'Nourishing Ingredients'], 3545: ['Thin Dumpling Wrappers', 'Non-GMO Soybeans', 'High Protein', 'Low Carb', 'Fitness', 'Meal Prep', 'Handmade', 'Juicy Fillings', 'Easy to Cook', 'Delicious Flavor'], 3546: ['i3fresh', 'Fresh Salmon', 'Chilean Salmon', 'Online Shopping', 'Gourmet Seafood', 'Premium Quality', 'Frozen Salmon', 'Health Benefits', 'Home Delivery', 'Seafood Delicacy'], 3547: ['Cauliflower', 'White cauliflower rice', 'Low-calorie diet', 'Health food', 'Weight management', 'Fitness recipes', 'Meal prep', 'Healthy eating', 'Cauliflower rice', 'Dietary control'], 3549: ['USDA Beef', 'Angus Beef', 'Prime Ribeye', 'Tender Shoulder Beef', 'Premium Beef Cuts', 'Grilled Meat', 'Boneless Beef Ribs', 'Blue Ribbon Steak', 'Grass-Fed Beef', 'Beef Recipes'], 3551: ['Pearl guava', 'Local produce', 'Taiwanese fruit', 'Xizhou guava', 'Fresh and crispy', 'Low GI', 'Nutrient-rich', 'Healthy snack', 'Sweet aroma', 'Ideal for diets'], 3568: ['Italian Pasta Selection', 'Pesto Sauce', 'Tomato Sauce', 'Creamy White Sauce', 'Spicy Meat Sauce', 'Durum Wheat', 'Heat-and-Eat', 'Meal Kit', 'Authentic Italian', 'Gourmet Pasta Options'], 3650: ['Premium New Zealand Beef', 'Knuckle Cut', 'Steak Recipes', 'Grilling', 'Pan-Seared Steak', 'Grass-Fed Beef', 'Roast Beef', 'Gourmet Meat', 'Cooking Ingredients', 'Braising Beef'], 3663: ['21oz Presidential Steak', 'Prime Grade Beef', 'Thick Cut Steak', 'Marble Texture Beef', 'Wet-aged Steak', 'Juicy Tender Steak', 'BBQ and Grill Ready', 'Frosted Flank Steak', 'Gourmet Meat Cut', 'Natural Pasture Raised Beef'], 3680: ['Appetizers', 'Small bites', 'Chicken gizzards', 'Chicken liver', 'Chicken hearts', 'Chicken feet', 'Phoenix claws', 'Snacks', 'Braised flavors', 'TV snacks'], 3728: ['Taiwanese pork', 'Traditional flavor', 'Pork belly recipe', 'Gourmet pork', 'Easy meal prep', 'Authentic taste', 'Ready-to-eat', 'Taiwanese cuisine', 'Pork dish', 'Flavorful pork'], 3794: ['Gourmet Street Food', 'Traditional Taiwanese Snack', 'Breakfast Delicacy', 'Crispy Pan-Fried Buns', 'Night Market Favorite', 'Authentic Taiwanese Cuisine', 'Quick and Easy to Prepare', 'Savory Dim Sum', 'Crispy Outer Shell', 'Juicy Filling'], 3798: ['Weight Loss', 'Low Carb', 'Health Meal', 'Microwaveable', 'Meal Prep', 'Fitness', 'Healthy Eating', 'Low Calorie', 'Light Snack', 'Dietary Control'], 3812: ['USDA Angus Beef', 'Ribeye Steak', 'Grilling Recipes', 'Bone-In Beef', 'Blue Ribbon Steak', 'Tender Shoulder Beef', 'Wet-Aged Beef', 'Natural Grazing', 'Barbecue Cuts', 'Premium Angus Beef'], 3818: ['Sweet dessert', 'Chinese dessert', 'Silver ear fungus', 'Nutritious dessert', 'Healthy dessert', 'Silver ear soup', 'White fungus soup', 'Refreshing dessert', 'Fruit infused dessert', 'Ready-to-eat'], 3819: ['Pork Ribs', 'Bento Box', 'Traditional Pork Chop', 'Taiwanese Cuisine', 'Flavored Pork Cutlet', 'Pork Recipe', 'Meal Prep', 'Taiwanese Pork Chops', 'Gourmet Pork', 'Classic Ribs'], 3820: ['Pork Chops', 'Bento Box', 'Traditional Taste', 'Taiwanese Pork', 'Meal Prep', 'Pork Recipes', 'Pork Cutlets', 'Tender Pork', 'Taiwanese Cuisine', 'Flavorful Pork'], 3839: ['Mackerel', 'Low-salt mackerel', 'Seafood', 'Japanese grilled fish', 'Fish recipe', 'DHA', 'Natural fish oil', 'Meal preparation', 'Bento main dish', 'Bento recipe'], 3843: ['Taiwanese Street Food', 'Nourishing Soup', 'Four Treasures Soup', 'Pork Intestine', 'Traditional Chinese Soup', 'Night Market Delights', 'Herbal Soup', 'Four Divine Ingredients', 'Rejuvenating Broth', 'Comforting Nourishment'], 3864: ['Wild Fish Fillet', 'Fish Meat Recipes', 'Meal Prep', 'Premium Meat and Fish', 'Fresh Frozen Seafood', 'Gourmet Fish Dishes', 'Sashimi-grade Fish', 'High-quality Seafood', 'Wild-Caught Fish', 'Sustainable Fishing Practices'], 3883: ['Iberico Pork', 'Spanish Pork', 'Premium Pork', 'Grilled Meat', 'Pork Recipes', 'Gourmet Pork', 'Quick Meals', 'Meal Prep', 'Succulent Pork', 'Oak-Flavored Pork'], 3901: ['Healthy Eating', 'Low Calorie', 'Fitness Recipe', 'Meal Prep', 'High Protein', 'Muscle Building', 'Weight Loss', 'Quinoa', 'Chickpeas', 'Salad Option'], 3915: ['Mango Sorbet', 'Summer Treat', 'Artisanal Dessert', 'Chilled Delight', 'Natural Ingredients', 'Refreshing Flavor', 'Traditional Recipe', 'Seasonal Fruit', 'Sweet and Tangy', 'Gourmet Ice Cream'], 3932: ['Akaushi Beef', 'Marbling', 'American Wagyu', 'BBQ meat slices', 'Beef slices', 'Premium beef', 'Natural beef', 'Grilled meat slices', 'Hotpot meat slices', 'Grain-fed beef'], 3943: ['Poison-free shrimp', 'Safe-to-eat shrimp', 'Pesticide-free shrimp', 'White shrimp meat', 'Non-inflated shrimp', 'Certified purity', 'No chemical treatment', 'Secure shrimp', 'Freshwater prawns', 'Chemical-free seafood'], 3972: ['Snack Gift Box', 'Crispy Shrimp', 'Group Buy', 'Healthy Snack', 'Antibiotic-Free', 'Biscuits', 'Crispy Squid', 'Gourmet Seafood', 'No Additives', 'Unique Vacuum Fry'], 3976: ['Marinated Clams', 'Spicy Flavor', 'Appetizers', 'Taiwanese Delicacy', 'Fresh Clams', 'Gourmet Delights', 'Pickled Seafood', 'Tasty Side Dish', 'Tantalizing Snack', 'Authentic Taste'], 4001: ['Spicy Peeling Chili Fish Balls', 'Handmade Fish Balls', 'Fresh Shilim Fish', 'Hot Pot Ingredients', 'Spicy Pepper Flavor', 'Authentic Taiwan Fish Balls', 'No Toxic Fish Balls', 'Preservative-Free Balls', 'Peeling Chili Fusion', 'Gourmet Fish Ball Soup'], 4026: ['Iberico pork', 'BBQ meat', 'Spanish pork', 'Meal prep', 'Grilled meat', 'Pork recipes', 'Premium meat', 'Gourmet food', 'Tender pork', 'Flavorful meat'], 4031: ['Prime Grade Steak', 'Air Fryer Recipes', 'Convenience Meals', 'Lean Protein', \"President's Choice Steak\", 'Norwegian Sashimi', 'Fitness Meal Prep', 'Gourmet Beef Cuts', 'Healthy Snacking', 'Seafood Delights'], 4036: ['Japanese Black Clams', 'Seafood Delicacy', 'Shellfish Soup', 'Clam Chowder', 'Health Benefits', 'Shellfish Delight', 'Rare and Precious', 'Energizing', 'Nutrient-rich', 'Easy Cooking'], 4043: ['Chicken thigh chunks', 'Meal prep', 'Chicken recipes', 'Value pack', 'Welfare chicken meat', 'Juicy chicken thigh', 'Convenience cooking', 'Budget-friendly option', 'Versatile ingredient', 'Nutritious protein choice'], 4045: ['High Protein', 'Meal Prep', 'Low Calorie', 'Fitness Recipe', 'Lean Muscle', 'Ready-to-Eat', 'Chicken Breast', 'Nutritious', 'Convenient', 'Low Carb'], 4047: ['Low Carb Diet', 'Fitness Meal', 'High Protein', 'Meal Prep', 'Lean Chicken Breast', 'Weight Management', 'Quick and Easy', 'Muscle Building', 'Healthy Eating', 'Frozen Vegetables'], 4054: ['Japanese A5 Wagyu', 'Hotpot Meat Slices', 'Grilled Beef', 'Marbling', 'Wagyu Beef', 'BBQ Meat Slices', 'Premium Beef Cuts', 'Snowflake Wagyu', 'Wagyu Hotpot', 'Natural Beef'], 4055: ['A5 Wagyu beef', 'Hot pot beef slices', 'Premium beef selection', 'Japanese Wagyu', 'Australian Wagyu', 'Grilled beef slices', 'Marble pattern beef', 'Natural beef', 'Wagyu hot pot', 'Wagyu gift set'], 4056: ['A5 Wagyu', 'Japanese Wagyu', 'Hot Pot Beef Slices', 'Premium Beef Selection', 'Marbled Beef', 'Barbecue Beef', 'Wagyu Assortment', 'Wagyu Hot Pot', 'Fine Dining Beef', 'Gourmet Beef Selection'], 4059: ['Chicken Leg Meat', 'Meal Prep', 'Bone-In Chicken', 'Chicken Thigh Chunks', 'Quality Chicken', 'Chicken Recipe', 'Frozen Chicken', 'Bone-In Thigh', 'Nutritious Chicken', 'Chicken Soup'], 4060: ['Durian ice cream', 'Malaysian fruit', 'Premium fruit', 'Musang King durian', 'Fruit ice cream', 'Exotic fruit', 'Durian dessert', 'Authentic Malaysian', 'King of fruits', 'Gourmet treat'], 4070: ['Seafood', 'Wild Cuttlefish', 'Seafood Recipe', 'Frozen Cuttlefish', 'Cooking Seafood', 'Taiwanese Cuttlefish', 'Sashimi Grade', 'Fresh Frozen', 'Meal Preparation', 'Squid'], 4075: ['Gourmet Chicken Rolls', 'Taiwanese Chicken Dish', 'Juicy Chicken Rolls', 'Oven-baked Delicacy', 'Night Market Delight', 'Delectable Meat Rolls', 'Signature Chef Recipe', 'Crispy Chicken Wrap', 'Succulent Chicken Dish', 'Premium Quality Chicken'], 4083: ['Durian Ice Cream', 'Fruit Dessert', 'Premium Fruit', 'Malaysian Durian', 'Cat Mountain King Durian', 'Gourmet Ice Cream', 'Fruit Pastry', 'Exotic Fruits', 'Durian Delight', 'Luxury Treat'], 4092: ['Seafood', 'Scallop', 'Gourmet', 'Meal prep', 'Grilling', 'Jumbo scallop', 'Frozen food', 'Recipe', 'Fine dining', 'Premium seafood'], 4102: ['Taiwanese Turnip Cake', 'Chinese Cuisine', 'Heat-and-Eat', 'Dim Sum', 'Vegetarian', 'Authentic Taste', 'Hong Kong Style', 'Air Fryer Recipes', 'Breakfast Option', 'Late-Night Snack'], 4103: ['Grass-fed Beef Tongue', 'Beef Recipes', 'Meal Prep', 'New Zealand Beef', 'Hot Pot', 'Sliced Meat', 'Beef Tongue Dish', 'Grass-fed Beef', 'Marinated Beef', 'Tender Texture'], 4125: ['Pork Recipes', 'Japanese Cuisine', 'Meal Prep', 'Ready to Heat', 'Marinated Meat', 'Pork Slices', 'Gourmet Pork', 'Authentic Flavor', 'Taiwanese Pork', 'Succulent Meat'], 4139: ['Low Calorie Meal', 'High Protein Diet', 'Fitness Meal Prep', 'Lean Muscle Building', 'Quick & Easy Food', 'Healthy Eating', 'Protein-Rich Chicken', 'Ready-to-Eat', 'Gym Meal', 'Nutritious Options'], 4140: ['Ready-to-eat', 'Grilled Chicken Wings', 'Marinated Chicken', 'Finger-Licking Good', 'Variety Pack', 'Easy Preparation', 'Grilled Meat', 'Chicken Drumsticks', 'Party Food', 'Frozen Delights'], 4141: ['Taiwanese Street Food', 'Chicken Rice Wrap', 'Taiwanese Cuisine', 'Night Market Snack', 'Golden Chicken Rice Wrap', 'Taiwanese Specialty', 'Green Curry Flavor', 'Handcrafted Rice Packet', 'Frozen Meal Option', 'Boneless Chicken Delight'], 4144: ['High Protein', 'Low Carb', 'Weight Loss', 'Meal Prep', 'Healthy Eating', 'Calorie Deficit', 'Microwaveable', 'Fitness', 'Diet Control', 'Light Meal'], 4180: ['Barramundi Fish Fillet', 'Fresh Fish Recipe', 'Healthy Meal Prep', 'Gourmet Fish Dish', 'Premium Barramundi', 'Boneless Fish Fillet', 'Bento Box Staple', 'Vietnamese Barramundi', 'No Additives Fish', 'High-Quality Seafood'], 4181: ['Fried Mushrooms', 'Snack', 'Party Food', 'Crispy Snack', 'Air Fryer Recipe', 'Garlic Salt', 'Late Night Snack', 'Finger Food', 'Crispy Chicken Nuggets', 'Taiwanese Snack'], 4183: ['Wild Pacific Saury', 'Frozen Fresh Fish', 'Sashimi Grade', 'Easy Cooking Fish', 'Grilled Fish', 'Lunch Meal Prep', 'Ocean Catch', 'Fish Recipes', 'Bento Box Staple', 'Nutrient-Rich'], 4194: ['Cheese Pull-Apart Pancake', 'Breakfast Snack', 'Chinese Pastry', 'Scallion Cheese Pancake', 'Savory Breakfast', 'Gourmet Delight', 'Warm Cheese Treat', 'Flavorsome Snack', 'Scrumptious Bites', 'Authentic Flavors'], 4196: ['Sugarcane Chicken', 'Chicken Breast', 'Chicken Wings', 'Chicken Recipe', 'Meal Prep', 'Oil Scallion Chicken', 'Smoked Sugarcane Chicken', 'QQ Chicken Meat', 'Fresh Tender Chicken', 'Popular Oil Scallion Chicken'], 4213: ['Health supplement', 'Pineapple enzyme', 'Probiotic jelly', 'Weight management', 'Artisanal produce', 'Digestive health', 'Convenient snack', 'Taiwanese agriculture', 'Enzyme nutrition', 'Ready-to-eat'], 4214: ['Organic fish soup', 'Chicken essence', 'EU certified', 'Nutritious broth', 'Local delicacy', 'Sustainable farming', 'Health booster', 'Herbal infusion', 'Taiwanese cuisine', 'Eco-friendly harvesting'], 4216: ['Dry-aged king mackerel fillet', 'Sustainable fish', 'EU certified', 'Natural aging process', 'High Omega-3 content', 'Gourmet fish cuts', 'Non-toxic seafood', 'High-quality seafood', 'Lean fish meat', 'Culinary inspiration'], 4227: ['Australian Wagyu', 'Chocolate-infused beef', 'Grilling recipes', 'Marbled Wagyu', 'Prime rib', 'Beef shoulder', 'Gourmet steaks', 'Wagyu delicacy', 'Beef marbling', 'Premium cuts'], 4230: ['Taiwanese cuisine', 'Appetizers', 'Marinated pig ears', 'Snack food', 'Small dishes', 'Pork delicacy', 'Crispy texture', 'Gourmet food', 'Pork delicacy', 'Flavorful appetizers'], 4231: ['Edamame', 'High Protein', 'Healthy Eating', 'Black Pepper Edamame', 'Fitness', 'Meal Prep', 'Nutritious Snack', 'Appetizer', 'Health Food', 'Dietary Control'], 4232: ['American Beef Slices', 'Pork Recipes', 'Hot Pot Beef', 'Grilling Meat Selection', 'Premium Beef Cuts', 'Pork Cooking Ideas', 'Tender Beef Slices', 'Meat Preparation Tips', 'BBQ Meat Slices', 'Gourmet Beef Selection'], 4255: ['Hot Pot Base', 'Sichuan Spicy Hot Pot', 'Sichuan Mala Hot Pot', 'Northeast Sour Cabbage Hot Pot', 'Ready-to-Eat Hot Pot', 'Flavorful Broth', 'Spicy Broth', 'Authentic Hot Pot', 'Spicy and Aromatic', 'Easy Preparation'], 4261: ['A5 Wagyu', 'Wagyu Burgers', 'Japanese Beef', 'Gourmet Burgers', 'Premium Meat', 'Juicy Patties', 'Hand-Cut Steaks', 'Artisanal Beef', 'Marbled Meat', 'Exquisite Cuisine'], 4267: ['Mushroom Pumpkin Congee', 'Seafood Medley Congee', 'Spinach Porcini Mushroom Congee', 'Comforting Rice Porridge', 'Vegan Congee', 'Ready-to-Eat Meal', 'Wholesome Ingredients', 'Nutritious Rice Porridge', 'Convenience Food', 'Vegetarian Option'], 4293: ['Three-Cup Chicken', 'Taiwanese Drunken Chicken', 'Chef Wu Bingcheng', 'Easy to Prepare', 'Ready to Heat', \"Chef's Special\", 'Gourmet Convenience', 'Home Cooked', 'Instant Meal', 'Authentic Flavor'], 4302: ['Taro Pearls', 'Sweet Potato Pearls', 'Chewy Tapioca', 'Taiwanese Dessert Soup', 'Warm Sweet Soup', 'Signature Taro Balls', 'Sweet Yam Pearls', 'Heart-Warming Dessert', 'Taro Dessert Option', 'Cold or Hot Selection'], 4322: ['Frozen Passion fruit Juice', '100% Fruit Juice', 'Pure Passion fruit Juice', 'Natural Fruit Juice', 'Freshly Harvested Passion fruit', 'Juice with Passion fruit Pulp', 'Frozen Fresh Juice', 'Exotic Fruit Juice', 'Versatile Fruit Juice', 'Delicious Nectar'], 4345: ['Instant Chicken Soups', 'Medicinal Herbal Soups', 'Gourmet Chicken Broths', 'Nutritious Soup Selection', 'Heat-and-Eat Packs', 'Premium Soup Bundle', 'Traditional Bone Broths', 'Quick Meal Solutions', 'Healthful Soup Varieties', 'Revitalizing Chicken Recipes'], 4356: ['Abalone snack', 'Spicy abalone', 'Gourmet abalone', 'Seafood delicacy', 'Flavorful abalone', 'Premium pickled abalone', 'Snack selection', 'Exotic snack', 'Gourmet treat', 'Spicy delicacy'], 4413: ['Fried Squid Snack', 'Party Snack', 'Air Fryer Recipe', 'Late-Night Snack', 'Taiwanese Fried Food', 'Crispy Squid', 'Salt and Pepper Flavor', 'Seafood Snack', 'Crispy Chicken', 'Delicious Squid Bites'], 4422: ['Italian Style', 'Risotto', 'Creamy White Sauce', 'Tomato Meat Sauce', 'Pesto Chicken with Pine Nuts', 'Mexican Spicy Meat Sauce', 'Ready to Heat', 'Condiment Pack', 'Gourmet Rice', 'Flavorful Sauces'], 4473: ['Hotpot base', 'Vegetarian broth', 'Meatless hotpot', 'Spicy tofu base', 'Vegan soup', 'Meat substitute', 'Cooking kit', 'Tofu beef', 'Meat-free broth', 'Spicy flavor'], 4475: ['Instant-Ready Soup', 'Nutritious Chicken Soup', 'Herbal Infused Broth', 'Gourmet Soup Selection', 'Easy-Heat Meal', 'Premium Chicken Broth', 'Healthful Ingredients', 'Traditional Bone Broth', 'Flavorful Soup Options', 'Nourishing Soups'], 4478: ['Konjac Noodles', 'Low-Calorie', 'Refreshing Drink', 'Summer Coolers', 'Winter Melon', 'Plum Flavor', 'Vegetarian', 'Pumpkin', 'Appetite Suppressant', 'High Fiber'], 4479: ['Instant Soup', 'Nourishing Chicken Soup', 'Herbal Broth', 'Heat and Eat', 'Soup Pack', 'Premium Chicken Soup', 'Ginseng Red Date Chicken Soup', 'Bone Nourishing Soup', 'Healthful Chicken Soup', 'Traditional Broth'], 4489: ['Broth', 'Ready-to-cook', 'Pork ribs', 'Authentic Taiwanese', 'Long-simmered', 'Dragon Mountain Temple', 'Fresh ingredients', 'Soup delicacy', 'Queue-worthy', 'Tasty simplicity'], 4517: ['Pork Recipes', 'Unique Flavors', 'Chinese Cuisine', 'Meal Prep', 'Braised Pork Knuckle', 'Traditional Cooking', 'Gourmet Cooking', 'Delicious Marinade', 'Tender Meat', 'Slow-Cooked Delight'], 4518: ['Taiwanese Taro Stew Rice Noodle Soup', 'Authentic Taiwanese Cuisine', 'Taro Root Delicacy', 'Festive New Year Dish', \"Wu Bingcheng's Signature\", 'Taro Rice Noodles', 'Flavorful Soup', 'Lunar New Year Pre-order', 'Soft and Dense Taro Texture', 'Traditional Taiwanese Flavor'], 4526: ['Fresh Frozen Seafood', 'Salmon Fillet', 'Chilean Sea Bass', 'Cod Fillet', 'Seafood Selection', 'Gourmet Fish', 'High-Quality Frozen Fish', 'Popular Seafood Combo', 'Premium Seafood Ingredients', 'Quick Frozen for Freshness'], 4536: ['Healthy Eating', 'Meal Control', 'Fitness', 'Meal Prep', 'Low-Carb', 'Japanese Style Chicken Breast', 'Frozen Cauliflower', 'Quinoa Edamame', 'Healthy Cooking', 'Convenience'], 4538: ['BBQ essentials', 'Meat variety pack', 'Premium meat selection', 'Grilling favorites', 'Japanese barbecue meats', 'No-beef assortment', 'Gourmet meat bundle', 'Pork and chicken delights', 'Culinary delicacies', 'Value meat pack'], 4540: ['New Zealand Beef', 'Chicken Recipe', 'Beef Fillet', 'Meal Prep', 'Bone-in Chicken Thighs', 'Grass-fed Beef', 'Beef Cubes', 'Chicken Thighs', 'Cooking with Chicken', 'Beef Tenderloin'], 4545: ['Premium Beef Selection', 'Fillet Steak Cubes', 'Ribeye Steaks', 'Wagyu Sirloin', 'Presidential Cut Ribeye', 'Angus Wing Rib Steaks', 'Tender Shoulder Beef', 'Succulent Beef Cuts', 'Cube Beef', 'Economic Beef Bundle'], 4554: ['Marinated Clams', 'Spicy Clams', 'Taiwanese Delicacy', 'Appetizer Dish', 'Fresh Clams', 'Hot and Spicy Sauce', 'Tainan Specialty', 'Savory Marination', 'Tasty Seafood', 'Gourmet Small Plates'], 4558: ['Thai cuisine', 'Handmade moon shrimp cake', 'Ready-to-eat', 'Golden handmade moon shrimp cake', 'Shrimp cake', 'Handmade shrimp cake', 'Golden moon shrimp cake', 'Shrimp', 'Fresh ingredients', 'Q-elastic squid chunks'], 4580: ['Taiwan Fruit', 'Direct From Origin', 'Guava', 'Premium Quality', 'XiZhou Emperor Guava', 'Black Alluvial Soil', 'Crispy and Sweet', 'Fragrant Aroma', 'Natural Nutrients', 'Loved by Consumers'], 4589: ['Seafood delicacy', 'Japanese gourmet', 'Health and wellness', 'Nutrient-rich', 'Black clam', 'Premium quality', 'Immune boosting', 'Gastronomic delight', 'Quick and easy cooking', 'Culinary convenience'], 4591: ['HealthBoost', 'TraditionalFlavors', 'JapaneseDelicacy', 'ArtisanalPreservation', 'GourmetSeafood', 'ImmuneSupport', 'AppetizerChoice', 'CulinaryDelight', 'SeasonalFavorite', 'ExquisiteTaste'], 4593: ['Black Clam Extract', 'Japanese Black Clam', 'Natural Fermentation', 'Health Tonic', 'Traditional Japanese Ingredient', 'Nourishing Elixir', 'Umami Flavor', 'Handcrafted Soy Sauce', 'Premium Seafood', 'Herbal Supplement'], 4594: ['Black Clam Essence', 'Health Supplement', 'Japanese Delicacy', 'Traditional Remedy', 'Nutrient Concentrate', 'Premium Seafood', 'Natural Ingredients', 'Wellness Gift', 'Immune Boost', 'Energy Tonic'], 4628: ['Dumplings', 'Kimchi dumplings', 'Ready-to-eat dumplings', 'High-quality ingredients', 'Handmade dumplings', 'Pork and vegetable dumplings', 'Steamed dumplings', 'Pan-fried dumplings', 'Premium dumplings', 'Savory broth-infused'], 4631: ['Dumplings', 'Pork and chive dumplings', 'Freshly made dumplings', 'Convenient ready-to-eat', 'Pan-fried dumplings', 'Handmade', 'Juicy filling', 'Pork dumplings', 'Authentic flavors', 'Gourmet dumplings'], 4634: ['Kimchi Dumplings', 'Korean Style', 'Gyoza', 'Ready-to-Eat', 'Tangy Dumplings', 'Spicy Kimchi', 'Pork Dumplings', 'Juicy Fillings', 'Fermented Kimchi', 'Fish Sauce Flavor'], 4635: ['Spicy Chili Dumplings', 'Handmade Fresh Pork Dumplings', 'Quick and Easy to Prepare', 'Gourmet Pork and Chili Dumplings', 'Exquisite Gyoza Selection', 'Premium Ingredients', 'Thin and Juicy Dumpling Skins', 'Artisanal Dumpling Making', 'Authentic Flavor Fusion', 'Savory Hot Chili Dumplings'], 4636: ['Corn Filled Dumplings', 'Gourmet Pork Dumplings', 'Quick Heat-and-Eat', 'Taiwanese Dumplings', 'Corn Dumplings', 'Dumplings with Sweet Corn', 'Premium Dumpling Skins', 'Vegetable Pork Dumplings', 'Juicy Soup Dumplings', 'Unique Taiwanese Dumplings'], 4648: ['Prime beef', 'Ribeye steak', 'Grilling', 'Beef recipes', 'Prime cut', 'Marbling', 'American beef', 'BBQ', 'Steak cooking', 'Juicy beef'], 4649: ['Taiwanese Freshly Harvested Water Peaches', 'Tropical Ground Peaches', 'Juicy and Sweet Fruit', \"Taiwan's Grown Water Peaches\", 'Limited-Time Offer', 'Sweet and Flavorful', 'Juicy Fruit', 'Group Purchase', 'Aromatic Fruit', 'Sweet and Juicy Peaches'], 4650: ['Taiwan Water Honey Peach', 'Fresh Tropical Fruit', 'Juicy and Sweet', 'Limited Time Offer', 'Group Purchase', 'Flavorful Peach', 'Juicy Fruit', 'Taiwan Peaches', 'Online Shopping Deal', 'Sweet and Fragrant'], 4651: ['Taiwanese peaches', 'Sweet and juicy', 'Tropical peaches', 'Limited-time offer', 'Freshly picked', 'Succulent fruit', 'Group buy', 'Juicy peaches', 'Flavorful peaches', 'Irresistible taste'], 4652: ['Hotpot beef slices', 'BBQ beef slices', 'Wagyu beef', 'Marble beef', 'Grilled beef slices', 'Premium beef', 'Australian Wagyu', 'Snowflake beef slices', 'Grilled meat', 'Gourmet beef'], 4670: ['Gourmet Instant Noodles', 'Premium Udon Noodles', 'Authentic Ramen', 'Frozen Ready-to-Eat Noodles', 'Fine Oolong Noodles', 'High-Quality Ingredients', 'Original Flavor Noodles', 'Convenient Meal Option', \"Noodle Lover's Delight\", 'Artisanal Noodle Selection'], 4675: ['Freshly Harvested Lala Mountain Peaches', 'Group Purchase', 'Limited Time Deal', 'Sweet and Juicy Peaches', 'Local Sourced', 'Summer Delicacy', 'Aromatic Flavor', 'Premium Quality Peaches', 'Direct From Farm', 'Home Delivery'], 4705: ['Snack', 'Appetizer', 'Smoked', 'Spicy', 'Boneless', 'Sichuan flavor', 'Ready-to-eat', 'Gelatinous texture', 'Social gathering', 'TV companion']}\n",
      "Predict the next product tags based on browsing histories. Provide exactly 7 output tags, comma-separated, sorted by relevance. \n",
      "{'instruction': '', 'input': '1. Love Ataulfo Mango, Mango, Mango Ice, Fresh Mangoes, Exquisite Fruits, Fruit Gift Box, Juicy Mango\\n2.'}\n",
      "{'instruction': '', 'input': '1. Frozen Broccoli, Cruciferous Vegetables, Cancer-fighting, Low-Calorie Diet, Healthy Eating, Quick Meal Prep, Fitness Recipes\\n2.'}\n",
      "{'instruction': '', 'input': '1. Healthy Eating, Frozen Vegetables, Meal Prep, Fitness Food, Health Recipes, Controlled Diet, Quick Meals\\n2.'}\n",
      "{'instruction': '', 'input': '1. Gourmet Fish Dish, Taiwan Sea Bass, Post-surgery Diet, Meal Prep, Sea Bass Recipe, Nutritious Meal, Eye-catching Fish\\n2.'}\n"
     ]
    }
   ],
   "source": [
    "N_TAGS_PER_PRODUCT = 7\n",
    "INSTRUCTION = (\n",
    "    'Predict the next product tags based on browsing histories. '\n",
    "    f'Provide exactly {N_TAGS_PER_PRODUCT} output tags, comma-separated, sorted by relevance. '\n",
    ")\n",
    "PRODUCT_RAW_TAGS = final.data.product_tags_v5_en()\n",
    "\n",
    "inference_dataset = final.InferenceDataset(\n",
    "    raw_tags=PRODUCT_RAW_TAGS,\n",
    "    # user_names=final.data.default_user_names(),\n",
    "    n_tags_per_product=N_TAGS_PER_PRODUCT,\n",
    "    legacy_output_first_time_buyer=False,\n",
    ")\n",
    "print(PRODUCT_RAW_TAGS)\n",
    "print(INSTRUCTION)\n",
    "print(inference_dataset[0])\n",
    "print(inference_dataset[1])\n",
    "print(inference_dataset[3])\n",
    "print(inference_dataset[5])"
   ]
  },
  {
   "cell_type": "markdown",
   "metadata": {},
   "source": [
    "## LLM Preparation\n",
    "Download and initialize the corresponding LLM and checkpoint (Both need to be installed)."
   ]
  },
  {
   "cell_type": "code",
   "execution_count": null,
   "metadata": {},
   "outputs": [],
   "source": [
    "# model_name = \"/content/taide_7b\"\n",
    "# !wget -O taide_7b.zip \"https://www.dropbox.com/scl/fi/rlzdoidgejt9wiox88gz5/taide_7b.zip?rlkey=vtuc8xq7mq2d0dpuijxlb3jfj&dl=0\"\n",
    "# # !gdown 1OiO5N9-wXDPX9XuGnPP-cgOoyFy4p3FD # 如果上面的連結失效（無法下載模型），可以將這行最前面的 \"#\" 刪除，即可正常下載\n",
    "# !unzip taide_7b.zip"
   ]
  },
  {
   "cell_type": "code",
   "execution_count": null,
   "metadata": {},
   "outputs": [],
   "source": [
    "# https://huggingface.co/docs/hub/en/security-tokens\n",
    "# from huggingface_hub import notebook_login\n",
    "# notebook_login()\n",
    "# model_name = 'meta-llama/Llama-2-7b-hf'"
   ]
  },
  {
   "cell_type": "code",
   "execution_count": null,
   "metadata": {},
   "outputs": [],
   "source": [
    "# ckpt_name = '/content/ckpt-taide-2'\n",
    "# !wget -O \"ckpt-taide-2.zip\" \"https://www.dropbox.com/scl/fi/m6ochvs7r2csh4o47ffhh/ckpt-taide-2.zip?rlkey=o5yw0pbo47rsgp0ul62hfq207&st=cgxsvv85&dl=0\"\n",
    "# !unzip \"ckpt-taide-2.zip\""
   ]
  },
  {
   "cell_type": "code",
   "execution_count": 3,
   "metadata": {},
   "outputs": [
    {
     "name": "stderr",
     "output_type": "stream",
     "text": [
      "Loading checkpoint shards: 100%|██████████| 2/2 [00:06<00:00,  3.27s/it]\n"
     ]
    },
    {
     "name": "stdout",
     "output_type": "stream",
     "text": [
      "loading checkpoint from ckpts/ckpt-14\n"
     ]
    }
   ],
   "source": [
    "model_name = 'togethercomputer/Llama-2-7B-32K-Instruct'\n",
    "# ckpt_name = 'ckpts/ckpt-2'\n",
    "llm = LLM(\n",
    "    model_name=model_name,\n",
    "    instruction=INSTRUCTION,\n",
    "    # ckpt_name=ckpt_name,\n",
    "    real_ckpt_dir='ckpts'\n",
    ")"
   ]
  },
  {
   "cell_type": "markdown",
   "metadata": {},
   "source": [
    "## Generation\n",
    "\n",
    "There are three available generation methods.\n",
    "It's recommended to try single_inference and multi_beam_inference first.\n",
    "\n",
    "### single_inference\n",
    "\n",
    "Just inference the model once.\n",
    "\n",
    "### iterative_inference.\n",
    "\n",
    "Need to specify `n` (`n >= 2`). This method used the output of $i$-th iteration as the input of $i+1$-th iteration.\n",
    "\n",
    "### multi_beam_inference\n",
    "\n",
    "Similar to single inference, but use multiple generation configs. \n"
   ]
  },
  {
   "cell_type": "code",
   "execution_count": 6,
   "metadata": {},
   "outputs": [
    {
     "name": "stderr",
     "output_type": "stream",
     "text": [
      "A decoder-only architecture is being used, but right-padding was detected! For correct generation results, please set `padding_side='left'` when initializing the tokenizer.\n"
     ]
    },
    {
     "name": "stderr",
     "output_type": "stream",
     "text": [
      "A decoder-only architecture is being used, but right-padding was detected! For correct generation results, please set `padding_side='left'` when initializing the tokenizer.\n"
     ]
    },
    {
     "name": "stdout",
     "output_type": "stream",
     "text": [
      "inputs0:\n",
      "\n",
      "1. Love Ataulfo Mango, Mango, Mango Ice, Fresh Mangoes, Exquisite Fruits, Fruit Gift Box, Juicy Mango。\n",
      "\n",
      "outputs:\n",
      "\n",
      "1. Love Ataulfo Mango, Mango, Mango Ice, Fresh Mangoes, Exquisite Fruits, Fruit Gift Box, Juicy Mango\n",
      "2.\n",
      "\n",
      " Taiwanese Freshly Harvested Water Peaches, Tropical Ground Peaches and Fresh Frozen Golden Turf, Juice Delicious and Sweet Fruit, Limited-Time Offer, Sweet and Flavorful, Juiciest and Scentious\n",
      "3. Taiwan Water Honey Peach, Flavored Water, Premium Quality, Juiced Fruit. Taiwanese peaches, Squid, Snardles, Crab, Fruitarian, Seafood delicacy\n",
      "4. Taiwan Fruit Shrimp, Tropic Fruit Juice,\n",
      "--------------------------------------------------\n"
     ]
    },
    {
     "name": "stderr",
     "output_type": "stream",
     "text": [
      "A decoder-only architecture is being used, but right-padding was detected! For correct generation results, please set `padding_side='left'` when initializing the tokenizer.\n"
     ]
    },
    {
     "name": "stdout",
     "output_type": "stream",
     "text": [
      "inputs1:\n",
      "\n",
      "1. Frozen Broccoli, Cruciferous Vegetables, Cancer-fighting, Low-Calorie Diet, Healthy Eating, Quick Meal Prep, Fitness Recipes。\n",
      "\n",
      "outputs:\n",
      "\n",
      "1. Frozen Broccoli, Cruciferous Vegetables, Cancer-fighting, Low-Calorie Diet, Healthy Eating, Quick Meal Prep, Fitness Recipes\n",
      "2.\n",
      "\n",
      " Frozen spinach, Healthyman, Convenience, Frozen vegetables, Fresh spinach\n",
      "3. Frozed Brocc, Crucc, Canceraffecting, Meal Planning, Healthymonging, Frozerbags\n",
      "4. Frozoned spinach and chicken, Health-conscious freezing, Conventional frozen ingredients, Frozeable vegetables and meat, Health supplements, Wont-flavor-your-food\n",
      "5. Froze Brocc and Cheese, Quick meal prep, Health food, Froce recipes\n",
      "--------------------------------------------------\n"
     ]
    },
    {
     "name": "stderr",
     "output_type": "stream",
     "text": [
      "A decoder-only architecture is being used, but right-padding was detected! For correct generation results, please set `padding_side='left'` when initializing the tokenizer.\n"
     ]
    },
    {
     "name": "stdout",
     "output_type": "stream",
     "text": [
      "inputs2:\n",
      "\n",
      "1. Frozen Cauliflower, Healthy Eating, Meal Preparation, Fitness, Weight Control, Quick Meals, Frozen Vegetables。\n",
      "\n",
      "outputs:\n",
      "\n",
      "1. Frozen Cauliflower, Healthy Eating, Meal Preparation, Fitness, Weight Control, Quick Meals, Frozen Vegetables\n",
      "2.\n",
      "\n",
      " Healthy Shrimp, Taiwan Shrump, Hot Pot Seafood, Shrink, Non-Toxic Shrimps, Fresh ShrImp, Sustainable Seafoood, Premium Shrimpery\n",
      "3. Froze Broccoli, Cruciferous Vegetable, Cancer-fighting, Low-Calorie Diet, Healthymelling, Quick MEAL Prep, Fitter Weight Management\n",
      "4. Healthy Harvest, Low Carb Diet, Fruit Crisps, Taiwanese Fruit, Juice, Health Punch, Low Cal\n",
      "--------------------------------------------------\n"
     ]
    },
    {
     "name": "stderr",
     "output_type": "stream",
     "text": [
      "A decoder-only architecture is being used, but right-padding was detected! For correct generation results, please set `padding_side='left'` when initializing the tokenizer.\n"
     ]
    },
    {
     "name": "stdout",
     "output_type": "stream",
     "text": [
      "inputs3:\n",
      "\n",
      "1. Healthy Eating, Frozen Vegetables, Meal Prep, Fitness Food, Health Recipes, Controlled Diet, Quick Meals。\n",
      "\n",
      "outputs:\n",
      "\n",
      "1. Healthy Eating, Frozen Vegetables, Meal Prep, Fitness Food, Health Recipes, Controlled Diet, Quick Meals\n",
      "2.\n",
      "\n",
      " Frozen Broccoli, Cruciferous Vegetable, Cancer-fighting, Low-Calorie Diet, Healthy Meal Ingredients, Quick Frozen Vegetables, Fresh Frozen Crucifers\n",
      "3. Frozen Corn Shoots, Healthypoly, Meality, Fitorient, Frozerot, Firmine, Froze Vegetarian\n",
      "4. Frozed spinach, Healthyme, Convenience, Frozenthre, Flavorful, Meals, Spinach\n",
      "5. Frozer Brocceli, Cruelty-free\n",
      "--------------------------------------------------\n"
     ]
    },
    {
     "name": "stderr",
     "output_type": "stream",
     "text": [
      "A decoder-only architecture is being used, but right-padding was detected! For correct generation results, please set `padding_side='left'` when initializing the tokenizer.\n"
     ]
    },
    {
     "name": "stdout",
     "output_type": "stream",
     "text": [
      "inputs4:\n",
      "\n",
      "1. Pork Balls, Taiwan Pork, Hot Pot Ingredients, Fresh Meat, Pork Leg, Meatballs, Pure Pork。\n",
      "\n",
      "outputs:\n",
      "\n",
      "1. Pork Balls, Taiwan Pork, Hot Pot Ingredients, Fresh Meat, Pork Leg, Meatballs, Pure Pork\n",
      "2.\n",
      ", Flower crab, Seafood delicacy, Crab meat, Fruit crabs, Sea shrimp, Starfruit crap, Flavorful jelly\n",
      "3. Marinated Clams, Spicy Flavors, Appetizers, Taiwanese Delicacy of Fresh Clams and Meat Slices, Fresher and Quicker Prepared, Authentic Taste, No Preservatives\n",
      "4. Seafoods, Scallop, Gourmet, Meal prep, Grilling, Jumbo, Frozen, Recipe\n",
      "5.\n",
      "--------------------------------------------------\n"
     ]
    },
    {
     "name": "stderr",
     "output_type": "stream",
     "text": [
      "A decoder-only architecture is being used, but right-padding was detected! For correct generation results, please set `padding_side='left'` when initializing the tokenizer.\n"
     ]
    },
    {
     "name": "stdout",
     "output_type": "stream",
     "text": [
      "inputs5:\n",
      "\n",
      "1. Gourmet Fish Dish, Taiwan Sea Bass, Post-surgery Diet, Meal Prep, Sea Bass Recipe, Nutritious Meal, Eye-catching Fish。\n",
      "\n",
      "outputs:\n",
      "\n",
      "1. Gourmet Fish Dish, Taiwan Sea Bass, Post-surgery Diet, Meal Prep, Sea Bass Recipe, Nutritious Meal, Eye-catching Fish\n",
      "2.\n",
      "\n",
      " USDA beef, Blue Ribbon steak, Tender shoulder steak; Grilled steak and grilled beef; Grass-fed beef and beef recipes; Prime ribeye and beefeater; Tender steak cut and beeftacular; Welfare beef or prime beef cut\n",
      "3. Gournmet Fish Roe, Taiwanese Fish Tender, Posts-salt Seafood, Seafoods Recipe Box, Fish Meat Selection, Gourmetric Fish Dishes\n",
      "4. USDA Beef, Angus Beef. Prime\n",
      "--------------------------------------------------\n"
     ]
    },
    {
     "name": "stderr",
     "output_type": "stream",
     "text": [
      "A decoder-only architecture is being used, but right-padding was detected! For correct generation results, please set `padding_side='left'` when initializing the tokenizer.\n"
     ]
    },
    {
     "name": "stdout",
     "output_type": "stream",
     "text": [
      "inputs6:\n",
      "\n",
      "1. High Protein Chicken, Fitness Recipe, Low Calorie Meal, Muscle Building, Ready-to-Eat, Salted Chicken Breast, Lean Muscle。\n",
      "\n",
      "outputs:\n",
      "\n",
      "1. High Protein Chicken, Fitness Recipe, Low Calorie Meal, Muscle Building, Ready-to-Eat, Salted Chicken Breast, Lean Muscle\n",
      "2.\n",
      "\n",
      " Lean Protein, Fitted Fat, Meal Prep, Reade, High Proteina, LowCalorie, Muscular Building\n",
      "3. i3fresh, Fresh Salmon, Chilean Salmon Companion, Online Shopping, Gourmet Seafood, Premium Quality, Frozen Salmon\n",
      "4. Salt-Free Mackerel, SeafoOD Delight, Grilled Fish, Japanese Style Grilled fish, Sashimi Grade, Low-Sodium, Healthy Eating\n",
      "5. SaltFree Mackeral, Sea Foods, Shilu\n",
      "--------------------------------------------------\n"
     ]
    },
    {
     "name": "stderr",
     "output_type": "stream",
     "text": [
      "A decoder-only architecture is being used, but right-padding was detected! For correct generation results, please set `padding_side='left'` when initializing the tokenizer.\n"
     ]
    },
    {
     "name": "stdout",
     "output_type": "stream",
     "text": [
      "inputs7:\n",
      "\n",
      "1. Breakfast delight, Savory pastry, Scallion pancake, Handcrafted goodness, Fluffy texture, Crispy outside, Scrumptious aroma。\n",
      "\n",
      "outputs:\n",
      "\n",
      "1. Breakfast delight, Savory pastry, Scallion pancake, Handcrafted goodness, Fluffy texture, Crispy outside, Scrumptious aroma\n",
      "2.\n",
      "\n",
      " Fried Chicken, Chicken Nuggets, Snack Food, Air Fryer Cooking, Home-style Cooking and Pork Balls, Convenience Food, Party Snacks\n",
      "3. Lu Rou, Minced Pork, Taiwanese Cuisine, Braised Pork Rice, Night Market Snack, Golden Lu Rou and Spicy Pork Belly, Taiwan's Cuisines\n",
      "4. Pork cutlet, Taiwanesse, Meal prep, Easy cooking, Gourmet pork, Pork recipe, Bento meal\n",
      "5. Chicken th\n",
      "--------------------------------------------------\n"
     ]
    },
    {
     "name": "stderr",
     "output_type": "stream",
     "text": [
      "A decoder-only architecture is being used, but right-padding was detected! For correct generation results, please set `padding_side='left'` when initializing the tokenizer.\n"
     ]
    },
    {
     "name": "stdout",
     "output_type": "stream",
     "text": [
      "inputs8:\n",
      "\n",
      "1. Whitefish Fillet, Gourmet Fish, Fish Recipes, Gourmet Cooking, Cod Fillet, Culinary Delight, Premium Seafood。\n",
      "\n",
      "outputs:\n",
      "\n",
      "1. Whitefish Fillet, Gourmet Fish, Fish Recipes, Gourmet Cooking, Cod Fillet, Culinary Delight, Premium Seafood\n",
      "2.\n",
      "\n",
      " Fresh Frozen Chilean Salmon, Omega-3 Rich Salmon in Premium Frozen Fish, Premiums's Salmon Selection, Sustainably Sourced Salmon from Premium Salmon Deals, Healthy Seafoods, Direct-to-Home Delivery, Goursmet Salmon Packs\n",
      "3. Fresh Seafoood, Gournmet Fishies, Delicious Fish Belly, Premmis's Fish Balls, Nutrient-rich Fish, i3Fresh Selection, Tainan Specialty\n",
      "4. Gourmetric Fish Dish,\n",
      "--------------------------------------------------\n"
     ]
    },
    {
     "name": "stderr",
     "output_type": "stream",
     "text": [
      "A decoder-only architecture is being used, but right-padding was detected! For correct generation results, please set `padding_side='left'` when initializing the tokenizer.\n"
     ]
    },
    {
     "name": "stdout",
     "output_type": "stream",
     "text": [
      "inputs9:\n",
      "\n",
      "1. Flower crab, Seafood delicacy, Crab meat, Fresh seafood, Seafood recipe, Quick frozen, Gourmet cuisine。\n",
      "\n",
      "outputs:\n",
      "\n",
      "1. Flower crab, Seafood delicacy, Crab meat, Fresh seafood, Seafood recipe, Quick frozen, Gourmet cuisine\n",
      "2.\n",
      "\n",
      " USDA beef, Blue Ribbon steak, Tender shoulder steak. USDA Angus Beef, Ribeye Steak, Grilling Recipes, Bone-In Beef. USda Beef Cuts, Bison Steak Reci, Grilled Beef Slices, Blue ribbon Beef Tender, Beef Cubes\n",
      "3. Spicy Crab Snack, Salted Egg Flavor, Sea Food Delight, Crunchy Biscuit Pack, Late Night Snack. Pepper Salt Flavr, Salt & Pepper, Seaforth\n",
      "--------------------------------------------------\n"
     ]
    },
    {
     "name": "stderr",
     "output_type": "stream",
     "text": [
      "A decoder-only architecture is being used, but right-padding was detected! For correct generation results, please set `padding_side='left'` when initializing the tokenizer.\n"
     ]
    },
    {
     "name": "stdout",
     "output_type": "stream",
     "text": [
      "inputs10:\n",
      "\n",
      "1. Fried Fish, Fish Nuggets, Snack, Deep-fried Delights, Crispy Fish, Fast Food, Air Fryer Cooking。\n",
      "\n",
      "outputs:\n",
      "\n",
      "1. Fried Fish, Fish Nuggets, Snack, Deep-fried Delights, Crispy Fish, Fast Food, Air Fryer Cooking\n",
      "2.\n",
      "sweet dessert, Chinese desserts, Silver ear fungus, Nutritious dessert soup, Healthy dessert ingredients, Silver-ear fungus soup\n",
      "3. Crispy Pastry, Cheese, Breakfast, Snacks, Chinese Dim Sum, Ready-to-Eat, Red Bean\n",
      "4. USDA beef, Blue Ribbon steak, Tender shoulder steak. USda beef is the USDA steak recipe, Gourmet meal prep, Juicy and tender steak cuts, A5 wagyu, Premium beef\n",
      "--------------------------------------------------\n"
     ]
    },
    {
     "name": "stderr",
     "output_type": "stream",
     "text": [
      "A decoder-only architecture is being used, but right-padding was detected! For correct generation results, please set `padding_side='left'` when initializing the tokenizer.\n"
     ]
    },
    {
     "name": "stdout",
     "output_type": "stream",
     "text": [
      "inputs11:\n",
      "\n",
      "1. Healthy Shrimp, Taiwan Shrimp, Hot Pot Seafood, Shrimp Recipe, Non-Toxic Shrimp, Freshwater Shrimp, Shrimp Dish。\n",
      "\n",
      "outputs:\n",
      "\n",
      "1. Healthy Shrimp, Taiwan Shrimp, Hot Pot Seafood, Shrimp Recipe, Non-Toxic Shrimp, Freshwater Shrimp, Shrimp Dish\n",
      "2.\n",
      ", Seafoam, Wild Cuttlefish, Seaweed, Frozen Cuttlene, Cooking Seafoods, Premium Quality, Sashimi Grade\n",
      "3. Chicken Leg Meat, Meal Prep, Bone-In Chicken, Chicken Thigh Chunks, Quality Chicken and Chicken Recipe\n",
      "4. Gourmet Chicken Rolls, Taiwanese Chicken Dish, Juicy Chicken Rolls, Oven-baked Delicacy, Night Market Delight, Golden Sunshine Chicken\n",
      "5. Ready-to-\n",
      "--------------------------------------------------\n"
     ]
    },
    {
     "name": "stderr",
     "output_type": "stream",
     "text": [
      "A decoder-only architecture is being used, but right-padding was detected! For correct generation results, please set `padding_side='left'` when initializing the tokenizer.\n"
     ]
    },
    {
     "name": "stdout",
     "output_type": "stream",
     "text": [
      "inputs12:\n",
      "\n",
      "1. Norwegian Sardine, Low-Salt Sardines, Seafood Delight, Japanese Grilled Fish, Gourmet Fish Dish, Omega-3 Source, Healthy Meal Prep。\n",
      "\n",
      "outputs:\n",
      "\n",
      "1. Norwegian Sardine, Low-Salt Sardines, Seafood Delight, Japanese Grilled Fish, Gourmet Fish Dish, Omega-3 Source, Healthy Meal Prep\n",
      "2.\n",
      "\n",
      " Taiwanese Street Food, Nourishing Soup, Four Treasures Soup (Pork Intestine, Varied Temperature, Night Market Delights, Pork Recipes, Traditional Chinese Soup)\n",
      "3. Sweet Potato, Roasted Sweetpotato, Organic Farming, Resistant Starch, Healthymizing, Weight Management\n",
      "4. Squid rings, Seacalamarket, Argentinian calamari, Goursmet seafood, Quick-frozen squid, Seaweed delicacy\n",
      "5. Frozen Veget\n",
      "--------------------------------------------------\n"
     ]
    },
    {
     "name": "stderr",
     "output_type": "stream",
     "text": [
      "A decoder-only architecture is being used, but right-padding was detected! For correct generation results, please set `padding_side='left'` when initializing the tokenizer.\n"
     ]
    },
    {
     "name": "stdout",
     "output_type": "stream",
     "text": [
      "inputs13:\n",
      "\n",
      "1. Frozen Green Beans, Healthy Eating, Meal Preparation, Quick Frozen Vegetables, Fitness, Healthy Cooking, Weight Management。\n",
      "\n",
      "outputs:\n",
      "\n",
      "1. Frozen Green Beans, Healthy Eating, Meal Preparation, Quick Frozen Vegetables, Fitness, Healthy Cooking, Weight Management\n",
      "2.\n",
      "\n",
      " Healthy Shrimp, Freshwater Shrimps, Taiwanese ShrImp, Non-toxic Shrrimps, Shrumpet Shrims, Hot Pot Seafood, Sustainable Shrimpery\n",
      "3. Healthy eating, Frozen vegetables, Meals prepared, Quick meal, Fruit and vegetetables\n",
      "4. Flash Frozen Vitamin C, Health Meal Prep, Quick Meal, Sweet Potato, Midnight Snack, Weights Management, Health Food\n",
      "5. Frozeria, QuickMeal, HealthY\n",
      "--------------------------------------------------\n"
     ]
    },
    {
     "name": "stderr",
     "output_type": "stream",
     "text": [
      "A decoder-only architecture is being used, but right-padding was detected! For correct generation results, please set `padding_side='left'` when initializing the tokenizer.\n"
     ]
    },
    {
     "name": "stdout",
     "output_type": "stream",
     "text": [
      "inputs14:\n",
      "\n",
      "1. Frozen Okra, Quick Meal Prep, Healthy Eating, Frozen Vegetables, Fitness, Meal Prep, Nutritious Veggies。\n",
      "\n",
      "outputs:\n",
      "\n",
      "1. Frozen Okra, Quick Meal Prep, Healthy Eating, Frozen Vegetables, Fitness, Meal Prep, Nutritious Veggies\n",
      "2.\n",
      "sweet dessert, Chinese dessert and silver ear fungus, Nuts, Health supplement, Traditional Chinese medicine, NUTritious dessert\n",
      "3. Frozent Okra Remains, Quick Frozen Corn Shoots, Health Boosting, Frozent Vegetable Chips, Fresh Frozen Convenience, Nurturing Soup Ingredients\n",
      "4. Healthy Shrimp, Taiwan Shrink, Hot Pot Seafood, Shrimper, Non-Toxic Shrimps, Flavorful ShrImp, Premium Shr Importers\n",
      "5\n",
      "--------------------------------------------------\n"
     ]
    },
    {
     "name": "stderr",
     "output_type": "stream",
     "text": [
      "A decoder-only architecture is being used, but right-padding was detected! For correct generation results, please set `padding_side='left'` when initializing the tokenizer.\n"
     ]
    },
    {
     "name": "stdout",
     "output_type": "stream",
     "text": [
      "inputs15:\n",
      "\n",
      "1. Handmade Squid Balls, Hotpot Ingredient, Gourmet Squid Balls, Squid Ball Delights, Fresh Squid Balls, Handcrafted Seafood Balls, Premium Squid Balls。\n",
      "\n",
      "outputs:\n",
      "\n",
      "1. Handmade Squid Balls, Hotpot Ingredient, Gourmet Squid Balls, Squid Ball Delights, Fresh Squid Balls, Handcrafted Seafood Balls, Premium Squid Balls\n",
      "2.\n",
      ", Healthy Eating, Meal Prep, Fitness Food, Low Carb, Balanced Nutrition, Quinoa Edamame, Red and White Sauce\n",
      "3. New Zealand Pumpkin, Roasted Chestnut Pumpkins, HealthY Eating Option, Meality Pump, Fitter Fuel, Quick Cooking Pumpkins, Frozen Vegetables\n",
      "4. Taiwanese Taro Stew Rice Noodle Soup, Authentic Taiwanese Cuisine, Taro Root Delicacy, Festive New Year Dish, Wu Bing\n",
      "--------------------------------------------------\n"
     ]
    },
    {
     "name": "stderr",
     "output_type": "stream",
     "text": [
      "A decoder-only architecture is being used, but right-padding was detected! For correct generation results, please set `padding_side='left'` when initializing the tokenizer.\n"
     ]
    },
    {
     "name": "stdout",
     "output_type": "stream",
     "text": [
      "inputs16:\n",
      "\n",
      "1. Angus Beef, Prime Cut, Wagyu, Beef Steak, Beef Cubes, Juicy Beef, Sirloin。\n",
      "\n",
      "outputs:\n",
      "\n",
      "1. Angus Beef, Prime Cut, Wagyu, Beef Steak, Beef Cubes, Juicy Beef, Sirloin\n",
      "2.\n",
      ", Prime Grade Steak. 21oz Presidential Steak Package, Prime beef, Thick cut steak, Marble texture beef and Wet-aged steak. Prime Gradem Steak Slices, 16oz Mega-sized Steak Array, Marbled Beef. 100% fruit juice, Freshly squeezed juice. 3. USDA beef. Angustus beef (Bovine), Ribeye steak (Grilled steak), Grass-fed beef Tender shoulder steak cut,\n",
      "--------------------------------------------------\n"
     ]
    },
    {
     "name": "stderr",
     "output_type": "stream",
     "text": [
      "A decoder-only architecture is being used, but right-padding was detected! For correct generation results, please set `padding_side='left'` when initializing the tokenizer.\n"
     ]
    },
    {
     "name": "stdout",
     "output_type": "stream",
     "text": [
      "inputs17:\n",
      "\n",
      "1. Hot Pot, Instant Meal, Beef Stew, Meat Soup, Taiwan Cuisine, Premium Ingredients, Ready to Heat。\n",
      "\n",
      "outputs:\n",
      "\n",
      "1. Hot Pot, Instant Meal, Beef Stew, Meat Soup, Taiwan Cuisine, Premium Ingredients, Ready to Heat\n",
      "2.\n",
      "sweet Potato, Roasted Sweet Potatoes, Organic Farming, Resistant Starch, Healthy Eating, Weight Management, Meal Prep\n",
      "3. Sweet dessert, Chinese dessert. Squid rings, Squids, Calamari, Taiwanese Delicacy, Gourmet Seafood, Crispy SquID\n",
      "4. Healthy Shrimp, Taiwan Shrimps, Hot Pot Seafoods, ShrImp Recipes, Non-Toxic Shrimper, Freshwater Shr Imp, Sustainable Seafooding\n",
      "--------------------------------------------------\n"
     ]
    },
    {
     "name": "stderr",
     "output_type": "stream",
     "text": [
      "A decoder-only architecture is being used, but right-padding was detected! For correct generation results, please set `padding_side='left'` when initializing the tokenizer.\n"
     ]
    },
    {
     "name": "stdout",
     "output_type": "stream",
     "text": [
      "inputs18:\n",
      "\n",
      "1. Beef Recipes, Meal Prep, Hot Pot Beef Slices, Beef Loin, Beef Cooking, Grilling Meat, Quality Beef。\n",
      "\n",
      "outputs:\n",
      "\n",
      "1. Beef Recipes, Meal Prep, Hot Pot Beef Slices, Beef Loin, Beef Cooking, Grilling Meat, Quality Beef\n",
      "2.\n",
      ", Gourmet Powdered Liver, Sesame Oil Delight, Perfect Pairing with Drinks, Private Recipe, Taiwanese Delicacy, Must-Try for Drinking Sessions\n",
      "3. Poison-free shrimp, Safe-to-eat shrimps, Pesticide-freeshrimp.\n",
      "4. Hotpot beef slices, BBQ beef, Wagyu beef.\n",
      "5. A5 Wagyua, Japanese Wagyū, Hotpot Beef, Premium Beef Selection, Marbled Beef. Akaush\n",
      "--------------------------------------------------\n"
     ]
    },
    {
     "name": "stderr",
     "output_type": "stream",
     "text": [
      "A decoder-only architecture is being used, but right-padding was detected! For correct generation results, please set `padding_side='left'` when initializing the tokenizer.\n"
     ]
    },
    {
     "name": "stdout",
     "output_type": "stream",
     "text": [
      "inputs19:\n",
      "\n",
      "1. French Fries, Fast Food, Crispy Snack, Golden Crispy Fries, Air Fryer Cooking, Midnight Snack, American Fast Food。\n",
      "\n",
      "outputs:\n",
      "\n",
      "1. French Fries, Fast Food, Crispy Snack, Golden Crispy Fries, Air Fryer Cooking, Midnight Snack, American Fast Food\n",
      "2.\n",
      "sweet dessert, Chinese dessert & ingredients, Silver ear fungus, Nutritious desserts, Healthy dessert ingredient, Silver Ear fungus\n",
      "3. Cheese Pull-Apart Pancake, Breakfast Snack Ideas, Chinese Pastry, Scallion Cheese PancaKE, Savory Breakfast, Gourmet Delight, Warm Cheese Treat\n",
      "4. Barramundi Fish Fillet, Fresh Fish Recipe, Healthiness, GOURmet Fish Dish, Premium BarramUNDI, Boneless Fish Fillets\n",
      "--------------------------------------------------\n"
     ]
    },
    {
     "name": "stderr",
     "output_type": "stream",
     "text": [
      "A decoder-only architecture is being used, but right-padding was detected! For correct generation results, please set `padding_side='left'` when initializing the tokenizer.\n"
     ]
    },
    {
     "name": "stdout",
     "output_type": "stream",
     "text": [
      "inputs20:\n",
      "\n",
      "1. Sweet Potatoes, Healthy Snack, Low-Carb Diet, Fitness Recipe, Weight Management, Antioxidant Food, Detox Diet。\n",
      "\n",
      "outputs:\n",
      "\n",
      "1. Sweet Potatoes, Healthy Snack, Low-Carb Diet, Fitness Recipe, Weight Management, Antioxidant Food, Detox Diet\n",
      "2.\n",
      "sweet Potato, Roasted SweetPotato, Organic Farming, Resistant Starch, Healthyminded Food, WeIGHT Loss, Meal Prep\n",
      "3. Squid rings, Seafood delicacy, Argentinian calamari, Gourmet seafood, Quick-frozen squid, Sea food recipes, Calamari soup\n",
      "4. Taiwanese Mackerel, Low‑Salt MackerEL, Sea Food Delight, Overnight Dried Fish, Grilled Fish, Japanese Grilled fish, Izakaya Cuisine\n",
      "--------------------------------------------------\n"
     ]
    },
    {
     "name": "stderr",
     "output_type": "stream",
     "text": [
      "A decoder-only architecture is being used, but right-padding was detected! For correct generation results, please set `padding_side='left'` when initializing the tokenizer.\n"
     ]
    },
    {
     "name": "stdout",
     "output_type": "stream",
     "text": [
      "inputs21:\n",
      "\n",
      "1. Norwegian Mackerel, Low-Salt Mackerel, Seafood Delight, Japanese Grilled Fish, DHA-Rich, Meal Prep, Bento Main Course。\n",
      "\n",
      "outputs:\n",
      "\n",
      "1. Norwegian Mackerel, Low-Salt Mackerel, Seafood Delight, Japanese Grilled Fish, DHA-Rich, Meal Prep, Bento Main Course\n",
      "2.\n",
      ", MackerEL, Low‑Salt mackerel, seafood, Japanese grilled fish, Fish recipe, Dha-salted mackerels\n",
      "3. Fresh Frozen Seafoods, Salmon Fillet, Chilean Sea Bass, Cod Fillet , SeafoOD Selection, Premium Quality Seafo ods, King Crab Slices\n",
      "4. Flower crab, Seaflower, Crab meat, Fresh seafoods. Handmade squid balls, Hot pot ingredients, Squid balls. Seafoody Coral Grass, Hand\n",
      "--------------------------------------------------\n"
     ]
    },
    {
     "name": "stderr",
     "output_type": "stream",
     "text": [
      "A decoder-only architecture is being used, but right-padding was detected! For correct generation results, please set `padding_side='left'` when initializing the tokenizer.\n"
     ]
    },
    {
     "name": "stdout",
     "output_type": "stream",
     "text": [
      "inputs22:\n",
      "\n",
      "1. White Mullet, Gourmet Fish, Atlantic White Mullet, Fish Fillet Recipes, Meal Prep, Premium Fish Cuts, Cooking with Fish。\n",
      "\n",
      "outputs:\n",
      "\n",
      "1. White Mullet, Gourmet Fish, Atlantic White Mullet, Fish Fillet Recipes, Meal Prep, Premium Fish Cuts, Cooking with Fish\n",
      "2.\n",
      "\n",
      " Fresh Frozen Chilean Salmon, Omega-3 Rich Salmon in Premium Frozen Fish, Premum Salmon for Killer Appetizers, Healthy Seafood Option, Direct-to-Easy Meal Preparation, Gournmet Club Membership Offer\n",
      "3. Fresh Seafoods, GOURmet Fish Dish, Delicious Fish Belly, Premiate Seafo od, Nutrient-rich Fish, i3Fresh Selection, Tainan Specialty\n",
      "4. Japanese-style meat slices, Pork recipe, Taiwanese p\n",
      "--------------------------------------------------\n"
     ]
    },
    {
     "name": "stderr",
     "output_type": "stream",
     "text": [
      "A decoder-only architecture is being used, but right-padding was detected! For correct generation results, please set `padding_side='left'` when initializing the tokenizer.\n"
     ]
    },
    {
     "name": "stdout",
     "output_type": "stream",
     "text": [
      "inputs23:\n",
      "\n",
      "1. Frozen Broccoli Florets, Healthy Eating, Meal Prep, Fitness, Quick Meal Prep, Frozen Vegetables, Health-conscious Cooking。\n",
      "\n",
      "outputs:\n",
      "\n",
      "1. Frozen Broccoli Florets, Healthy Eating, Meal Prep, Fitness, Quick Meal Prep, Frozen Vegetables, Health-conscious Cooking\n",
      "2.\n",
      "\n",
      " Healthy Shrimp, Taiwan ShrImp, Hot Pot Seafood, Shrimp Recipe, Non-Toxic Shrimper, Fresh Shrimpl, Sustainable Seafoood\n",
      "3. Froze Broccli, Cruciferous Vegetable, Cancer-fighting, Low-Calorie Diet, Healthymelling, Quick MEAL Prep\n",
      "4. Healthy eating, Froze vegetables, Meals prep, Fittness, Healthier cooking, Quick frozen vegetables\n",
      "5. Frozer Broccodile, Fruit\n",
      "--------------------------------------------------\n"
     ]
    },
    {
     "name": "stderr",
     "output_type": "stream",
     "text": [
      "A decoder-only architecture is being used, but right-padding was detected! For correct generation results, please set `padding_side='left'` when initializing the tokenizer.\n"
     ]
    },
    {
     "name": "stdout",
     "output_type": "stream",
     "text": [
      "inputs24:\n",
      "\n",
      "1. Fresh Tiger Grouper Fillet, Gourmet Seafood, Frozen Fish Fillet, Easy Meal Prep, Grouper Recipe, High-quality Seafood, Seafood Delicacy。\n",
      "\n",
      "outputs:\n",
      "\n",
      "1. Fresh Tiger Grouper Fillet, Gourmet Seafood, Frozen Fish Fillet, Easy Meal Prep, Grouper Recipe, High-quality Seafood, Seafood Delicacy\n",
      "2.\n",
      "\n",
      " Barramundi Fish Fillets, Fresh Fish Recipee, Healthy Meal Option, GOURmet Fish Dish, Premium BarramUNDi, Boneless Fish Fillettes, Blue Ribbon Barramunda\n",
      "3. Gourmetric Fish Dishes, Taiwan Sea Bass, Post-surgery Diet, Meal Пrep, Sea Bass Recipe. Healthy Eating, Froze Vegetables, Broccoli, thefresh Frozen Vegetable\n",
      "4. Pork Recipes, Unique Flavors, Chinese Cuisine, Meals Prep.\n",
      "--------------------------------------------------\n"
     ]
    },
    {
     "name": "stderr",
     "output_type": "stream",
     "text": [
      "A decoder-only architecture is being used, but right-padding was detected! For correct generation results, please set `padding_side='left'` when initializing the tokenizer.\n"
     ]
    },
    {
     "name": "stdout",
     "output_type": "stream",
     "text": [
      "inputs25:\n",
      "\n",
      "1. Japanese A5 Wagyu, Wagyu burger patties, Gourmet beef burgers, Juicy Wagyu, A5 Wagyu beef, Premium hamburger steaks, Wagyu meat patties。\n",
      "\n",
      "outputs:\n",
      "\n",
      "1. Japanese A5 Wagyu, Wagyu burger patties, Gourmet beef burgers, Juicy Wagyu, A5 Wagyu beef, Premium hamburger steaks, Wagyu meat patties\n",
      "2.\n",
      "3. Chicken Thigh Fillet, Boneless Chicken THigh, Meal Prep, Marinated Chicken, Grilled Meat, Chicken Recipe, Lunchbox Main Dish, Party Food\n",
      "4. Beef slices, Hot pot meat, American Blue Ribbon beef sliced beef and beef cakes, Tender beef slice, Premiums beef selection, American beef cut, Sautéed beefthe main ingredients\n",
      "5. Pork Selection, Bento Box, Taiwanese Pork, Meals Prepared, Pork Reci\n",
      "--------------------------------------------------\n"
     ]
    },
    {
     "name": "stderr",
     "output_type": "stream",
     "text": [
      "A decoder-only architecture is being used, but right-padding was detected! For correct generation results, please set `padding_side='left'` when initializing the tokenizer.\n"
     ]
    },
    {
     "name": "stdout",
     "output_type": "stream",
     "text": [
      "inputs26:\n",
      "\n",
      "1. Sweet Potato, Healthy Snack, Artisanal Cultivation, Low Carb Diet, Fitness Recipe, Weight Management, Non-Toxic。\n",
      "\n",
      "outputs:\n",
      "\n",
      "1. Sweet Potato, Healthy Snack, Artisanal Cultivation, Low Carb Diet, Fitness Recipe, Weight Management, Non-Toxic\n",
      "2.\n",
      "\n",
      " Sweet White Shrimp, Fresh Seafood, Taiwan ShrImp, Shrimps, Shellfish, Shallop, HealthY, Quick-Frozen\n",
      "3. Handmade Squid Balls, Hotpot Ingredient, Gourmet Squiddy, SquID Ball Delights, Flower Squids, Handcrafted Seafoods, Premium Squidan Balls\n",
      "4. American beef, Beef chunks, Welfare beef. Beef cuts, Prime beef\n",
      "5. Taiwanese Mackerel, Low\n",
      "--------------------------------------------------\n"
     ]
    },
    {
     "name": "stderr",
     "output_type": "stream",
     "text": [
      "A decoder-only architecture is being used, but right-padding was detected! For correct generation results, please set `padding_side='left'` when initializing the tokenizer.\n"
     ]
    },
    {
     "name": "stdout",
     "output_type": "stream",
     "text": [
      "inputs27:\n",
      "\n",
      "1. Wild Seaweed, Penghu Seaweed, Seafood Recipe, Seaweed Salad, Wild Kelp, Fresh Seaweed, Seaweed Dish。\n",
      "\n",
      "outputs:\n",
      "\n",
      "1. Wild Seaweed, Penghu Seaweed, Seafood Recipe, Seaweed Salad, Wild Kelp, Fresh Seaweed, Seaweed Dish\n",
      "2.\n",
      "sweet Potato, Roasted Sweet Potatoes, Organic Farming, Resistant Starch, Healthy Eating, Weight Management, Meal Prep\n",
      "3. Sweet White Shrimp, Fruit Dessert, Office Snack, Group Purchase, Flavorful Soup, Juicy Fruit, Limited Time Offer\n",
      "4. Squid rings, Seacalamarket, Argentinian calamari, Gourmet seafood, Quick-frozen squid, Sea calamarketing, Blue-white shrimp\n",
      "5. Taiwanese\n",
      "--------------------------------------------------\n"
     ]
    },
    {
     "name": "stderr",
     "output_type": "stream",
     "text": [
      "A decoder-only architecture is being used, but right-padding was detected! For correct generation results, please set `padding_side='left'` when initializing the tokenizer.\n"
     ]
    },
    {
     "name": "stdout",
     "output_type": "stream",
     "text": [
      "inputs28:\n",
      "\n",
      "1. Penghu Seaweed, Wild Seaweed, Gourmet Seafood, Seaweed Salad, Five-Star Quality, Seafood Recipes, Healthy Superfood。\n",
      "\n",
      "outputs:\n",
      "\n",
      "1. Penghu Seaweed, Wild Seaweed, Gourmet Seafood, Seaweed Salad, Five-Star Quality, Seafood Recipes, Healthy Superfood\n",
      "2.\n",
      "\n",
      " Seafoam, Coral Grass, Nutritious, Penghus, Sea Cucumber, Gastronomic Delight, Health Boosting\n",
      "3. Seaweeds, Hotpot ingredients, Handmade squid balls, Purified seaweed selection, Coralian delicacy, Local delicacies, Seawood delights\n",
      "4. Whiting fish, Sea food delicies, Seafrantic fish, Whiting recipes, Whitting fish, Ingredients to whiting, Premium seafood\n",
      "5. Spicy Sunflower Se\n",
      "--------------------------------------------------\n"
     ]
    },
    {
     "name": "stderr",
     "output_type": "stream",
     "text": [
      "A decoder-only architecture is being used, but right-padding was detected! For correct generation results, please set `padding_side='left'` when initializing the tokenizer.\n"
     ]
    },
    {
     "name": "stdout",
     "output_type": "stream",
     "text": [
      "inputs29:\n",
      "\n",
      "1. Taiwan mackerel, Lightly salted mackerel, Seafood delicacy, Japanese grilled fish, One-night dried, DHA-rich fish, Natural fish oil。\n",
      "\n",
      "outputs:\n",
      "\n",
      "1. Taiwan mackerel, Lightly salted mackerel, Seafood delicacy, Japanese grilled fish, One-night dried, DHA-rich fish, Natural fish oil\n",
      "2.\n",
      "\n",
      " Fresh Frozen Chilean Salmon, Omega-3 Rich Salmon in Premium Frozen Fish, Sustainably Sourced Salmon\n",
      "3. Salmon Fillet, Dha Rich, Meal Prep, High Protein, Salmon Recipes, Fitness Nutrition, Lunch Box Main Course\n",
      "4. Healthy Eating, Meally Prepared, Freshly Frozen, Tender Juicy Steak, Smoked Chicken Slices, Spicy Chili Sauce, Tainan Pork\n",
      "5. Frozen Vegetables\n",
      "--------------------------------------------------\n"
     ]
    },
    {
     "name": "stderr",
     "output_type": "stream",
     "text": [
      "A decoder-only architecture is being used, but right-padding was detected! For correct generation results, please set `padding_side='left'` when initializing the tokenizer.\n"
     ]
    },
    {
     "name": "stdout",
     "output_type": "stream",
     "text": [
      "inputs30:\n",
      "\n",
      "1. Angus beef, Grilled beef, Ribeye beef slices, Marbled beef, Beef recipes, Grass-fed beef, Barbecue meat。\n",
      "\n",
      "outputs:\n",
      "\n",
      "1. Angus beef, Grilled beef, Ribeye beef slices, Marbled beef, Beef recipes, Grass-fed beef, Barbecue meat\n",
      "2.\n",
      "\n",
      " USDA beef. USDA Prime Boneless Beef Ribs, American Beef, Blue Ribbon Beef Slices, Tender Shoulder Beef and Grilled Beef. Angustus beefe, USDA Angustu, Ribeflower beef cut, Grilling recipes. USda beef angus, Blueribbon steak, Toughest steak ever, Grillers dream, Grasstest steer, Prime ribeye\n",
      "3. Iberico Pork, Spanish Pork Slices. US DA beef Angus, American beef Wagyu\n",
      "--------------------------------------------------\n"
     ]
    },
    {
     "name": "stderr",
     "output_type": "stream",
     "text": [
      "A decoder-only architecture is being used, but right-padding was detected! For correct generation results, please set `padding_side='left'` when initializing the tokenizer.\n"
     ]
    },
    {
     "name": "stdout",
     "output_type": "stream",
     "text": [
      "inputs31:\n",
      "\n",
      "1. Spicy Sunflower Seeds, Appetizer Snack, Refreshing Starter, Spicy Sichuan Flavor, Chili Pepper Infusion, Sichuan Peppercorn, Spicy Seafood Snack。\n",
      "\n",
      "outputs:\n",
      "\n",
      "1. Spicy Sunflower Seeds, Appetizer Snack, Refreshing Starter, Spicy Sichuan Flavor, Chili Pepper Infusion, Sichuan Peppercorn, Spicy Seafood Snack\n",
      "2.\n",
      "\n",
      " Marinated Clams, Spices, Taiwanese Delicacy, AppETizers, Fresh Clams and Seafoods, Gourmet Delights, Exotic Sauces\n",
      "3. Spice Snack Box, Goursmet Snack Selection, Crispy Shrimp, Local Delicacys, Antibiotic-Free, Gournmet Cooking, Group Purchase\n",
      "4. Spices Snack Gift Box, CrisPY ShrImp, Gift Set, Traditional Taiwanese Snacks, Spice Party, Gormandous Treats, Gontam Biscuit\n",
      "--------------------------------------------------\n"
     ]
    },
    {
     "name": "stderr",
     "output_type": "stream",
     "text": [
      "A decoder-only architecture is being used, but right-padding was detected! For correct generation results, please set `padding_side='left'` when initializing the tokenizer.\n"
     ]
    },
    {
     "name": "stdout",
     "output_type": "stream",
     "text": [
      "inputs32:\n",
      "\n",
      "1. Seafood, Coral Grass, Nutritious, Penghu, Sea Cucumber, Gourmet, Healthy Eating。\n",
      "\n",
      "outputs:\n",
      "\n",
      "1. Seafood, Coral Grass, Nutritious, Penghu, Sea Cucumber, Gourmet, Healthy Eating\n",
      "2.\n",
      "sweet Potato, Roasted Sweet Potatoes, Organic Farming, Low-carb Diet, Japan Sweet Pont, Weight Management, Detoxing\n",
      "3. Sweet White Shrimp, Fresh Seafoods, Taiwan ShrImp, Shrimps, Shi Drum Fish, Shellfish, Healthful Snack\n",
      "4. Handmade Squid Balls, Hotpot Ingredients, Goursmet Squiddy, SquID Ball Delights, Flavorful Squids, Premium Squidan, Handcrafted Seafooda\n",
      "\n",
      "--------------------------------------------------\n"
     ]
    },
    {
     "name": "stderr",
     "output_type": "stream",
     "text": [
      "A decoder-only architecture is being used, but right-padding was detected! For correct generation results, please set `padding_side='left'` when initializing the tokenizer.\n"
     ]
    },
    {
     "name": "stdout",
     "output_type": "stream",
     "text": [
      "inputs33:\n",
      "\n",
      "1. Lean Muscle, High Protein, Fitness Recipe, Low Calorie, Quick Meal, Ready to Eat, Garlic Flavor。\n",
      "\n",
      "outputs:\n",
      "\n",
      "1. Lean Muscle, High Protein, Fitness Recipe, Low Calorie, Quick Meal, Ready to Eat, Garlic Flavor\n",
      "2.\n",
      "\n",
      " High Proteins, Fitted Wheels, Low Carb, Muscle Building, Sichuan Flavors, Readied Potatoes, Lean Chicken Breast\n",
      "3. Leans Muscle; High Proteine, Fittess, LowCalorie, Musculart, Readiing, QuickMeal, Healthy Eating\n",
      "4. High Proteination, Fittoys, Low-Carb, Healthypanization, Fresh Frozen Seafood, Meal Prep, Fiti-food\n",
      "5. High protein chicken breast, Fitoids, Low calorie\n",
      "--------------------------------------------------\n"
     ]
    },
    {
     "name": "stderr",
     "output_type": "stream",
     "text": [
      "A decoder-only architecture is being used, but right-padding was detected! For correct generation results, please set `padding_side='left'` when initializing the tokenizer.\n"
     ]
    },
    {
     "name": "stdout",
     "output_type": "stream",
     "text": [
      "inputs34:\n",
      "\n",
      "1. Gourmet Fish Roe, Ready-to-Eat, Delicate Texture, Vacuum Packed, Fresh Flavor, Crispy Sautéed, Delicious Mayonnaise。\n",
      "\n",
      "outputs:\n",
      "\n",
      "1. Gourmet Fish Roe, Ready-to-Eat, Delicate Texture, Vacuum Packed, Fresh Flavor, Crispy Sautéed, Delicious Mayonnaise\n",
      "2.\n",
      "\n",
      " Poison-free shrimp, Safe-toeat shrimps, Pesticide-freeshrimp. Poison - free shrimimp, Safer-to - eate shrimpp, Pestico-free Shrimp, White Shrimps, Non-inflated Shrink, REA-certified Shrims\n",
      "3. Japanese-style meat slices, Pork recipe, Taiwanese pork, Marinated pork. Squid rings, Seafood delicacy, Argentinian calamari, Gourmetric seafo\n",
      "--------------------------------------------------\n"
     ]
    },
    {
     "name": "stderr",
     "output_type": "stream",
     "text": [
      "A decoder-only architecture is being used, but right-padding was detected! For correct generation results, please set `padding_side='left'` when initializing the tokenizer.\n"
     ]
    },
    {
     "name": "stdout",
     "output_type": "stream",
     "text": [
      "inputs35:\n",
      "\n",
      "1. Lean Protein, Curry Flavor, Fitness Recipe, High Protein, Meal Prep, Low Calorie, Muscle Building。\n",
      "\n",
      "outputs:\n",
      "\n",
      "1. Lean Protein, Curry Flavor, Fitness Recipe, High Protein, Meal Prep, Low Calorie, Muscle Building\n",
      "2.\n",
      "\n",
      " High Proteins, Fitted Food, Low Carb, Muscles, Sichuan Flavors, Ready-to-Eat, Weight Loss\n",
      "3. Sweet Potato, Roasted SweetPotato, Organic Farming, Resistant Starch, Healthy Eating, WeIGHT Loss, Meals Prep\n",
      "4. Squid rings, Seafood delicacy, Argentinian calamari, Gourmet seafood, Quick-frozen squid, Seafeast delicaty, Fresh squid\n",
      "5. Taiwanese\n",
      "--------------------------------------------------\n"
     ]
    },
    {
     "name": "stderr",
     "output_type": "stream",
     "text": [
      "A decoder-only architecture is being used, but right-padding was detected! For correct generation results, please set `padding_side='left'` when initializing the tokenizer.\n"
     ]
    },
    {
     "name": "stdout",
     "output_type": "stream",
     "text": [
      "inputs36:\n",
      "\n",
      "1. Salmon Belly, Salmon Recipes, Meal Prep, High Protein, DHA Rich, Bento Main Course, Fitness Nutrition。\n",
      "\n",
      "outputs:\n",
      "\n",
      "1. Salmon Belly, Salmon Recipes, Meal Prep, High Protein, DHA Rich, Bento Main Course, Fitness Nutrition\n",
      "2.\n",
      "\n",
      " Fresh Frozen Chilean Salmon, Omega-3 Rich Salmon in Premium Frozen Fish, Sustainably Sourced Salmon for Premium Fish Dish, Healthy Seafood Option, Direct-to-Home Delivery, Gourmet Frozen Salmon\n",
      "3. Whitefish Fillet, Gournmety, Fish Recibes, Goursmet Fish, Cod Fillet\n",
      "4. Salmoor's Cod, Norwegian Sardine, Seafoood Delight, Grilled Fish, Japanese Grilled fish, GOURPORK\n",
      "5.\n",
      "--------------------------------------------------\n"
     ]
    },
    {
     "name": "stderr",
     "output_type": "stream",
     "text": [
      "A decoder-only architecture is being used, but right-padding was detected! For correct generation results, please set `padding_side='left'` when initializing the tokenizer.\n"
     ]
    },
    {
     "name": "stdout",
     "output_type": "stream",
     "text": [
      "inputs37:\n",
      "\n",
      "1. Prime Grade Steak, Thick Cut Steak, Marble Texture Beef, Wet-aged Steak, Australian Beef, American Beef, BBQ Steak。\n",
      "\n",
      "outputs:\n",
      "\n",
      "1. Prime Grade Steak, Thick Cut Steak, Marble Texture Beef, Wet-aged Steak, Australian Beef, American Beef, BBQ Steak\n",
      "2.\n",
      "\n",
      " Prime Gradem Steak Slices, 16oz Mega-sized Steak Bundle, Marbled Beef Mega Pack, WET-aged Beef Selection, Buy One Get One Free Offer, Snack Food Deals, Quality Beef Cuts\n",
      "3. Prime Ribeye, AmericanBeef, AustralianBeef\n",
      "4. Prime American Beefe, Angus Beef\n",
      "5. Prime beef, Ribeyee, Grilling, Beef recipes, Prime cut, Beefeater\n",
      "6. ThickCut Steaks, Prime GraDE, RibEYE\n",
      "--------------------------------------------------\n"
     ]
    },
    {
     "name": "stderr",
     "output_type": "stream",
     "text": [
      "A decoder-only architecture is being used, but right-padding was detected! For correct generation results, please set `padding_side='left'` when initializing the tokenizer.\n"
     ]
    },
    {
     "name": "stdout",
     "output_type": "stream",
     "text": [
      "inputs38:\n",
      "\n",
      "1. Fresh Seafood, Gourmet Fish, Delicious Fish Belly, Premium Seafood, Nutrient-rich Fish, i3Fresh Selection, Tainan Specialty。\n",
      "\n",
      "outputs:\n",
      "\n",
      "1. Fresh Seafood, Gourmet Fish, Delicious Fish Belly, Premium Seafood, Nutrient-rich Fish, i3Fresh Selection, Tainan Specialty\n",
      "2.\n",
      "sweet dessert, Chinese dessert & fruit chow, Silver ear fungus, Nuts, Healthy dessert and fruit juice, Silver Ear fungus\n",
      "3. Thin Dumpling Wrappers, Non-GMO Soybeans, High Protein, Low Carb, Fitness, Meal Prep, Handmade\n",
      "4. Gourmetric Chicken Rolls, Taiwanese Chicken Dish, Juicy Chicken Recipe, Oven-baked Delicacy, Night Market Delight, Delectable Meat Rolls\n",
      "5. Taiwanese Street Food, Nour\n",
      "--------------------------------------------------\n"
     ]
    },
    {
     "name": "stderr",
     "output_type": "stream",
     "text": [
      "A decoder-only architecture is being used, but right-padding was detected! For correct generation results, please set `padding_side='left'` when initializing the tokenizer.\n"
     ]
    },
    {
     "name": "stdout",
     "output_type": "stream",
     "text": [
      "inputs39:\n",
      "\n",
      "1. Non-toxic vegetables, Salad box, Fresh salad, Certified by SGS, Low-carb, Weight management, Health-conscious。\n",
      "\n",
      "outputs:\n",
      "\n",
      "1. Non-toxic vegetables, Salad box, Fresh salad, Certified by SGS, Low-carb, Weight management, Health-conscious\n",
      "2.\n",
      "\n",
      " Frozen Vegetables Selection, Quick Frozen Veetables, Healthy Meal Prep, Convenient Frozen Broccoli, Freshened Frozen Spinach, Nutrient-Rich Veggies, Time-Saving Frozen Produce\n",
      "3. Strawberry Crispy Fruit, Freeze-Dried Strawberries, Popular Snack, Office Snack Group, Group Buy, Fruit Snack Delights, Crispy Snack\n",
      "4. Marinated Clams, Spicy Clams and Fresh Clams in Taiwanese Delicacy\n",
      "--------------------------------------------------\n"
     ]
    },
    {
     "name": "stderr",
     "output_type": "stream",
     "text": [
      "A decoder-only architecture is being used, but right-padding was detected! For correct generation results, please set `padding_side='left'` when initializing the tokenizer.\n"
     ]
    },
    {
     "name": "stdout",
     "output_type": "stream",
     "text": [
      "inputs40:\n",
      "\n",
      "1. Jumbo White Shrimp, Non-Toxic Shrimp, Healthy Seafood, Taiwan Shrimp, Shrimp Recipes, Hot Pot Seafood, Pure Water Farming。\n",
      "\n",
      "outputs:\n",
      "\n",
      "1. Jumbo White Shrimp, Non-Toxic Shrimp, Healthy Seafood, Taiwan Shrimp, Shrimp Recipes, Hot Pot Seafood, Pure Water Farming\n",
      "2.\n",
      "\n",
      " Fresh Frozen Chilean Salmon, Omega-3 Rich Salmon in Premium Frozen Fish, Sustainably Sourced Salmon\n",
      "3. Salmon fillet, Fish dishes, Healthiness, Protein-rich, Meal prep, Muscle building\n",
      "4. Frozen Vegetables, Meals Prep, Quick Meal, Fresh Vegetable Smoothie, Broccoli, Green Beans\n",
      "5. Strawberry Crispy Fruit, Freeze-Dried Strawberries, Popular Snack, Office Snack Group Buy, Group Bu\n",
      "--------------------------------------------------\n"
     ]
    },
    {
     "name": "stderr",
     "output_type": "stream",
     "text": [
      "A decoder-only architecture is being used, but right-padding was detected! For correct generation results, please set `padding_side='left'` when initializing the tokenizer.\n"
     ]
    },
    {
     "name": "stdout",
     "output_type": "stream",
     "text": [
      "inputs41:\n",
      "\n",
      "1. Handmade Squid and Shrimp Fritters, Seafood Snack, Air Fryer Delights, No Preservatives, Authentic Recipe, Crispy Coating, Artisanal Snack。\n",
      "\n",
      "outputs:\n",
      "\n",
      "1. Handmade Squid and Shrimp Fritters, Seafood Snack, Air Fryer Delights, No Preservatives, Authentic Recipe, Crispy Coating, Artisanal Snack\n",
      "2.\n",
      "\n",
      " Fried Fish, Fish Nuggets, Snack and Deep-fried Delights. Handcrafted Fish Balls, Hot Pot Ingredients, CrisPY Fish Bites, Authentical Recipe. Hand-Crafted Seafoods, Hotpot Ingredient, Spicy Pepper Salt, Authenic Recipe\n",
      "3. Fried Chicken, Chicken Nugget, Snacks, Air fryer Cooking, Home-style Cooking. Handicraft Squids, Hot pot Ingredientes, Squishy Squ id, Fresh Squash, Handcraft,\n",
      "--------------------------------------------------\n"
     ]
    },
    {
     "name": "stderr",
     "output_type": "stream",
     "text": [
      "A decoder-only architecture is being used, but right-padding was detected! For correct generation results, please set `padding_side='left'` when initializing the tokenizer.\n"
     ]
    },
    {
     "name": "stdout",
     "output_type": "stream",
     "text": [
      "inputs42:\n",
      "\n",
      "1. Shaddock Fish Balls, Handmade Fish Balls, Hot Pot Ingredient, Traditional Taiwanese Cuisine, Fresh Fish Balls, Non-toxic Snacks, Preservative-Free。\n",
      "\n",
      "outputs:\n",
      "\n",
      "1. Shaddock Fish Balls, Handmade Fish Balls, Hot Pot Ingredient, Traditional Taiwanese Cuisine, Fresh Fish Balls, Non-toxic Snacks, Preservative-Free\n",
      "2.\n",
      "\n",
      " Fresh Frozen Chilean Salmon, Omega-3 Rich Salmon in Premium Frozen Fish, Sustainably Sourced Salmon and Salmon Recipes, Healthy Seafood Option, Direct-to-Home Delivery, Gourmet Frozen Salmon\n",
      "3. Fresh Seafoods, Gournese Fish, Delicious Fish Belly, Premium Seafo ods, Nutrient-rich Fish, i3Fresh Selection, Tainan Specialty\n",
      "4. Flower crab, Seafoad delicacy, Crab meat, F\n",
      "--------------------------------------------------\n"
     ]
    },
    {
     "name": "stderr",
     "output_type": "stream",
     "text": [
      "A decoder-only architecture is being used, but right-padding was detected! For correct generation results, please set `padding_side='left'` when initializing the tokenizer.\n"
     ]
    },
    {
     "name": "stdout",
     "output_type": "stream",
     "text": [
      "inputs43:\n",
      "\n",
      "1. Shrimp Snack, Gourmet Snack, Crispy Seafood, Antibiotic-Free, Unique Gift, Local Delicacy, Gourmet Biscuits。\n",
      "\n",
      "outputs:\n",
      "\n",
      "1. Shrimp Snack, Gourmet Snack, Crispy Seafood, Antibiotic-Free, Unique Gift, Local Delicacy, Gourmet Biscuits\n",
      "2.\n",
      "\n",
      " Gourmandise, Calamari, Dragon Ball, Argentine, Gournard, Premium, Artisanal\n",
      "3. Gourmade, Sweet Potato, Dragons, Fruit Dessert, Crisppy Sweet, Office Snack and Chinese New Year Cake, Night Snack\n",
      "4. Goursmet Squid Snacks, Healthy Snack Options, Artisan SquID Chips, Preservative-Free Treats, Unicorn Squids, Natural Squidge Selection, Squ id Treats\n",
      "5. Gournicka, Premiums\n",
      "--------------------------------------------------\n"
     ]
    },
    {
     "name": "stderr",
     "output_type": "stream",
     "text": [
      "A decoder-only architecture is being used, but right-padding was detected! For correct generation results, please set `padding_side='left'` when initializing the tokenizer.\n"
     ]
    },
    {
     "name": "stdout",
     "output_type": "stream",
     "text": [
      "inputs44:\n",
      "\n",
      "1. Ribeye steak, Grilled steak, Angus beef, Prime ribeye, Beef recipes, Marbling texture, Ribeye cut。\n",
      "\n",
      "outputs:\n",
      "\n",
      "1. Ribeye steak, Grilled steak, Angus beef, Prime ribeye, Beef recipes, Marbling texture, Ribeye cut\n",
      "2.\n",
      "\n",
      " Prime Grade Steak, Thick Cut Steak. Prime Gradem Steak . Prime Ribey. American Beef. Australian Beef . BBQ Essentials. Chicken Thigh Recipe. Premium Beef Cuts. Kim's Tender Beef Slices. Prime Rib. Beef slices, Hot pot meat, American Blue Ribbon beef sliced beef. Prime American Beefe, Angustero Beef, Tender Shoulder Beef and Premium beef Cut, Griddy Barbecue Beefs, Marble Texture Beef</s\n",
      "--------------------------------------------------\n"
     ]
    },
    {
     "name": "stderr",
     "output_type": "stream",
     "text": [
      "A decoder-only architecture is being used, but right-padding was detected! For correct generation results, please set `padding_side='left'` when initializing the tokenizer.\n"
     ]
    },
    {
     "name": "stdout",
     "output_type": "stream",
     "text": [
      "inputs45:\n",
      "\n",
      "1. Frozen spinach, Healthy eating, Convenience, Frozen vegetables, Fitness, Meal preparation, Spinach。\n",
      "\n",
      "outputs:\n",
      "\n",
      "1. Frozen spinach, Healthy eating, Convenience, Frozen vegetables, Fitness, Meal preparation, Spinach\n",
      "2.\n",
      "\n",
      " Frozen Cauliflower, Healthyme, Meals Prep, FITness, Weight Control, Quick Meals, Frozer Vegetables\n",
      "3. New Zealand Pumpkin, Roasted Chestnut Pumpkins, Healthier Eating, Meality Prepare, Fitter Food, Quick Recipes, Frosted Vegetarians\n",
      "4. Frozonour Pork Skin, Taro Pearls, Sweet Potato Pearls. Taiwanese Delicacy, Wu Bingcheng, Tender Juicy Pork, Authentic Taiwanese Cuisine, Night\n",
      "--------------------------------------------------\n"
     ]
    },
    {
     "name": "stderr",
     "output_type": "stream",
     "text": [
      "A decoder-only architecture is being used, but right-padding was detected! For correct generation results, please set `padding_side='left'` when initializing the tokenizer.\n"
     ]
    },
    {
     "name": "stdout",
     "output_type": "stream",
     "text": [
      "inputs46:\n",
      "\n",
      "1. Fresh Frozen Chilean Salmon, Omega-3 Rich Salmon, Premium Frozen Fish, Sustainably Sourced Salmon, Healthy Seafood Option, Direct-to-Home Delivery, Gourmet Frozen Salmon。\n",
      "\n",
      "outputs:\n",
      "\n",
      "1. Fresh Frozen Chilean Salmon, Omega-3 Rich Salmon, Premium Frozen Fish, Sustainably Sourced Salmon, Healthy Seafood Option, Direct-to-Home Delivery, Gourmet Frozen Salmon\n",
      "2.\n",
      "\n",
      " Fresh Sheephead Fish, Taiwanese Specialty, Homemade Fish Balls, Hot Pot Ingredients, Quality Seafoods, Goursmet Fish Recipes, Handcrafted Fish Bakes\n",
      "3. Gourmand Fish Dish, Taiwan Sea Bass, Post-surgery Diet, Meal Prep, Sea Bass Recipe, Nutritious Meal, Eye-catching Fish\n",
      "4. Flower crab, Seafoad delicacy, Crab meat, Fresh seafood, Sea crab and, Queness, Gournmetty\n",
      "--------------------------------------------------\n"
     ]
    },
    {
     "name": "stderr",
     "output_type": "stream",
     "text": [
      "A decoder-only architecture is being used, but right-padding was detected! For correct generation results, please set `padding_side='left'` when initializing the tokenizer.\n"
     ]
    },
    {
     "name": "stdout",
     "output_type": "stream",
     "text": [
      "inputs47:\n",
      "\n",
      "1. Squid Snack, Calamari Chips, Taiwanese Delicacy, Gourmet Seafood, Crispy Delights, Savory Treats, Fresh Squid。\n",
      "\n",
      "outputs:\n",
      "\n",
      "1. Squid Snack, Calamari Chips, Taiwanese Delicacy, Gourmet Seafood, Crispy Delights, Savory Treats, Fresh Squid\n",
      "2.\n",
      "\n",
      " Karala Roll, Snack Treat, Biscuit, Afternoon Tea, Midnight Snack. Karala Rice, Snacks, Premium Snacks\n",
      "3. Kara Roll Snack Food, Mustard Flavor, CrisPY Snack and GourMet Snack with Fillet Beef, Afraid to Dentice, Tender Juicy Rolls, Gournah's Kara Rollet\n",
      "4. Gourmade squid snacks, Mustardsquid, Dragon balls, Argentine squid, Biscuits, Goursquid delights, Premiums\n",
      "--------------------------------------------------\n"
     ]
    },
    {
     "name": "stderr",
     "output_type": "stream",
     "text": [
      "A decoder-only architecture is being used, but right-padding was detected! For correct generation results, please set `padding_side='left'` when initializing the tokenizer.\n"
     ]
    },
    {
     "name": "stdout",
     "output_type": "stream",
     "text": [
      "inputs48:\n",
      "\n",
      "1. Taiwan Caviar, Gourmet Gift, Exquisite Delicacy, Lunar New Year Gift, Gourmet Treats, Premium Seafood, Taiwanese Delicacy。\n",
      "\n",
      "outputs:\n",
      "\n",
      "1. Taiwan Caviar, Gourmet Gift, Exquisite Delicacy, Lunar New Year Gift, Gourmet Treats, Premium Seafood, Taiwanese Delicacy\n",
      "2.\n",
      "sweet dessert, Chinese dessert & ingredients, Silver ear fungus, Nutritious desserts, Healthy dessert ingredient, Silver Ear Moon Cake, Goursmet dessert\n",
      "3. Thin 0.01cm Dumpling Skin, Non-GMO Soybeans, Low Carb, i3fresh, Fresh Online Shopping, Thin Dumpling Wrappers, Cheese Dumplings\n",
      "4. Taiwanese Caviar LunAR, GOURMET SEASONING, EXQUISITE Delicacys, L\n",
      "--------------------------------------------------\n"
     ]
    },
    {
     "name": "stderr",
     "output_type": "stream",
     "text": [
      "A decoder-only architecture is being used, but right-padding was detected! For correct generation results, please set `padding_side='left'` when initializing the tokenizer.\n"
     ]
    },
    {
     "name": "stdout",
     "output_type": "stream",
     "text": [
      "inputs49:\n",
      "\n",
      "1. Spicy Snack, Gourmet Shrimp Chips, Crispy Seafood, Local Gourmet, Antibiotic-Free, Gourmet Gift Box, Crunchy Squid。\n",
      "\n",
      "outputs:\n",
      "\n",
      "1. Spicy Snack, Gourmet Shrimp Chips, Crispy Seafood, Local Gourmet, Antibiotic-Free, Gourmet Gift Box, Crunchy Squid\n",
      "2.\n",
      "\n",
      " Gourmandise, Calamari, Dragon Ball, Argentine, Goursmet, Biscuits, Midnight Snack\n",
      "3. Spcy Crab Snack & Pepper Salt Flavor, Crisky Seafoad, Late-Night Snack Ideal for Snacking, Travel Gourmande, Antibusque Snack Selection, Refreshing Seafoods\n",
      "4. Karala Roll, Snack Snack Salt, Biscuit, Afternoon Tea, Mid-Evening Snack Platter, Salt and Pepper Flavour\n",
      "5. Snack\n",
      "--------------------------------------------------\n"
     ]
    },
    {
     "name": "stderr",
     "output_type": "stream",
     "text": [
      "A decoder-only architecture is being used, but right-padding was detected! For correct generation results, please set `padding_side='left'` when initializing the tokenizer.\n"
     ]
    },
    {
     "name": "stdout",
     "output_type": "stream",
     "text": [
      "inputs50:\n",
      "\n",
      "1. New Zealand Lamb Ribs, Gourmet Lamb Dish, Meal Prep, Succulent Lamb Cut, Premium Lamb Selection, Tender Lamb Shoulder, Lamb Recipe Ideas。\n",
      "\n",
      "outputs:\n",
      "\n",
      "1. New Zealand Lamb Ribs, Gourmet Lamb Dish, Meal Prep, Succulent Lamb Cut, Premium Lamb Selection, Tender Lamb Shoulder, Lamb Recipe Ideas\n",
      "2.\n",
      "\n",
      " Taiwanese Street Food, Chicken Rice Wrap, Taiwanese Cuisine, Night Market Snack, Golden Chicken Stew, Taiwan Street Food\n",
      "3. Fried Squid Snack and Party Food, Party Snack Ideas, Air Fryer Recipe, Late-Night Snack Food, Taiwanse Fried Food, Crispy Squids\n",
      "4. Thai cuisine, Handmade moon shrimp cake, Ready-to-eat, Golden handmade moon cake and black pepper moon shri, Shrimp cake\n",
      "5. Gourm\n",
      "--------------------------------------------------\n"
     ]
    },
    {
     "name": "stderr",
     "output_type": "stream",
     "text": [
      "A decoder-only architecture is being used, but right-padding was detected! For correct generation results, please set `padding_side='left'` when initializing the tokenizer.\n"
     ]
    },
    {
     "name": "stdout",
     "output_type": "stream",
     "text": [
      "inputs51:\n",
      "\n",
      "1. High Protein, Fitness Recipe, Low Calorie, Muscle Building, Sichuan Flavor, Ready-to-Eat, Lean Chicken Breast。\n",
      "\n",
      "outputs:\n",
      "\n",
      "1. High Protein, Fitness Recipe, Low Calorie, Muscle Building, Sichuan Flavor, Ready-to-Eat, Lean Chicken Breast\n",
      "2.\n",
      "\n",
      " Lean Protein Chicken, Flavored Chicken Boil, Muscular Chicken Thigh, Leann Protein Boil and Broth, Taiwanese Chicken Soup, Chicken Leg Recipe\n",
      "3. Lean Muscle, High Proteen, Fitality, LowCal, Quick Meal, Healthy Eating\n",
      "4. High protein chicken breast, Fitoptics, Low calorie eating, LeAN muscle building, Quick and easy meal, High protein eating\n",
      "5. Low-carb diet, Meal prep, Fittetables, Le\n",
      "--------------------------------------------------\n"
     ]
    },
    {
     "name": "stderr",
     "output_type": "stream",
     "text": [
      "A decoder-only architecture is being used, but right-padding was detected! For correct generation results, please set `padding_side='left'` when initializing the tokenizer.\n"
     ]
    },
    {
     "name": "stdout",
     "output_type": "stream",
     "text": [
      "inputs52:\n",
      "\n",
      "1. Spicy Crab Snack, Salted Egg Flavor, Seafood Delight, Crunchy Biscuit, Late Night Snack, Savory Treat, Unique Snack。\n",
      "\n",
      "outputs:\n",
      "\n",
      "1. Spicy Crab Snack, Salted Egg Flavor, Seafood Delight, Crunchy Biscuit, Late Night Snack, Savory Treat, Unique Snack\n",
      "2.\n",
      "\n",
      " Gourmet snacks, Mustard flavor, Dragon balls, Argentine squid, Biscuits, Gourmand delights, Afternoon tea\n",
      "3. Spcy Crab Fruit, Goursmet Gift, Crispy Seafoods, Appetizer, Group Purchase, Premium Snack and Gourmetric Treats, Authentic Recipe\n",
      "4. Crab Balls, Salt Crispy Crab, Gournmet Crab Delights, Evening Snack Platter, Pepper Salt and Seafo odor, Japanese Style Crab Biscu, Karala Goy\n",
      "--------------------------------------------------\n"
     ]
    },
    {
     "name": "stderr",
     "output_type": "stream",
     "text": [
      "A decoder-only architecture is being used, but right-padding was detected! For correct generation results, please set `padding_side='left'` when initializing the tokenizer.\n"
     ]
    },
    {
     "name": "stdout",
     "output_type": "stream",
     "text": [
      "inputs53:\n",
      "\n",
      "1. Crab Snack, Salted Crispy Crab, Gourmet Biscuits, Evening Snack, Pepper Salt Flavor, Seafood Delicacy, Crispy Sea Crab。\n",
      "\n",
      "outputs:\n",
      "\n",
      "1. Crab Snack, Salted Crispy Crab, Gourmet Biscuits, Evening Snack, Pepper Salt Flavor, Seafood Delicacy, Crispy Sea Crab\n",
      "2.\n",
      "\n",
      " Shrimp Snacker, G Bourmet Snack , Crispy Shrimps, Antibiotic-Free, Unique Gift, Local Delicac, Goursmet Snacks\n",
      "3. Gourmand Snack Food, Mustard Seed Delight, Dragon Ball-inspired Snack\n",
      "4. Kara Roll Snack Gourp, MustARD Flavour, CrisPY Shroud, Gourdish Snack and Afternoon Tea Delight\n",
      "5. Gourd Snack Rat, Premium Pork Chop, Artisanal Tusker,\n",
      "--------------------------------------------------\n"
     ]
    },
    {
     "name": "stderr",
     "output_type": "stream",
     "text": [
      "A decoder-only architecture is being used, but right-padding was detected! For correct generation results, please set `padding_side='left'` when initializing the tokenizer.\n"
     ]
    },
    {
     "name": "stdout",
     "output_type": "stream",
     "text": [
      "inputs54:\n",
      "\n",
      "1. USDA Prime Boneless Beef Ribs, American Beef, Blue Ribbon Beef, Tender Shoulder Beef, Dry-Aged Beef, BBQ Meat, Grass-Fed Beef。\n",
      "\n",
      "outputs:\n",
      "\n",
      "1. USDA Prime Boneless Beef Ribs, American Beef, Blue Ribbon Beef, Tender Shoulder Beef, Dry-Aged Beef, BBQ Meat, Grass-Fed Beef\n",
      "2.\n",
      ", Japanese-style meat slices, Pork recipe, Taiwanese pork, Marinated pork in the traditional Japanese manner, Convenient meal preparation, Japanese cuisine pork\n",
      "3. Fried Chicken, Salty Crispy Chicken. Snack Food, Taiwan Style, Braised Pork Cartilage, Sweet Potato, Night Market Snack, Snack Box\n",
      "4. 21oz Presidential Steak, Prime Grade Beef. Thick Cut Steak. Marble Texture Beef . Wet-aged Steak . Heat and E\n",
      "--------------------------------------------------\n"
     ]
    },
    {
     "name": "stderr",
     "output_type": "stream",
     "text": [
      "A decoder-only architecture is being used, but right-padding was detected! For correct generation results, please set `padding_side='left'` when initializing the tokenizer.\n"
     ]
    },
    {
     "name": "stdout",
     "output_type": "stream",
     "text": [
      "inputs55:\n",
      "\n",
      "1. Japanese Sweet Potato, Resistant Starch, Light Snack, Fasting, Low Carb Diet, Dietary Control, Weight Loss Recipe。\n",
      "\n",
      "outputs:\n",
      "\n",
      "1. Japanese Sweet Potato, Resistant Starch, Light Snack, Fasting, Low Carb Diet, Dietary Control, Weight Loss Recipe\n",
      "2.\n",
      "sweet dessert, Chinese desserts, Silver ear fungus, Nutritious dessert (fruit and vegetable juice), Healthy dessert ingredients, Silver Ear fungus soup, White fungus stew\n",
      "3. Fried Chicken, Salty Crispy Chicken (Ready-to-Eat), Air Fryer Cooking, Late-Night Snack or Snack Food, Taiwanese Fried Food, Boneless Fried Chick, Chicken Nuggets\n",
      "4. Fried Mushrooms, Snack Midnight, Party Food, Crispy Snack and Air F\n",
      "--------------------------------------------------\n"
     ]
    },
    {
     "name": "stderr",
     "output_type": "stream",
     "text": [
      "A decoder-only architecture is being used, but right-padding was detected! For correct generation results, please set `padding_side='left'` when initializing the tokenizer.\n"
     ]
    },
    {
     "name": "stdout",
     "output_type": "stream",
     "text": [
      "inputs56:\n",
      "\n",
      "1. Boneless Milkfish Fillet, High Protein Fish, Milkfish Recipe Ingredients, Milkfish Soup, Fish Fillet, Precious Fish Cut, Fresh Tainan Milkfish。\n",
      "\n",
      "outputs:\n",
      "\n",
      "1. Boneless Milkfish Fillet, High Protein Fish, Milkfish Recipe Ingredients, Milkfish Soup, Fish Fillet, Precious Fish Cut, Fresh Tainan Milkfish\n",
      "2.\n",
      "\n",
      " Fresh Frozen Chilean Salmon, Omega-3 Rich Salmon in Premium Frozen Fish, Premium Muscle Building Salmon and Squid, Sustainably Sourced Salmon for Nutritious Snack, Healthy Seafood Option, Direct-to-Home Delivery\n",
      "3. Fresh Sheephead Fish, Taiwanese Specialty, Homemade Fish Balls, Hot Pot Ingredient, Quality Seafoods, Gourmet Fish Recipes, Handcrafted Fish Breads\n",
      "4. Gourmand Fish Dish, Taiwan\n",
      "--------------------------------------------------\n"
     ]
    },
    {
     "name": "stderr",
     "output_type": "stream",
     "text": [
      "A decoder-only architecture is being used, but right-padding was detected! For correct generation results, please set `padding_side='left'` when initializing the tokenizer.\n"
     ]
    },
    {
     "name": "stdout",
     "output_type": "stream",
     "text": [
      "inputs57:\n",
      "\n",
      "1. Shi Drum Fish Skin, Collagen-Rich Fish Skin, Premium Delicacy, Versatile Cooking Ingredient, Nutritious Snack, Shi Drum Fish Recipes, Healthy Eating Option。\n",
      "\n",
      "outputs:\n",
      "\n",
      "1. Shi Drum Fish Skin, Collagen-Rich Fish Skin, Premium Delicacy, Versatile Cooking Ingredient, Nutritious Snack, Shi Drum Fish Recipes, Healthy Eating Option\n",
      "2.\n",
      "\n",
      " Salmon Belly, Salmon Recibes, Meal Prep, High Protein, DHA Rich, Bento Main Course, Fitness Nutrition\n",
      "3. Fresh Frozen Chilean Salmon, Omega-3 Rich Salmon in Premium Frozen Fish, Sustainably Sourced Salmon for Premium Nutrient Content, Healthier Seafood Option, Direct-to-Home Delivery, Gourmet Frozen Salmon\n",
      "4. Whitefish Fillet, Gournmet, Fish ReCIpes, Gouremet, Cod Fil\n",
      "--------------------------------------------------\n"
     ]
    },
    {
     "name": "stderr",
     "output_type": "stream",
     "text": [
      "A decoder-only architecture is being used, but right-padding was detected! For correct generation results, please set `padding_side='left'` when initializing the tokenizer.\n"
     ]
    },
    {
     "name": "stdout",
     "output_type": "stream",
     "text": [
      "inputs58:\n",
      "\n",
      "1. Beef slices, Hot pot meat, American Blue Ribbon beef, Tender beef slices, Premium shoulder beef, American beef, Sautéed beef。\n",
      "\n",
      "outputs:\n",
      "\n",
      "1. Beef slices, Hot pot meat, American Blue Ribbon beef, Tender beef slices, Premium shoulder beef, American beef, Sautéed beef\n",
      "2.\n",
      ", Prime Grade Beef, Hot Pot Sliced Beef Slices, Marbled Beef Sirloin, Snowflake Beef Selection, Grilled Beef Wings, Pork Ribeye Slices\n",
      "3. American BeefSliced Ham, Ribeyee Steak, Grilling Recipes, Blue Ribbons, Tenders, Grass-Fed Beefe, Sorbetto's Signature\n",
      "4. Hotpot beef cut, BBQ beef slice, Wagyu beef pick, Marble beef selection, Grill beef recipe,\n",
      "--------------------------------------------------\n"
     ]
    },
    {
     "name": "stderr",
     "output_type": "stream",
     "text": [
      "A decoder-only architecture is being used, but right-padding was detected! For correct generation results, please set `padding_side='left'` when initializing the tokenizer.\n"
     ]
    },
    {
     "name": "stdout",
     "output_type": "stream",
     "text": [
      "inputs59:\n",
      "\n",
      "1. Prime American Beef, Angus Beef, Ribeye Steak, Beef Tenderloin, Cube Beef, Beef Cutlet, Beef Soup。\n",
      "\n",
      "outputs:\n",
      "\n",
      "1. Prime American Beef, Angus Beef, Ribeye Steak, Beef Tenderloin, Cube Beef, Beef Cutlet, Beef Soup\n",
      "2.\n",
      "\n",
      " Grass-fed beef, New Zealand beef. Angus beef or Angus gourmet beef\n",
      "3. Akaushi Beef. Prime Akaushe Beef\n",
      "4. Prime Ribeyes, American Beefe, Australian Beef or Beef Chunks, Short Rib, Thick Cut, Sirloin\n",
      "5. 21oz Presidential Steak. Prime Grade Beef Recipes, Thai Style, Cucumber, Freshly Harvested Cucumbers, Natural Thai Spicy, ThAI Cuisine\n",
      "6\n",
      "--------------------------------------------------\n"
     ]
    },
    {
     "name": "stderr",
     "output_type": "stream",
     "text": [
      "A decoder-only architecture is being used, but right-padding was detected! For correct generation results, please set `padding_side='left'` when initializing the tokenizer.\n"
     ]
    },
    {
     "name": "stdout",
     "output_type": "stream",
     "text": [
      "inputs60:\n",
      "\n",
      "1. Mozzarella Cheese Stick, Snack Food, Cheese Snack, Crispy Cheese Stick, Appetizer, Air Fryer Recipe, Late-Night Snack。\n",
      "\n",
      "outputs:\n",
      "\n",
      "1. Mozzarella Cheese Stick, Snack Food, Cheese Snack, Crispy Cheese Stick, Appetizer, Air Fryer Recipe, Late-Night Snack\n",
      "2.\n",
      ", Seafood, Wild Cuttlefish, Sea Food Recipe Book, Frozen Cuttlebass, Cooking Seafoods, Taiwanese Cuttlene, Sashimi Grade\n",
      "3. White Mullet, Gourmet Fish, Atlantic White Mullett, Fish Fillet Recipes, Meal Prep, Premium Fish Cuts, CookING WITH FISH, GOURmet Delicacy\n",
      "4. Fried Chicken, Salty Crispy Chicken. Gour Met, Seaweed, Air-Fryer Cooking, Late Night Snack. Fried Fish,\n",
      "--------------------------------------------------\n"
     ]
    },
    {
     "name": "stderr",
     "output_type": "stream",
     "text": [
      "A decoder-only architecture is being used, but right-padding was detected! For correct generation results, please set `padding_side='left'` when initializing the tokenizer.\n"
     ]
    },
    {
     "name": "stdout",
     "output_type": "stream",
     "text": [
      "inputs61:\n",
      "\n",
      "1. Vegetable Crisps, Snack Mix, Crispy Veggie Chips, Office Snacks, Healthy Snacking, Root Vegetables, Gourmet Chips。\n",
      "\n",
      "outputs:\n",
      "\n",
      "1. Vegetable Crisps, Snack Mix, Crispy Veggie Chips, Office Snacks, Healthy Snacking, Root Vegetables, Gourmet Chips\n",
      "2.\n",
      "\n",
      " Spicy Snack, Gyoza, CrisPY Shrimp, Appetizer, Refreshing Starter, Hot Pot\n",
      "3. Golden Crispy Sweet Potato Fries, Air Fryer Snack; Homemade Snacks; Crispy Biscuits, Fiber-Rich, Handmade Snacks and Snack Variety Pack, Intimate Dining Experience, Natural Ingredients\n",
      "4. Ready-to-eat, Grilled Chicken Wings, Marinated Chicken, Finger-Licking Good, Variety pack, Easy Preparation\n",
      "--------------------------------------------------\n"
     ]
    },
    {
     "name": "stderr",
     "output_type": "stream",
     "text": [
      "A decoder-only architecture is being used, but right-padding was detected! For correct generation results, please set `padding_side='left'` when initializing the tokenizer.\n"
     ]
    },
    {
     "name": "stdout",
     "output_type": "stream",
     "text": [
      "inputs62:\n",
      "\n",
      "1. Fruit Crisps, Office Snacks, Apple Crisps, Pineapple Crisps, Banana Crisps, Strawberry Crisps, Starfruit Crisps。\n",
      "\n",
      "outputs:\n",
      "\n",
      "1. Fruit Crisps, Office Snacks, Apple Crisps, Pineapple Crisps, Banana Crisps, Strawberry Crisps, Starfruit Crisps\n",
      "2.\n",
      "\n",
      " Taiwanese Caviar, Lunar New Year Snack, Gourmet Snack Selection, Traditional Twist, Ready-to-Eat, Festive Treats, Premium Delicacy\n",
      "3. Spicy Sunflower Seeds, Appetizer Snack. Refreshing Strawbaby, Spicy Sichuan Flavor, Chili Pepper Infusion, Sichui Peppercorn, Spice Pepper Flavors, Sea Pepper Snack\n",
      "4. Marinated Clams, Spices, Flavored Clams. Taiwanese Delic\n",
      "--------------------------------------------------\n"
     ]
    },
    {
     "name": "stderr",
     "output_type": "stream",
     "text": [
      "A decoder-only architecture is being used, but right-padding was detected! For correct generation results, please set `padding_side='left'` when initializing the tokenizer.\n"
     ]
    },
    {
     "name": "stdout",
     "output_type": "stream",
     "text": [
      "inputs63:\n",
      "\n",
      "1. Gourmet Powdered Liver, Sesame Oil Delight, Perfect Pairing with Drinks, Private Recipe, Taiwanese Delicacy, Must-Try for Drinking Sessions, Flavorful Small Plates。\n",
      "\n",
      "outputs:\n",
      "\n",
      "1. Gourmet Powdered Liver, Sesame Oil Delight, Perfect Pairing with Drinks, Private Recipe, Taiwanese Delicacy, Must-Try for Drinking Sessions, Flavorful Small Plates\n",
      "2.\n",
      "\n",
      " Taiwanese Street Food, Nourishing Soup, Four Treasures Soup ( Pork Intestine, Beef Recipes, Meal Prep, Traditional Chinese Soup), Pork Cartilage Noodles, Authentic Taiwanese Cuisine, Gourmetric Soup\n",
      "3. A5 Wagyu, Wagyū Burgers, Japanese Beef, Gournmetal Slices, Premium Meat, Juicy Patties, Hand-Cut Steaks\n",
      "4. Ready-to-eat, Grilled Chicken Wings, Marinated Ch\n",
      "--------------------------------------------------\n"
     ]
    },
    {
     "name": "stderr",
     "output_type": "stream",
     "text": [
      "A decoder-only architecture is being used, but right-padding was detected! For correct generation results, please set `padding_side='left'` when initializing the tokenizer.\n"
     ]
    },
    {
     "name": "stdout",
     "output_type": "stream",
     "text": [
      "inputs64:\n",
      "\n",
      "1. Whiting fish, Seafood delicacy, Seafood recipes, Whiting fish congee, Whiting fish omelette, Southern Kiss Fish, Dried small fish。\n",
      "\n",
      "outputs:\n",
      "\n",
      "1. Whiting fish, Seafood delicacy, Seafood recipes, Whiting fish congee, Whiting fish omelette, Southern Kiss Fish, Dried small fish\n",
      "2.\n",
      "\n",
      " Fresh Frozen Gold Eye Snapper Fillet, Taiwan Snapper, Snapper fillet, Fish Meat Recipes, Fish Soup, Health-boosting Food, Post-surgery Diet\n",
      "3. Gourmet Fish Dish, Taiwan Sea Bass, Postsurgical Diet, Meal Prep, Sea Bass Recipe, Frozen Fish Dishes, Therapeutic Diet\n",
      "4. Salt-Free Mackerel, Sea食s, Grilled Fish, Japanese Style Grilled fish, Sashimi Grade, Low-Sodium, Healthy Eating\n",
      "\n",
      "--------------------------------------------------\n"
     ]
    },
    {
     "name": "stderr",
     "output_type": "stream",
     "text": [
      "A decoder-only architecture is being used, but right-padding was detected! For correct generation results, please set `padding_side='left'` when initializing the tokenizer.\n"
     ]
    },
    {
     "name": "stdout",
     "output_type": "stream",
     "text": [
      "inputs65:\n",
      "\n",
      "1. Smoked Boneless Phoenix Claws, Appetizer, Snack, Sichuan Flavor, Ready-to-Eat, Chill and Serve, Q Texture (chewy texture)。\n",
      "\n",
      "outputs:\n",
      "\n",
      "1. Smoked Boneless Phoenix Claws, Appetizer, Snack, Sichuan Flavor, Ready-to-Eat, Chill and Serve, Q Texture (chewy texture)\n",
      "2.\n",
      "\n",
      " Taiwanese cuisine, Appets, Marinated pig ears, Snacks, Small dishes, Pork delicacy, Crispy texture\n",
      "3. Edamame, High Protein, Healthy Eating, Black Pepper Edamames, Fitness, Meal Prep, Nutritious Snack\n",
      "4. Spicy Sunflower Seeds, Appetalizer Snack; Refreshing Starter, Spicy Sichu Flavors, Chili Pepper Infusion, Gourmet Snack Selection, Appeticetizer Chili Sauce, Group P\n",
      "--------------------------------------------------\n"
     ]
    },
    {
     "name": "stderr",
     "output_type": "stream",
     "text": [
      "A decoder-only architecture is being used, but right-padding was detected! For correct generation results, please set `padding_side='left'` when initializing the tokenizer.\n"
     ]
    },
    {
     "name": "stdout",
     "output_type": "stream",
     "text": [
      "inputs66:\n",
      "\n",
      "1. Karala Roll, Snack, Biscuit, Afternoon Tea, Midnight Snack, Salt and Pepper Flavor, Salt and Pepper。\n",
      "\n",
      "outputs:\n",
      "\n",
      "1. Karala Roll, Snack, Biscuit, Afternoon Tea, Midnight Snack, Salt and Pepper Flavor, Salt and Pepper\n",
      "2.\n",
      "\n",
      " Gourmet snack box, Crispy shrimp, Snacker, Additive-free snacks, Vacuum fried, Antibiotic-free, Group purchase, Late-night snack\n",
      "3. Karara Roll, Salt-Free Mackerel, Seafood Delight, Japanese Style, Gourmetric Snack and, Healthy Dietary Choice, Salt & Shrimp, Spicy Pepperfruit\n",
      "4. Gourmand Snack Box, CrisPY Squid, Snacks, Heat and Eat, Appetizers, Finger-L\n",
      "--------------------------------------------------\n"
     ]
    },
    {
     "name": "stderr",
     "output_type": "stream",
     "text": [
      "A decoder-only architecture is being used, but right-padding was detected! For correct generation results, please set `padding_side='left'` when initializing the tokenizer.\n"
     ]
    },
    {
     "name": "stdout",
     "output_type": "stream",
     "text": [
      "inputs67:\n",
      "\n",
      "1. Kara Roll Snack, Mustard Flavor, Crispy Snack, Gourmet Snack, Afternoon Tea Delight, Midnight Snacking, Biscuit Treat。\n",
      "\n",
      "outputs:\n",
      "\n",
      "1. Kara Roll Snack, Mustard Flavor, Crispy Snack, Gourmet Snack, Afternoon Tea Delight, Midnight Snacking, Biscuit Treat\n",
      "2.\n",
      "\n",
      " Shrimp Snack Snack Gour meti, CrisPY Seafood, Antibiotic-Free, Unique Gift, Local Delicacy, Goursmet Snacks, Crispi Squid\n",
      "3. Gourmand Snack Food, Calamari Flavoured, Dragon Ball-inspired, Argentine Squ id, GOURPOR, Exotic Snack\n",
      "4. Keto Snack Chicken, Taiwanese Caviar, Lunar New Year Snack Box, Healthy Eating, Fitness Recipe, Meal Prep, Fro\n",
      "--------------------------------------------------\n"
     ]
    },
    {
     "name": "stderr",
     "output_type": "stream",
     "text": [
      "A decoder-only architecture is being used, but right-padding was detected! For correct generation results, please set `padding_side='left'` when initializing the tokenizer.\n"
     ]
    },
    {
     "name": "stdout",
     "output_type": "stream",
     "text": [
      "inputs68:\n",
      "\n",
      "1. Gourmet Snack, Calamari Flavoured, Dragon Ball-inspired, Argentine Squid, Lightly Baked, Midnight Snack, Tea Time。\n",
      "\n",
      "outputs:\n",
      "\n",
      "1. Gourmet Snack, Calamari Flavoured, Dragon Ball-inspired, Argentine Squid, Lightly Baked, Midnight Snack, Tea Time\n",
      "2.\n",
      "\n",
      " Gourmandise, Calamaro, Spanish Pork, Premium Pork and Gourmetric Delights, Kingkabort, Gourpmilk, Seafood Delicacy\n",
      "3. Goursmet Fish Roe, Ready-to-Eat, Delicate Texture, Vacuum Packed, Fresh Flavor, Crispy Sautéed, Delicious Mayonnaise\n",
      "4. Poison-free shrimp, Safe-toeat shrimps, Pesticide-freeshrimp.\n",
      "5. Fried Squirrel,\n",
      "--------------------------------------------------\n"
     ]
    },
    {
     "name": "stderr",
     "output_type": "stream",
     "text": [
      "A decoder-only architecture is being used, but right-padding was detected! For correct generation results, please set `padding_side='left'` when initializing the tokenizer.\n"
     ]
    },
    {
     "name": "stdout",
     "output_type": "stream",
     "text": [
      "inputs69:\n",
      "\n",
      "1. Gourmet snacks, Mustard flavor, Dragon balls, Argentine squid, Biscuits, Gourmand delights, Afternoon tea。\n",
      "\n",
      "outputs:\n",
      "\n",
      "1. Gourmet snacks, Mustard flavor, Dragon balls, Argentine squid, Biscuits, Gourmand delights, Afternoon tea\n",
      "2.\n",
      "\n",
      " Fried Chicken, Chicken Nuggets, Snack Food, Air Fryer Cooking, Home-style Cooking\n",
      "3. Chicken Thigh Recipe, Boneless Chicken THigh, Meal Prep, Lunchbox Main Course, Party Food, Juicy ChickenThigh\n",
      "4. Fried Chickens, Salty Crispy Chicken and Air FRYER Cooking Delights, Air-Fried Delights and Late-Night Snack, SnACK Gift Box Staple, Bonless Chicken Snacks, Chickpea Floss\n",
      "5.\n",
      "--------------------------------------------------\n"
     ]
    },
    {
     "name": "stderr",
     "output_type": "stream",
     "text": [
      "A decoder-only architecture is being used, but right-padding was detected! For correct generation results, please set `padding_side='left'` when initializing the tokenizer.\n"
     ]
    },
    {
     "name": "stdout",
     "output_type": "stream",
     "text": [
      "inputs70:\n",
      "\n",
      "1. Spicy Chicken Feet (Boneless), Sichuan Flavor, Smoked, Appetizer, Easy-to-open, Ready-to-eat, Cold Dish。\n",
      "\n",
      "outputs:\n",
      "\n",
      "1. Spicy Chicken Feet (Boneless), Sichuan Flavor, Smoked, Appetizer, Easy-to-open, Ready-to-eat, Cold Dish\n",
      "2.\n",
      "\n",
      " Taiwanese cuisine, Appets, Marinated pig ears, Snack food, Small dishes, Pork delicacy, Crispy texture\n",
      "3. Appetizers, Small bites, Chicken gizzards, Chow mein, Chuck box, Convenient snack, Pan-fried delights\n",
      "4. Pork trotter, Taiwanese culinary, Braised pork trott, Secret recipe, Gourmet delight, Local delicac, Appeting dish\n",
      "5. Spare Ribs, Penghu Fish Balls, Seafood\n",
      "--------------------------------------------------\n"
     ]
    },
    {
     "name": "stderr",
     "output_type": "stream",
     "text": [
      "A decoder-only architecture is being used, but right-padding was detected! For correct generation results, please set `padding_side='left'` when initializing the tokenizer.\n"
     ]
    },
    {
     "name": "stdout",
     "output_type": "stream",
     "text": [
      "inputs71:\n",
      "\n",
      "1. Strawberry Crispy Fruit, Freeze-Dried Strawberry, Popular Snack, Office Snack, Group Buy Snack, Fruit Snack, Crispy Snack。\n",
      "\n",
      "outputs:\n",
      "\n",
      "1. Strawberry Crispy Fruit, Freeze-Dried Strawberry, Popular Snack, Office Snack, Group Buy Snack, Fruit Snack, Crispy Snack\n",
      "2.\n",
      "sweet dessert, Chinese dessert and silver ear fungus, Nutritious dessert soup, Healthy dessert ingredients, Silver ear fungal soup, Low-calorie soup\n",
      "3. Instant Chicken Soups, Medicinal Herbal Soups and Spicy Soup Selection, Gourmet Chicken Broths, NUTritious Soup Bundle, Heat-and-Eat Packs, Premium Soup Choices, Traditional Bone Broth\n",
      "4. Instanthai, Nourishing Chicken Rice, Herbal Recipe, Healing Waters\n",
      "--------------------------------------------------\n"
     ]
    },
    {
     "name": "stderr",
     "output_type": "stream",
     "text": [
      "A decoder-only architecture is being used, but right-padding was detected! For correct generation results, please set `padding_side='left'` when initializing the tokenizer.\n"
     ]
    },
    {
     "name": "stdout",
     "output_type": "stream",
     "text": [
      "inputs72:\n",
      "\n",
      "1. Marinated Pork Knuckles, Taiwanese Delicacy, Ready-to-Eat, Citrus Garlic Flavor, Authentic Taiwanese Cuisine, Gourmet Pork Dish, Heat and Serve。\n",
      "\n",
      "outputs:\n",
      "\n",
      "1. Marinated Pork Knuckles, Taiwanese Delicacy, Ready-to-Eat, Citrus Garlic Flavor, Authentic Taiwanese Cuisine, Gourmet Pork Dish, Heat and Serve\n",
      "2.\n",
      "\n",
      " Taiwanese cuisine, Appetizers, Marinested pig ears, Snack food, Small dishes, Pork delicacy\n",
      "3. Spicy Chili Dumplings, Handmade Fresh Pork Dumplins, Quick and Easy to Prepare, Goursmet Pumpkin Dumplies, Exquisite Gyoza Selection, Premium Ingredients, Thin and Juicy Dumpling Skins\n",
      "4. Corn Filled Dumpllings, Gourd Dumpligs, Quick Heat-and-EAT, Taiwanes Dumplin, Corn Dumpl\n",
      "--------------------------------------------------\n"
     ]
    },
    {
     "name": "stderr",
     "output_type": "stream",
     "text": [
      "A decoder-only architecture is being used, but right-padding was detected! For correct generation results, please set `padding_side='left'` when initializing the tokenizer.\n"
     ]
    },
    {
     "name": "stdout",
     "output_type": "stream",
     "text": [
      "inputs73:\n",
      "\n",
      "1. Guava, Dried Fruit, Gourmet Snack, Taiwanese Produce, Office Snack, Healthy Snack, Preservatives-Free。\n",
      "\n",
      "outputs:\n",
      "\n",
      "1. Guava, Dried Fruit, Gourmet Snack, Taiwanese Produce, Office Snack, Healthy Snack, Preservatives-Free\n",
      "2.\n",
      "sweet dessert, Chinese dessert & fruit chow, Silver ear fungus, Nutritious dessert soup, Healthymess, Silver Ear fungus\n",
      "3. Instant Chicken Soups, Medicinal Herbal Soups and Spicy Soup Selection, Appetizers, Instant Meal, Health and Nutrition, Treatment, Premium Soup Mix\n",
      "4. Instanthandled Nutrients, Borscht Coconut, Quick Meal Prep, Health Boost, Frozen Vegetables, Meal Planning, Fresh Ingredients\n",
      "\n",
      "--------------------------------------------------\n"
     ]
    },
    {
     "name": "stderr",
     "output_type": "stream",
     "text": [
      "A decoder-only architecture is being used, but right-padding was detected! For correct generation results, please set `padding_side='left'` when initializing the tokenizer.\n"
     ]
    },
    {
     "name": "stdout",
     "output_type": "stream",
     "text": [
      "inputs74:\n",
      "\n",
      "1. Peach Dried Fruit, Taiwan Peach, Snacks, Fruit Snacks, Healthy Snacking, Gourmet Treats, Low-Temperature Baked。\n",
      "\n",
      "outputs:\n",
      "\n",
      "1. Peach Dried Fruit, Taiwan Peach, Snacks, Fruit Snacks, Healthy Snacking, Gourmet Treats, Low-Temperature Baked\n",
      "2.\n",
      ", Fresh Frozen Chilean Salmon, Omega-3 Rich Salmon in Premium Quality, Sustainably Sourced Salmon and Healthy Seafood Option, Premium Frozen Salmon for Sweet and Sour Crab Flavor, Health-boosting Solutio, Direct-to-Home Delivery\n",
      "3. Healthy Eating, Meal Prep, Fitness Food, Low Carb, Balanced Nutrition, Quinoa Edamame, Red and White Grapefruit\n",
      "4. Frozen Broccoli, Crucifer\n",
      "--------------------------------------------------\n"
     ]
    },
    {
     "name": "stderr",
     "output_type": "stream",
     "text": [
      "A decoder-only architecture is being used, but right-padding was detected! For correct generation results, please set `padding_side='left'` when initializing the tokenizer.\n"
     ]
    },
    {
     "name": "stdout",
     "output_type": "stream",
     "text": [
      "inputs75:\n",
      "\n",
      "1. Mulberry, Antioxidants, Taiwanese Fruit, Anthocyanins, Artisanal, Health Benefits, Yizhu Township。\n",
      "\n",
      "outputs:\n",
      "\n",
      "1. Mulberry, Antioxidants, Taiwanese Fruit, Anthocyanins, Artisanal, Health Benefits, Yizhu Township\n",
      "2.\n",
      "sweet dessert, Chinese dessert , Silver ear fungus, Nutritious dessert\n",
      "3. Healthy Eating, Meal Prep, Fitness Food, Low Carb, Balanced Nutrition, Quinoa Edamame\n",
      "4. HealthBoost, TraditionalFlavors, JapaneseDelicacy, ArtisanPreservation, GourmetSeafood, ImmuneSupport\n",
      "5. Thai cuisine, Handmade moon shrimp cake, Ready-to-eat, Golden handmade moon cake and scrumptious,\n",
      "--------------------------------------------------\n"
     ]
    },
    {
     "name": "stderr",
     "output_type": "stream",
     "text": [
      "A decoder-only architecture is being used, but right-padding was detected! For correct generation results, please set `padding_side='left'` when initializing the tokenizer.\n"
     ]
    },
    {
     "name": "stdout",
     "output_type": "stream",
     "text": [
      "inputs76:\n",
      "\n",
      "1. French Fries, Fast Food, American Snacks, Golden Crispy Fries, Air Fryer Meals, Midnight Snack, Fried Foods。\n",
      "\n",
      "outputs:\n",
      "\n",
      "1. French Fries, Fast Food, American Snacks, Golden Crispy Fries, Air Fryer Meals, Midnight Snack, Fried Foods\n",
      "2.\n",
      "sweet dessert, Chinese dessert & ingredients, Silver ear fungus, Nutritious desserts, Healthy dessert ingredient, Silver Ear fungus\n",
      "3. Instant Chicken Soups, Medicinal Herbal Soups and Gourmet Chicken Broths, NUTritious Soup Selection, Heat-and-Eat Packs, Soup Mix, Premium Soup Bundle, Traditional Bone Broth\n",
      "4. Taro Pearls, Sweet Potato Pearls (Chewy Tapioca), Taiwanese Dessert Soup, W\n",
      "--------------------------------------------------\n"
     ]
    },
    {
     "name": "stderr",
     "output_type": "stream",
     "text": [
      "A decoder-only architecture is being used, but right-padding was detected! For correct generation results, please set `padding_side='left'` when initializing the tokenizer.\n"
     ]
    },
    {
     "name": "stdout",
     "output_type": "stream",
     "text": [
      "inputs77:\n",
      "\n",
      "1. Grass-fed beef, New Zealand beef, Fillet steak, Top-grade beef, Cube steak, Premium quality, Natural grazing。\n",
      "\n",
      "outputs:\n",
      "\n",
      "1. Grass-fed beef, New Zealand beef, Fillet steak, Top-grade beef, Cube steak, Premium quality, Natural grazing\n",
      "2.\n",
      "\n",
      " Prime Ribeye, American Beef, Australian Beef. Abalone snack, Spicy Sunflower Seeds, Chili Pepper Flavor, Quick and Easy Meal, Premiere Ingredients\n",
      "3. Prime Ribebe, AustralianBeef, American Blue Ribbon Beef Slices, Short Rib, Thick Cut, Sirloin, Juicy\n",
      "4. Pork Ribs, Bento Box, Traditional Pork Chop, Taiwanese Cuisine, Flavored Pork Cutlet, Pork Recipe, Meal Prep\n",
      "5.\n",
      "--------------------------------------------------\n"
     ]
    },
    {
     "name": "stderr",
     "output_type": "stream",
     "text": [
      "A decoder-only architecture is being used, but right-padding was detected! For correct generation results, please set `padding_side='left'` when initializing the tokenizer.\n"
     ]
    },
    {
     "name": "stdout",
     "output_type": "stream",
     "text": [
      "inputs78:\n",
      "\n",
      "1. Norwegian Mackerel, Seafood Delight, Grilled Fish, Japanese Grilled Fish, DHA Enriched, Meal Prep, Bento Box Staple。\n",
      "\n",
      "outputs:\n",
      "\n",
      "1. Norwegian Mackerel, Seafood Delight, Grilled Fish, Japanese Grilled Fish, DHA Enriched, Meal Prep, Bento Box Staple\n",
      "2.\n",
      ", Norwegian Sardine, Low-Salt Sardines, Seafare Delight!, Japanese Grilled Fish, Gourmet Fish Dish, Omega-3 Source, Healthy Meal Preparation\n",
      "3. Fresh Frozen Chilean Salmon, Omege Salmon Fillet, Premium Frozen Fish, Sustainable Salmon Dish and Healthy Seafoods, Direct-to-Home Delivery, Goursmet Salmon Bundle\n",
      "4. Healthy Eating, Meals, Fitness, Low Carb, Dietary Control, Quinoa Clusters\n",
      "--------------------------------------------------\n"
     ]
    },
    {
     "name": "stderr",
     "output_type": "stream",
     "text": [
      "A decoder-only architecture is being used, but right-padding was detected! For correct generation results, please set `padding_side='left'` when initializing the tokenizer.\n"
     ]
    },
    {
     "name": "stdout",
     "output_type": "stream",
     "text": [
      "inputs79:\n",
      "\n",
      "1. Boneless Chicken Thigh Fillet, Chicken Thigh Recipe, Meal Prep, Grilled Chicken, Quick Frozen, Premium Meat, Lunch Box Main Course。\n",
      "\n",
      "outputs:\n",
      "\n",
      "1. Boneless Chicken Thigh Fillet, Chicken Thigh Recipe, Meal Prep, Grilled Chicken, Quick Frozen, Premium Meat, Lunch Box Main Course\n",
      "2.\n",
      "\n",
      " Japanese A5 Wagyu, Wagyū burger patties, Gourmet beef burgers, Juicy Wagyü, A5Wagyū, Premiums beef, Wasyu beef\n",
      "3. USDA beef. Angus beef or Prime beef? Grilled beef slices, Beef recipes, Meals prep, Grilling, Bone-in beef cuts, Blue-ribbon steak, Beefeater's cut\n",
      "4. Premium Beef Selection, Fillet Steak Cubes, Ribeye Steaks, W\n",
      "--------------------------------------------------\n"
     ]
    },
    {
     "name": "stderr",
     "output_type": "stream",
     "text": [
      "A decoder-only architecture is being used, but right-padding was detected! For correct generation results, please set `padding_side='left'` when initializing the tokenizer.\n"
     ]
    },
    {
     "name": "stdout",
     "output_type": "stream",
     "text": [
      "inputs80:\n",
      "\n",
      "1. Chicken Nuggets, Tender Chicken, Fried Food, Snack, Premium Chicken Nuggets, Juicy Chicken, Quick Snack。\n",
      "\n",
      "outputs:\n",
      "\n",
      "1. Chicken Nuggets, Tender Chicken, Fried Food, Snack, Premium Chicken Nuggets, Juicy Chicken, Quick Snack\n",
      "2.\n",
      "sweet dessert, Chinese dessert & fruit chow, Silver ear fungus, Nutritious dessert soup, Healthy dessert ingredients, Silver Ear fungus soup, White fungus balls\n",
      "3. Cheese Pull-Apart Pancake, Breakfast Snack Ideas, Chinese Pastry, Scallion Cheese PancaKE, Savory Breakfast, Gourmet Delight, Warm Cheese Treat\n",
      "4. Barramundi Fish Fillet, Fresh Fish Recipe, Healthiness, GOURMET Fish Dish, Premiums Quality Fish\n",
      "--------------------------------------------------\n"
     ]
    },
    {
     "name": "stderr",
     "output_type": "stream",
     "text": [
      "A decoder-only architecture is being used, but right-padding was detected! For correct generation results, please set `padding_side='left'` when initializing the tokenizer.\n"
     ]
    },
    {
     "name": "stdout",
     "output_type": "stream",
     "text": [
      "inputs81:\n",
      "\n",
      "1. Spicy Snack, Sichuan Flavors, Crispy Shrimp, Gourmet Snack, Group Purchase, Afternoon Tea, Authentic Taste。\n",
      "\n",
      "outputs:\n",
      "\n",
      "1. Spicy Snack, Sichuan Flavors, Crispy Shrimp, Gourmet Snack, Group Purchase, Afternoon Tea, Authentic Taste\n",
      "2.\n",
      "\n",
      " Gourmetric Squid Snacks, Healthy Snack Options, Artisanal Squids, Preservative-free Treats, Unique Seafood Snacks and Gourmand SquID Chips, Exquisite Snack Gift Box\n",
      "3. Spcy Crab Snack/Pork Cutlet, Salted Egg Flavor, Seafoods Delight, Crunchy Biscuit, Late Night Snack and Snack Food, Savory Treat\n",
      "4. Spice Snack Shi Drum Fish Balls, CrisPY Fish Skin,\n",
      "--------------------------------------------------\n"
     ]
    },
    {
     "name": "stderr",
     "output_type": "stream",
     "text": [
      "A decoder-only architecture is being used, but right-padding was detected! For correct generation results, please set `padding_side='left'` when initializing the tokenizer.\n"
     ]
    },
    {
     "name": "stdout",
     "output_type": "stream",
     "text": [
      "inputs82:\n",
      "\n",
      "1. Gourmet Crab Snack, Meimei Crab Flavor, Crispy Seafood Snack, Crab Biscuit Delight, Evening Tea Treat, Convenient Crab Snack, Wild-Caught Crab Delight。\n",
      "\n",
      "outputs:\n",
      "\n",
      "1. Gourmet Crab Snack, Meimei Crab Flavor, Crispy Seafood Snack, Crab Biscuit Delight, Evening Tea Treat, Convenient Crab Snack, Wild-Caught Crab Delight\n",
      "2.\n",
      "\n",
      " Spicy Snack Guide, Sichuan Flavors, CrisPY Shrimp, Gourmand Snack and Group Purchase, Group Pork and Crab, Afternoon Tea\n",
      "3. Goursoup, Calamari Flavoured, Dragon Ball-inspired, Argentine Squid, Goursple, Squidge, Midnight Snack\n",
      "4. Spicy Crab Legs, Salted Egg Flavour, Seafooder Delight. Crab Pyloric, Even Brine, Pepper Salt Crab. Poison-free shrim\n",
      "--------------------------------------------------\n"
     ]
    },
    {
     "name": "stderr",
     "output_type": "stream",
     "text": [
      "A decoder-only architecture is being used, but right-padding was detected! For correct generation results, please set `padding_side='left'` when initializing the tokenizer.\n"
     ]
    },
    {
     "name": "stdout",
     "output_type": "stream",
     "text": [
      "inputs83:\n",
      "\n",
      "1. Angus beef, Ribeye steak, Grass-fed beef, American beef, Marbling, Grilled beef, Barbecue。\n",
      "\n",
      "outputs:\n",
      "\n",
      "1. Angus beef, Ribeye steak, Grass-fed beef, American beef, Marbling, Grilled beef, Barbecue\n",
      "2.\n",
      "\n",
      " Prime Grade Steak, Thick Cut Steak. Prime Graveleys, Sirloin Steak Recipes, Beef Fillet, Meal Prep, Grilling\n",
      "3. Squid rings, Seafood delicacy, Argentinian calamari, Gourmet seafood, Quick-frozen squid, Sea food recipes\n",
      "4. Shaddock Fish Balls, Handmade Fish Ball, Hot Pot Ingredients, Traditional Taiwanese Cuisine, Fresh Fish Bals, Preservative-Free Treats, Authentic\n",
      "--------------------------------------------------\n"
     ]
    },
    {
     "name": "stderr",
     "output_type": "stream",
     "text": [
      "A decoder-only architecture is being used, but right-padding was detected! For correct generation results, please set `padding_side='left'` when initializing the tokenizer.\n"
     ]
    },
    {
     "name": "stdout",
     "output_type": "stream",
     "text": [
      "inputs84:\n",
      "\n",
      "1. Sweet White Shrimp, Fresh Seafood, Taiwan Shrimp, Shrimp Recipes, Shellfish, Healthy Shrimp, Quick-Frozen。\n",
      "\n",
      "outputs:\n",
      "\n",
      "1. Sweet White Shrimp, Fresh Seafood, Taiwan Shrimp, Shrimp Recipes, Shellfish, Healthy Shrimp, Quick-Frozen\n",
      "2.\n",
      "\n",
      " Handmade Squid Balls, Hotpot Ingredient, Gourmet Squiddy, Squidi Snack, Flavorful Squids, Premium Squu, Handcrafted Seafoods\n",
      "3. Shrimps, G Bourmet, SeafoOD Delicacy, Crispy Seafo Rod, Antibiotic-Free, Unique Gift, Local Delicac\n",
      "4. Healthy Eating, Meal Prep, Fitness Food, Low Carb, Convenience, Balanced Diet, Quinoa Rice\n",
      "5.\n",
      "--------------------------------------------------\n"
     ]
    },
    {
     "name": "stderr",
     "output_type": "stream",
     "text": [
      "A decoder-only architecture is being used, but right-padding was detected! For correct generation results, please set `padding_side='left'` when initializing the tokenizer.\n"
     ]
    },
    {
     "name": "stdout",
     "output_type": "stream",
     "text": [
      "inputs85:\n",
      "\n",
      "1. Canadian Capelin, Fish Roe, Easy Meal Prep, Crunchy Snack, Fish Recipes, Gourmet Fish, Kids' Favorite。\n",
      "\n",
      "outputs:\n",
      "\n",
      "1. Canadian Capelin, Fish Roe, Easy Meal Prep, Crunchy Snack, Fish Recipes, Gourmet Fish, Kids' Favorite\n",
      "2.\n",
      "sweet Potato, Healthy Snacks, Low-Carb Diet, Fitness Recibes, Weight Management, Antioxidant Foods, Detox Diet\n",
      "3. Gourmand Fish Roes, Taiwan Sea Bass, Post-surgery Diet, Meal Пoup, Sea Bass Recipe, Nutritious Soup, Eye-catching Fish\n",
      "4. USDA beef, Blue Ribbon steak, Tender shoulder steak. USDL beef. Grilled Eel, Unagi Eel. Japanese Eel Soup. American Beef S\n",
      "--------------------------------------------------\n"
     ]
    },
    {
     "name": "stderr",
     "output_type": "stream",
     "text": [
      "A decoder-only architecture is being used, but right-padding was detected! For correct generation results, please set `padding_side='left'` when initializing the tokenizer.\n"
     ]
    },
    {
     "name": "stdout",
     "output_type": "stream",
     "text": [
      "inputs86:\n",
      "\n",
      "1. Edamame, Healthy Eating, Meal Prep, Fitness, Salted Edamame, Dietary Control, Snack。\n",
      "\n",
      "outputs:\n",
      "\n",
      "1. Edamame, Healthy Eating, Meal Prep, Fitness, Salted Edamame, Dietary Control, Snack\n",
      "2.\n",
      "\n",
      " Frozen Vegetables, Meals Prepare, Quick Meal, Fresh Frozen veg, Broccoli, Green Beans, Spinach\n",
      "3. Durian Fruit, Thai Durian, Exotic Fruit Sweet Potato, Premium Fruit Meat, King of Fruits, Frozen Delight, Durian Gift Box\n",
      "4. Frozen Cauliflower Rice, Low-Calorie Meal. HealthyEating, Fitting, Mealtime, Weight Loss, Flavorful, Quick Cooking, Frosted Food\n",
      "5\n",
      "--------------------------------------------------\n"
     ]
    },
    {
     "name": "stderr",
     "output_type": "stream",
     "text": [
      "A decoder-only architecture is being used, but right-padding was detected! For correct generation results, please set `padding_side='left'` when initializing the tokenizer.\n"
     ]
    },
    {
     "name": "stdout",
     "output_type": "stream",
     "text": [
      "inputs87:\n",
      "\n",
      "1. Prime Grade Steak, 16oz Mega-sized Steak, Marble Texture Beef, Wet-aged Steak, Buy One Get One Free Offer, Limited Time Deal, Juicy Tender Steak。\n",
      "\n",
      "outputs:\n",
      "\n",
      "1. Prime Grade Steak, 16oz Mega-sized Steak, Marble Texture Beef, Wet-aged Steak, Buy One Get One Free Offer, Limited Time Deal, Juicy Tender Steak\n",
      "2.\n",
      "\n",
      " Prime Ribeye, American Beef Slices, Australian Beef Recipes, Short Rib, Thick Cut, Sirloin, Jucy Salmon\n",
      "3. USDA beef, Blue Ribbon steak, Tender shoulder steak. USda beef cuts, Blue ribbon steaks, Tenderthe beef industry, Grilled steak recipes, Grass-fed beef\n",
      "4. Iberico Pork, Spanish Pork Slices. IBERIC Pork. Spanish Pumpkin Soup, Roasted Pumpkins, Nutritious\n",
      "--------------------------------------------------\n"
     ]
    },
    {
     "name": "stderr",
     "output_type": "stream",
     "text": [
      "A decoder-only architecture is being used, but right-padding was detected! For correct generation results, please set `padding_side='left'` when initializing the tokenizer.\n"
     ]
    },
    {
     "name": "stdout",
     "output_type": "stream",
     "text": [
      "inputs88:\n",
      "\n",
      "1. High Protein Chicken Breast, Fitness Meal Prep, Low Calorie Diet, Muscle Building, Lean Chicken Breast, Ready-to-Eat, Nutritionally Balanced。\n",
      "\n",
      "outputs:\n",
      "\n",
      "1. High Protein Chicken Breast, Fitness Meal Prep, Low Calorie Diet, Muscle Building, Lean Chicken Breast, Ready-to-Eat, Nutritionally Balanced\n",
      "2.\n",
      "\n",
      " High Proteins, Fresh Tiger Grouper, Healthy Seafood, Taiwanese Specialty, Non-toxic Shrimp, Shrumpet Salad\n",
      "3. High protein chicken breast, Firm texture, Low calorie eating, Leannine peptide, Quick and easy meal, Healthful eating\n",
      "4. High proteins, Meal prep, Fittor, Low carb, Easy cooking, Weight management\n",
      "5. High Protin, Fitto, Low Carb, Wealthy, Healthly, Mealmora\n",
      "6\n",
      "--------------------------------------------------\n"
     ]
    },
    {
     "name": "stderr",
     "output_type": "stream",
     "text": [
      "A decoder-only architecture is being used, but right-padding was detected! For correct generation results, please set `padding_side='left'` when initializing the tokenizer.\n"
     ]
    },
    {
     "name": "stdout",
     "output_type": "stream",
     "text": [
      "inputs89:\n",
      "\n",
      "1. Thick Cut Steak, Prime Grade, Ribeye Steak, President's Choice, Juicy Steak, Premium Beef, Giant Cut。\n",
      "\n",
      "outputs:\n",
      "\n",
      "1. Thick Cut Steak, Prime Grade, Ribeye Steak, President's Choice, Juicy Steak, Premium Beef, Giant Cut\n",
      "2.\n",
      "\n",
      " Prime Gradem Beef Slices, Hot Pot Beef Recipes, Marbled Beef Sirloin, Snowflake Beef Selection, Grilled Beef slices, BBQ beef selection, Premiums Beef Cuts\n",
      "3. American BeefSlices, Pork Recibes, Hotpot Beefs, Grilling Meat Selection, Premum Beefcuts, Plain Beef Knuckles, Tender Beef Cubes\n",
      "4. Hotpot beef sices, BBq beef, Wagyu beef. Marinated beef,. Japanese\n",
      "--------------------------------------------------\n"
     ]
    },
    {
     "name": "stderr",
     "output_type": "stream",
     "text": [
      "A decoder-only architecture is being used, but right-padding was detected! For correct generation results, please set `padding_side='left'` when initializing the tokenizer.\n"
     ]
    },
    {
     "name": "stdout",
     "output_type": "stream",
     "text": [
      "inputs90:\n",
      "\n",
      "1. Air-fried Seafood Combo, Crispy Chicken Nuggets, American-style Appetizers, Snack Food Bundle, Air Fryer Recipes, Fried Calamari Strips, Crispy Potato Sticks。\n",
      "\n",
      "outputs:\n",
      "\n",
      "1. Air-fried Seafood Combo, Crispy Chicken Nuggets, American-style Appetizers, Snack Food Bundle, Air Fryer Recipes, Fried Calamari Strips, Crispy Potato Sticks\n",
      "2.\n",
      "\n",
      " Fried Chicken, Chicken Breast, Snacks, Air Frozen, Home-style Cooking, Convenience Food, Party Snacks\n",
      "3. Golden Crispy Sweet Potato Fries, Air Fried Delights, Homemade Snacks in Crispy Packaging, Crispi Sweetpotato Delights and Fiber-Rich, Snacker's Delight, Crisply Fried Sweeties, Fiber Snack\n",
      "4. Pork Belly Dish, Bento Meal, Meal Prep, Traditional Pork, Taiwanese Cuisine, Easy Heating\n",
      "--------------------------------------------------\n"
     ]
    },
    {
     "name": "stderr",
     "output_type": "stream",
     "text": [
      "A decoder-only architecture is being used, but right-padding was detected! For correct generation results, please set `padding_side='left'` when initializing the tokenizer.\n"
     ]
    },
    {
     "name": "stdout",
     "output_type": "stream",
     "text": [
      "inputs91:\n",
      "\n",
      "1. Fried Snacks, American Style, Air Fryer Cooking, Midnight Snack, Air-Fried Delights, Chicken Nuggets, Crispy Fries。\n",
      "\n",
      "outputs:\n",
      "\n",
      "1. Fried Snacks, American Style, Air Fryer Cooking, Midnight Snack, Air-Fried Delights, Chicken Nuggets, Crispy Fries\n",
      "2.\n",
      "\n",
      " Fried Chicken, Chenedul, Snack Food, Air fryer cooking, Home-style Cooking and Additive-free Snacks\n",
      "3. Chicken Thigh Recipe, Boneless Chicken THigh, Meal Prep, Lunchbox Main Course, Party Food, Juicy ChickenThigh, Snacks for Party\n",
      "4. Chickens, Cheese, Salad, Snacker, AirFryer, Mid-Afternoon Snack\n",
      "5. High protein chicken breast, Fitness meal prep, Low calorie eating, Lean mus\n",
      "--------------------------------------------------\n"
     ]
    },
    {
     "name": "stderr",
     "output_type": "stream",
     "text": [
      "A decoder-only architecture is being used, but right-padding was detected! For correct generation results, please set `padding_side='left'` when initializing the tokenizer.\n"
     ]
    },
    {
     "name": "stdout",
     "output_type": "stream",
     "text": [
      "inputs92:\n",
      "\n",
      "1. Deep-Fried Delights, Family Feast Combo, Crispy Chicken Nuggets, Golden Fries, Gourmet Fish Fillets, Fried Favorites, Air-Fryer Convenience。\n",
      "\n",
      "outputs:\n",
      "\n",
      "1. Deep-Fried Delights, Family Feast Combo, Crispy Chicken Nuggets, Golden Fries, Gourmet Fish Fillets, Fried Favorites, Air-Fryer Convenience\n",
      "2.\n",
      "\n",
      " Fried Chicken, Salty CrispyChicken, Air Fryer Cooking, Late-Night Snack, Snack Food, Taiwanese Fried Food, Boneless Fried Chick\n",
      "3. Boneless Chicken Thigh, Deep-fried Snack or Grilled Meat, Air Frozen Seafood, Taiwanse Specialty, Japanese Grilled Fish, Party Appetizer, Juicy Meat\n",
      "4. Durian Fruit, Thai Durian, Exotic Fruit Soup, Premium Fruit Meat and Nutrient Concentrate, King of Fruits, Fro\n",
      "--------------------------------------------------\n"
     ]
    },
    {
     "name": "stderr",
     "output_type": "stream",
     "text": [
      "A decoder-only architecture is being used, but right-padding was detected! For correct generation results, please set `padding_side='left'` when initializing the tokenizer.\n"
     ]
    },
    {
     "name": "stdout",
     "output_type": "stream",
     "text": [
      "inputs93:\n",
      "\n",
      "1. Frozen Vegetables Selection, Quick Frozen Vegetables, Healthy Meal Prep, Convenient Frozen Veggies, Fresh Frozen Vegetables, Nutrient-Rich Veggies, Time-Saving Vegetables。\n",
      "\n",
      "outputs:\n",
      "\n",
      "1. Frozen Vegetables Selection, Quick Frozen Vegetables, Healthy Meal Prep, Convenient Frozen Veggies, Fresh Frozen Vegetables, Nutrient-Rich Veggies, Time-Saving Vegetables\n",
      "2.\n",
      "sweet Potato Delights, Roasted Sweet Potatoes, Healthymania, Organic Farming, Low Carb Diet, Fitness Recipes, Detox Meal\n",
      "3. Taiwanese Turnip Cake, Chinese Cuisine, Heat-and-Eat, Dim Sum, Vegetarian, Authentic Taste, Hong Kong Style\n",
      "4. Sweet White Shrimp, Fried Snack, Air Fryer Cooking, Taiwanese Snack. Fried Chicken, Snack Food, Party Snack and Potato, Crispy Fries\n",
      "5. Golden Cris\n",
      "--------------------------------------------------\n"
     ]
    },
    {
     "name": "stderr",
     "output_type": "stream",
     "text": [
      "A decoder-only architecture is being used, but right-padding was detected! For correct generation results, please set `padding_side='left'` when initializing the tokenizer.\n"
     ]
    },
    {
     "name": "stdout",
     "output_type": "stream",
     "text": [
      "inputs94:\n",
      "\n",
      "1. Specialty coffee, Small-scale farming, Limited edition, Japanese origin, Artisanal blend, Time-limited offer, Group buying。\n",
      "\n",
      "outputs:\n",
      "\n",
      "1. Specialty coffee, Small-scale farming, Limited edition, Japanese origin, Artisanal blend, Time-limited offer, Group buying\n",
      "2.\n",
      "\n",
      " Taiwanese Freshly Harvested Water Peaches, Tropical Ground Peaches and Fresh Frozen Fruit, Juicy and Sweet Fruit in Taiwan's Grown Water Peach Trees, Limited-Time Offer, Sweet and Flavorful Fruit\n",
      "3. Taiwanese peaches, Squid, Snardles, Shrimp, Seafood delicacy, Local delicac, Taiwanese cuisine, Freshness\n",
      "4. Gourmet Fish Roe, Ready-to-Eat, Delicate Texture, Vacuum\n",
      "--------------------------------------------------\n"
     ]
    },
    {
     "name": "stderr",
     "output_type": "stream",
     "text": [
      "A decoder-only architecture is being used, but right-padding was detected! For correct generation results, please set `padding_side='left'` when initializing the tokenizer.\n"
     ]
    },
    {
     "name": "stdout",
     "output_type": "stream",
     "text": [
      "inputs95:\n",
      "\n",
      "1. Gourmet Fruit Spread, Premium Citrus Jam, Artisanal Yellow Pomelo Jam, Limited Time Offer, Natural Fruit Preserve, Local Tainan Specialty, Tangy Sweet Flavor。\n",
      "\n",
      "outputs:\n",
      "\n",
      "1. Gourmet Fruit Spread, Premium Citrus Jam, Artisanal Yellow Pomelo Jam, Limited Time Offer, Natural Fruit Preserve, Local Tainan Specialty, Tangy Sweet Flavor\n",
      "2.\n",
      "\n",
      " Taiwanese Freshly Harvested Water Peaches, Tropical Ground Peaches and Fresh Frozen Juice, Juicy and Sweet Tropical Fruit, Taiwan's Grown Water Peach Trees, Limited-Time Offer and Sustainable Harvest, Natural Tropical Peaches\n",
      "3. Taiwan Water Honey Peach, Fresh Tropical Fried Fruit. Juice. Taiwan Fruit Juice Sweet Potato, LimitedTime Offert, Group Purchase, Flavored Juice Selection, Juice Pack, Group Drink\n",
      "4. Taiwanese peaches,\n",
      "--------------------------------------------------\n"
     ]
    },
    {
     "name": "stderr",
     "output_type": "stream",
     "text": [
      "A decoder-only architecture is being used, but right-padding was detected! For correct generation results, please set `padding_side='left'` when initializing the tokenizer.\n"
     ]
    },
    {
     "name": "stdout",
     "output_type": "stream",
     "text": [
      "inputs96:\n",
      "\n",
      "1. Low-calorie diet, High protein, Meal prep, Fitness recipe, Muscle building, Weight loss, Nutritious protein。\n",
      "\n",
      "outputs:\n",
      "\n",
      "1. Low-calorie diet, High protein, Meal prep, Fitness recipe, Muscle building, Weight loss, Nutritious protein\n",
      "2.\n",
      "\n",
      " Healthy Eating, Meals, Fitter, Mealtime, Fresh, Low Carb, Quinoa Rice\n",
      "3. Healthy Shrimp, Fresher Pork, Taiwanese Shrump, Non-Toxic Shrrimp, Shrimps, Healthy Seafood\n",
      "4. Healthymate, Flexible, Mealy, Low Calorie, Health Boosting, Online Purchasing, Fits Meal\n",
      "5. Health, Mealing, Fruit, WeIGHT, Low-COPY, Healthier, Chicken\n",
      "6. Fro\n",
      "--------------------------------------------------\n"
     ]
    },
    {
     "name": "stderr",
     "output_type": "stream",
     "text": [
      "A decoder-only architecture is being used, but right-padding was detected! For correct generation results, please set `padding_side='left'` when initializing the tokenizer.\n"
     ]
    },
    {
     "name": "stdout",
     "output_type": "stream",
     "text": [
      "inputs97:\n",
      "\n",
      "1. Healthy Eating, Meal Prep, Fitness, Weight Control, Low-Calorie, Cauliflower Rice, Healthier Cooking。\n",
      "\n",
      "outputs:\n",
      "\n",
      "1. Healthy Eating, Meal Prep, Fitness, Weight Control, Low-Calorie, Cauliflower Rice, Healthier Cooking\n",
      "2.\n",
      "\n",
      " Frozen CaulIFlower RICE, Low Calorie Meal, Healthy Ingredient, Fresh Frozen Vegetables, Meals Prepared, Fittness Recipe, Quick Meals\n",
      "3. Health supplement, Pineapple enzyme, Probiotic jelly, Weights management, Artisanal produce, Digestive health, Convenient snack\n",
      "4. Grilled Eel, Unagi, Japanese Eel and Eel Rice Bowl, Japanese Cuisine, Gourmet Fish Dish, Premium Eel Meat, Japanese BBQ Me\n",
      "--------------------------------------------------\n"
     ]
    },
    {
     "name": "stderr",
     "output_type": "stream",
     "text": [
      "A decoder-only architecture is being used, but right-padding was detected! For correct generation results, please set `padding_side='left'` when initializing the tokenizer.\n"
     ]
    },
    {
     "name": "stdout",
     "output_type": "stream",
     "text": [
      "inputs98:\n",
      "\n",
      "1. Edamame, HealthySnacking, FrozenGreenBeans, MealPrep, FitnessFood, SaltFree, ReadyToEat。\n",
      "\n",
      "outputs:\n",
      "\n",
      "1. Edamame, HealthySnacking, FrozenGreenBeans, MealPrep, FitnessFood, SaltFree, ReadyToEat\n",
      "2.\n",
      "\n",
      " Handmade Squid Balls, Hotpot Ingredient, Gourmet Squiddy, Squidgey Snack, Fresh Squids, Handcrafted Seafood Balls; Japanese-style (Fresh Frozen)\n",
      "3. USDA beef, Blue Ribbon steak, Tender shoulder steak; Grilled steak and grilling, Grass-fed beef; High-quality beef\n",
      "4. 21oz Presidential Steak, Prime Grade Beef, Thick Cut Steak; Marble Texture Beef; W\n",
      "--------------------------------------------------\n"
     ]
    },
    {
     "name": "stderr",
     "output_type": "stream",
     "text": [
      "A decoder-only architecture is being used, but right-padding was detected! For correct generation results, please set `padding_side='left'` when initializing the tokenizer.\n"
     ]
    },
    {
     "name": "stdout",
     "output_type": "stream",
     "text": [
      "inputs99:\n",
      "\n",
      "1. Frozen Mixed Berries, Berry Bowl, Smoothie Mix, Cranberry Juice, Blackberry Delight, Frozen Fruit Blend, Quick Meal Prep。\n",
      "\n",
      "outputs:\n",
      "\n",
      "1. Frozen Mixed Berries, Berry Bowl, Smoothie Mix, Cranberry Juice, Blackberry Delight, Frozen Fruit Blend, Quick Meal Prep\n",
      "2.\n",
      "\n",
      " Ready-to-eat, Grilled Chicken Wings, Marinated Chicken, Finger-Licking Good, Variety Pack, Easy Preparation, Grilling Ready\n",
      "3. Flash Frozen Vegetables, Quick meal prep, Sweet Peas and Carrots, Broccoli and Cauliflower, Red Bell Peppers, Nutrient-Rich Vegetable, Kid-friendly Lunchbox\n",
      "4. Froze Broccili, Cruciferous Vegetales, Cancer-fighting, Low-Calorie Diet\n",
      "--------------------------------------------------\n"
     ]
    },
    {
     "name": "stderr",
     "output_type": "stream",
     "text": [
      "A decoder-only architecture is being used, but right-padding was detected! For correct generation results, please set `padding_side='left'` when initializing the tokenizer.\n"
     ]
    },
    {
     "name": "stdout",
     "output_type": "stream",
     "text": [
      "inputs100:\n",
      "\n",
      "1. Frozen blackberries, Berry smoothie, Frozen fruit bowl, Blackberries, Freshly frozen, Quick meal prep, Juicy berries。\n",
      "\n",
      "outputs:\n",
      "\n",
      "1. Frozen blackberries, Berry smoothie, Frozen fruit bowl, Blackberries, Freshly frozen, Quick meal prep, Juicy berries\n",
      "2.\n",
      "\n",
      " Mixed Frozen Berries, Smoothie Ingredients, Berries and Smoothies, Fruit Bowl, Crispy Berries\n",
      "3. Froze-dried berries, Snack, Party food, Crisped fruit, Air fryer recipe, Late-night snack, Taiwanese snack\n",
      "4. Sweet Potato Delights, Roasted Sweetpotato, Healthy Snacking, Organic Farming, Low Carb Diet, Fitness Recipes, Detox Meal\n",
      "5. Purple Sweet Pomelo, Roast Gooseberry,\n",
      "--------------------------------------------------\n"
     ]
    },
    {
     "name": "stderr",
     "output_type": "stream",
     "text": [
      "A decoder-only architecture is being used, but right-padding was detected! For correct generation results, please set `padding_side='left'` when initializing the tokenizer.\n"
     ]
    },
    {
     "name": "stdout",
     "output_type": "stream",
     "text": [
      "inputs101:\n",
      "\n",
      "1. Frozen Berries, Mixed Berries, Smoothie Ingredients, Berry Bowl, Berry Juice, Quick Meal Prep, Berry Smoothie。\n",
      "\n",
      "outputs:\n",
      "\n",
      "1. Frozen Berries, Mixed Berries, Smoothie Ingredients, Berry Bowl, Berry Juice, Quick Meal Prep, Berry Smoothie\n",
      "2.\n",
      "\n",
      " New Zealand Pumpkin, Roasted Chestnut, Healthy Eating, Meal Preparation, Fitness Food, Quick Recipes, Frozen Vegetables\n",
      "3. Thin 0.01cm, Non-GMO Tofu Skin, Low Carb, i3fresh, Fresh Online Shopping, Gyoza Party, Cheese Rice Bowl\n",
      "4. Wild Seaweed, Penghu Seaweeds, Seafood Recipe, Seaweedy Salad, Wild Kelp, Flavorful Seaweedi, Seaversh\n",
      "--------------------------------------------------\n"
     ]
    },
    {
     "name": "stderr",
     "output_type": "stream",
     "text": [
      "A decoder-only architecture is being used, but right-padding was detected! For correct generation results, please set `padding_side='left'` when initializing the tokenizer.\n"
     ]
    },
    {
     "name": "stdout",
     "output_type": "stream",
     "text": [
      "inputs102:\n",
      "\n",
      "1. Low Calorie Recipes, Fitness Meal Ideas, High Protein Options, Grain Bowls, Lean Cuisine, Fitness Nutrition, Muscle Building Foods。\n",
      "\n",
      "outputs:\n",
      "\n",
      "1. Low Calorie Recipes, Fitness Meal Ideas, High Protein Options, Grain Bowls, Lean Cuisine, Fitness Nutrition, Muscle Building Foods\n",
      "2.\n",
      "\n",
      " Healthy Eating, Meal Prep, Fitsness Food, Low Carb, Convenience, Balanced Diet, Quinoa Rice\n",
      "3. Healthy Shrimp, Taiwan Shrmp, Hot Pot Seafood, Shrimps, Non-Toxic ShrImp, Fresh Shr Imp, Sustainable Seafoood\n",
      "4. Health supplement, Pineapple enzyme, Probiotic jelly, Weight management, Artisanal produce, Digestive health, Conventional delicacy\n",
      "5. Frozen Cauliflower\n",
      "--------------------------------------------------\n"
     ]
    },
    {
     "name": "stderr",
     "output_type": "stream",
     "text": [
      "A decoder-only architecture is being used, but right-padding was detected! For correct generation results, please set `padding_side='left'` when initializing the tokenizer.\n"
     ]
    },
    {
     "name": "stdout",
     "output_type": "stream",
     "text": [
      "inputs103:\n",
      "\n",
      "1. Cheese Balls, Snack Food, Cheddar Cheese, American Cheese, Air Fryer Recipes, Party Snack, Late Night Snack。\n",
      "\n",
      "outputs:\n",
      "\n",
      "1. Cheese Balls, Snack Food, Cheddar Cheese, American Cheese, Air Fryer Recipes, Party Snack, Late Night Snack\n",
      "2.\n",
      "\n",
      " USDA beef, Blue Ribbon steak, Tender shoulder steak. USDA Angus beef. Frozen shoulder steer, BBQ meat, Grilling, Premium beef selection, Grass-fed beef\n",
      "3. American Beef, Ribeye Steak, Grilled Steak. American beef is a beef chunks, Welfare beef cows, Beef cuts, Prime beef steaks, Beefe, Beeefer\n",
      "4. Cheeseballs, Cheese Snack. Cheddars, American Chedder, Air\n",
      "--------------------------------------------------\n"
     ]
    },
    {
     "name": "stderr",
     "output_type": "stream",
     "text": [
      "A decoder-only architecture is being used, but right-padding was detected! For correct generation results, please set `padding_side='left'` when initializing the tokenizer.\n"
     ]
    },
    {
     "name": "stdout",
     "output_type": "stream",
     "text": [
      "inputs104:\n",
      "\n",
      "1. New Zealand Pumpkin, Roasted Chestnut Pumpkin, Healthy Eating, Meal Prep, Fitness Food, Quick Recipes, Frozen Vegetables。\n",
      "\n",
      "outputs:\n",
      "\n",
      "1. New Zealand Pumpkin, Roasted Chestnut Pumpkin, Healthy Eating, Meal Prep, Fitness Food, Quick Recipes, Frozen Vegetables\n",
      "2.\n",
      "\n",
      " Frozen Broccoli Florets, HealthY Eating (Beef Recipi, MeAL Prep), Fit Frozen Spinach, Quick Meal Preparation, Frozer Vegetarianian, Health-conscious Cooking, Fresh Frozen Greens\n",
      "3. Frozen Okra, Quick meal PRep, Health Food, Frozetable Vegetable, Fingertip Snack, Vegetative Broth, Exotic Snack\n",
      "4. Healthy Shrimp, Taiwan Shrump, Hot Pot Seafood, Shrimper, Non-To\n",
      "--------------------------------------------------\n"
     ]
    },
    {
     "name": "stderr",
     "output_type": "stream",
     "text": [
      "A decoder-only architecture is being used, but right-padding was detected! For correct generation results, please set `padding_side='left'` when initializing the tokenizer.\n"
     ]
    },
    {
     "name": "stdout",
     "output_type": "stream",
     "text": [
      "inputs105:\n",
      "\n",
      "1. Non-GMO Tofu Skin, Low Carb Snack, Healthy Eating, Fitness Food, Meal Prep, Weight Loss, Carb Reduction。\n",
      "\n",
      "outputs:\n",
      "\n",
      "1. Non-GMO Tofu Skin, Low Carb Snack, Healthy Eating, Fitness Food, Meal Prep, Weight Loss, Carb Reduction\n",
      "2.\n",
      "\n",
      " Chicken Thigh Recipe, Boneless Chicken THigh, MeAL Prepare, Lunchbox Main Course, Party Food, Juicy ChickenThigh, Snack Ideas\n",
      "3. Smoked Chicken Slices, Breakfast Option, Ready to Heat, Chicken Recipe Ideas, Meals to Carry Out, Chilled Chicken, Traditional Savory Breakfast\n",
      "4. Pork Belly Dish, Bento Meal, Mealtime Buy, Tradional Pork, Taiwanese Cuisine, Easy Heating, Smoked Pork\n",
      "--------------------------------------------------\n"
     ]
    },
    {
     "name": "stderr",
     "output_type": "stream",
     "text": [
      "A decoder-only architecture is being used, but right-padding was detected! For correct generation results, please set `padding_side='left'` when initializing the tokenizer.\n"
     ]
    },
    {
     "name": "stdout",
     "output_type": "stream",
     "text": [
      "inputs106:\n",
      "\n",
      "1. Chicken Thigh Fillet, Boneless Chicken Thigh, Meal Prep, Marinated Chicken, Grilled Meat, Chicken Recipe, Lunchbox Main Dish。\n",
      "\n",
      "outputs:\n",
      "\n",
      "1. Chicken Thigh Fillet, Boneless Chicken Thigh, Meal Prep, Marinated Chicken, Grilled Meat, Chicken Recipe, Lunchbox Main Dish\n",
      "2.\n",
      "\n",
      " Japanese-style meat slices, Pork recipe, Taiwanese pork, Marinarated pork slices and Japanese cuisine, Taiwan pork\n",
      "3. Chickens, Meals, Chickenen, Beef, Welfare, Juicy Chicken Balls, Kind Cut\n",
      "4. Fresh Frozen Chilean Salmon, Omega-3 Rich Salmon Puree, Premium Frozen Fish, Sustainably Sourced Salmon\n",
      "5. Healthy Eating, MeAL Prep and Fitness Food, Frozen Cauliflower R\n",
      "--------------------------------------------------\n"
     ]
    },
    {
     "name": "stderr",
     "output_type": "stream",
     "text": [
      "A decoder-only architecture is being used, but right-padding was detected! For correct generation results, please set `padding_side='left'` when initializing the tokenizer.\n"
     ]
    },
    {
     "name": "stdout",
     "output_type": "stream",
     "text": [
      "inputs107:\n",
      "\n",
      "1. Salmon fillet, Fish dishes, Healthy recipes, Protein-rich, Meal prep, Muscle building, Weight management。\n",
      "\n",
      "outputs:\n",
      "\n",
      "1. Salmon fillet, Fish dishes, Healthy recipes, Protein-rich, Meal prep, Muscle building, Weight management\n",
      "2.\n",
      "\n",
      " Fresh Frozen Chilean Salmon, Omega-3 Rich Salmon in Premium Frozen Fish, Sustainably Sourced Salmon for High Nutrient Content, Healthier Seafood Option, Direct-to-Home Delivery, Gourmet Frozen Salmon\n",
      "3. Cauliflower, White caulifruit, Low-calorie diet, Health food, WeIGHT Watchers, Fitness recipes\n",
      "4. USDA Angus Beef, Ribeye Steak, Grilling Recipes, Bone-In Beef Slices,\n",
      "--------------------------------------------------\n"
     ]
    },
    {
     "name": "stderr",
     "output_type": "stream",
     "text": [
      "A decoder-only architecture is being used, but right-padding was detected! For correct generation results, please set `padding_side='left'` when initializing the tokenizer.\n"
     ]
    },
    {
     "name": "stdout",
     "output_type": "stream",
     "text": [
      "inputs108:\n",
      "\n",
      "1. Salmon fillet, DHA-rich, Meal prep, High protein, Salmon recipes, Fitness diet, Lunchbox main。\n",
      "\n",
      "outputs:\n",
      "\n",
      "1. Salmon fillet, DHA-rich, Meal prep, High protein, Salmon recipes, Fitness diet, Lunchbox main\n",
      "2.\n",
      "\n",
      " Fresh Frozen Chilean Salmon, Omega-3 Rich Salmon in Premium Frozen Fish, Sustainably Sourced Salmon for Premium Fish Dish, Healthy Seafood Option, Direct-to-Home Delivery, Gourmet Frozen Salmon\n",
      "3. Japanese grilled fish, D hawaiian fish, Bento box main dish, Mealtime recipe, Fish chirari, Juicy fish, Goursmet fish salad\n",
      "4. Marinated Clams, Spicy Clams and Taiwanese Delicacy, Appetizer\n",
      "--------------------------------------------------\n"
     ]
    },
    {
     "name": "stderr",
     "output_type": "stream",
     "text": [
      "A decoder-only architecture is being used, but right-padding was detected! For correct generation results, please set `padding_side='left'` when initializing the tokenizer.\n"
     ]
    },
    {
     "name": "stdout",
     "output_type": "stream",
     "text": [
      "inputs109:\n",
      "\n",
      "1. Weight Loss, Low Carb, Calorie Deficit, Health Eating, Meal Prep, Protein, Microwaveable。\n",
      "\n",
      "outputs:\n",
      "\n",
      "1. Weight Loss, Low Carb, Calorie Deficit, Health Eating, Meal Prep, Protein, Microwaveable\n",
      "2.\n",
      "\n",
      " Low Carbs, Weight Lost, Healthy Eating and Meal Preparation, Fitness, Meals, Proteins, Lean Chicken Breast\n",
      "3. WeIGHT Loss Meals (3), Calorie deficit (2), Low-carb diet (1), Healthy eating (1)\n",
      "4. Healthy Shrimp, Taiwan Shromp, Hot Pot Seafood, Shrumpet, Non-Toxic Shrimps, Fresh Shrimper, SHRimp Recipes\n",
      "5. Frozen Vegetables Selection,\n",
      "--------------------------------------------------\n"
     ]
    },
    {
     "name": "stderr",
     "output_type": "stream",
     "text": [
      "A decoder-only architecture is being used, but right-padding was detected! For correct generation results, please set `padding_side='left'` when initializing the tokenizer.\n"
     ]
    },
    {
     "name": "stdout",
     "output_type": "stream",
     "text": [
      "inputs110:\n",
      "\n",
      "1. Customized Caloric Deficit Meals, Weight Loss, Low Carbs, Healthy Eating, Meal Preparation, Microwavable, Fitness。\n",
      "\n",
      "outputs:\n",
      "\n",
      "1. Customized Caloric Deficit Meals, Weight Loss, Low Carbs, Healthy Eating, Meal Preparation, Microwavable, Fitness\n",
      "2.\n",
      "\n",
      " Taiwanese Freshly Harvested Water Peaches, Tropical Ground Peaches and Fresh Frozen Goldfruit, Juicy and Sweet Fruit, Taiwan's Grown Water Peach Crop, Limited-Time Offer, Sweet and Flavorful, Juiciness Guava\n",
      "3. USDA beef, Blue Ribbon steak, Tender shoulder steak. Grilled steak sandwich, Grass-fed beef. 21oz Presidential Steak, Prime Grade Beef, Thick Cut Steak. Japanese-style steak\n",
      "--------------------------------------------------\n"
     ]
    },
    {
     "name": "stderr",
     "output_type": "stream",
     "text": [
      "A decoder-only architecture is being used, but right-padding was detected! For correct generation results, please set `padding_side='left'` when initializing the tokenizer.\n"
     ]
    },
    {
     "name": "stdout",
     "output_type": "stream",
     "text": [
      "inputs111:\n",
      "\n",
      "1. Weight Loss Meals, Calorie Deficit, Low Carb, Healthy Eating, Meal Prep, Fitness Nutrition, Protein-rich。\n",
      "\n",
      "outputs:\n",
      "\n",
      "1. Weight Loss Meals, Calorie Deficit, Low Carb, Healthy Eating, Meal Prep, Fitness Nutrition, Protein-rich\n",
      "2.\n",
      "\n",
      " High Protein Selection, LowCarb Diet, FITness Nuts, Weight Management Meals. MealPrep, Low-Carb, Quinoa, Healthier Cooking\n",
      "3. Fresh Frozen Chilean Salmon, Omega-3 Rich Salmon. Low-carb Diet. Healthy Meal Planning, Fresh Seafood, Quick Meal Preparation, Gourmet Fish Dish, Premium Frozen Fish, Bento Box Staple\n",
      "4. Flower crab, Seafoods delicacy, Crab meat, Flavor\n",
      "--------------------------------------------------\n"
     ]
    },
    {
     "name": "stderr",
     "output_type": "stream",
     "text": [
      "A decoder-only architecture is being used, but right-padding was detected! For correct generation results, please set `padding_side='left'` when initializing the tokenizer.\n"
     ]
    },
    {
     "name": "stdout",
     "output_type": "stream",
     "text": [
      "inputs112:\n",
      "\n",
      "1. Weight Loss, Customized Meal Plan, Calorie Deficit, Low Carb, Meal Prep, Healthy Eating, Microwavable。\n",
      "\n",
      "outputs:\n",
      "\n",
      "1. Weight Loss, Customized Meal Plan, Calorie Deficit, Low Carb, Meal Prep, Healthy Eating, Microwavable\n",
      "2.\n",
      "\n",
      " Low Carbs, Weight Lost, Calories, Healthyme, Meals, Protein, Lean Chicken Breast\n",
      "3. WeIGHT Loss Meals (7), LIGHTER INSTEAD, FITNESS FOOD, HIGH PROTEIN, Low CARB, MEAL Prep\n",
      "4. Weilum, Shrimp Snack, Frozen Shrimps, Broccoli, Vegetarian, Squid\n",
      "5. Low Carbers, Weetighty, 7/8, Low Calorie, Health Eating (Fit\n",
      "--------------------------------------------------\n"
     ]
    },
    {
     "name": "stderr",
     "output_type": "stream",
     "text": [
      "A decoder-only architecture is being used, but right-padding was detected! For correct generation results, please set `padding_side='left'` when initializing the tokenizer.\n"
     ]
    },
    {
     "name": "stdout",
     "output_type": "stream",
     "text": [
      "inputs113:\n",
      "\n",
      "1. Weight loss, Calorie deficit, Meal prep, Healthy eating, Low-carb, Protein, Quick meals。\n",
      "\n",
      "outputs:\n",
      "\n",
      "1. Weight loss, Calorie deficit, Meal prep, Healthy eating, Low-carb, Protein, Quick meals\n",
      "2.\n",
      "\n",
      " High Protein Selection, Low Carb Diet, Fitness Nutrition, Weight Loss Meals, HealthY Meal Box, Meals Prepared, Proteins, Ready-to-Eat\n",
      "3. A5 Wagyu, WagyU Burgers, Japanese Beef, Gourmet Burgers and Burging, Premium Meat, Juicy Patties, Hand-Cut Steaks\n",
      "4. Meal Prep, Lowcarb Diet and Fitiness Food, High Proteincb, Readysoup, WeIGHT Loss, Conven\n",
      "--------------------------------------------------\n"
     ]
    },
    {
     "name": "stderr",
     "output_type": "stream",
     "text": [
      "A decoder-only architecture is being used, but right-padding was detected! For correct generation results, please set `padding_side='left'` when initializing the tokenizer.\n"
     ]
    },
    {
     "name": "stdout",
     "output_type": "stream",
     "text": [
      "inputs114:\n",
      "\n",
      "1. Weight Loss, Calorie Deficit, Health Eating, Low Carb, Meal Prep, Protein, Fitness。\n",
      "\n",
      "outputs:\n",
      "\n",
      "1. Weight Loss, Calorie Deficit, Health Eating, Low Carb, Meal Prep, Protein, Fitness\n",
      "2.\n",
      "\n",
      " Low Carbs, Weight Lost, Calories, Healthy Eating and Meal Preparation, Mealtime, Fittness, Quinoa\n",
      "3. High Protein Selection, LowCarb Diet, FITness Nutrition, WeIGHT Loss Meals, HealthY Meal Box, Succulent Chicken Breast, Ready-to-Eat\n",
      "4. Healthy Shrimp, Taiwan Shromp, Hot Pot Seafood, Shrumpet, Non-Toxic Shrimps, Fresh Shrimper, Sashimi Gra\n",
      "--------------------------------------------------\n"
     ]
    },
    {
     "name": "stderr",
     "output_type": "stream",
     "text": [
      "A decoder-only architecture is being used, but right-padding was detected! For correct generation results, please set `padding_side='left'` when initializing the tokenizer.\n"
     ]
    },
    {
     "name": "stdout",
     "output_type": "stream",
     "text": [
      "inputs115:\n",
      "\n",
      "1. Fried Onion Rings, Appetizer, Snack, Party Food, Air Fryer Recipe, American Fried Snacks Platter, Crispy Onion Rings。\n",
      "\n",
      "outputs:\n",
      "\n",
      "1. Fried Onion Rings, Appetizer, Snack, Party Food, Air Fryer Recipe, American Fried Snacks Platter, Crispy Onion Rings\n",
      "2.\n",
      "\n",
      " Fried Chicken, Chicken Nuggets, Snacks, Air fryer Cooking, Home-style Cooking and Pork Balls, Convenience Food, Party Snacks\n",
      "3. Golden Crispy Sweet Potato Fries, Air Fried Snack Food, Homemade Snacks for Sweet and Crispy Potatoes, Crispi Fruit Crisps, Fiber-Rich, Handmade Delights, Snacker's Delight\n",
      "4. Fried Chickens, Salty Crispy Chicken and Braised Chicken Flavor, Crisp Snack from the Air, Late\n",
      "--------------------------------------------------\n"
     ]
    },
    {
     "name": "stderr",
     "output_type": "stream",
     "text": [
      "A decoder-only architecture is being used, but right-padding was detected! For correct generation results, please set `padding_side='left'` when initializing the tokenizer.\n"
     ]
    },
    {
     "name": "stdout",
     "output_type": "stream",
     "text": [
      "inputs116:\n",
      "\n",
      "1. Summer Delight Mango, Group Buy, Limited Time Offer, Fresh Mango, Sweet and Juicy, Premium Quality, Red Ripe Mango。\n",
      "\n",
      "outputs:\n",
      "\n",
      "1. Summer Delight Mango, Group Buy, Limited Time Offer, Fresh Mango, Sweet and Juicy, Premium Quality, Red Ripe Mango\n",
      "2.\n",
      "sweet dessert, Chinese dessert & silver ear fungus, Nutritious dessert soup, Soup package, Crispy and chewy soup, Traditional Chinese desset, Instant meal ready-to-eat\n",
      "3. Mango Sorbet, Summer Treat, Artisanal Dessert, Chilled Delight, Natural Ingredients, Refreshing Flavor, Traditionally Frozen\n",
      "4. Durian Fruit, Thai Durian, Exotic Fruit. Sweet Potato, Roasted Sweetpotato, King of Fruits, Frozen Delight\n",
      "--------------------------------------------------\n"
     ]
    },
    {
     "name": "stderr",
     "output_type": "stream",
     "text": [
      "A decoder-only architecture is being used, but right-padding was detected! For correct generation results, please set `padding_side='left'` when initializing the tokenizer.\n"
     ]
    },
    {
     "name": "stdout",
     "output_type": "stream",
     "text": [
      "inputs117:\n",
      "\n",
      "1. Purple Sweet Potato, Roasted Purple Sweet Potato, Organic Farming, Low-carb Diet, Healthy Eating, Fitness Recipes, Weight Management。\n",
      "\n",
      "outputs:\n",
      "\n",
      "1. Purple Sweet Potato, Roasted Purple Sweet Potato, Organic Farming, Low-carb Diet, Healthy Eating, Fitness Recipes, Weight Management\n",
      "2.\n",
      "\n",
      " Frozen Broccoli, Cruciferous Vegetables, Cancer-fighting, Lower-Calorie Diet, healthy Eatting, Quick Meal Prep, Fresh Frozen Vegetable\n",
      "3. Frozen Green Beans, Healthyme, Meal Preparation, Quick Frozen vegetables, Fittness, FrozenVegetables\n",
      "4. Frozentraden, Broccolo, Cauliflower, Carrots, Cabbage, Convenient Meal Planning, Health-conscious Cooking\n",
      "5. Frozerces, Veget\n",
      "--------------------------------------------------\n"
     ]
    },
    {
     "name": "stderr",
     "output_type": "stream",
     "text": [
      "A decoder-only architecture is being used, but right-padding was detected! For correct generation results, please set `padding_side='left'` when initializing the tokenizer.\n"
     ]
    },
    {
     "name": "stdout",
     "output_type": "stream",
     "text": [
      "inputs118:\n",
      "\n",
      "1. Fresh Frozen Gold Eye Snapper Fillet, Taiwan Snapper, Snapper Fillet, Fish Meat Recipes, Fish Soup, Health-boosting Food, Post-surgery Diet。\n",
      "\n",
      "outputs:\n",
      "\n",
      "1. Fresh Frozen Gold Eye Snapper Fillet, Taiwan Snapper, Snapper Fillet, Fish Meat Recipes, Fish Soup, Health-boosting Food, Post-surgery Diet\n",
      "2.\n",
      "\n",
      " Fresh Tiger Grouper Fillet (Fresh Frosted Fish) Easy Meal Prep, Grouber Delight, Gourmet Seafood Selection, Frozen Fish Fillet Packet, Eye-catching Fish Belly, Fresh Seafoods Packet\n",
      "3. Shi Drum Fish Skin, Collagen-Rich Fish Skins, Premium Delicacy, Versatile Cooking Ingredient, Nutritious Snack, Shi Seafoody Delight\n",
      "4. Whiting fish, SeafoOD delicacy from Taiwanese cuisine\n",
      "--------------------------------------------------\n"
     ]
    },
    {
     "name": "stderr",
     "output_type": "stream",
     "text": [
      "A decoder-only architecture is being used, but right-padding was detected! For correct generation results, please set `padding_side='left'` when initializing the tokenizer.\n"
     ]
    },
    {
     "name": "stdout",
     "output_type": "stream",
     "text": [
      "inputs119:\n",
      "\n",
      "1. Pumpkin Soup, Creamy Soup, Snack, Pumpkin, Corn Soup, Comfort Food, Night Snack。\n",
      "\n",
      "outputs:\n",
      "\n",
      "1. Pumpkin Soup, Creamy Soup, Snack, Pumpkin, Corn Soup, Comfort Food, Night Snack\n",
      "2.\n",
      "\n",
      " USDA beef, Blue Ribbon steak, Tender shoulder steak; Grilled steak and grilled beef; Grass-fed beef and beef recipes; Prime ribeye and beefeeder; Tender should steak or prime ribey; Japanese-style meat slices, Marinated beef\n",
      "3. Salt-Free Mackerel, Seafood Delight, Grilled Fish, Japanese Style Grilled fish, Sashimi Grade, Low-Sodium, Healthy Eating, Omega-3 Rich\n",
      "4. Meal Prep,\n",
      "--------------------------------------------------\n"
     ]
    },
    {
     "name": "stderr",
     "output_type": "stream",
     "text": [
      "A decoder-only architecture is being used, but right-padding was detected! For correct generation results, please set `padding_side='left'` when initializing the tokenizer.\n"
     ]
    },
    {
     "name": "stdout",
     "output_type": "stream",
     "text": [
      "inputs120:\n",
      "\n",
      "1. Seafood Chowder, Instant Meal, Gourmet Soup, Heat and Serve, Midnight Snack, Soup Mix, Convenience Food。\n",
      "\n",
      "outputs:\n",
      "\n",
      "1. Seafood Chowder, Instant Meal, Gourmet Soup, Heat and Serve, Midnight Snack, Soup Mix, Convenience Food\n",
      "2.\n",
      "\n",
      " Seaweed, Hotpot ingredients, Handmade squid balls, Purified seaweed ingredient, Coral grass, Local delicacies from Penghu, Seaweeds from Penglan\n",
      "3. Grass-fed beef, New Zealand beef. Healthy eating, Low-carb diet, Tender shoulder steak, Grilled beef slices, Meal prep, Reducibly easy\n",
      "4. Gourmeta, Exquisite Delicacy, Premium Selection, Frozen Lager, Fine Wine, Crispy Squ\n",
      "--------------------------------------------------\n"
     ]
    },
    {
     "name": "stderr",
     "output_type": "stream",
     "text": [
      "A decoder-only architecture is being used, but right-padding was detected! For correct generation results, please set `padding_side='left'` when initializing the tokenizer.\n"
     ]
    },
    {
     "name": "stdout",
     "output_type": "stream",
     "text": [
      "inputs121:\n",
      "\n",
      "1. Sweet Potato, Roasted Sweet Potato, Organic Farming, Resistant Starch, Healthy Eating, Weight Management, Meal Prep。\n",
      "\n",
      "outputs:\n",
      "\n",
      "1. Sweet Potato, Roasted Sweet Potato, Organic Farming, Resistant Starch, Healthy Eating, Weight Management, Meal Prep\n",
      "2.\n",
      "\n",
      " Sweet White Shrimp, Fresh Seafood, Taiwan ShrImp, Shr Importers, Shellfish, Shi Drum Fish, Shells\n",
      "3. Flash Frozen Vegetables, Quick Meal Preparation, Sweet Peas and Carrots, Broccoli and Cauliflower, Red Bell Peppers, Nutrient-Rich Vegetable, Kid-friendly Lunch Ingredients\n",
      "4. Frozen Caulifer, Health Meal, Fitness, Meals, WeIGHT Loss, Quick Cooking, Frozen veget\n",
      "--------------------------------------------------\n"
     ]
    },
    {
     "name": "stderr",
     "output_type": "stream",
     "text": [
      "A decoder-only architecture is being used, but right-padding was detected! For correct generation results, please set `padding_side='left'` when initializing the tokenizer.\n"
     ]
    },
    {
     "name": "stdout",
     "output_type": "stream",
     "text": [
      "inputs122:\n",
      "\n",
      "1. Seaweed, Handmade squid balls, Hot pot ingredients, Coral grass, Local delicacies from Penghu, Seaweed soup, Seaweed salad。\n",
      "\n",
      "outputs:\n",
      "\n",
      "1. Seaweed, Handmade squid balls, Hot pot ingredients, Coral grass, Local delicacies from Penghu, Seaweed soup, Seaweed salad\n",
      "2.\n",
      "sweet Potato, Roasted Sweet Potatoes, Organic Farming, Low-carb Diet, Japan Sweet Pastry, Weight Management, Detox Diet\n",
      "3. Sweet White Shrimp, Fresh Seafood, Taiwan ShrImp, Shrimp Recipes, Shellfish, Shallop, Healthy Shrimper\n",
      "4. Jumbo White Squid, Non-Toxic Squids, Healthier Seafoods, Taiwan Saboten, Squiddy Delights, Fubar Fish, Sustainable SeafoOD\n",
      "5\n",
      "--------------------------------------------------\n"
     ]
    },
    {
     "name": "stderr",
     "output_type": "stream",
     "text": [
      "A decoder-only architecture is being used, but right-padding was detected! For correct generation results, please set `padding_side='left'` when initializing the tokenizer.\n"
     ]
    },
    {
     "name": "stdout",
     "output_type": "stream",
     "text": [
      "inputs123:\n",
      "\n",
      "1. Seaweed snacks, Gourmet seafood selection, Handmade squid balls, Hot pot ingredients, Coral grass delicacy, Local delights from Penghu, Seaweed soup mix。\n",
      "\n",
      "outputs:\n",
      "\n",
      "1. Seaweed snacks, Gourmet seafood selection, Handmade squid balls, Hot pot ingredients, Coral grass delicacy, Local delights from Penghu, Seaweed soup mix\n",
      "2.\n",
      "\n",
      " Fresh Frozen Chilean Salmon, Omega-3 Rich Salmon in Premium Frozen Fish, Sustainably Sourced Salmon for Healthy Seafood, Premium Musang King Durian, Frozen Salmon of Gourmetric Quality, Healthy Salmon Option\n",
      "3. Gourmand Fish Dish, Taiwan Sea Bass, Post-surgery Diet, Meal Prep, Sea Bass Recipe, Nutritious Soup, Eye-catching Fish\n",
      "4. Grilled Fish, DHA Rich, Easy Meal, Japanese Grilled\n",
      "--------------------------------------------------\n"
     ]
    },
    {
     "name": "stderr",
     "output_type": "stream",
     "text": [
      "A decoder-only architecture is being used, but right-padding was detected! For correct generation results, please set `padding_side='left'` when initializing the tokenizer.\n"
     ]
    },
    {
     "name": "stdout",
     "output_type": "stream",
     "text": [
      "inputs124:\n",
      "\n",
      "1. Seaweed, Hotpot ingredients, Handmade squid balls, Purified seaweed, Coral grass, Seaweed soup, Seafood delicacies。\n",
      "\n",
      "outputs:\n",
      "\n",
      "1. Seaweed, Hotpot ingredients, Handmade squid balls, Purified seaweed, Coral grass, Seaweed soup, Seafood delicacies\n",
      "2.\n",
      "\n",
      " Frozen Cauliflower Rice, Low-Calorie Meal, Healthy Eating, Fitness Recipe, Meal Prep, Weight Loss, Onion\n",
      "3. Thin Dumpling Wrappers, Non-GMO Soybeans, High Protein, Low Carb, Fits Meal Box, Cheese Pulls, Crispy Squares\n",
      "4. Barramundi Fish Fillet, Fresh Fish Recipe (100%), Healthy Meal Preparation, Gourmet Fish Dish, Premium BarramUNDI,\n",
      "--------------------------------------------------\n"
     ]
    },
    {
     "name": "stderr",
     "output_type": "stream",
     "text": [
      "A decoder-only architecture is being used, but right-padding was detected! For correct generation results, please set `padding_side='left'` when initializing the tokenizer.\n"
     ]
    },
    {
     "name": "stdout",
     "output_type": "stream",
     "text": [
      "inputs125:\n",
      "\n",
      "1. Healthy Eating, Meal Planning, Fitness, Low Carb, Balanced Diet, Quinoa Recipes, Prepping Meals。\n",
      "\n",
      "outputs:\n",
      "\n",
      "1. Healthy Eating, Meal Planning, Fitness, Low Carb, Balanced Diet, Quinoa Recipes, Prepping Meals\n",
      "2.\n",
      "\n",
      " Healthy Shrimp, Taiwan Shrrimp, Hot Pot Seafood, Shrimp Recipe, Non-Toxic Shrimper, Fresh ShrImp, Sustainable Shrimpling\n",
      "3. Health supplement, Pineapple enzyme, Probiotic jelly, Weight management, Artisanal produce, Digestive health, Convenient snack\n",
      "4. Frozen Cauliflower Rice, Low-Calorie Meal, Healthy Empty Stomach, Fits Weight Loss, Meals Prep, Fiber\n",
      "--------------------------------------------------\n"
     ]
    },
    {
     "name": "stderr",
     "output_type": "stream",
     "text": [
      "A decoder-only architecture is being used, but right-padding was detected! For correct generation results, please set `padding_side='left'` when initializing the tokenizer.\n"
     ]
    },
    {
     "name": "stdout",
     "output_type": "stream",
     "text": [
      "inputs126:\n",
      "\n",
      "1. Healthy Eating, Meal Prep, Fitness, Low Carb, Healthier Cooking, Quinoa and Soybeans, Balanced Diet。\n",
      "\n",
      "outputs:\n",
      "\n",
      "1. Healthy Eating, Meal Prep, Fitness, Low Carb, Healthier Cooking, Quinoa and Soybeans, Balanced Diet\n",
      "2.\n",
      "\n",
      " Healthy Shrimp, Freshwater Shrimps, Taiwanese ShrImp, Non-toxic Shrrimps, Shrumpet Shrims, Hot Pot Seafood, Sustainable Shrimpery\n",
      "3. HealthBoost, TraditionalFlavors, JapaneseDelicacy, ArtisanalPreservation, GourmetSeafood\n",
      "4. Dry-aged king mackerel fillet, Scallop, Gournmet, Traditionaldish, Mealy texture, Premium snack, Nutritious protein\n",
      "5. Sp\n",
      "--------------------------------------------------\n"
     ]
    },
    {
     "name": "stderr",
     "output_type": "stream",
     "text": [
      "A decoder-only architecture is being used, but right-padding was detected! For correct generation results, please set `padding_side='left'` when initializing the tokenizer.\n"
     ]
    },
    {
     "name": "stdout",
     "output_type": "stream",
     "text": [
      "inputs127:\n",
      "\n",
      "1. Healthy Eating, Meal Prep, Fitness, Low Carb, Balanced Diet, Quinoa Edamame, Quinoa Millet。\n",
      "\n",
      "outputs:\n",
      "\n",
      "1. Healthy Eating, Meal Prep, Fitness, Low Carb, Balanced Diet, Quinoa Edamame, Quinoa Millet\n",
      "2.\n",
      "\n",
      " Healthy Shrimp, Freshwater Shrimps, Taiwanese ShrImps, Non-toxic Shrrimps, Shrimbles, Healthy Seafood, Hot Pot Seafoods\n",
      "3. HealthBoost, TraditionalFlavors, JapaneseDelicacy, ArtisanalPreservation, GourmetSeafood\n",
      "4. Dry-aged king mackerel fillet, Sustainable fish, EU certified, Natural aging process, High Omega-3 content, Goursmet fish cuts,Non-toasted mackerels\n",
      "--------------------------------------------------\n"
     ]
    },
    {
     "name": "stderr",
     "output_type": "stream",
     "text": [
      "A decoder-only architecture is being used, but right-padding was detected! For correct generation results, please set `padding_side='left'` when initializing the tokenizer.\n"
     ]
    },
    {
     "name": "stdout",
     "output_type": "stream",
     "text": [
      "inputs128:\n",
      "\n",
      "1. Healthy Eating, Meal Prep, Frozen Cauliflower Rice, Weight Management, Fitness, Calorie Control, Health Food。\n",
      "\n",
      "outputs:\n",
      "\n",
      "1. Healthy Eating, Meal Prep, Frozen Cauliflower Rice, Weight Management, Fitness, Calorie Control, Health Food\n",
      "2.\n",
      "\n",
      " Healthy Shrimp, Freshwater Shrimps, Taiwanese ShrImp, Non-toxic Shr Imp, Shrip-adness, Hot Pot Seafood, Sustainable Shrimpery\n",
      "3. Health supplement, Pineapple enzyme, Probiotic jelly, WeIGHT management, Artisanal produce, Digestive health, Convenient snack\n",
      "4. Frozen Spinach, HealthyEating,Meal PRep, Fittness, Quick Cooking, Conventional Delights, Frozer Vegetables\n",
      "\n",
      "--------------------------------------------------\n"
     ]
    },
    {
     "name": "stderr",
     "output_type": "stream",
     "text": [
      "A decoder-only architecture is being used, but right-padding was detected! For correct generation results, please set `padding_side='left'` when initializing the tokenizer.\n"
     ]
    },
    {
     "name": "stdout",
     "output_type": "stream",
     "text": [
      "inputs129:\n",
      "\n",
      "1. Thin 0.01cm Dumpling Skin, Non-GMO Soybeans, Low Carb, i3fresh, Fresh Online Shopping, Gyoza Wrappers, Fresh Ingredients。\n",
      "\n",
      "outputs:\n",
      "\n",
      "1. Thin 0.01cm Dumpling Skin, Non-GMO Soybeans, Low Carb, i3fresh, Fresh Online Shopping, Gyoza Wrappers, Fresh Ingredients\n",
      "2.\n",
      "\n",
      " Thin Dumpling Wraps, Nontoxic Dumpling Coating, Freeze-Dried Vegetables, Healthy Eating, Fitness, Meal Prep, Quick Meal Preparation\n",
      "3. Thai cuisine, Handmade moon shrimp cake, Ready-to-eat, Golden handmade moon cake and black moon shri, Shrimp cake for gourmet pork, Handcrafted shrimper, Premium shrimps\n",
      "4. Thick Cut Steak, Prime Grade, Ribeye Steak N\n",
      "--------------------------------------------------\n"
     ]
    },
    {
     "name": "stderr",
     "output_type": "stream",
     "text": [
      "A decoder-only architecture is being used, but right-padding was detected! For correct generation results, please set `padding_side='left'` when initializing the tokenizer.\n"
     ]
    },
    {
     "name": "stdout",
     "output_type": "stream",
     "text": [
      "inputs130:\n",
      "\n",
      "1. Healthy Eating, Meal Prep, Fitness, Low Carb, Gourmet Cooking, Quinoa Rice, Pre-cooked Meals。\n",
      "\n",
      "outputs:\n",
      "\n",
      "1. Healthy Eating, Meal Prep, Fitness, Low Carb, Gourmet Cooking, Quinoa Rice, Pre-cooked Meals\n",
      "2.\n",
      "\n",
      " Healthy Shrimp, Taiwan Shrump, Hot Pot Seafood, Shrimper, Non-Toxic Shrimps, Freshwater ShrImp, Sustainable Seafoood\n",
      "3. Health supplement, Pineapple enzyme, Probiotic jelly, Weight management, Artisanal produce, Digestive health, Convenient snack\n",
      "4. Frozen Cauliflower Rice. Plant-based meat, Thai cuisine, Thick and juicy, Vegan meat, Stir-fried pork, Firm to eat\n",
      "--------------------------------------------------\n"
     ]
    },
    {
     "name": "stderr",
     "output_type": "stream",
     "text": [
      "A decoder-only architecture is being used, but right-padding was detected! For correct generation results, please set `padding_side='left'` when initializing the tokenizer.\n"
     ]
    },
    {
     "name": "stdout",
     "output_type": "stream",
     "text": [
      "inputs131:\n",
      "\n",
      "1. Healthy Eating, Meal Prep, Fitness, Low Carb, Quinoa Rice, Balanced Diet, Precooked Meal。\n",
      "\n",
      "outputs:\n",
      "\n",
      "1. Healthy Eating, Meal Prep, Fitness, Low Carb, Quinoa Rice, Balanced Diet, Precooked Meal\n",
      "2.\n",
      "\n",
      " Healthy Shrimp, Taiwan Shrump, Hot Pot Seafood, Shrimper, Non-Toxic Shrimps, Freshwater ShrImp, Sustainable Seafoood\n",
      "3. HealthBoost, TraditionalFlavors, JapaneseDelicacy, ArtisanalPreservation, GourmetSeafood\n",
      "4. Spicy Crab Snack, Salted Egg Flavor, Seafoor Delight, Crunchy Biscuit, Late Night Snack and Savory Treat, Unique Snack Balls, Wild Caught C\n",
      "--------------------------------------------------\n"
     ]
    },
    {
     "name": "stderr",
     "output_type": "stream",
     "text": [
      "A decoder-only architecture is being used, but right-padding was detected! For correct generation results, please set `padding_side='left'` when initializing the tokenizer.\n"
     ]
    },
    {
     "name": "stdout",
     "output_type": "stream",
     "text": [
      "inputs132:\n",
      "\n",
      "1. Healthy Eating, Meal Prep, Fitness Food, Low Carb, Quinoa Edamame, Quinoa Millet, Quinoa Chickpeas。\n",
      "\n",
      "outputs:\n",
      "\n",
      "1. Healthy Eating, Meal Prep, Fitness Food, Low Carb, Quinoa Edamame, Quinoa Millet, Quinoa Chickpeas\n",
      "2.\n",
      "\n",
      " Healthy Shrimp, Freshwater Shrimps, Taiwanese ShrImps, Non-toxic Shr Imposters, Shrip-adness, Hot Pot Seafood, Sustainable Shrimep\n",
      "3. HealthBoost, TraditionalFlavors, JapaneseDelicacy, ArtisanalPreservation, GourmetSeafood\n",
      "4. Seaweed, Handmade squid balls, Hot pot ingredients, Coral grass, Local delicacies from Penghu, Seaweeds from Penzhu, Wild seaweed\n",
      "--------------------------------------------------\n"
     ]
    },
    {
     "name": "stderr",
     "output_type": "stream",
     "text": [
      "A decoder-only architecture is being used, but right-padding was detected! For correct generation results, please set `padding_side='left'` when initializing the tokenizer.\n"
     ]
    },
    {
     "name": "stdout",
     "output_type": "stream",
     "text": [
      "inputs133:\n",
      "\n",
      "1. High protein chicken breast, Fitness meal prep, Low calorie eating, Lean muscle building, Quick and easy meal, Healthy eating, Ready-to-eat chicken breast。\n",
      "\n",
      "outputs:\n",
      "\n",
      "1. High protein chicken breast, Fitness meal prep, Low calorie eating, Lean muscle building, Quick and easy meal, Healthy eating, Ready-to-eat chicken breast\n",
      "2.\n",
      "\n",
      " High Protein Chicken Breast, Fitsness Recipe, Low Calorie Meal, Muscle Building, Relevant Feed, Salted Chicken, Leannan Muscle\n",
      "3. High Proteins, Fitatins, Leans Muscle, Fitterness, Low Cals, Healthiness, Nutritious\n",
      "4. High proteins chicken, Freshly hatched chicken chunks, Japanese-style meat, Health and nutritious bento box, Nourishing broth, Quick-frozen juicy chicken slices, Premium chicken\n",
      "--------------------------------------------------\n"
     ]
    },
    {
     "name": "stderr",
     "output_type": "stream",
     "text": [
      "A decoder-only architecture is being used, but right-padding was detected! For correct generation results, please set `padding_side='left'` when initializing the tokenizer.\n"
     ]
    },
    {
     "name": "stdout",
     "output_type": "stream",
     "text": [
      "inputs134:\n",
      "\n",
      "1. High Protein, Meal Prep, Low Calorie, Fitness Recipe, Lean Muscle, Convenient, Healthy Eating。\n",
      "\n",
      "outputs:\n",
      "\n",
      "1. High Protein, Meal Prep, Low Calorie, Fitness Recipe, Lean Muscle, Convenient, Healthy Eating\n",
      "2.\n",
      "\n",
      " High Proteins, Fresh Tiger Grouper, Japanese Grilled Fish, Healthymind, Nutrient-rich, Hot Pot, Top-Grade\n",
      "3. High protein chicken breast, Firm muscle, Low calorie eating, Leannutrition, Quick and easy meal, Healthymeal Pork Chops, Ready-to-eat meal\n",
      "4. Japanese-style meat slices, Pork recipe, Taiwanese pork, Marinated pork in Japanese cuisine, Conventional Japanese pork\n",
      "5. Appetizers\n",
      "--------------------------------------------------\n"
     ]
    },
    {
     "name": "stderr",
     "output_type": "stream",
     "text": [
      "A decoder-only architecture is being used, but right-padding was detected! For correct generation results, please set `padding_side='left'` when initializing the tokenizer.\n"
     ]
    },
    {
     "name": "stdout",
     "output_type": "stream",
     "text": [
      "inputs135:\n",
      "\n",
      "1. Healthy Eating, Meal Prep, Weight Management, Fitness Food, Quick & Easy Meals, Low-Calorie Options, Balanced Nutrition。\n",
      "\n",
      "outputs:\n",
      "\n",
      "1. Healthy Eating, Meal Prep, Weight Management, Fitness Food, Quick & Easy Meals, Low-Calorie Options, Balanced Nutrition\n",
      "2.\n",
      "\n",
      " Healthy Shrimp, Taiwan Shrump, Hot Pot Seafood, Shrimper, Non-Toxic Shrimps, Freshwater ShrImp, Sustainable Seafoood, Healthy Seafoad\n",
      "3. Seafoods, Wild Cuttlefish, SeafoOD Recipes, Frozen Cuttles, Cooking Seafo od, Taiwanese Cuttlene, Sashimi Grade, Sweet Potato Delicacy\n",
      "4. Health supplement, Pineapple enzyme, Probiotic jelly, Weights management, Art\n",
      "--------------------------------------------------\n"
     ]
    },
    {
     "name": "stderr",
     "output_type": "stream",
     "text": [
      "A decoder-only architecture is being used, but right-padding was detected! For correct generation results, please set `padding_side='left'` when initializing the tokenizer.\n"
     ]
    },
    {
     "name": "stdout",
     "output_type": "stream",
     "text": [
      "inputs136:\n",
      "\n",
      "1. Frozen Corn Shoots, Healthy Eating, Meal Prep, Fitness, Frozen Vegetables, Dietary Control, Quick Meal Preparation。\n",
      "\n",
      "outputs:\n",
      "\n",
      "1. Frozen Corn Shoots, Healthy Eating, Meal Prep, Fitness, Frozen Vegetables, Dietary Control, Quick Meal Preparation\n",
      "2.\n",
      "\n",
      " Frozen Green Beans, Healthyme, Frozonation, Quick MEal PRep, Fresh Frozen Vegetables, Healthymarketed Potatoes, Froztraite\n",
      "3. Healthy Shrimp, Taiwan Shromp, Hot Pot Seafood, Shrumpet, Non-Toxic Shrimps, Flavorful ShrImp, Sweet Black Shrimpery\n",
      "4. HealthBoost, TraditionalFlavors, JapaneseDelicacy, ArtisanalPreservation, GourmetSeafood\n",
      "5. Taro Pearls,\n",
      "--------------------------------------------------\n"
     ]
    },
    {
     "name": "stderr",
     "output_type": "stream",
     "text": [
      "A decoder-only architecture is being used, but right-padding was detected! For correct generation results, please set `padding_side='left'` when initializing the tokenizer.\n"
     ]
    },
    {
     "name": "stdout",
     "output_type": "stream",
     "text": [
      "inputs137:\n",
      "\n",
      "1. Chicken Thigh Recipe, Boneless Chicken Thigh, Meal Prep, Lunchbox Main Course, Party Food, Juicy Chicken Thigh, Snack Ideas。\n",
      "\n",
      "outputs:\n",
      "\n",
      "1. Chicken Thigh Recipe, Boneless Chicken Thigh, Meal Prep, Lunchbox Main Course, Party Food, Juicy Chicken Thigh, Snack Ideas\n",
      "2.\n",
      "\n",
      " Pork Ribs, Bento Box, Traditional Pork Chop, Taiwanese Cuisine, Flavored Pork Cutlet, Pork Recipe\n",
      "3. Fried Chicken, Salty Crispy Chicken. Ready-to-eat, Air Fryer Cooking, Late-Night Snack, SnACK Food, Taiwanse Fried Food, Bonless Fried Chickens\n",
      "4. Japanese BBQ Pork Slices, Marinated Pork, Quick Meal Options, Fresh Meat, Japanese Cuisines, BBQ Ready, Convenience Food\n",
      "--------------------------------------------------\n"
     ]
    },
    {
     "name": "stderr",
     "output_type": "stream",
     "text": [
      "A decoder-only architecture is being used, but right-padding was detected! For correct generation results, please set `padding_side='left'` when initializing the tokenizer.\n"
     ]
    },
    {
     "name": "stdout",
     "output_type": "stream",
     "text": [
      "inputs138:\n",
      "\n",
      "1. Premium Pork Chop, Easy Meal Prep, Taiwanese Pork, Bone-In Pork, Pork Cutlet, Pork Back Ribs, Delicious Pork Recipes。\n",
      "\n",
      "outputs:\n",
      "\n",
      "1. Premium Pork Chop, Easy Meal Prep, Taiwanese Pork, Bone-In Pork, Pork Cutlet, Pork Back Ribs, Delicious Pork Recipes\n",
      "2.\n",
      "\n",
      " Pork Selection, Bento Box, Taiwan Pork Bento, MealPrep, Porn Museum, Grocery Box, Pure Pork\n",
      "3. Japanese BBQ Pork Slices, Marinated Pork in Quick Meal, Fresh Meat, Japanese Cuisine, BBQ Ready, Convenience Food, Yum-Yum Pork Choices\n",
      "4. Prime Ribeye, American Beef, Australian Beef. Angus Beef or Ribey, Prime Rib, Beef Tender Shoulder, Cube Beef\n",
      "5. USDA beef\n",
      "--------------------------------------------------\n"
     ]
    },
    {
     "name": "stderr",
     "output_type": "stream",
     "text": [
      "A decoder-only architecture is being used, but right-padding was detected! For correct generation results, please set `padding_side='left'` when initializing the tokenizer.\n"
     ]
    },
    {
     "name": "stdout",
     "output_type": "stream",
     "text": [
      "inputs139:\n",
      "\n",
      "1. Gourmet snack box, Crispy shrimp, Snack gift set, Additive-free snacks, Vacuum fried, Antibiotic-free, Group purchase。\n",
      "\n",
      "outputs:\n",
      "\n",
      "1. Gourmet snack box, Crispy shrimp, Snack gift set, Additive-free snacks, Vacuum fried, Antibiotic-free, Group purchase\n",
      "2.\n",
      "\n",
      " Snack Giftbox, Criszy Snack, Group Buy, Healthy Snack selection, Antisyptic Wrappers, Biscuits, Crispie Squares\n",
      "3. Goursmet Crab Snack , Meimei Crab Flavor, CrisPY Seafood Snack. Gournmet Cranberry Snack,. Gourmand Snack Box, Crismy Squid Snack., Fruit Crisps, Office Snacks, Group Purchases, Fruit Snacks\n",
      "4. SnackGiftbox. Gift Box, Chicken Snacks. Taiwan\n",
      "--------------------------------------------------\n"
     ]
    },
    {
     "name": "stderr",
     "output_type": "stream",
     "text": [
      "A decoder-only architecture is being used, but right-padding was detected! For correct generation results, please set `padding_side='left'` when initializing the tokenizer.\n"
     ]
    },
    {
     "name": "stdout",
     "output_type": "stream",
     "text": [
      "inputs140:\n",
      "\n",
      "1. Snacks, Vegetable Chips, Healthy Snack, Office Snack, Fruit and Vegetable Chips, Natural Snack, Variety Pack。\n",
      "\n",
      "outputs:\n",
      "\n",
      "1. Snacks, Vegetable Chips, Healthy Snack, Office Snack, Fruit and Vegetable Chips, Natural Snack, Variety Pack\n",
      "2.\n",
      "\n",
      " Gourmet snack box, Crispy shrimp, Snack gift set, Additive-free snacks, Vacuum fried, Antibiotic-free, Group purchase\n",
      "3. Fruit Crisps, Office Envy, Apple Crisps and Pineapple Crisps with a Twist, Banana Crisps for Bento Box Treats, Strawberry Crisps to Banana, Starfruit Crisp Relief\n",
      "4. Squid Snack Snacks\n",
      "5. Crab Snack / Salted Crispy Crab, Gourmeta Crab Delight, Even\n",
      "--------------------------------------------------\n"
     ]
    },
    {
     "name": "stderr",
     "output_type": "stream",
     "text": [
      "A decoder-only architecture is being used, but right-padding was detected! For correct generation results, please set `padding_side='left'` when initializing the tokenizer.\n"
     ]
    },
    {
     "name": "stdout",
     "output_type": "stream",
     "text": [
      "inputs141:\n",
      "\n",
      "1. Vegetable Crisps, Snack Mix, Office Snacks, Healthy Snacking, Sweet Potato, Root Vegetables, Mushroom Snacks。\n",
      "\n",
      "outputs:\n",
      "\n",
      "1. Vegetable Crisps, Snack Mix, Office Snacks, Healthy Snacking, Sweet Potato, Root Vegetables, Mushroom Snacks\n",
      "2.\n",
      "\n",
      " Spicy Snack, Gourmet Shrimp Chips, Crispy Seafood, Local GourMet, Antibiotic-Free, Goursmet Squid\n",
      "3. Kara Roll Snack Gourment, Mustard Seed Delight, Criscy Snack\n",
      "4. Fruit Crisps and Office Snack Selection, Office snacks, Apple Crisps\n",
      "5. Snacks for the Office, Healthie Snacks at the Workplace, Microwavable Snacks and Healthy Office Treats, Gyoza Snacks in-house, Crisp Squ id Sn\n",
      "--------------------------------------------------\n"
     ]
    },
    {
     "name": "stderr",
     "output_type": "stream",
     "text": [
      "A decoder-only architecture is being used, but right-padding was detected! For correct generation results, please set `padding_side='left'` when initializing the tokenizer.\n"
     ]
    },
    {
     "name": "stdout",
     "output_type": "stream",
     "text": [
      "inputs142:\n",
      "\n",
      "1. Vegetable Chips, Snack Variety Pack, Fruit Crisps, Healthy Snacks, Office Snacks, Mixed Vegetable Chips, Dried Fruits。\n",
      "\n",
      "outputs:\n",
      "\n",
      "1. Vegetable Chips, Snack Variety Pack, Fruit Crisps, Healthy Snacks, Office Snacks, Mixed Vegetable Chips, Dried Fruits\n",
      "2.\n",
      "\n",
      " Dumplings, Pan-fried dumplings , Soup dumpling, Wonton, Bamboo shoot, Pork and chive dumming, Squid and cucumber\n",
      "3. USDA beef, Blue Ribbon steak, Tender shoulder steak. USda beef. Prime ribeye, Thick cut steak\n",
      "4. Chicken Leg Meat, Meal Prep, Bone-In Chicken, Chicken Thigh Chunks, Quality Chicken\n",
      "5. Gourmet Chicken Rolls, Taiwanese Chicken D\n",
      "--------------------------------------------------\n"
     ]
    },
    {
     "name": "stderr",
     "output_type": "stream",
     "text": [
      "A decoder-only architecture is being used, but right-padding was detected! For correct generation results, please set `padding_side='left'` when initializing the tokenizer.\n"
     ]
    },
    {
     "name": "stdout",
     "output_type": "stream",
     "text": [
      "inputs143:\n",
      "\n",
      "1. Nutritious Soup, Vegetarian Dish, Mushroom Soup, Herbal Recipe, Gourmet Soup, Nourishing Broth, Unique Ingredients。\n",
      "\n",
      "outputs:\n",
      "\n",
      "1. Nutritious Soup, Vegetarian Dish, Mushroom Soup, Herbal Recipe, Gourmet Soup, Nourishing Broth, Unique Ingredients\n",
      "2.\n",
      "\n",
      " Sweet Potatoes, Healthy Snack, Low-Carb Diet, Fitness Recipe , Weight Management, Antioxidant Food, Detox Diet\n",
      "3. Sweet White Shrimp, Fresh Seafood, Taiwan ShrImp, Shrimps Recipes, Shellfish, Shallop, Healthful Snack\n",
      "4. Jumbo White Sweet Pea, Non-Toxic Shr Imp, Healthier Seafooder, Taiwan Snack Shr, Sustainable Seafoods, Flower Shr imp, Sweet and Cris\n",
      "--------------------------------------------------\n"
     ]
    },
    {
     "name": "stderr",
     "output_type": "stream",
     "text": [
      "A decoder-only architecture is being used, but right-padding was detected! For correct generation results, please set `padding_side='left'` when initializing the tokenizer.\n"
     ]
    },
    {
     "name": "stdout",
     "output_type": "stream",
     "text": [
      "inputs144:\n",
      "\n",
      "1. Healthy Eating, Meal Prep, Fitness Food, Low Carb, Convenience, Balanced Diet, Quinoa Rice。\n",
      "\n",
      "outputs:\n",
      "\n",
      "1. Healthy Eating, Meal Prep, Fitness Food, Low Carb, Convenience, Balanced Diet, Quinoa Rice\n",
      "2.\n",
      "\n",
      " Healthy Shrimp, Taiwan Shrump, Hot Pot Seafood, Shrimper, Non-Toxic Shrimps, Freshwater ShrImp, Sustainable Seafoood\n",
      "3. HealthBoost, TraditionalFlavors, JapaneseDelicacy, ArtisanalPreservation, GourmetSeafood\n",
      "4. Dumplings, Pork and chive dumplings and pork ribs, Fruit-infused dumpling skins, Quick and easy to prepare, Frozen dumprings, Exquisite dumple\n",
      "--------------------------------------------------\n"
     ]
    },
    {
     "name": "stderr",
     "output_type": "stream",
     "text": [
      "A decoder-only architecture is being used, but right-padding was detected! For correct generation results, please set `padding_side='left'` when initializing the tokenizer.\n"
     ]
    },
    {
     "name": "stdout",
     "output_type": "stream",
     "text": [
      "inputs145:\n",
      "\n",
      "1. Japanese-style meat slices, Pork recipe, Taiwanese pork, Marinated pork, Convenient meal preparation, Japanese cuisine, Premium pork。\n",
      "\n",
      "outputs:\n",
      "\n",
      "1. Japanese-style meat slices, Pork recipe, Taiwanese pork, Marinated pork, Convenient meal preparation, Japanese cuisine, Premium pork\n",
      "2.\n",
      "\n",
      " Chicken Thigh Recipe, Boneless Chicken THigh, Meal Prep, Lunchbox Main Course, Party Food, Juicy Chicken, Snack Ideas\n",
      "3. Japanese BBQ Pork Slices, Mariniared Pork, Quick Meal Options, Fresh Meat, Japanese Cuisine, BBQ Ready, Conveyor Belt\n",
      "4. Fried Squid Snack, Party Snack Pork Balls, Air Fryer Recipe Cheese, Late-Night Snack Food, Taiwanse Fried Food, Crispy Squids, Salt\n",
      "--------------------------------------------------\n"
     ]
    },
    {
     "name": "stderr",
     "output_type": "stream",
     "text": [
      "A decoder-only architecture is being used, but right-padding was detected! For correct generation results, please set `padding_side='left'` when initializing the tokenizer.\n"
     ]
    },
    {
     "name": "stdout",
     "output_type": "stream",
     "text": [
      "inputs146:\n",
      "\n",
      "1. Gourmet Uwajima Caviar, Foodie Gifts, Lunar New Year Gift Set, Delicious Uwajima Caviar, Artisanal Uwajima Caviar, Premium Uwajima Caviar Box, Festive Food Gift。\n",
      "\n",
      "outputs:\n",
      "\n",
      "1. Gourmet Uwajima Caviar, Foodie Gifts, Lunar New Year Gift Set, Delicious Uwajima Caviar, Artisanal Uwajima Caviar, Premium Uwajima Caviar Box, Festive Food Gift\n",
      "2.\n",
      "\n",
      " Taiwanese Caviar Lunasti, Baked Squid Snack, Cheese Balls, Pork Belly Snack and Sweet Potato Delights, Taro Pearls, Authentic Taiwanese Cuisine, Night Market Snack\n",
      "3. High Protein, Meal Prep, Low Calorie, Fitness Recipe, Lean Muscle, Convenient, Healthy Eating\n",
      "4. MealPrep, low carb diet, FITness food, High protein, Ready to eat, Weight management, Muscle building\n",
      "5. High protein\n",
      "--------------------------------------------------\n"
     ]
    },
    {
     "name": "stderr",
     "output_type": "stream",
     "text": [
      "A decoder-only architecture is being used, but right-padding was detected! For correct generation results, please set `padding_side='left'` when initializing the tokenizer.\n"
     ]
    },
    {
     "name": "stdout",
     "output_type": "stream",
     "text": [
      "inputs147:\n",
      "\n",
      "1. Fresh Sheephead Fish, Taiwanese Specialty, Homemade Fish Balls, Hot Pot Ingredients, Quality Seafood, Gourmet Fish Recipes, Handcrafted Fish Balls。\n",
      "\n",
      "outputs:\n",
      "\n",
      "1. Fresh Sheephead Fish, Taiwanese Specialty, Homemade Fish Balls, Hot Pot Ingredients, Quality Seafood, Gourmet Fish Recipes, Handcrafted Fish Balls\n",
      "2.\n",
      "\n",
      " Salmon Fillet, DHA Source, Meal Prep, High Protein, Fitness Fuel, Salmon Recibes, Healthy Meal\n",
      "3. Flower crab, Seafoods delicacy, Crab meat, Fresh seafood selection, Sea crab meat and Meal prep, Kakozhou, Gyoza ingredients\n",
      "4. Fried Fish, Fish Nuggets, Snack, Deep-fried Delights, Crispy Fish, Fast Food, Air Fryer Cooking\n",
      "5. Taiwanese Freshly Harvested Water Peaches\n",
      "--------------------------------------------------\n"
     ]
    },
    {
     "name": "stderr",
     "output_type": "stream",
     "text": [
      "A decoder-only architecture is being used, but right-padding was detected! For correct generation results, please set `padding_side='left'` when initializing the tokenizer.\n"
     ]
    },
    {
     "name": "stdout",
     "output_type": "stream",
     "text": [
      "inputs148:\n",
      "\n",
      "1. Fried Chicken, Chicken Nuggets, Snack Food, Air Fryer Cooking, Home-style Cooking, Convenience Food, Party Snacks。\n",
      "\n",
      "outputs:\n",
      "\n",
      "1. Fried Chicken, Chicken Nuggets, Snack Food, Air Fryer Cooking, Home-style Cooking, Convenience Food, Party Snacks\n",
      "2.\n",
      "\n",
      " Fried Chickens, Chickness, Snacks, Air-Fried Delights, Home-, Garlic-Infused, Late-Night Snack\n",
      "3. Chicken Thigh Recipe, Boneless Chicken THigh, Meal Prep, Lunchbox Main Course, Party Food, Juicy ChickenThigh, Snacker Snack, Party Favorite\n",
      "4. Ready-to-eat, Chinese cuisine, Hot pot soup, Soup package, Beef soup, Gourmet soup, Easy meal, Thin beef slices\n",
      "5\n",
      "--------------------------------------------------\n"
     ]
    },
    {
     "name": "stderr",
     "output_type": "stream",
     "text": [
      "A decoder-only architecture is being used, but right-padding was detected! For correct generation results, please set `padding_side='left'` when initializing the tokenizer.\n"
     ]
    },
    {
     "name": "stdout",
     "output_type": "stream",
     "text": [
      "inputs149:\n",
      "\n",
      "1. Meal Prep, Low Carb Diet, Fitness Food, High Protein, Ready to Eat, Weight Management, Muscle Building。\n",
      "\n",
      "outputs:\n",
      "\n",
      "1. Meal Prep, Low Carb Diet, Fitness Food, High Protein, Ready to Eat, Weight Management, Muscle Building\n",
      "2.\n",
      "\n",
      " High Proteins, Meal Planning, Low Calorie, Fitter Higher, Lean Muscle, Quick Meal, Nutritious Chicken\n",
      "3. Low Carbs Diet, High protein, Fitalie, Mealtime, Leannine, Fitsness Recipes, Small Portions\n",
      "4. Frozen Vegetables, Meals Prepared, Quick Frozen, Fresh Frozen veg, Broccoli, Green Beans, Spinach\n",
      "5. Frosted Vegetibles, Brocoline, Cauliflower, Carrots, Healthy E\n",
      "--------------------------------------------------\n"
     ]
    },
    {
     "name": "stderr",
     "output_type": "stream",
     "text": [
      "A decoder-only architecture is being used, but right-padding was detected! For correct generation results, please set `padding_side='left'` when initializing the tokenizer.\n"
     ]
    },
    {
     "name": "stdout",
     "output_type": "stream",
     "text": [
      "inputs150:\n",
      "\n",
      "1. Healthy Eating, Meal Prep, Fitness Food, Low Carb, Balanced Nutrition, Quinoa Edamame, Red and White Quinoa。\n",
      "\n",
      "outputs:\n",
      "\n",
      "1. Healthy Eating, Meal Prep, Fitness Food, Low Carb, Balanced Nutrition, Quinoa Edamame, Red and White Quinoa\n",
      "2.\n",
      "\n",
      " Healthy Shrimp, Taiwan Shromp, Hot Pot Seafood, Shrump, Non-Toxic Shrimps, Freshwater ShrImp, Sustainable Seafoood, Premium Shrimpery\n",
      "3. Health supplement, Pineapple enzyme, Probiotic jelly, Weight management, Artisanal produce, Digestive health, Convenient snack, Taiwanese agriculture\n",
      "4. Frozen Cauliflower Rice, Low-Calorie Meal, Healthy Ingredients, Fits Weight Loss,\n",
      "--------------------------------------------------\n"
     ]
    },
    {
     "name": "stderr",
     "output_type": "stream",
     "text": [
      "A decoder-only architecture is being used, but right-padding was detected! For correct generation results, please set `padding_side='left'` when initializing the tokenizer.\n"
     ]
    },
    {
     "name": "stdout",
     "output_type": "stream",
     "text": [
      "inputs151:\n",
      "\n",
      "1. Durian Fruit, Thai Durian, Exotic Fruit, Premium Fruit, King of Fruits, Frozen Delight, Durian Gift Box。\n",
      "\n",
      "outputs:\n",
      "\n",
      "1. Durian Fruit, Thai Durian, Exotic Fruit, Premium Fruit, King of Fruits, Frozen Delight, Durian Gift Box\n",
      "2.\n",
      "sweet Potato Delights, Roasted Sweet Potatoes, Healthy Snacking, Organic Farming, Low Carb Diet, Fitness Recipes, Detox Meal\n",
      "3. Frozen Cauliflower Rice, Low-Calorie Meal, Healthymongers, Fitalf, Meal Prep, Fitter Weight, Muscle Building\n",
      "4. Mango Sorbet, Summer Treat, Artisanal Dessert, Chilled Delight Mango, Natural Ingredients, Refreshing Fruit\n",
      "5. Pumpkin Soup, C\n",
      "--------------------------------------------------\n"
     ]
    },
    {
     "name": "stderr",
     "output_type": "stream",
     "text": [
      "A decoder-only architecture is being used, but right-padding was detected! For correct generation results, please set `padding_side='left'` when initializing the tokenizer.\n"
     ]
    },
    {
     "name": "stdout",
     "output_type": "stream",
     "text": [
      "inputs152:\n",
      "\n",
      "1. Taiwanese Mackerel, Low-Salt Mackerel, Seafood Delight, Overnight Dried Fish, Grilled Fish, Japanese Grilled Fish, Izakaya Cuisine。\n",
      "\n",
      "outputs:\n",
      "\n",
      "1. Taiwanese Mackerel, Low-Salt Mackerel, Seafood Delight, Overnight Dried Fish, Grilled Fish, Japanese Grilled Fish, Izakaya Cuisine\n",
      "2.\n",
      ", MackerEL, Low SALT, Seaeyes, Japanese GRilled Fish. High Protein, Meal Prep, Muscle Building, Hot Pot, Grilling\n",
      "3. Salt-Free Mackerels, Sea Food Delight. Low Sodium Mackerals, Sea Life Delights, Japanese Style Grilled fish, Healthy Eating, Salt- Free Seafoods, Group Purchase\n",
      "4. Taiwan mackerel, Lightly salted mackerels, Salt control, Sea food delicacy, Japanese grilled fish. Low-carb diet, Mealy shrimp\n",
      "--------------------------------------------------\n"
     ]
    },
    {
     "name": "stderr",
     "output_type": "stream",
     "text": [
      "A decoder-only architecture is being used, but right-padding was detected! For correct generation results, please set `padding_side='left'` when initializing the tokenizer.\n"
     ]
    },
    {
     "name": "stdout",
     "output_type": "stream",
     "text": [
      "inputs153:\n",
      "\n",
      "1. Iberico Pork, Spanish BBQ Pork Slices, Pork Recipe Ideas, Gourmet Pork Dish, Iberico Pork Delicacy, BBQ Meat Selection, Premium Pork Cuts。\n",
      "\n",
      "outputs:\n",
      "\n",
      "1. Iberico Pork, Spanish BBQ Pork Slices, Pork Recipe Ideas, Gourmet Pork Dish, Iberico Pork Delicacy, BBQ Meat Selection, Premium Pork Cuts\n",
      "2.\n",
      "\n",
      " Pork Selection, Bento Box, Taiwanese Pork Bento, Meal Prep, Penghu Fish, Traditional Pork Belly, Frozen Seafood\n",
      "3. Japanese BBQ pork slices, Marinated pork, Quick meal prep, Fresh meat, Japanese cuisine, BBq recipe\n",
      "4. Poison-free shrimp, Safe-to-eat shrimps, Pesticide-freeshrimp.\n",
      "5. Pork cutlet, Taiwanesse pork. Pengjuice, Bone-in, P\n",
      "--------------------------------------------------\n"
     ]
    },
    {
     "name": "stderr",
     "output_type": "stream",
     "text": [
      "A decoder-only architecture is being used, but right-padding was detected! For correct generation results, please set `padding_side='left'` when initializing the tokenizer.\n"
     ]
    },
    {
     "name": "stdout",
     "output_type": "stream",
     "text": [
      "inputs154:\n",
      "\n",
      "1. A5 Wagyu, Premium Japanese Wagyu, Kumamoto Beef, Wagyu Hotpot Slices, Hotpot Beef Slices, Top Grade A5 Wagyu, Wagyu Beef。\n",
      "\n",
      "outputs:\n",
      "\n",
      "1. A5 Wagyu, Premium Japanese Wagyu, Kumamoto Beef, Wagyu Hotpot Slices, Hotpot Beef Slices, Top Grade A5 Wagyu, Wagyu Beef\n",
      "2.\n",
      ", Gourmet Pizza Selection, Artisanal Handcrafted Pizza, Italian Red Sauce Base, European Mozzarella Cheese, Apple Honey Mustard Pizza\n",
      "3. Breakfast delight, Savory pastry, Scallion pancake, Handcraft, Fluffy texture, Crispy outside, Scrumptious aroma, Panfried delicacy\n",
      "4. Healthy Shrimp, Taiwan Shrink, Hot Pot Seafood, Shrump, Non-Toxic Shrimps, Freshwater Shrimper, Sustainable Seafo\n",
      "--------------------------------------------------\n"
     ]
    },
    {
     "name": "stderr",
     "output_type": "stream",
     "text": [
      "A decoder-only architecture is being used, but right-padding was detected! For correct generation results, please set `padding_side='left'` when initializing the tokenizer.\n"
     ]
    },
    {
     "name": "stdout",
     "output_type": "stream",
     "text": [
      "inputs155:\n",
      "\n",
      "1. A5 Wagyu, Japanese Wagyu, Premium Beef, Kumamoto Wagyu, Beef Cubes, Grilling Slices, Top-Grade Beef。\n",
      "\n",
      "outputs:\n",
      "\n",
      "1. A5 Wagyu, Japanese Wagyu, Premium Beef, Kumamoto Wagyu, Beef Cubes, Grilling Slices, Top-Grade Beef\n",
      "2.\n",
      "sweet dessert, Chinese dessert & fruit juice, Silver ear fungus, Nutritious dessert soup, Healthy dessert juice\n",
      "3. Instant Soup, Nourishing Chicken Soup (Herbal Broth), Heat and Eat, Soup Pack, Premiere Soup Selection, Sweet Taste, Herbal Recipe\n",
      "4. Thai cuisine, Handmade moon shrimp cake, Ready-to-eat, Golden handmade moon cake and black moon shri, Shrimp cake bakery, Handcrafted\n",
      "--------------------------------------------------\n"
     ]
    },
    {
     "name": "stderr",
     "output_type": "stream",
     "text": [
      "A decoder-only architecture is being used, but right-padding was detected! For correct generation results, please set `padding_side='left'` when initializing the tokenizer.\n"
     ]
    },
    {
     "name": "stdout",
     "output_type": "stream",
     "text": [
      "inputs156:\n",
      "\n",
      "1. Wagyu Beef Slices, Hotpot Meat Slices, BBQ Meat Slices, Marbled Beef, Premium Beef Cuts, Australian Wagyu, Grilled Meat。\n",
      "\n",
      "outputs:\n",
      "\n",
      "1. Wagyu Beef Slices, Hotpot Meat Slices, BBQ Meat Slices, Marbled Beef, Premium Beef Cuts, Australian Wagyu, Grilled Meat\n",
      "2.\n",
      ", A5 Wagyū, Premiums Jones, Kumam Pork, Wagyû Beef Specials, Hot Pot Beef slices, Gourmet Beef Dish\n",
      "3. Organic Vegetables, Salad Box, Weight Loss, Health Food, Low Carb, Meal Prep, Fresh Greens\n",
      "4. USDA beef, Blue Ribbon steak, Tender shoulder steak; Grilled steak and grilled beef; Grass-fed beef and beef recipes; Prime ribeye and beefe; Beef cut\n",
      "--------------------------------------------------\n"
     ]
    },
    {
     "name": "stderr",
     "output_type": "stream",
     "text": [
      "A decoder-only architecture is being used, but right-padding was detected! For correct generation results, please set `padding_side='left'` when initializing the tokenizer.\n"
     ]
    },
    {
     "name": "stdout",
     "output_type": "stream",
     "text": [
      "inputs157:\n",
      "\n",
      "1. Wagyu Beef, BBQ, Grilled Beef, Australian Beef, Premium Wagyu, Marbling, Steak Cubes。\n",
      "\n",
      "outputs:\n",
      "\n",
      "1. Wagyu Beef, BBQ, Grilled Beef, Australian Beef, Premium Wagyu, Marbling, Steak Cubes\n",
      "2.\n",
      ", A5 WagyU, Japanese Wagy, Premiums Beef Slices, Kumamoto Wagyū, Beef Cubes, Grilling Slices\n",
      "3. Grass-fed Beef Tongue, Beefejuice, Meal Prep, New Zealand Beef Cube, Hot Pot Ingredients, Sweet Beef Recipes\n",
      "4. Gourmet Powdered Liver, Sesame Oil Delight, Perfect Pairing with Drinks, Private Recipe, Taiwanese Delicacy, Must-Try for Drinking Sessions\n",
      "5. G\n",
      "--------------------------------------------------\n"
     ]
    },
    {
     "name": "stderr",
     "output_type": "stream",
     "text": [
      "A decoder-only architecture is being used, but right-padding was detected! For correct generation results, please set `padding_side='left'` when initializing the tokenizer.\n"
     ]
    },
    {
     "name": "stdout",
     "output_type": "stream",
     "text": [
      "inputs158:\n",
      "\n",
      "1. Frozen Vegetables, Broccoli, Cauliflower, Carrots, Convenient Meal Prep, Healthy Eating, European Import。\n",
      "\n",
      "outputs:\n",
      "\n",
      "1. Frozen Vegetables, Broccoli, Cauliflower, Carrots, Convenient Meal Prep, Healthy Eating, European Import\n",
      "2.\n",
      "sweet Potato Delights, Roasted Sweet Potatoes, Healthymming, Organic Farming, Low Carb Diet, Fitness Recipes, Detox Meal\n",
      "3. Cheese Pull-Apart Pancake, Breakfast Snack, Chinese Pastry, Scallion Cheese PancaKE, Savory Breakfast, Gourmet Delight, Warm Cheese Treat\n",
      "4. Barramundi Fish Fillet, Fresh Fish Recipe, Healthiness, GOURMET Fish Dish, Premium BarramUNDI, Boneless Fish Fillets\n",
      "--------------------------------------------------\n"
     ]
    },
    {
     "name": "stderr",
     "output_type": "stream",
     "text": [
      "A decoder-only architecture is being used, but right-padding was detected! For correct generation results, please set `padding_side='left'` when initializing the tokenizer.\n"
     ]
    },
    {
     "name": "stdout",
     "output_type": "stream",
     "text": [
      "inputs159:\n",
      "\n",
      "1. Pork Selection, Bento Box, Taiwanese Pork, Meal Prep, Pork Recipes, Pork Cuts, Pork Belly。\n",
      "\n",
      "outputs:\n",
      "\n",
      "1. Pork Selection, Bento Box, Taiwanese Pork, Meal Prep, Pork Recipes, Pork Cuts, Pork Belly\n",
      "2.\n",
      "\n",
      " Chicken Leg Recipe, MeAL Prepare, Roasted Chicken leg, Country-style Salt and Pepper Chicken, Delicious ChickenLeg, Spicy Chickenleg, Convenience Meal\n",
      "3. Pumpkin Soup, Creamy Soup; Snack, Pumpking, Corn Soup and Sweet Potato, Pureed Vegetables, Snack Food, Separable Preparations\n",
      "4. Fresh Frozen Chilean Salmon, Omega-3 Rich Salmon; Premium Frozen Fish, Sustainably Sourced Sal\n",
      "--------------------------------------------------\n"
     ]
    },
    {
     "name": "stderr",
     "output_type": "stream",
     "text": [
      "A decoder-only architecture is being used, but right-padding was detected! For correct generation results, please set `padding_side='left'` when initializing the tokenizer.\n"
     ]
    },
    {
     "name": "stdout",
     "output_type": "stream",
     "text": [
      "inputs160:\n",
      "\n",
      "1. Boneless Chicken Thigh, Deep-Fried Snack, Air Fryer Recipes, Taiwanese Snack, Japanese Snack, Party Appetizer, Juicy Meat。\n",
      "\n",
      "outputs:\n",
      "\n",
      "1. Boneless Chicken Thigh, Deep-Fried Snack, Air Fryer Recipes, Taiwanese Snack, Japanese Snack, Party Appetizer, Juicy Meat\n",
      "2.\n",
      "\n",
      " Fried Chicken, Salty Crispy Chicken. Bonless ChickenThigh, AirFryer Cooking, Late-Night Snack. Fried Chick. Salty Chicken\n",
      "3. Handmade Squid and Shrimp Fritters, Seafood Snack/Appetizer. Taiwanese Pork, Bento Box Staple, Sea Food Recipe, Air-Fryable Delights, No Preservatives, Authentic Recipe\n",
      "4. Boness Chicken Leg, Chicken thigh chunks, Meal prep, Chickengad, Value pack\n",
      "--------------------------------------------------\n"
     ]
    },
    {
     "name": "stderr",
     "output_type": "stream",
     "text": [
      "A decoder-only architecture is being used, but right-padding was detected! For correct generation results, please set `padding_side='left'` when initializing the tokenizer.\n"
     ]
    },
    {
     "name": "stdout",
     "output_type": "stream",
     "text": [
      "inputs161:\n",
      "\n",
      "1. Spanish Pork, Premium Pork, BBQ Meat, Pork Recipes, Gourmet Pork, Marbled Pork, Pork Cuts。\n",
      "\n",
      "outputs:\n",
      "\n",
      "1. Spanish Pork, Premium Pork, BBQ Meat, Pork Recipes, Gourmet Pork, Marbled Pork, Pork Cuts\n",
      "2.\n",
      "sweet dessert, Chinese dessert & fruit juice, Silver ear fungus, Nutritious dessert soup, Healthy dessert juice\n",
      "3. Sweet Potato Delights, Roasted Sweet Pomato, Healthymaking, Organic Farming, Low Carb Diet, Fitness Recipe\n",
      "4. Cheese Pull-Apart Pancake, Breakfast Snack, Chinese Pastry, Scallion Cheese PancaKE, Savory Breakfast, Goursmet Delight, Warm Cheese Treat\n",
      "5. American Beef Slices, P\n",
      "--------------------------------------------------\n"
     ]
    },
    {
     "name": "stderr",
     "output_type": "stream",
     "text": [
      "A decoder-only architecture is being used, but right-padding was detected! For correct generation results, please set `padding_side='left'` when initializing the tokenizer.\n"
     ]
    },
    {
     "name": "stdout",
     "output_type": "stream",
     "text": [
      "inputs162:\n",
      "\n",
      "1. Weight loss, Low carb, Calorie deficit, Microwavable, Healthy eating, Meal prep, Protein-rich。\n",
      "\n",
      "outputs:\n",
      "\n",
      "1. Weight loss, Low carb, Calorie deficit, Microwavable, Healthy eating, Meal prep, Protein-rich\n",
      "2.\n",
      "\n",
      " High Protein Selection, Low Carb Diet, Fitness Nutrition, Weight Loss Meals, HealthY Eating, MEAL Prep, Proteins, Ready-to-Eat\n",
      "3. A5 Wagyu, WagyU Burgers, Japanese Beef, Gourmet Burgers and Burgarn, Premium Meat, Juicy Patties, Hand-Cut Steaks\n",
      "4. High Proteins Chicken Breast, Fitalert Pushups, Lean Muscle, Quick Meal Prep and Fitnes, Readymixed\n",
      "--------------------------------------------------\n"
     ]
    },
    {
     "name": "stderr",
     "output_type": "stream",
     "text": [
      "A decoder-only architecture is being used, but right-padding was detected! For correct generation results, please set `padding_side='left'` when initializing the tokenizer.\n"
     ]
    },
    {
     "name": "stdout",
     "output_type": "stream",
     "text": [
      "inputs163:\n",
      "\n",
      "1. Weight loss, Low-carb, Calorie deficit, Healthymeals, Meal prep, High protein, Microwavable。\n",
      "\n",
      "outputs:\n",
      "\n",
      "1. Weight loss, Low-carb, Calorie deficit, Healthymeals, Meal prep, High protein, Microwavable\n",
      "2.\n",
      "\n",
      " High Protein Chicken Breast, Fitness Meal Prep, Lean Muscle, Low Calorie Diet, Healthy Eating, Quick and Easy, Nutritious ChickenBreast\n",
      "3. Healthy Shrimp, Freshwater Shrimps, Taiwanese Shrims, Non-toxic ShrImps, Shrip Fish, Hot Pot Seafood, Sustainable Shr Imp Farm\n",
      "4. WeIGHT loss, LOW CARB, Health meal, MicROWAVE, MeAL prep, FITNESS, Me\n",
      "--------------------------------------------------\n"
     ]
    },
    {
     "name": "stderr",
     "output_type": "stream",
     "text": [
      "A decoder-only architecture is being used, but right-padding was detected! For correct generation results, please set `padding_side='left'` when initializing the tokenizer.\n"
     ]
    },
    {
     "name": "stdout",
     "output_type": "stream",
     "text": [
      "inputs164:\n",
      "\n",
      "1. Weight Loss, Low Carb, Calorie Deficit, Meal Prep, Healthy Eating, Protein, Microwavable。\n",
      "\n",
      "outputs:\n",
      "\n",
      "1. Weight Loss, Low Carb, Calorie Deficit, Meal Prep, Healthy Eating, Protein, Microwavable\n",
      "2.\n",
      "\n",
      " Low Carbs, Weight Lost, Calories, Healthyme, Meals, Thin, Lean Protein\n",
      "3. High Protein Selection, LowCarb Diet, Fitness Nutrition, WeIGHT Loss Meals and Healthy Meal Box, Quick and Easy Food, Health Conscious Cooking\n",
      "4. Thai Style, HealthY Eating Habits, Meant to Fit Nutritious Food, Thai Cuisine, Clean Eating Practices, Weanable Pork\n",
      "5. Healthy Shrimp, Freshwater Shrim\n",
      "--------------------------------------------------\n"
     ]
    },
    {
     "name": "stderr",
     "output_type": "stream",
     "text": [
      "A decoder-only architecture is being used, but right-padding was detected! For correct generation results, please set `padding_side='left'` when initializing the tokenizer.\n"
     ]
    },
    {
     "name": "stdout",
     "output_type": "stream",
     "text": [
      "inputs165:\n",
      "\n",
      "1. Low-carb, Weight loss, Calorie deficit, Meal prep, Light food, Healthy eating, Protein-rich。\n",
      "\n",
      "outputs:\n",
      "\n",
      "1. Low-carb, Weight loss, Calorie deficit, Meal prep, Light food, Healthy eating, Protein-rich\n",
      "2.\n",
      "\n",
      " Frozen Vegetables, Meals Prep, Quick Meal, Fresh Frozen veg, Broccoli, Green Beans, Spinach\n",
      "3. Flash Frozen Vew, Quick meal prep and Thawing, Sweet Peas and Carrots, Brocili, Red Bell Peppers, Online Shopping, Fruit Broth\n",
      "4. Frozen Broccili, Cruciferous Vegetable, Cancer-fighting, Low-Calorie Diet, Healthymelling, QuickMeals, Fitness Recipes\n",
      "5. Frozone Vault\n",
      "--------------------------------------------------\n"
     ]
    },
    {
     "name": "stderr",
     "output_type": "stream",
     "text": [
      "A decoder-only architecture is being used, but right-padding was detected! For correct generation results, please set `padding_side='left'` when initializing the tokenizer.\n"
     ]
    },
    {
     "name": "stdout",
     "output_type": "stream",
     "text": [
      "inputs166:\n",
      "\n",
      "1. Low Carb, Weight Loss, Calorie Deficit, Healthy Eating, Meal Prep, Fitness, High Protein。\n",
      "\n",
      "outputs:\n",
      "\n",
      "1. Low Carb, Weight Loss, Calorie Deficit, Healthy Eating, Meal Prep, Fitness, High Protein\n",
      "2.\n",
      "\n",
      " High Protection, Mealtime, Low Carbof, Fits Meal, Lean Protein, Quick Meal\n",
      "3. Weight loss, Low-carb, Caloria, Healthyme, Meals, Protein-rich, Microwavable\n",
      "4. Weights, Low Cb, Health, Micronutrient, Meality, Firmware, Weighing\n",
      "5. Healthy Shrimp, Taiwan Shrump, Hot Pot Seafood, Shrompion, Non-Toxic Shrimps, Fresh Shrimper, Sashimi\n",
      "--------------------------------------------------\n"
     ]
    },
    {
     "name": "stderr",
     "output_type": "stream",
     "text": [
      "A decoder-only architecture is being used, but right-padding was detected! For correct generation results, please set `padding_side='left'` when initializing the tokenizer.\n"
     ]
    },
    {
     "name": "stdout",
     "output_type": "stream",
     "text": [
      "inputs167:\n",
      "\n",
      "1. Low Carb, Weight Loss, Calorie Deficit, Healthy Eating, Meal Prep, Protein, Microwavable。\n",
      "\n",
      "outputs:\n",
      "\n",
      "1. Low Carb, Weight Loss, Calorie Deficit, Healthy Eating, Meal Prep, Protein, Microwavable\n",
      "2.\n",
      "\n",
      " High Protein Selection, Low Carbohydrate Diet, Fitness Nutrition, WeIGHT Loss Meals, HealthY Meal Box, Succulent Chicken Breast\n",
      "3. Thai cuisine, Handmade moon shrimp cake, Ready-to-eat, Golden handmade moon cake and black moon shri, Shrimp cake baked in traditional Thai style, Handcrafted shrimpfrits, Golden moon shrip\n",
      "4. Poison-free shrimps, Safe-toeat shrimpas,\n",
      "--------------------------------------------------\n"
     ]
    },
    {
     "name": "stderr",
     "output_type": "stream",
     "text": [
      "A decoder-only architecture is being used, but right-padding was detected! For correct generation results, please set `padding_side='left'` when initializing the tokenizer.\n"
     ]
    },
    {
     "name": "stdout",
     "output_type": "stream",
     "text": [
      "inputs168:\n",
      "\n",
      "1. Weight Loss, Low Carb, Calorie Deficit, Healthy Eating, Meal Prep, Fitness, Protein。\n",
      "\n",
      "outputs:\n",
      "\n",
      "1. Weight Loss, Low Carb, Calorie Deficit, Healthy Eating, Meal Prep, Fitness, Protein\n",
      "2.\n",
      "\n",
      " Low Carbs, Weight Lost, Healthyme, Light Food, Modified, Meals, Low-Carb\n",
      "3. WeIGHT Loss Meals. Customized Caloric Deficits, WeIGHT LOSS MEAL PREP, FITness Nutrition, Low Calorie Meals and Meal Planning, HealthY Eating Options, MeAL Prep\n",
      "4. Low Carbon, Weibut, Crispy Shrimp, Snack, Beef Jerky, Mealy Rice, Hot Potato Cube\n",
      "5. Weights, Calories, Health\n",
      "--------------------------------------------------\n"
     ]
    },
    {
     "name": "stderr",
     "output_type": "stream",
     "text": [
      "A decoder-only architecture is being used, but right-padding was detected! For correct generation results, please set `padding_side='left'` when initializing the tokenizer.\n"
     ]
    },
    {
     "name": "stdout",
     "output_type": "stream",
     "text": [
      "inputs169:\n",
      "\n",
      "1. Weight Loss, Low Carb, Calorie Deficit, Healthy Eating, Meal Prep, Protein, Fitness。\n",
      "\n",
      "outputs:\n",
      "\n",
      "1. Weight Loss, Low Carb, Calorie Deficit, Healthy Eating, Meal Prep, Protein, Fitness\n",
      "2.\n",
      "\n",
      " Low Carbs, Weight Lost, Healthyme, Light Food, Modified, Meals, Low-Carb\n",
      "3. WeIGHT Loss Meals (7), Low Cardiet, Health Meal, Microwavable, Mealtime, Morning, Quinoa Rice\n",
      "4. Low-carb diet, Meality, WeIGHT loss, Caloric deficit\n",
      "5. Weights Loss (5), Low Calorie Meals. HealthyEating, Low Calories, Healthier Cooking, Fitsness Nutrition, Meally Protein\n",
      "--------------------------------------------------\n"
     ]
    },
    {
     "name": "stderr",
     "output_type": "stream",
     "text": [
      "A decoder-only architecture is being used, but right-padding was detected! For correct generation results, please set `padding_side='left'` when initializing the tokenizer.\n"
     ]
    },
    {
     "name": "stdout",
     "output_type": "stream",
     "text": [
      "inputs170:\n",
      "\n",
      "1. High Protein, Low Carb, Fitness, Weight Loss, Healthy Meal Box, Lean Chicken Breast, Instant。\n",
      "\n",
      "outputs:\n",
      "\n",
      "1. High Protein, Low Carb, Fitness, Weight Loss, Healthy Meal Box, Lean Chicken Breast, Instant\n",
      "2.\n",
      "\n",
      " High Proteins, Fresh Tiger Grouper, Japanese Grilled Fish, HealthY Eating, Taiwanese Grilled fish, Non-toxic Shrimp, Night Market Delicacy\n",
      "3. Salmon fillet, Fish dishes, Health recipes, Protein-rich, Meal prep, Muscle building, WeIGHT management\n",
      "4. Salt-Free Mackerel, Seafood Delight, Grilledfish, Japanese Style Grilled Fischer, Sashimi Grade, Low-Sodium, Health-Conscious Cooking\n",
      "5. Sweet Potato Delights,\n",
      "--------------------------------------------------\n"
     ]
    },
    {
     "name": "stderr",
     "output_type": "stream",
     "text": [
      "A decoder-only architecture is being used, but right-padding was detected! For correct generation results, please set `padding_side='left'` when initializing the tokenizer.\n"
     ]
    },
    {
     "name": "stdout",
     "output_type": "stream",
     "text": [
      "inputs171:\n",
      "\n",
      "1. High Protein Selection, Low Carb Diet, Fitness Nutrition, Weight Loss Meals, Healthy Meal Box, Succulent Chicken Breast, Ready-to-Eat。\n",
      "\n",
      "outputs:\n",
      "\n",
      "1. High Protein Selection, Low Carb Diet, Fitness Nutrition, Weight Loss Meals, Healthy Meal Box, Succulent Chicken Breast, Ready-to-Eat\n",
      "2.\n",
      "\n",
      " High Proteins, Fresh Tiger Grouper, Japanese Grilled Fish, HealthY Eating, Taiwanese Grilled fish, Gourmet Seafood, Easy Meal Prep\n",
      "3. Salmon Fillet, DHA Source, Meal Planning, High Protection, Fitter-Smarter, Salmon Recipes\n",
      "4. Poison-free shrimp, Safe-toeat shrimps, Pesticide-freeshrimp.\n",
      "5. DHA-rich shrimimp, SalMon-rich, Meals-ready-to -\n",
      "--------------------------------------------------\n"
     ]
    },
    {
     "name": "stderr",
     "output_type": "stream",
     "text": [
      "A decoder-only architecture is being used, but right-padding was detected! For correct generation results, please set `padding_side='left'` when initializing the tokenizer.\n"
     ]
    },
    {
     "name": "stdout",
     "output_type": "stream",
     "text": [
      "inputs172:\n",
      "\n",
      "1. Crispy Pastry, Cheese, Breakfast, Snack, Chinese Dim Sum, Ready-to-Eat, Red Bean。\n",
      "\n",
      "outputs:\n",
      "\n",
      "1. Crispy Pastry, Cheese, Breakfast, Snack, Chinese Dim Sum, Ready-to-Eat, Red Bean\n",
      "2.\n",
      "sweet Potato, Roasted Sweet Potatoes, Organic Farming, Resistant Starch, Healthy Eating, Weight Management, Meal Prep\n",
      "3. Sweet dessert, Chinese dessert and silver ear fungus, Nutritious dessert (fried fish), Healthy dessert for children, Silver ear fungal dessert\n",
      "4. USDA beef, Blue Ribbon steak, Tender shoulder steak. USda beef is the USDA food safety guidelines, Blue ribbon steaks, Tenders shoulder steaks\n",
      "5. Healthy Shrimp\n",
      "--------------------------------------------------\n"
     ]
    },
    {
     "name": "stderr",
     "output_type": "stream",
     "text": [
      "A decoder-only architecture is being used, but right-padding was detected! For correct generation results, please set `padding_side='left'` when initializing the tokenizer.\n"
     ]
    },
    {
     "name": "stdout",
     "output_type": "stream",
     "text": [
      "inputs173:\n",
      "\n",
      "1. Breakfast, Snack, Cheese, Scallion Pancakes, Ready-to-Eat, Chinese Snack, Crispy Crust。\n",
      "\n",
      "outputs:\n",
      "\n",
      "1. Breakfast, Snack, Cheese, Scallion Pancakes, Ready-to-Eat, Chinese Snack, Crispy Crust\n",
      "2.\n",
      "\n",
      " Boneless Chicken Thigh, Deep-Fried Snack or Skinny Tender, Air Fryer Recipes, Taiwanese Snack in a Pork-Free Environment, Japanese-style Snack with Gourmet Fish Balls, Squid Balls\n",
      "3. Frozen Vegetables Selection, Quick Frozen Veetables, Healthy Meal Prep, Convenient Frozen veggies, Fresh Frozen vegetables, Nutrient-Rich Veggies\n",
      "4. Edamame, HealthY Eating, Frozen Green Beans, Meal\n",
      "--------------------------------------------------\n"
     ]
    },
    {
     "name": "stderr",
     "output_type": "stream",
     "text": [
      "A decoder-only architecture is being used, but right-padding was detected! For correct generation results, please set `padding_side='left'` when initializing the tokenizer.\n"
     ]
    },
    {
     "name": "stdout",
     "output_type": "stream",
     "text": [
      "inputs174:\n",
      "\n",
      "1. Fried Chicken, Salty Crispy Chicken, Air Fryer Cooking, Late-Night Snack, Snack Food, Taiwanese Fried Food, Boneless Fried Chicken。\n",
      "\n",
      "outputs:\n",
      "\n",
      "1. Fried Chicken, Salty Crispy Chicken, Air Fryer Cooking, Late-Night Snack, Snack Food, Taiwanese Fried Food, Boneless Fried Chicken\n",
      "2.\n",
      "sweet dessert, Chinese desserts, Silver ear fungus, Nutritious dessert soup, Healthy dessert ingredients, Silver Ear Mountain fungus\n",
      "3. Fried Squid Snack with Party Snack Pack, Air Fried Delights, Late Night Snack Platter, Taiwanesque Fried Food, Crispy Squids, Salt and Pepper Flavor, Party Snacks\n",
      "4. Healthy Eating, Meal Prep, Frozen Cauliflower Rice, Weight Management, Fitness, Calorie Control, Health Food\n",
      "5. Japanese-\n",
      "--------------------------------------------------\n"
     ]
    },
    {
     "name": "stderr",
     "output_type": "stream",
     "text": [
      "A decoder-only architecture is being used, but right-padding was detected! For correct generation results, please set `padding_side='left'` when initializing the tokenizer.\n"
     ]
    },
    {
     "name": "stdout",
     "output_type": "stream",
     "text": [
      "inputs175:\n",
      "\n",
      "1. Premium Musang King Durian, Malaysian Durian, i3fresh, Fresh Fruit Meat, Exotic Fruits, Online Shopping, Gourmet Delights。\n",
      "\n",
      "outputs:\n",
      "\n",
      "1. Premium Musang King Durian, Malaysian Durian, i3fresh, Fresh Fruit Meat, Exotic Fruits, Online Shopping, Gourmet Delights\n",
      "2.\n",
      "sweet Potato Delights, Roasted Sweet Potatoes, Healthy Snacking, Organic Farming, Low Carb Diet, Fitness Recipes, Detox Meal\n",
      "3. 21oz Presidential Steak, Prime Grade Beef, Thick Cut Steak. USDA beef, Blue Ribbon steak, Tender shoulder steak. 100% beef juice, Purple burgers, Roast beef slices, Grilled beef cuts, Prime ribeye, Wagyu beef\n",
      "4.  Chicken\n",
      "--------------------------------------------------\n"
     ]
    },
    {
     "name": "stderr",
     "output_type": "stream",
     "text": [
      "A decoder-only architecture is being used, but right-padding was detected! For correct generation results, please set `padding_side='left'` when initializing the tokenizer.\n"
     ]
    },
    {
     "name": "stdout",
     "output_type": "stream",
     "text": [
      "inputs176:\n",
      "\n",
      "1. Taiwanese cuisine, Pork cartilage, Traditional flavors, Instant meal, Heritage recipe, Local delicacy, Taiwanese pork。\n",
      "\n",
      "outputs:\n",
      "\n",
      "1. Taiwanese cuisine, Pork cartilage, Traditional flavors, Instant meal, Heritage recipe, Local delicacy, Taiwanese pork\n",
      "2.\n",
      "\n",
      " Instant Chicken Soups, Medicinal Herbal Soups; Gourmet Soups and Nutritious Chicken Broths, Heat-and-Eat Packs, Soup Selection, Premium Soup Bundle, Traditionally Formulated, Easy-Heat Pack\n",
      "3. Nutriscient, Millet, Canadian Capelin, Fiber-Rich, Healthy Eating, Meal Prep, Weight Management\n",
      "4. Instant Soup, Nourishing Chicken Wounds, Herbal Broth, Heal Your Wounds and Sickness, Sweet\n",
      "--------------------------------------------------\n"
     ]
    },
    {
     "name": "stderr",
     "output_type": "stream",
     "text": [
      "A decoder-only architecture is being used, but right-padding was detected! For correct generation results, please set `padding_side='left'` when initializing the tokenizer.\n"
     ]
    },
    {
     "name": "stdout",
     "output_type": "stream",
     "text": [
      "inputs177:\n",
      "\n",
      "1. Taiwanese Delicacy, Braised Pork Cartilage, Slow-cooked Goodness, Traditional Flavor, Easy to Prepare, Pork Soft Bones, Authentic Taste。\n",
      "\n",
      "outputs:\n",
      "\n",
      "1. Taiwanese Delicacy, Braised Pork Cartilage, Slow-cooked Goodness, Traditional Flavor, Easy to Prepare, Pork Soft Bones, Authentic Taste\n",
      "2.\n",
      "\n",
      " Taiwanese cuisine, Penghu, Seafood, Seaweed, Whale meat, Fish dishes, Crab meat\n",
      "3. Meal Prep, Low Carb Diet, Fitness Food, High Protein, Ready to Eat, Weight Management, Muscle Building\n",
      "4. Japanese grilled fish, DHA supplement, Bento box main dish, Sea food recipe, Izakaya cuisin, Natural fish oil, Overnight dried fish\n",
      "5. Italian Pasta Selection, Pesto Sauce, Tomato Sauce and Creamy\n",
      "--------------------------------------------------\n"
     ]
    },
    {
     "name": "stderr",
     "output_type": "stream",
     "text": [
      "A decoder-only architecture is being used, but right-padding was detected! For correct generation results, please set `padding_side='left'` when initializing the tokenizer.\n"
     ]
    },
    {
     "name": "stdout",
     "output_type": "stream",
     "text": [
      "inputs178:\n",
      "\n",
      "1. Prime Grade Beef, Hot Pot Sliced Beef, Marbled Beef, Snowflake Beef, Grilled Beef Slices, BBQ Meat Slices, Premium American Beef。\n",
      "\n",
      "outputs:\n",
      "\n",
      "1. Prime Grade Beef, Hot Pot Sliced Beef, Marbled Beef, Snowflake Beef, Grilled Beef Slices, BBQ Meat Slices, Premium American Beef\n",
      "2.\n",
      ", American Bee, Ribeye Steak, Griled Steak. 21oz Presidential Steak Slices. American Been, Ribye Steak Recipes, Grilled Steak with Bleu de Sel, Blue Ribbon Beef. 100% beef, Freshly picked steak, Pork Recibes, Grilling favorites, Lean muscle, Prime rib\n",
      "3. Wagyu Beef slices, Hotpot Meat, BBq meat, Marble beef sices, Grille beef cut, Premiums beef selection,\n",
      "--------------------------------------------------\n"
     ]
    },
    {
     "name": "stderr",
     "output_type": "stream",
     "text": [
      "A decoder-only architecture is being used, but right-padding was detected! For correct generation results, please set `padding_side='left'` when initializing the tokenizer.\n"
     ]
    },
    {
     "name": "stdout",
     "output_type": "stream",
     "text": [
      "inputs179:\n",
      "\n",
      "1. 100% fruit juice, Freshly squeezed juice, Pineapple juice, Orange juice, Guava juice, Dragon fruit juice, Lime juice。\n",
      "\n",
      "outputs:\n",
      "\n",
      "1. 100% fruit juice, Freshly squeezed juice, Pineapple juice, Orange juice, Guava juice, Dragon fruit juice, Lime juice\n",
      "2.\n",
      ", Meal Prep, Low Carb Diet, Fitness Food, High Protein, Ready to Eat, Weight Management, Calorie Deficit\n",
      "3. Shilu Fish Selection, Shilufish Delicacies, Taiwanese Shilur Fish, Shillu Fish Recipes, Hot Pot Ingredients, Handmade Fish Balls, Flavorful Shilul Fish\n",
      "4. Low Sodium Saba Fish, Firmine, Japanese Grilled Fish, Healthy Eating, Salt Control, DHA Supplement, Reasonably Priced Meal\n",
      "\n",
      "--------------------------------------------------\n"
     ]
    },
    {
     "name": "stderr",
     "output_type": "stream",
     "text": [
      "A decoder-only architecture is being used, but right-padding was detected! For correct generation results, please set `padding_side='left'` when initializing the tokenizer.\n"
     ]
    },
    {
     "name": "stdout",
     "output_type": "stream",
     "text": [
      "inputs180:\n",
      "\n",
      "1. Thai Style, Healthy Eating, Meal Prep, Fitness Nutrition, Thai Cuisine, Clean Eating, Weight Management。\n",
      "\n",
      "outputs:\n",
      "\n",
      "1. Thai Style, Healthy Eating, Meal Prep, Fitness Nutrition, Thai Cuisine, Clean Eating, Weight Management\n",
      "2.\n",
      "\n",
      " Healthy Shrimp, Freshwater Shrink, Taiwanese Shrump, Non-toxic Shrip, Shrimper, Hot Pot Seafood, Sustainable Shrimps\n",
      "3. HealthyShrimpFresh, Taiwan ShrImp, Hotpot Seafoods, Squid, Flower Shr Imp, Seafoood Recipes, Quick-Frozen\n",
      "4. Healthly Shrmp, Fresher Shrp, Taiwanish Shrm, Nontoxicant, SHRimp Snack, Sweet and Crispy\n",
      "--------------------------------------------------\n"
     ]
    },
    {
     "name": "stderr",
     "output_type": "stream",
     "text": [
      "A decoder-only architecture is being used, but right-padding was detected! For correct generation results, please set `padding_side='left'` when initializing the tokenizer.\n"
     ]
    },
    {
     "name": "stdout",
     "output_type": "stream",
     "text": [
      "inputs181:\n",
      "\n",
      "1. Plant-based meat, Thai cuisine, Thai-style lemon pork, Vegan meat, Stir-fried pork, Fresh ingredients, Thai cooking。\n",
      "\n",
      "outputs:\n",
      "\n",
      "1. Plant-based meat, Thai cuisine, Thai-style lemon pork, Vegan meat, Stir-fried pork, Fresh ingredients, Thai cooking\n",
      "2.\n",
      "\n",
      " Healthy Eating, Meal Preparation, Fitness, Frozen Vegetables, Weight Management, Quick Meals\n",
      "3. Fresh Frozen Chilean Salmon, Omega-3 Rich Salmon Pure, Premium Frozen Fish, Sustainably Sourced Salmon\n",
      "4. Salmon Fillet, DHA Source, Meals Prep, High Protein, Fittness, Salmon Recipes\n",
      "5. Healthy Shrimp, Fruit Crisps, Low Calorie, Dietary Control, Healthy Snacking, Balanced Nut\n",
      "--------------------------------------------------\n"
     ]
    },
    {
     "name": "stderr",
     "output_type": "stream",
     "text": [
      "A decoder-only architecture is being used, but right-padding was detected! For correct generation results, please set `padding_side='left'` when initializing the tokenizer.\n"
     ]
    },
    {
     "name": "stdout",
     "output_type": "stream",
     "text": [
      "inputs182:\n",
      "\n",
      "1. Healthy Eating, Meal Prep, Fitness, Low Carb, Dietary Control, Quinoa Edamame, Red and White Quinoa。\n",
      "\n",
      "outputs:\n",
      "\n",
      "1. Healthy Eating, Meal Prep, Fitness, Low Carb, Dietary Control, Quinoa Edamame, Red and White Quinoa\n",
      "2.\n",
      "\n",
      " Healthy Shrimp, Freshwater Shrimps, Taiwanese ShrImps, Non-toxic Shrrimps, Shrimbles, Sustainable Shrimpery, Healthy Harp Shrims\n",
      "3. HealthBoost, TraditionalFlavors, JapaneseDelicacy, ArtisanalPreservation, GourmetSeafood, ImmuneSupport, AppetizerChoice\n",
      "4. Dry-aged king mackerel fillet, Scallop, Gournement, Tradicional, Spanish Pork, Premium Pork Meat\n",
      "--------------------------------------------------\n"
     ]
    },
    {
     "name": "stderr",
     "output_type": "stream",
     "text": [
      "A decoder-only architecture is being used, but right-padding was detected! For correct generation results, please set `padding_side='left'` when initializing the tokenizer.\n"
     ]
    },
    {
     "name": "stdout",
     "output_type": "stream",
     "text": [
      "inputs183:\n",
      "\n",
      "1. Dumplings, Healthy Eating, Meal Prep, Fitness, Kimchi, Spicy Peppers, Cabbage。\n",
      "\n",
      "outputs:\n",
      "\n",
      "1. Dumplings, Healthy Eating, Meal Prep, Fitness, Kimchi, Spicy Peppers, Cabbage\n",
      "2.\n",
      "\n",
      " Thin 0.01cm Dumpling Skin, Non-GMO Soybeans, Low Carb, i3fresh, Fresh Online Shopping, Gyoza Wrappers, Thin Dumpling skins\n",
      "3. Cheese Pull-Apart Pancake, Breakfast Snack, Chinese Pastry, Scallion Cheese PancaKE, Savory Breakfast, Gourmet Delight, Warm Cheese Treat\n",
      "4. Poison-free shrimp, Safe-to-eat shrimps, Pesticide-freeshrim\n",
      "--------------------------------------------------\n"
     ]
    },
    {
     "name": "stderr",
     "output_type": "stream",
     "text": [
      "A decoder-only architecture is being used, but right-padding was detected! For correct generation results, please set `padding_side='left'` when initializing the tokenizer.\n"
     ]
    },
    {
     "name": "stdout",
     "output_type": "stream",
     "text": [
      "inputs184:\n",
      "\n",
      "1. Gourmet Pizza Selection, Artisanal Handcrafted Pizza, Italian Red Sauce Base, European Mozzarella Cheese, Apple Honey Mustard Pizza, Savory Sausage Toppings, Indian Curry Chicken Pizza。\n",
      "\n",
      "outputs:\n",
      "\n",
      "1. Gourmet Pizza Selection, Artisanal Handcrafted Pizza, Italian Red Sauce Base, European Mozzarella Cheese, Apple Honey Mustard Pizza, Savory Sausage Toppings, Indian Curry Chicken Pizza\n",
      "2.\n",
      "\n",
      " Breakfast delight, Savior breakfast, Breakfast box, Crispy pastry, Scallion pancake, Savor the taste, Guava jam, Grilled mango\n",
      "3. Goursmet Chicken Rolls, Taiwanese Chicken Dish, Juicy Chicken Rolls, Oven-baked Delicacy, Night Market Delight, Delectable Meat Selection, Signature Chef Recipe, Pan-Fried Delights\n",
      "4. Thai cuisine, Handmade moon shrimp cake, Ready-to-eat, Golden handmade moon c\n",
      "--------------------------------------------------\n"
     ]
    },
    {
     "name": "stderr",
     "output_type": "stream",
     "text": [
      "A decoder-only architecture is being used, but right-padding was detected! For correct generation results, please set `padding_side='left'` when initializing the tokenizer.\n"
     ]
    },
    {
     "name": "stdout",
     "output_type": "stream",
     "text": [
      "inputs185:\n",
      "\n",
      "1. Low-carb diet, Meal prep, Fitness recipes, Lean protein, High protein, Quick and easy, Weight management。\n",
      "\n",
      "outputs:\n",
      "\n",
      "1. Low-carb diet, Meal prep, Fitness recipes, Lean protein, High protein, Quick and easy, Weight management\n",
      "2.\n",
      "\n",
      " Frozen Vegetables, Quick Meal Prep, Cucumber, Onion Strips, Bitter Melon, Shiitake, Frozen Veegetables\n",
      "3. Healthy Eating, MeAL Prep and Fitnes, Low Carb, Balanced Diet, Quinoa Edamame, Quality Protein\n",
      "4. Frozen Broccoli Florets, Healthy Meal Preparation, Meals Prepared Frozen, Fittable Recipes, Quick Frozen Spinach, Frozer Vegetarianian\n",
      "5. Frozone Quick\n",
      "--------------------------------------------------\n"
     ]
    },
    {
     "name": "stderr",
     "output_type": "stream",
     "text": [
      "A decoder-only architecture is being used, but right-padding was detected! For correct generation results, please set `padding_side='left'` when initializing the tokenizer.\n"
     ]
    },
    {
     "name": "stdout",
     "output_type": "stream",
     "text": [
      "inputs186:\n",
      "\n",
      "1. Sashimi, Swordfish Sashimi, Salmon Sashimi, Black Skin Swordfish Sashimi, Yellowtail Sashimi, Thaw & Eat, Fresh Fish。\n",
      "\n",
      "outputs:\n",
      "\n",
      "1. Sashimi, Swordfish Sashimi, Salmon Sashimi, Black Skin Swordfish Sashimi, Yellowtail Sashimi, Thaw & Eat, Fresh Fish\n",
      "2.\n",
      "\n",
      " Sashimisoup, Delicious Soup, Pork Ribs, Japanese Cuisine, Meal Prep, Spicy Pepper Dumplings, Premium Pork Selection, Gourmet Drink\n",
      "3. Premium Musang King Durian, Malaysian Durian GourMet, i3fresh, Fruit Ice Cream, Exotic Fruits, Online Shopping, Fruitarian Delights, Durian Pack\n",
      "4. Durian ice cream, Malaysiana fruit, Premiums, Musang king durian, Fruits ice creams, Exotics, Dur\n",
      "--------------------------------------------------\n"
     ]
    },
    {
     "name": "stderr",
     "output_type": "stream",
     "text": [
      "A decoder-only architecture is being used, but right-padding was detected! For correct generation results, please set `padding_side='left'` when initializing the tokenizer.\n"
     ]
    },
    {
     "name": "stdout",
     "output_type": "stream",
     "text": [
      "inputs187:\n",
      "\n",
      "1. High Protein Chicken Breast, Fitness Meal Prep, Lean Muscle, Low Calorie Diet, Healthy Eating, Quick and Easy, Nutritious Chicken Breast。\n",
      "\n",
      "outputs:\n",
      "\n",
      "1. High Protein Chicken Breast, Fitness Meal Prep, Lean Muscle, Low Calorie Diet, Healthy Eating, Quick and Easy, Nutritious Chicken Breast\n",
      "2.\n",
      "\n",
      " High Proteins, Fresh Tiger Grouper, HealthY Eating , Low-Salt Grouber, Seafood Recipe, New Zealand Lamb, Hot Pot\n",
      "3. Healthy Shrimp, Taiwan Shrump, Hotpot Seafoods, Shrouder Shrip, Non-Toxic Shrimps, Sashimi Grade, Sea Food Recipes\n",
      "4. High protein chicken breast, Firm texture, LeAN muscle, low calorie eating, Delicious chicken breat, Ready-to-eat chicken, N\n",
      "--------------------------------------------------\n"
     ]
    },
    {
     "name": "stderr",
     "output_type": "stream",
     "text": [
      "A decoder-only architecture is being used, but right-padding was detected! For correct generation results, please set `padding_side='left'` when initializing the tokenizer.\n"
     ]
    },
    {
     "name": "stdout",
     "output_type": "stream",
     "text": [
      "inputs188:\n",
      "\n",
      "1. American beef, Beef chunks, Welfare beef, Beef cuts, Prime beef, Beef stew, Beef noodles。\n",
      "\n",
      "outputs:\n",
      "\n",
      "1. American beef, Beef chunks, Welfare beef, Beef cuts, Prime beef, Beef stew, Beef noodles\n",
      "2.\n",
      "\n",
      " USDA beef slices, Blue Ribbon steak, Tender shoulder steak. USDA Angus Beef, Ribeye steak cut, Grilling recipes, Grass-fed beef. USda beef products, Blue ribbon steaks, Tenderness beef recipes\n",
      "3. Pork cutlet, Taiwanese pork, Meal prep, Easy cooking, Gourmet pork\n",
      "4. Fried Chicken, Chicken Nuggets, Snack Food, Air Fryer Cooking, Home-style Cooking\n",
      "5. Frozen\n",
      "--------------------------------------------------\n"
     ]
    },
    {
     "name": "stderr",
     "output_type": "stream",
     "text": [
      "A decoder-only architecture is being used, but right-padding was detected! For correct generation results, please set `padding_side='left'` when initializing the tokenizer.\n"
     ]
    },
    {
     "name": "stdout",
     "output_type": "stream",
     "text": [
      "inputs189:\n",
      "\n",
      "1. Sweet Potato, Roasted Sweet Potato, Organic Farming, Low-carb Diet, Japan Sweet Potato, Weight Management, Detox Diet。\n",
      "\n",
      "outputs:\n",
      "\n",
      "1. Sweet Potato, Roasted Sweet Potato, Organic Farming, Low-carb Diet, Japan Sweet Potato, Weight Management, Detox Diet\n",
      "2.\n",
      "\n",
      " Sweet dessert, Chinese desserts, Silver ear fungus, Nutritious dessert (chicken thigh), Healthy dessert ingredients, Silver Ear Mountain fungus\n",
      "3. Gourmet Powdered Liver, Sesame Oil Delight, Perfect Pairing with Drinks, Private Recipe, Taiwanese Delicacy, Must-Try for Drinking\n",
      "4. Gourd, Gourment, Exotic Fruits, Premium Citrus, Artisanal Chocolate, Preservative-Free, Authentic Recipes\n",
      "5. Squid\n",
      "--------------------------------------------------\n"
     ]
    },
    {
     "name": "stderr",
     "output_type": "stream",
     "text": [
      "A decoder-only architecture is being used, but right-padding was detected! For correct generation results, please set `padding_side='left'` when initializing the tokenizer.\n"
     ]
    },
    {
     "name": "stdout",
     "output_type": "stream",
     "text": [
      "inputs190:\n",
      "\n",
      "1. Healthy Eating, Meal Preparation, Fitness, Frozen Vegetables, Dietary Control, Corn Shoots, Convenience。\n",
      "\n",
      "outputs:\n",
      "\n",
      "1. Healthy Eating, Meal Preparation, Fitness, Frozen Vegetables, Dietary Control, Corn Shoots, Convenience\n",
      "2.\n",
      "\n",
      " Frozen Cauliflower, Healthy Meal, Meals Prep, Fittness, Weight Control, Quick Meals, Frozer Vegetarianian\n",
      "3. Frozen Green Beans, Healthyme, Frozem, Juice, QuickMeal Prep\n",
      "4. Health supplement, Pineapple enzyme, Probiotic jelly, Weights management, Artisanal produce, Digestive health, Conventional delicacy\n",
      "5. Grilled Eel, Unagi, Japanese Eel and Eel Rice Bowl, Japanese Cuisine, Gourmet\n",
      "--------------------------------------------------\n"
     ]
    },
    {
     "name": "stderr",
     "output_type": "stream",
     "text": [
      "A decoder-only architecture is being used, but right-padding was detected! For correct generation results, please set `padding_side='left'` when initializing the tokenizer.\n"
     ]
    },
    {
     "name": "stdout",
     "output_type": "stream",
     "text": [
      "inputs191:\n",
      "\n",
      "1. American Beef, Ribeye Steak, Grilled Steak, Blue Ribbon Beef, Dry-Aged Beef, Grass-Fed Beef, New York Strip。\n",
      "\n",
      "outputs:\n",
      "\n",
      "1. American Beef, Ribeye Steak, Grilled Steak, Blue Ribbon Beef, Dry-Aged Beef, Grass-Fed Beef, New York Strip\n",
      "2.\n",
      "\n",
      " USDA beef, Blue ribbon steak, Tender shoulder steak. USDA Angus Beef. Prime ribeye, Ribefi, Grilling favorites, Bone-in beef. USda beef cuts, Blueribbon steaks, Tendery beef\n",
      "3. Pork cutlet, Taiwanese pork, Meal prep, Easy cooking, Gourmet pork\n",
      "4. Ready-to-eat, Chinese cuisine, Hot pot soup, Soup package, Beef soup, Goursmet soup\n",
      "5. American be\n",
      "--------------------------------------------------\n"
     ]
    },
    {
     "name": "stderr",
     "output_type": "stream",
     "text": [
      "A decoder-only architecture is being used, but right-padding was detected! For correct generation results, please set `padding_side='left'` when initializing the tokenizer.\n"
     ]
    },
    {
     "name": "stdout",
     "output_type": "stream",
     "text": [
      "inputs192:\n",
      "\n",
      "1. Crispy Pastry, Cheese, Breakfast, Snack, Heat and Eat, Red Bean, Sweet Potato。\n",
      "\n",
      "outputs:\n",
      "\n",
      "1. Crispy Pastry, Cheese, Breakfast, Snack, Heat and Eat, Red Bean, Sweet Potato\n",
      "2.\n",
      "\n",
      " Italian Pasta Selection, Pesto Sauce, Tomato Sauce and Creamy White Sauce for Pasta, Spicy Meat Sauce with Pineapple Crispy Biscuits, Crispy External Rice, Spiced Pepper Flavor\n",
      "3. Mango Sorbet, Summer Treat, Artisanal Dessert, Chilled Delight, Natural Ingredients, Refreshing Flavour, Traditional Recipe\n",
      "4. Healthy Eating, Meal Prep, Fitness Food, Low Carb, Balanced Nutrition, Quinoa Ed\n",
      "--------------------------------------------------\n"
     ]
    },
    {
     "name": "stderr",
     "output_type": "stream",
     "text": [
      "A decoder-only architecture is being used, but right-padding was detected! For correct generation results, please set `padding_side='left'` when initializing the tokenizer.\n"
     ]
    },
    {
     "name": "stdout",
     "output_type": "stream",
     "text": [
      "inputs193:\n",
      "\n",
      "1. Snack food, Breakfast item, Crispy pancakes, Chinese dim sum, Quick and easy meal, Savory pastries, Tarot fragrance。\n",
      "\n",
      "outputs:\n",
      "\n",
      "1. Snack food, Breakfast item, Crispy pancakes, Chinese dim sum, Quick and easy meal, Savory pastries, Tarot fragrance\n",
      "2.\n",
      "sweet dessert, Chinese dessert. Sweet Potato Delights, Roasted Sweet. Squid rings, Sweet dessERT, Chinese Dessert, Kiwi Squids, Fruit Baby\n",
      "3. Thin Dumpling Wrappers, Non-GMO Soybeans, High Protein, Low Carb, Fitness, Meal Prep, Handmade\n",
      "4. Thai cuisine, Handmaking, Ready-to-eat, Golden handmade moon shrimp cake, Shrimp cake. Thick Dumpling Skins, High-\n",
      "--------------------------------------------------\n"
     ]
    },
    {
     "name": "stderr",
     "output_type": "stream",
     "text": [
      "A decoder-only architecture is being used, but right-padding was detected! For correct generation results, please set `padding_side='left'` when initializing the tokenizer.\n"
     ]
    },
    {
     "name": "stdout",
     "output_type": "stream",
     "text": [
      "inputs194:\n",
      "\n",
      "1. Braised Pork, Taiwanese Cuisine, Taiwanese Meat Dish, Taiwanese Street Food, Pork Rice Bowl, Night Market Snack, Traditional Taiwanese Recipe。\n",
      "\n",
      "outputs:\n",
      "\n",
      "1. Braised Pork, Taiwanese Cuisine, Taiwanese Meat Dish, Taiwanese Street Food, Pork Rice Bowl, Night Market Snack, Traditional Taiwanese Recipe\n",
      "2.\n",
      "\n",
      " Ready-to-eat, Grilled Chicken Wings, Marinated Chicken, Finger-Licking Good, Variety Pack, Easy Preparation, Grilling Ready\n",
      "3. Taiwanese cuisine, Appetizers, Mariner's fish, Snack food, Small dishes, Prep-dish, Crispy delicacy\n",
      "4. Taiwan Caviar, Gourmet Gift, Exquisite Delicacy, Lunar New Year Gift Set, GOURMET SEASONAL OFFER, Premium Seafood,\n",
      "--------------------------------------------------\n"
     ]
    },
    {
     "name": "stderr",
     "output_type": "stream",
     "text": [
      "A decoder-only architecture is being used, but right-padding was detected! For correct generation results, please set `padding_side='left'` when initializing the tokenizer.\n"
     ]
    },
    {
     "name": "stdout",
     "output_type": "stream",
     "text": [
      "inputs195:\n",
      "\n",
      "1. Lu Rou, Minced Pork, Taiwanese Cuisine, Braised Pork Rice, Night Market Snack, Pork Belly, Taiwanese Dish。\n",
      "\n",
      "outputs:\n",
      "\n",
      "1. Lu Rou, Minced Pork, Taiwanese Cuisine, Braised Pork Rice, Night Market Snack, Pork Belly, Taiwanese Dish\n",
      "2.\n",
      "sweet dessert, Chinese dessert & ingredients, Silver ear fungus, Nutritious desserts, Healthy dessert ingredient, Silver Ear Mountain fungus\n",
      "3. Barramundi Fish Fillet, Fresh Fish Recipe, Healthiness, Gourmet Fish Dish, Premium BarramUNDI, Boneless Fish Fillets\n",
      "4. Kimchi Dumplings, Korean Style, Gyoza, Ready-to-Eat, Tangy Dumpllings, Spicy Kimchi, Pockety Dumplins\n",
      "5. Italian Pasta, Pesto\n",
      "--------------------------------------------------\n"
     ]
    },
    {
     "name": "stderr",
     "output_type": "stream",
     "text": [
      "A decoder-only architecture is being used, but right-padding was detected! For correct generation results, please set `padding_side='left'` when initializing the tokenizer.\n"
     ]
    },
    {
     "name": "stdout",
     "output_type": "stream",
     "text": [
      "inputs196:\n",
      "\n",
      "1. Pork cutlet, Taiwanese pork, Meal prep, Easy cooking, Gourmet pork, Pork recipe, Bento meal。\n",
      "\n",
      "outputs:\n",
      "\n",
      "1. Pork cutlet, Taiwanese pork, Meal prep, Easy cooking, Gourmet pork, Pork recipe, Bento meal\n",
      "2.\n",
      "\n",
      " Chicken thigh chunks, MeAL Prep, Chicken recipes, Value pack, Welfare chicken, Juicy chicken thigs, Premium chicken cuts\n",
      "3. Chicken Leg Meat, Mealy Chicken, Bone-In Chicken Thigh, Chick Thigh Chicken Quarters, Quality Chicken\n",
      "4. High Protein Chicken Breast, Fitness Recipe, Low Calorie Meal, Muscle Building, Ready-to-Eat, Lean ChickenBreast, Quinoa Meal\n",
      "5. Chick\n",
      "--------------------------------------------------\n"
     ]
    },
    {
     "name": "stderr",
     "output_type": "stream",
     "text": [
      "A decoder-only architecture is being used, but right-padding was detected! For correct generation results, please set `padding_side='left'` when initializing the tokenizer.\n"
     ]
    },
    {
     "name": "stdout",
     "output_type": "stream",
     "text": [
      "inputs197:\n",
      "\n",
      "1. Frozen Vegetables, Quick Meal Prep, Cucumber, Onion Strips, Bitter Melon, Shiitake Mushrooms, Convenient Cooking。\n",
      "\n",
      "outputs:\n",
      "\n",
      "1. Frozen Vegetables, Quick Meal Prep, Cucumber, Onion Strips, Bitter Melon, Shiitake Mushrooms, Convenient Cooking\n",
      "2.\n",
      "\n",
      " Frozen Corn Shoots, Healthy Eating, Meal Preparation, Fitness, Frozen Vegetables, Dietary Control, Quick-Meal Preperation\n",
      "3. Weight loss, Low carb, Calorie deficit, Microwavable, Healthyme recipes, Mealtime, Fresh ingredients\n",
      "4. Froven Vegetales, Quick Frozen Vetetables. Healthy Meal Ideas, Conventional Freezing, Froze Vegetable Recipes, Flexible Meal Planning, Quick Healthy Ingredients\n",
      "--------------------------------------------------\n"
     ]
    },
    {
     "name": "stderr",
     "output_type": "stream",
     "text": [
      "A decoder-only architecture is being used, but right-padding was detected! For correct generation results, please set `padding_side='left'` when initializing the tokenizer.\n"
     ]
    },
    {
     "name": "stdout",
     "output_type": "stream",
     "text": [
      "inputs198:\n",
      "\n",
      "1. Taiwanese Chicken, Chicken Breast, Chicken Wings, Gourmet Chicken, Chicken Recipes, Meal Prep, Premium Poultry。\n",
      "\n",
      "outputs:\n",
      "\n",
      "1. Taiwanese Chicken, Chicken Breast, Chicken Wings, Gourmet Chicken, Chicken Recipes, Meal Prep, Premium Poultry\n",
      "2.\n",
      "sweet dessert, Chinese dessert & fruit, Silver ear fungus, Nutritious dessert soup, Healthy dessert ingredients, Silver Ear fungus soup, White fungus balls\n",
      "3. Marinated Clams, Spicy Flavor, Appetizers, Taiwanese Delicacy, Fresh Clams\n",
      "4. Marmellosi, Ready-to-Eat, Taiwan Marmite, Homemade Delicacys, Snack Food, Convenient Meal, Pre-cooked\n",
      "5. Frozen Spinach, HealthY Eating,\n",
      "--------------------------------------------------\n"
     ]
    },
    {
     "name": "stderr",
     "output_type": "stream",
     "text": [
      "A decoder-only architecture is being used, but right-padding was detected! For correct generation results, please set `padding_side='left'` when initializing the tokenizer.\n"
     ]
    },
    {
     "name": "stdout",
     "output_type": "stream",
     "text": [
      "inputs199:\n",
      "\n",
      "1. Grilled Eel, Unagi, Japanese Eel, Eel Rice Bowl, Japanese Cuisine, Gourmet Japanese Food, Premium Eel Dish。\n",
      "\n",
      "outputs:\n",
      "\n",
      "1. Grilled Eel, Unagi, Japanese Eel, Eel Rice Bowl, Japanese Cuisine, Gourmet Japanese Food, Premium Eel Dish\n",
      "2.\n",
      "\n",
      " Japanese BBQ Pork Slices, Marinated Pork, Quick Meal Options, Fresh Meat, Japanese Cuisine, BBQ Ready, Convenience Food\n",
      "3. Poison-free shrimp, Safe-to-eat shrimps, Pesticide-freeshrimp. Shrimp Recipes, Taiwanese Turnip Cake, Hot Pot Ingredients, Seafood Delicacy, Concentrated Shrimps\n",
      "4. Chicken thigh chunks, Meal prep, Chicken recipes, Value pack, W\n",
      "--------------------------------------------------\n"
     ]
    },
    {
     "name": "stderr",
     "output_type": "stream",
     "text": [
      "A decoder-only architecture is being used, but right-padding was detected! For correct generation results, please set `padding_side='left'` when initializing the tokenizer.\n"
     ]
    },
    {
     "name": "stdout",
     "output_type": "stream",
     "text": [
      "inputs200:\n",
      "\n",
      "1. Healthy Shrimp, Freshwater Shrimp, Taiwanese Shrimp, Non-toxic Shrimp, Shrimp Recipes, Hot Pot Seafood, Sustainable Shrimp Farming。\n",
      "\n",
      "outputs:\n",
      "\n",
      "1. Healthy Shrimp, Freshwater Shrimp, Taiwanese Shrimp, Non-toxic Shrimp, Shrimp Recipes, Hot Pot Seafood, Sustainable Shrimp Farming\n",
      "2.\n",
      "\n",
      " Healthy Eating, Meal Prep, Fitness Food, Low Carb, Convenience, Balanced Diet, Quinoa Rice\n",
      "3. Microwavable Quinoas, Healthy Fitnes, Conventional Meal, Microwaveable, Healthier Cooking, Online Grocery, Firm Chicken\n",
      "4. HealthBoost, TraditionalFlavors, JapaneseDelicacy, ArtisanalPreservation, GourmetSeafood and NuttySweet Potato, Pork and Sweet Potatoes, Soft Texture\n",
      "\n",
      "--------------------------------------------------\n"
     ]
    },
    {
     "name": "stderr",
     "output_type": "stream",
     "text": [
      "A decoder-only architecture is being used, but right-padding was detected! For correct generation results, please set `padding_side='left'` when initializing the tokenizer.\n"
     ]
    },
    {
     "name": "stdout",
     "output_type": "stream",
     "text": [
      "inputs201:\n",
      "\n",
      "1. Chicken Leg Recipe, Meal Prep, Roasted Chicken Leg, Country-style Salt and Pepper Chicken Leg, Delicious Chicken Leg, Spicy Chicken Leg, Convenience Meal。\n",
      "\n",
      "outputs:\n",
      "\n",
      "1. Chicken Leg Recipe, Meal Prep, Roasted Chicken Leg, Country-style Salt and Pepper Chicken Leg, Delicious Chicken Leg, Spicy Chicken Leg, Convenience Meal\n",
      "2.\n",
      "\n",
      " Chicken Thigh Fillet, Boneless Chicken THigh, Mealm Prepel, Marinated Chicken, Grilled Meat, Chicken Recipe\n",
      "3. Chickens, Tender Chicken Flavor, Fried Food, Snack, Premium Chicken Nuggets, Juicy Chickenz\n",
      "4. Summer Snack Gourmet, Group Buy, Limited Time Offer, Fresh Tiger Grouper, Sweet and Juicy, Chinese Specialty\n",
      "5. USDA beef, Blue Ribbon steak, Tenders shoulder steak; Grilled\n",
      "--------------------------------------------------\n"
     ]
    },
    {
     "name": "stderr",
     "output_type": "stream",
     "text": [
      "A decoder-only architecture is being used, but right-padding was detected! For correct generation results, please set `padding_side='left'` when initializing the tokenizer.\n"
     ]
    },
    {
     "name": "stdout",
     "output_type": "stream",
     "text": [
      "inputs202:\n",
      "\n",
      "1. Japanese grilled fish, DHA supplement, Bento box main dish, Seafood recipe, Izakaya cuisine, Natural fish oil, Overnight-dried fish。\n",
      "\n",
      "outputs:\n",
      "\n",
      "1. Japanese grilled fish, DHA supplement, Bento box main dish, Seafood recipe, Izakaya cuisine, Natural fish oil, Overnight-dried fish\n",
      "2.\n",
      "\n",
      " Salt-Free Mackerel, Seaweed Delight, Grilled Fish, Japanese Style Grilled fish. Low-Sodium Saba Fish, Seawater Delight. Healthy Eating, Pork Recipes, Japanese Cuisine, Meal Prep, Sodium Control\n",
      "3. Fresh Frozen Seafoods, Salmon Fillet, Chilean Sea Bass, Cod Fillet , SeafoOD Selection, Gourmet Fish Selection, Premium Quality Seafo ods\n",
      "4. Flower crab, Sea food delicacy, Crab meat, Fresh\n",
      "--------------------------------------------------\n"
     ]
    },
    {
     "name": "stderr",
     "output_type": "stream",
     "text": [
      "A decoder-only architecture is being used, but right-padding was detected! For correct generation results, please set `padding_side='left'` when initializing the tokenizer.\n"
     ]
    },
    {
     "name": "stdout",
     "output_type": "stream",
     "text": [
      "inputs203:\n",
      "\n",
      "1. Frozen Seafood Mix, Squid, Scallops, White Shrimp, Seafood Platter, Instant Seafood, Meal Prep。\n",
      "\n",
      "outputs:\n",
      "\n",
      "1. Frozen Seafood Mix, Squid, Scallops, White Shrimp, Seafood Platter, Instant Seafood, Meal Prep\n",
      "2.\n",
      "sweet dessert, Chinese dessert & fruit chicken, Silver ear fungus, Nutritious dessert soup, Healthy dessert delicacy, Silver Ear Mountain, White Fruit Baker\n",
      "3. Flash Frozen Vegetables, Quick Meal Preparation, Sweet Peas and Carrots, Broccoli and Cauliflower, Red Bell Peppers, Nuts and Vegetarian Options, Midnight Snack\n",
      "4. Froze Brocc, Cruciferous Vegetable, Cancer-fighting, Low-Calorie Diet, Health Recipes,\n",
      "--------------------------------------------------\n"
     ]
    },
    {
     "name": "stderr",
     "output_type": "stream",
     "text": [
      "A decoder-only architecture is being used, but right-padding was detected! For correct generation results, please set `padding_side='left'` when initializing the tokenizer.\n"
     ]
    },
    {
     "name": "stdout",
     "output_type": "stream",
     "text": [
      "inputs204:\n",
      "\n",
      "1. Roast Goose Breast, Steamed Goose Leg, Gourmet Goose Selections, Sugarcane-infused Goose, Duck Meat Delicacies, Heat-and-Eat Meals, Premium White Roman Goose。\n",
      "\n",
      "outputs:\n",
      "\n",
      "1. Roast Goose Breast, Steamed Goose Leg, Gourmet Goose Selections, Sugarcane-infused Goose, Duck Meat Delicacies, Heat-and-Eat Meals, Premium White Roman Goose\n",
      "2.\n",
      "\n",
      " Taiwanese Turnip Cake, Chinese Cuisine, Heaty Potato, Dim Sum, Vegetarian, Authentic Taste, Hong Kong Style\n",
      "3. Thai cuisine, Handmade moon shrimp cake, Ready-to-eat, Golden handmade moon cake and black moon shripm, Shrimp cake for gourmet seafood, Handcrafted shrimpfrit, Golden moon shrip\n",
      "4. Frozen Seafood Mix, Squid, Scallops, White Shrimps, Seafoods, Instant\n",
      "--------------------------------------------------\n"
     ]
    },
    {
     "name": "stderr",
     "output_type": "stream",
     "text": [
      "A decoder-only architecture is being used, but right-padding was detected! For correct generation results, please set `padding_side='left'` when initializing the tokenizer.\n"
     ]
    },
    {
     "name": "stdout",
     "output_type": "stream",
     "text": [
      "inputs205:\n",
      "\n",
      "1. Milk Tea Bun, Sweet Potato Filling, Limited Time Offer, Group Purchase, Steamed Bun, Snack Delight, Irresistible Treat。\n",
      "\n",
      "outputs:\n",
      "\n",
      "1. Milk Tea Bun, Sweet Potato Filling, Limited Time Offer, Group Purchase, Steamed Bun, Snack Delight, Irresistible Treat\n",
      "2.\n",
      "\n",
      " Taiwanese Street Food, Nourishing Soup, Four Treasures Soup (Grass-fed Beef, Pork Recipes, Traditional Chinese Soup), Easy to Prepare, Herbal Soup\n",
      "3. Poison-free shrimp, Safe-to-eat shrimps, Pesticide-freeshrimp.\n",
      "4. Taiwanese Turnip Cake, Chinese Cuisine, Heat-and-Eat, Dim Sum, Vegetarian, Authentic Taste\n",
      "5. Edamame, High Protein, Healthy E\n",
      "--------------------------------------------------\n"
     ]
    },
    {
     "name": "stderr",
     "output_type": "stream",
     "text": [
      "A decoder-only architecture is being used, but right-padding was detected! For correct generation results, please set `padding_side='left'` when initializing the tokenizer.\n"
     ]
    },
    {
     "name": "stdout",
     "output_type": "stream",
     "text": [
      "inputs206:\n",
      "\n",
      "1. Dumplings, Pan-fried dumplings, Soup dumplings, Wonton, Bamboo shoot, Glutinous rice, Pork。\n",
      "\n",
      "outputs:\n",
      "\n",
      "1. Dumplings, Pan-fried dumplings, Soup dumplings, Wonton, Bamboo shoot, Glutinous rice, Pork\n",
      "2.\n",
      "\n",
      " Grilled Fish, DHA Rich, Easy Meal Prep, Japanese Grilled fish, Gourmet Fish Dish, Healthy Fish Recipe, Limited Sale\n",
      "3. Thin Dumpling Wrappers, Non-GMO Soybeans, High Protein, Low Carb, Fitness, Meal Poison-free, Handmade\n",
      "4. Taiwanese Street Food, Nourishing Soup, Four Treasures Soup (Pork Intestine, Beef Recipes, Meat Potage, Traditional Chinese Soup), Pork In Test, Herbal S\n",
      "--------------------------------------------------\n"
     ]
    },
    {
     "name": "stderr",
     "output_type": "stream",
     "text": [
      "A decoder-only architecture is being used, but right-padding was detected! For correct generation results, please set `padding_side='left'` when initializing the tokenizer.\n"
     ]
    },
    {
     "name": "stdout",
     "output_type": "stream",
     "text": [
      "inputs207:\n",
      "\n",
      "1. Delicious Dumplings, Pork Filling, Steamed Dumplings, Pan-fried Dumplings, Pork Delights, Sweet Bamboo Shoots, Glutinous Rice。\n",
      "\n",
      "outputs:\n",
      "\n",
      "1. Delicious Dumplings, Pork Filling, Steamed Dumplings, Pan-fried Dumplings, Pork Delights, Sweet Bamboo Shoots, Glutinous Rice\n",
      "2.\n",
      "sweet Potatoes, Healthy Snack, Low-Carb Diet, Fitness Recipe, Weight Management, Antioxidant Food, Detox Diet\n",
      "3. High protein chicken breast, Freshly cooked chicken, Low calorie eating, Lean muscle building, Quick and easy meal, Health supplement, Ready-to-eat chicken\n",
      "4. Meal Prep, Low Carb Diet and Fitability, High Protein, Readysauce, Weights, Convenience, Healthie\n",
      "5. Low-calorie di\n",
      "--------------------------------------------------\n"
     ]
    },
    {
     "name": "stderr",
     "output_type": "stream",
     "text": [
      "A decoder-only architecture is being used, but right-padding was detected! For correct generation results, please set `padding_side='left'` when initializing the tokenizer.\n"
     ]
    },
    {
     "name": "stdout",
     "output_type": "stream",
     "text": [
      "inputs208:\n",
      "\n",
      "1. Salt-Free Mackerel, Seafood Delight, Grilled Fish, Japanese Style Grilled Fish, Sashimi Grade, Low-Sodium, Healthy Eating。\n",
      "\n",
      "outputs:\n",
      "\n",
      "1. Salt-Free Mackerel, Seafood Delight, Grilled Fish, Japanese Style Grilled Fish, Sashimi Grade, Low-Sodium, Healthy Eating\n",
      "2.\n",
      "\n",
      " Taiwanese Mackerels, Low‑Salt Mackerals, Sea Food Delightful, Overnight Dried Fish, Griled Fish, Fish Recipes, Dried Flavorful\n",
      "3. Fresh Frozen Chilean Salmon, Omega-3 Rich Salmon DHA Source, Premium Frozen Fish, High Protein, Sustainably Sourced Salmon. Healthy Sashimo, Meal Prep, Fitness Nutrition, Weight Management, Quick Frozen Salmon\n",
      "4. Flower crab, Sea food delicacy,\n",
      "--------------------------------------------------\n"
     ]
    },
    {
     "name": "stderr",
     "output_type": "stream",
     "text": [
      "A decoder-only architecture is being used, but right-padding was detected! For correct generation results, please set `padding_side='left'` when initializing the tokenizer.\n"
     ]
    },
    {
     "name": "stdout",
     "output_type": "stream",
     "text": [
      "inputs209:\n",
      "\n",
      "1. USDA beef, Blue Ribbon steak, Tender shoulder steak, Grilled steak, Grass-fed beef, Prime rib, Beef recipes。\n",
      "\n",
      "outputs:\n",
      "\n",
      "1. USDA beef, Blue Ribbon steak, Tender shoulder steak, Grilled steak, Grass-fed beef, Prime rib, Beef recipes\n",
      "2.\n",
      "\n",
      " Prime Ribeye, American Beef, Australian Beef; New Zealand Beef. USDM beef cuts, BlueRibbon steaks, Taroat beef slices, Premium beef selections, Juicy neck bolts, BBQ meat selection\n",
      "3. 21oz Presidential Steak, Prime Grade Beef Slices, Thick Cut Steakery, Marble Texture Beef and Succulent Beef s, Grill Penny Steak Nuggets, Mango Delight Tender Beef Cuts\n",
      "4. Prime Rib, American\n",
      "--------------------------------------------------\n"
     ]
    },
    {
     "name": "stderr",
     "output_type": "stream",
     "text": [
      "A decoder-only architecture is being used, but right-padding was detected! For correct generation results, please set `padding_side='left'` when initializing the tokenizer.\n"
     ]
    },
    {
     "name": "stdout",
     "output_type": "stream",
     "text": [
      "inputs210:\n",
      "\n",
      "1. Non-fried noodles, Vegetable-based, Vegetarian noodles, Instant noodles, Natural ingredients, Wild vegetables, Soup noodles。\n",
      "\n",
      "outputs:\n",
      "\n",
      "1. Non-fried noodles, Vegetable-based, Vegetarian noodles, Instant noodles, Natural ingredients, Wild vegetables, Soup noodles\n",
      "2.\n",
      "\n",
      " Gourmet Street Food, Traditional Taiwanese Snack, Breakfast Delicacy, Crispy Pan-Fried Buns, Night Market Favorite, Authentic Taiwanese Cuisine, Quick and Easy to Prepare\n",
      "3. Chicken thigh chunks, Meal prep, Chicken recipes, Value pack, Welfare chicken meat, Juicy chicken thigs, Convenience cooking\n",
      "4. Taiwanese Turnip Cake, Chinese Cuisne, Heat-and-Eat, Dim Sum, Vegetal Cake or Vegetables in the\n",
      "--------------------------------------------------\n"
     ]
    },
    {
     "name": "stderr",
     "output_type": "stream",
     "text": [
      "A decoder-only architecture is being used, but right-padding was detected! For correct generation results, please set `padding_side='left'` when initializing the tokenizer.\n"
     ]
    },
    {
     "name": "stdout",
     "output_type": "stream",
     "text": [
      "inputs211:\n",
      "\n",
      "1. Non-fried noodles, Vegetarian meal, Instant vegetable noodles, Instant meal, Noodles with vegetables, Healthy instant noodles, Convenient meal。\n",
      "\n",
      "outputs:\n",
      "\n",
      "1. Non-fried noodles, Vegetarian meal, Instant vegetable noodles, Instant meal, Noodles with vegetables, Healthy instant noodles, Convenient meal\n",
      "2.\n",
      "\n",
      " Non-toxic vegetables: Salad box, Fresh salad, Certified by SGS, Low-carb, Weight management, Health supplement, Table salad\n",
      "3. Taiwanese peaches, Sweet and juicy, Tropical peaches: Freshly picked, Tropically treated, Limited-time offer, Sold fresh, Juicy peaches\n",
      "4. Taiwan Fruit, Direct From Origin, Guava, Premium Quality, XiZhou Emperor Guava\n",
      "5. USDA beef, Blue Ribbon steak, Tender shoulder steak: Grilled\n",
      "--------------------------------------------------\n"
     ]
    },
    {
     "name": "stderr",
     "output_type": "stream",
     "text": [
      "A decoder-only architecture is being used, but right-padding was detected! For correct generation results, please set `padding_side='left'` when initializing the tokenizer.\n"
     ]
    },
    {
     "name": "stdout",
     "output_type": "stream",
     "text": [
      "inputs212:\n",
      "\n",
      "1. Pork trotter, Taiwanese cuisine, Braised pork trotter, Secret recipe, Gourmet delight, Local delicacy, Appetizer。\n",
      "\n",
      "outputs:\n",
      "\n",
      "1. Pork trotter, Taiwanese cuisine, Braised pork trotter, Secret recipe, Gourmet delight, Local delicacy, Appetizer\n",
      "2.\n",
      "\n",
      " Pork Recipes, Unique Flavors, Chinese Cuisine, Meal Prep, Braized Pork Knuckle, Traditional Cooking, Goursmet Cooking\n",
      "3. Marinated Clams, Spicy Clams and Taiwanese Delicacy on Pork Balls, Appetyizers Dish, Fresh Clams from Pork Bay, Hot and Spicy Sauce, Tainan Specialty, Sashimi Grade\n",
      "4. Penghu Seaweed, Wild Seaweeds, Gourdous Fish, Seafood Recipe, Five-Star\n",
      "--------------------------------------------------\n"
     ]
    },
    {
     "name": "stderr",
     "output_type": "stream",
     "text": [
      "A decoder-only architecture is being used, but right-padding was detected! For correct generation results, please set `padding_side='left'` when initializing the tokenizer.\n"
     ]
    },
    {
     "name": "stdout",
     "output_type": "stream",
     "text": [
      "inputs213:\n",
      "\n",
      "1. Frozen Spinach, Healthy Eating, Meal Prep, Fitness, Quick Cooking, Convenience, Frozen Vegetables。\n",
      "\n",
      "outputs:\n",
      "\n",
      "1. Frozen Spinach, Healthy Eating, Meal Prep, Fitness, Quick Cooking, Convenience, Frozen Vegetables\n",
      "2.\n",
      "\n",
      " Frozen Broccoli, Cruciferous Vegetable, Cancer-fighting, Low-Calorie Diet, Health-y Eatting, Quick Meal Preparation, Fitter Weight Management\n",
      "3. Frozoned Spinache, Healthier Eating Habits, Meals Prepared Fresh, Fittness, Frozeret Potato, Quick Frozen Vegetables, Fresh Spinage\n",
      "4. Healthy Shrimp, Taiwan ShrImp, Hot Pot Seafood, Shrimp Recipe, Non-Toxic Shrimper,\n",
      "--------------------------------------------------\n"
     ]
    },
    {
     "name": "stderr",
     "output_type": "stream",
     "text": [
      "A decoder-only architecture is being used, but right-padding was detected! For correct generation results, please set `padding_side='left'` when initializing the tokenizer.\n"
     ]
    },
    {
     "name": "stdout",
     "output_type": "stream",
     "text": [
      "inputs214:\n",
      "\n",
      "1. Ready-to-eat, Chinese cuisine, Hot pot soup, Soup package, Beef soup, Gourmet soup, Easy meal。\n",
      "\n",
      "outputs:\n",
      "\n",
      "1. Ready-to-eat, Chinese cuisine, Hot pot soup, Soup package, Beef soup, Gourmet soup, Easy meal\n",
      "2.\n",
      "\n",
      " Japanese-style meat slices, Pork recipe, Taiwanese pork, Marinated pork in Taiwanese cuisines, Convenient meal preparation, Japanese cuisne, Premium pork\n",
      "3. Lean Protein, Fitness Recipe, Meal Prep, Low Calorie, High Protein Meal, Muscle Building, Ready to Eat\n",
      "4. High Proteins, Fitted Food, Low Carb, Muscles, Weight Loss, Healthy Eating, Meals Box, Protein-Rich\n",
      "5. High protein chicken\n",
      "--------------------------------------------------\n"
     ]
    },
    {
     "name": "stderr",
     "output_type": "stream",
     "text": [
      "A decoder-only architecture is being used, but right-padding was detected! For correct generation results, please set `padding_side='left'` when initializing the tokenizer.\n"
     ]
    },
    {
     "name": "stdout",
     "output_type": "stream",
     "text": [
      "inputs215:\n",
      "\n",
      "1. Taiwanese Fresh Chicken, Smoked Chicken, Chicken Breast Selection, Chicken Wings Selection, Tender Juicy Chicken, No Gamey Taste, Traditional Smoking Method。\n",
      "\n",
      "outputs:\n",
      "\n",
      "1. Taiwanese Fresh Chicken, Smoked Chicken, Chicken Breast Selection, Chicken Wings Selection, Tender Juicy Chicken, No Gamey Taste, Traditional Smoking Method\n",
      "2.\n",
      "sweet dessert, Chinese desserts, Silver ear fungus, Nutritious dessert soup, Healthy dessert ingredients, Silver Ear Mountain fungus\n",
      "3. Low Carb Diet, High Protein, Fitness Recipes, Meal Prep, Chickens, Lean Muscle, Ready-to-Eat, Muscle Building\n",
      "4. Taiwan's Fresh Frozen Chilean King Crab, Premium Quality, King Crap, Frozen Crab Leg, Gourmet Delicacy, Frosted Crab Snack, Upgraded\n",
      "--------------------------------------------------\n"
     ]
    },
    {
     "name": "stderr",
     "output_type": "stream",
     "text": [
      "A decoder-only architecture is being used, but right-padding was detected! For correct generation results, please set `padding_side='left'` when initializing the tokenizer.\n"
     ]
    },
    {
     "name": "stdout",
     "output_type": "stream",
     "text": [
      "inputs216:\n",
      "\n",
      "1. Ready-to-Eat, Luan Beef Shank, Cooking Packet, Braised Beef, Gourmet Delight, Quick Meal, Tender Texture。\n",
      "\n",
      "outputs:\n",
      "\n",
      "1. Ready-to-Eat, Luan Beef Shank, Cooking Packet, Braised Beef, Gourmet Delight, Quick Meal, Tender Texture\n",
      "2.\n",
      "\n",
      " Pork cutlet, Taiwanese pork, Meal prep, Easy cooking, Goursmet pork\n",
      "3. Readdy-toeat, Chinese cuisine, Hot pot soup, Soup package, Beef soup, Gouremet soup, Eat meal\n",
      "4. American beef, Beefe, Welfare beef or beef chunks, Beepie sticker, Beebie broth, WP beef slices, Prime beef\n",
      "5. Gourmand Fish Dish, Taiwan Sea Bass, Post-surgery Diet, Meals\n",
      "--------------------------------------------------\n"
     ]
    },
    {
     "name": "stderr",
     "output_type": "stream",
     "text": [
      "A decoder-only architecture is being used, but right-padding was detected! For correct generation results, please set `padding_side='left'` when initializing the tokenizer.\n"
     ]
    },
    {
     "name": "stdout",
     "output_type": "stream",
     "text": [
      "inputs217:\n",
      "\n",
      "1. Smoked Chicken Slices, Breakfast Option, Ready to Heat, Chicken Recipe Ideas, Meal Prep, Chicken Thigh Meat, Gourmet Delicacy。\n",
      "\n",
      "outputs:\n",
      "\n",
      "1. Smoked Chicken Slices, Breakfast Option, Ready to Heat, Chicken Recipe Ideas, Meal Prep, Chicken Thigh Meat, Gourmet Delicacy\n",
      "2.\n",
      "sweet Potato, Roasted Sweet Potatoes, Organic Farming, Low-carb Diet, Japan Sweet Pont, Weight Management, Detox Diet\n",
      "3. Taiwanese Delicacys, Braised Pork Cartilage, Slow-cooked Goodness, Traditional Flavor, Easy to Prepare, Pork Soft Bones, Authentic Taste\n",
      "4. Ready-to-eat, Chinese cuisine, Hot pot soup, Soup package, Beef soup, Goursmet soup, Eat and drink\n",
      "5. Frozen Sea\n",
      "--------------------------------------------------\n"
     ]
    },
    {
     "name": "stderr",
     "output_type": "stream",
     "text": [
      "A decoder-only architecture is being used, but right-padding was detected! For correct generation results, please set `padding_side='left'` when initializing the tokenizer.\n"
     ]
    },
    {
     "name": "stdout",
     "output_type": "stream",
     "text": [
      "inputs218:\n",
      "\n",
      "1. Mixed Frozen Berries, Smoothie Ingredients, Berry Bowl, Freshly Frozen Berries, Quick Meal Prep, Berry Smoothie, Baking with Berries。\n",
      "\n",
      "outputs:\n",
      "\n",
      "1. Mixed Frozen Berries, Smoothie Ingredients, Berry Bowl, Freshly Frozen Berries, Quick Meal Prep, Berry Smoothie, Baking with Berries\n",
      "2.\n",
      "\n",
      " Frozen Vegetables, Meal Control, Quick Frozen, Fitness, Mealtime, Healthy Eating, Frozen Vegetables\n",
      "3. Flash Frozen Vorticella, Quick meal prep, Sweet and Juicy, Broccoli, Red Bell Peppers, Midnight Snack, Froztrap\n",
      "4. Healthy Shrimp, Taiwan Shrump, Hot Pot Seafood, Shrink Shrimps, Non-Toxic Shrrimp, Flavorful ShrImp, Premium Seafoods\n",
      "5. Seaweed\n",
      "--------------------------------------------------\n"
     ]
    },
    {
     "name": "stderr",
     "output_type": "stream",
     "text": [
      "A decoder-only architecture is being used, but right-padding was detected! For correct generation results, please set `padding_side='left'` when initializing the tokenizer.\n"
     ]
    },
    {
     "name": "stdout",
     "output_type": "stream",
     "text": [
      "inputs219:\n",
      "\n",
      "1. Italian Pasta, Pesto Sauce, Red Sauce Pasta, Creamy White Sauce, Spicy Meat Sauce, Durum Wheat, Heat and Eat。\n",
      "\n",
      "outputs:\n",
      "\n",
      "1. Italian Pasta, Pesto Sauce, Red Sauce Pasta, Creamy White Sauce, Spicy Meat Sauce, Durum Wheat, Heat and Eat\n",
      "2.\n",
      "\n",
      " Japanese-style meat slices, Pork recipe, Taiwanese pork, Marinated pork in Taiwanese cuisine, Convenient meal preparation, Japanese cuisines, Premium pork\n",
      "3. Jumbo White Shrimp, Non-Toxic Shrip, Healthy Seafood, Taiwan Shrimps, Shrumpers, Hot Pot Seafoods, Pure Water Shrims\n",
      "4. USDA beef, Blue Ribbon steak, Tender shoulder steak; Grilled steak and grilled beef; Grass-\n",
      "--------------------------------------------------\n"
     ]
    },
    {
     "name": "stderr",
     "output_type": "stream",
     "text": [
      "A decoder-only architecture is being used, but right-padding was detected! For correct generation results, please set `padding_side='left'` when initializing the tokenizer.\n"
     ]
    },
    {
     "name": "stdout",
     "output_type": "stream",
     "text": [
      "inputs220:\n",
      "\n",
      "1. Gourmet Italian Pasta, Convenience Pack, Delectable Sauces, Durum Wheat Pasta, Instant Heat and Eat, Variety of Sauces, Satisfying Portions。\n",
      "\n",
      "outputs:\n",
      "\n",
      "1. Gourmet Italian Pasta, Convenience Pack, Delectable Sauces, Durum Wheat Pasta, Instant Heat and Eat, Variety of Sauces, Satisfying Portions\n",
      "2.\n",
      "\n",
      " Italian Style, Risotto, Creamy White Sauce, Tomato Meat Sauce with Pesto Chicken, Pesto Cheese, Spicy Meat sauce, Italian Pesto\n",
      "3. Mushroom Pumpkin Congee, Seafood Medley Congeee, Spinach Porcini Mushrooms, Comforting Rice Porridge, Vegan Congeegal, Ready to Eat Meal, Wholesome Ingredients\n",
      "4. Italian Pastrami, Pasta Selection, Pineapple Pizza, Tomatoes sauce and Cutlet\n",
      "--------------------------------------------------\n"
     ]
    },
    {
     "name": "stderr",
     "output_type": "stream",
     "text": [
      "A decoder-only architecture is being used, but right-padding was detected! For correct generation results, please set `padding_side='left'` when initializing the tokenizer.\n"
     ]
    },
    {
     "name": "stdout",
     "output_type": "stream",
     "text": [
      "inputs221:\n",
      "\n",
      "1. Nostalgic Taiwanese Cuisine, Tainan Traditional Delicacy, Pork Cartilage Noodles, Quick and Easy Meal, Taiwanese Pork, Hearty Broth, Authentic Taste。\n",
      "\n",
      "outputs:\n",
      "\n",
      "1. Nostalgic Taiwanese Cuisine, Tainan Traditional Delicacy, Pork Cartilage Noodles, Quick and Easy Meal, Taiwanese Pork, Hearty Broth, Authentic Taste\n",
      "2.\n",
      "sweet dessert, Chinese dessert and silver ear fungus, Nutritious dessert (heat-and-eat), Crispy and chewy, Traditional Chinese dessERT, Instant meal, Healthy ingredients\n",
      "3. Thin Dumpling Wrappers, Non-GMO Soybeans, High Protein, Low Carb, Fitness, Meal Prep, Handmade\n",
      "4. Taiwanese Street Food, Nourishing Soup, Four Treasures Soup (Pork Intestine, Tradition-rich Soup), Pork Recipes,\n",
      "--------------------------------------------------\n"
     ]
    },
    {
     "name": "stderr",
     "output_type": "stream",
     "text": [
      "A decoder-only architecture is being used, but right-padding was detected! For correct generation results, please set `padding_side='left'` when initializing the tokenizer.\n"
     ]
    },
    {
     "name": "stdout",
     "output_type": "stream",
     "text": [
      "inputs222:\n",
      "\n",
      "1. Seafood Chowder, Creamy Soup, Winter Comfort, Lobster, Squid, Pumpkin Soup, Soup Selection。\n",
      "\n",
      "outputs:\n",
      "\n",
      "1. Seafood Chowder, Creamy Soup, Winter Comfort, Lobster, Squid, Pumpkin Soup, Soup Selection\n",
      "2.\n",
      "sweet dessert, Chinese dessert & fruit juice, Silver ear fungus, Nutritious dessert Sweet Potato, Healthy dessert juice\n",
      "3. Fresh Frozen Chilean Salmon, Omega-3 Rich Salmon (Sustainably Sourced Salmon), Premium Frozen Fish, Sustainable Seafoods, Healthier SeafoOD Option, Direct-to-Home Delivery\n",
      "4. Gourmet Pizza Selection, Artisanal Handcrafted Pizza, Italian Red Sauce Base, European Mozzarella Cheese, Apple H\n",
      "--------------------------------------------------\n"
     ]
    },
    {
     "name": "stderr",
     "output_type": "stream",
     "text": [
      "A decoder-only architecture is being used, but right-padding was detected! For correct generation results, please set `padding_side='left'` when initializing the tokenizer.\n"
     ]
    },
    {
     "name": "stdout",
     "output_type": "stream",
     "text": [
      "inputs223:\n",
      "\n",
      "1. Seafood Chowder, Lobster Soup, Squid, Seafood Soup, Pumpkin Soup, Rich Broth, New Zealand Pumpkin。\n",
      "\n",
      "outputs:\n",
      "\n",
      "1. Seafood Chowder, Lobster Soup, Squid, Seafood Soup, Pumpkin Soup, Rich Broth, New Zealand Pumpkin\n",
      "2.\n",
      "\n",
      " Boneless Chicken Thigh, Deep-Fried Snack, Air Fryer Recipes, Taiwanese Snack or Appetizer, Japanese Snack; Chinese New Year's Eve, Pork Recipe\n",
      "3. Japanese-style meat slices, Penghu fish, Traditional flavor, Taiwan Sea Bass, Post-surgery meat, Meal prep, Sea bass salad\n",
      "4. Gourmet Chicken Rolls, Taiwaneses Delicacy, Juicy Chicken Rolls, Oven-baked Delicac, Night Market Delight, Delectable\n",
      "--------------------------------------------------\n"
     ]
    },
    {
     "name": "stderr",
     "output_type": "stream",
     "text": [
      "A decoder-only architecture is being used, but right-padding was detected! For correct generation results, please set `padding_side='left'` when initializing the tokenizer.\n"
     ]
    },
    {
     "name": "stdout",
     "output_type": "stream",
     "text": [
      "inputs224:\n",
      "\n",
      "1. Grilled Fish, DHA Rich, Easy Meal Prep, Japanese Grilled Fish, Gourmet Fish Dish, Healthy Fish Recipe, Limited Sale。\n",
      "\n",
      "outputs:\n",
      "\n",
      "1. Grilled Fish, DHA Rich, Easy Meal Prep, Japanese Grilled Fish, Gourmet Fish Dish, Healthy Fish Recipe, Limited Sale\n",
      "2.\n",
      "\n",
      " Japanese grilled fish, D haw, Bento box main dish, Seafood recipe, Izakaya cuisine, Natural fish oil, Overnight-dried fish\n",
      "3. Japanese-style meat slices, Pork recipe with mock natural ingredients, Taiwanese pork, Marinated pork hand, Convenient meal preparation, Japanese cuisines\n",
      "4. Japanese grated fish, Jumbo white shrimp, Blue ray shrimps, Donut shrimpless, Japanese delicacy, Gournmetty shrimpflav\n",
      "--------------------------------------------------\n"
     ]
    },
    {
     "name": "stderr",
     "output_type": "stream",
     "text": [
      "A decoder-only architecture is being used, but right-padding was detected! For correct generation results, please set `padding_side='left'` when initializing the tokenizer.\n"
     ]
    },
    {
     "name": "stdout",
     "output_type": "stream",
     "text": [
      "inputs225:\n",
      "\n",
      "1. Golden Crispy Sweet Potato Fries, Air Fryer Snack, Homemade Snacks, Crispy Sweet Potatoes, Fiber-Rich, Handmade Delights, Snack Time。\n",
      "\n",
      "outputs:\n",
      "\n",
      "1. Golden Crispy Sweet Potato Fries, Air Fryer Snack, Homemade Snacks, Crispy Sweet Potatoes, Fiber-Rich, Handmade Delights, Snack Time\n",
      "2.\n",
      "\n",
      " Fried Chicken, Salty Crispy Chicken is, Air fryer Cooking, Late-Night Snack and Snack Food, Taiwanese Fried Food, Boneless Fried Chick, Chicken Nuggets\n",
      "3. Gourmet Fish Dish, Taiwan Sea Bass, Post-surgery Diet, Meal Prep, Sea Bass Recipe, Nutritious Diet, Eye-catching Fish\n",
      "4. USDA Beef, Angus Beef or Prime Ribeye, Tender Shoulder Beef Slices, Premium Beef Cuts, Grilled Meat\n",
      "--------------------------------------------------\n"
     ]
    },
    {
     "name": "stderr",
     "output_type": "stream",
     "text": [
      "A decoder-only architecture is being used, but right-padding was detected! For correct generation results, please set `padding_side='left'` when initializing the tokenizer.\n"
     ]
    },
    {
     "name": "stdout",
     "output_type": "stream",
     "text": [
      "inputs226:\n",
      "\n",
      "1. Summer Snack, Clam Dish, Appetizer, Traditional Chinese Medicine Ingredients, Refreshing Salad, Late-Night Snack, Small Plates。\n",
      "\n",
      "outputs:\n",
      "\n",
      "1. Summer Snack, Clam Dish, Appetizer, Traditional Chinese Medicine Ingredients, Refreshing Salad, Late-Night Snack, Small Plates\n",
      "2.\n",
      "\n",
      " Marinated Clams, Spicy Clams and Taiwanese Delicacy, Appettizers, Taiwanese Cuisine, Fresh Clams\n",
      "3. Appetizers, Small bites, Chicken gizzards, Chow mein, Choticutra, Chili chicken, Chickeneys, Chinatown\n",
      "4. Seaweed, Hotpot ingredients/seafood, Handmade squid balls, Purified seaweed selection, Coral grass, Seaweeds, Black coral, Seafood delicacies\n",
      "5. Wild Seawe\n",
      "--------------------------------------------------\n"
     ]
    },
    {
     "name": "stderr",
     "output_type": "stream",
     "text": [
      "A decoder-only architecture is being used, but right-padding was detected! For correct generation results, please set `padding_side='left'` when initializing the tokenizer.\n"
     ]
    },
    {
     "name": "stdout",
     "output_type": "stream",
     "text": [
      "inputs227:\n",
      "\n",
      "1. Taiwanese Caviar, Lunar New Year Snack, Gourmet Snack, Traditional Twist, Ready-to-Eat, Festive Treat, Premium Delicacy。\n",
      "\n",
      "outputs:\n",
      "\n",
      "1. Taiwanese Caviar, Lunar New Year Snack, Gourmet Snack, Traditional Twist, Ready-to-Eat, Festive Treat, Premium Delicacy\n",
      "2.\n",
      "sweet dessert, Chinese dessert & ingredients, Silver ear fungus, Nutritious desserts, Healthy dessert ingredient, Silver Ear Moon Cake\n",
      "3. Gour Metals, Taiwanese GourMetals, Exquisite Delicacies, Lustre Textures, Savorry Treats, Premiums, Gorgeous Presents\n",
      "4. Thin Dumpling Wrappers, Non-GMO Soybeans, High Protein, Low Carb, Fitness, Meal Prep, Handmade\n",
      "5. Thai cuisine\n",
      "--------------------------------------------------\n"
     ]
    },
    {
     "name": "stderr",
     "output_type": "stream",
     "text": [
      "A decoder-only architecture is being used, but right-padding was detected! For correct generation results, please set `padding_side='left'` when initializing the tokenizer.\n"
     ]
    },
    {
     "name": "stdout",
     "output_type": "stream",
     "text": [
      "inputs228:\n",
      "\n",
      "1. Salmon Fillet, DHA Source, Meal Prep, High Protein, Fitness Fuel, Salmon Recipes, Healthy Meal。\n",
      "\n",
      "outputs:\n",
      "\n",
      "1. Salmon Fillet, DHA Source, Meal Prep, High Protein, Fitness Fuel, Salmon Recipes, Healthy Meal\n",
      "2.\n",
      "\n",
      " Salmon fillet, Fish dishes, Healthywent, Protein-rich, Meals, Muscle building, Weight management\n",
      "3. Prime Ribeye, American Beef, Australian Beef. Angus Beef\n",
      "4. Prime Grade, Thick Cut, Marble Texture, Wet-aged Steak, Australian beef, American Wagyu, BBQ Sliced Steak\n",
      "5. Prime American Beefe, Angus beef\n",
      "6. 21oz Presidential Steak Egg, Prime Grain Beef Slices, Thicken Cut Ste\n",
      "--------------------------------------------------\n"
     ]
    },
    {
     "name": "stderr",
     "output_type": "stream",
     "text": [
      "A decoder-only architecture is being used, but right-padding was detected! For correct generation results, please set `padding_side='left'` when initializing the tokenizer.\n"
     ]
    },
    {
     "name": "stdout",
     "output_type": "stream",
     "text": [
      "inputs229:\n",
      "\n",
      "1. Premium Seafood, King Crab Legs, Wild Caught Crab, Gourmet Delicacy, Crab Feast, Frozen Gourmet Crab, Japanese Delicacy。\n",
      "\n",
      "outputs:\n",
      "\n",
      "1. Premium Seafood, King Crab Legs, Wild Caught Crab, Gourmet Delicacy, Crab Feast, Frozen Gourmet Crab, Japanese Delicacy\n",
      "2.\n",
      "sweet dessert, Chinese dessert & fruit chow, Silver ear fungus, Nutritious dessert soup, Healthy dessert juice, Silver Ear fungus soup, White fungus soupp\n",
      "3. Crispy Pastry, Cheese, Breakfast, Snack, Heat and Eat, Chinese Dim Sum, Red Bean\n",
      "4. Thai cuisine, Handmade moon shrimp cake, Ready-to-eat, Golden handmade moon cake and Shrimp, Shrimper's delicacy and Thai shrimps, Handcraft\n",
      "--------------------------------------------------\n"
     ]
    },
    {
     "name": "stderr",
     "output_type": "stream",
     "text": [
      "A decoder-only architecture is being used, but right-padding was detected! For correct generation results, please set `padding_side='left'` when initializing the tokenizer.\n"
     ]
    },
    {
     "name": "stdout",
     "output_type": "stream",
     "text": [
      "inputs230:\n",
      "\n",
      "1. Chilean King Crab Legs, Premium Seafood, King Crab, Antarctic King Crab, Crab Legs, Frozen King Crab, Gourmet Seafood。\n",
      "\n",
      "outputs:\n",
      "\n",
      "1. Chilean King Crab Legs, Premium Seafood, King Crab, Antarctic King Crab, Crab Legs, Frozen King Crab, Gourmet Seafood\n",
      "2.\n",
      "sweet dessert, Chinese dessert and silver ear fungus, Nutritious dessert soup, Healthy dessert ingredients, Silver ear fungu, White fungus soup, Refreshing dessert\n",
      "3. Gourmand Powdered Liver, Sesame Oil Delight, Perfect Pairing with Drinks, Private Recipe, Taiwanese Delicacy, Must-Try for Drinking Sessions, Flavorful Small Plates\n",
      "4. Gourd, Calamari, Froza, Goureldisco, Crispy, Late-Night Snack,\n",
      "--------------------------------------------------\n"
     ]
    },
    {
     "name": "stderr",
     "output_type": "stream",
     "text": [
      "A decoder-only architecture is being used, but right-padding was detected! For correct generation results, please set `padding_side='left'` when initializing the tokenizer.\n"
     ]
    },
    {
     "name": "stdout",
     "output_type": "stream",
     "text": [
      "inputs231:\n",
      "\n",
      "1. Shilu Fish Selection, Shilu Fish Delicacies, Taiwanese Shilu Fish, Shilu Fish Recipes, Hot Pot Ingredients, Handmade Fish Balls, Fresh Shilu Fish。\n",
      "\n",
      "outputs:\n",
      "\n",
      "1. Shilu Fish Selection, Shilu Fish Delicacies, Taiwanese Shilu Fish, Shilu Fish Recipes, Hot Pot Ingredients, Handmade Fish Balls, Fresh Shilu Fish\n",
      "2.\n",
      "\n",
      " Thin Dumpling Wrappers, Non-GMO Soybeans, High Protein, Low Carb, Fitness, Meal Prep, Handcrafted\n",
      "3. Ready-to-eat, Grilled Chicken Wings, Marinated Chicken, Finger-Licking Good, Variety Pack, Easy Preparation, Grilling Pack\n",
      "4. Fried Squid Snack, Party Snack Ideas, Air Fryer Recipe, Late-Night Snack Food, Taiwanesse Fried Food, Crispy Squids, Salt and Pepper\n",
      "--------------------------------------------------\n"
     ]
    },
    {
     "name": "stderr",
     "output_type": "stream",
     "text": [
      "A decoder-only architecture is being used, but right-padding was detected! For correct generation results, please set `padding_side='left'` when initializing the tokenizer.\n"
     ]
    },
    {
     "name": "stdout",
     "output_type": "stream",
     "text": [
      "inputs232:\n",
      "\n",
      "1. Pork Belly Dish, Bento Meal, Meal Prep, Traditional Pork, Taiwanese Cuisine, Easy Heating, Smoked Pork Belly。\n",
      "\n",
      "outputs:\n",
      "\n",
      "1. Pork Belly Dish, Bento Meal, Meal Prep, Traditional Pork, Taiwanese Cuisine, Easy Heating, Smoked Pork Belly\n",
      "2.\n",
      "\n",
      " Marinated Clams, Spicy Flavor, Appetizers, Taiwanse Delicacy, Fresh Clams\n",
      "3. Spicy Sunflower Seeds, Appetalizer Snack, Refreshing Starter, Spice Factor, Chili Pepper Infusion, Sichuan Flavors\n",
      "4. Snack Gift Box, Crispy Shrimp, Group Buy, Healthy Snacking, Antibiotic-Free, Biscuits\n",
      "5. Squid Snack/Calamari Chips, Taiwan Squids, Gourmet Seafo\n",
      "--------------------------------------------------\n"
     ]
    },
    {
     "name": "stderr",
     "output_type": "stream",
     "text": [
      "A decoder-only architecture is being used, but right-padding was detected! For correct generation results, please set `padding_side='left'` when initializing the tokenizer.\n"
     ]
    },
    {
     "name": "stdout",
     "output_type": "stream",
     "text": [
      "inputs233:\n",
      "\n",
      "1. Vegetarian Noodles, Instant Noodles, Non-fried Noodles, Vegetable Noodles, Soup Noodles, Healthy Convenience, Quick Meal。\n",
      "\n",
      "outputs:\n",
      "\n",
      "1. Vegetarian Noodles, Instant Noodles, Non-fried Noodles, Vegetable Noodles, Soup Noodles, Healthy Convenience, Quick Meal\n",
      "2.\n",
      ", Nonfried noodles with vegetables, Veggie noodle soup, Instantly vanishing noodLES, Vegan noodels, Stir-fried delights, Fresh vegetables\n",
      "3. Sweet Potato Delights, Roasted SweetPotato, Healthymming, Organic Farming, Low Carb Diet, Fitness Recipes, Detox Meal\n",
      "4. Gourmet Fish Roe, Ready-to-Eat, Delicate Texture, Vacuum Packed, Flavorful Soup, Handmade Fish B\n",
      "--------------------------------------------------\n"
     ]
    },
    {
     "name": "stderr",
     "output_type": "stream",
     "text": [
      "A decoder-only architecture is being used, but right-padding was detected! For correct generation results, please set `padding_side='left'` when initializing the tokenizer.\n"
     ]
    },
    {
     "name": "stdout",
     "output_type": "stream",
     "text": [
      "inputs234:\n",
      "\n",
      "1. Salmon Sashimi, High Protein Meal, Salmon Recipes, Meal Prep, Fitness Diet, Bodybuilding Nutrition, Omega-3 Source。\n",
      "\n",
      "outputs:\n",
      "\n",
      "1. Salmon Sashimi, High Protein Meal, Salmon Recipes, Meal Prep, Fitness Diet, Bodybuilding Nutrition, Omega-3 Source\n",
      "2.\n",
      "\n",
      " Salmon Fillet, DHA Source, MeAL Prep (High Protein, Fittness Food, SalMon Sashmi, Healthy Meal Box, Fiting Recibes, Muscle Building), High Protei\n",
      "3. Salmontos, Salomon's Path, Gourmet Fish, Taiwanese Cuisine, Textile Waste, Seafood Recials, Bento Box\n",
      "4. Fresh Frozen Chilean Salmon, Omege Salmon Tiger Grill, Premium Frozen Fish, Sustainably Sourced Salmon\n",
      "5. Japanese\n",
      "--------------------------------------------------\n"
     ]
    },
    {
     "name": "stderr",
     "output_type": "stream",
     "text": [
      "A decoder-only architecture is being used, but right-padding was detected! For correct generation results, please set `padding_side='left'` when initializing the tokenizer.\n"
     ]
    },
    {
     "name": "stdout",
     "output_type": "stream",
     "text": [
      "inputs235:\n",
      "\n",
      "1. Prime Ribeye, American Beef, Australian Beef, Short Rib, Thick Cut, Sirloin, Juicy。\n",
      "\n",
      "outputs:\n",
      "\n",
      "1. Prime Ribeye, American Beef, Australian Beef, Short Rib, Thick Cut, Sirloin, Juicy\n",
      "2.\n",
      "\n",
      " USDA beef, Blue Ribbon steak, Tender shoulder steak. USDA Angus Beef. Prime ribeye. 21oz Presidential Steak, Prime Grade Beef\n",
      "3. Prime Gradem, ThICK Cut Steak. Prime American Beefe, Australian Deer Beef Slice, Grilled Steak Blue Ribble, Marble Texture Beef and Tender Words, Australian Wagyu, Grass-Fed Beef\n",
      "4. USda beef. USDa beef is beef chunks, Welfare\n",
      "--------------------------------------------------\n"
     ]
    },
    {
     "name": "stderr",
     "output_type": "stream",
     "text": [
      "A decoder-only architecture is being used, but right-padding was detected! For correct generation results, please set `padding_side='left'` when initializing the tokenizer.\n"
     ]
    },
    {
     "name": "stdout",
     "output_type": "stream",
     "text": [
      "inputs236:\n",
      "\n",
      "1. Gourmet Squid Snacks, Healthy Snack Options, Artisanal Squid Chips, Preservative-free Treats, Unique Seafood Snacks, Premium Baked Squid, Exquisite Snack Gift Box。\n",
      "\n",
      "outputs:\n",
      "\n",
      "1. Gourmet Squid Snacks, Healthy Snack Options, Artisanal Squid Chips, Preservative-free Treats, Unique Seafood Snacks, Premium Baked Squid, Exquisite Snack Gift Box\n",
      "2.\n",
      "\n",
      " Gourmetric Snack, Calamari Flavoured, Dragon Ball-inspired, Argentine Squ id, Lightly Baked, Midnight Snack\n",
      "3. Goursmet Crab Snack Box, Crispy Seafoods, Snack Food Bundle, Air Fryer Recipes, Late-Night Snacks or Snack Packs, Taiwanese Delicacy\n",
      "4. Gournmet Cthulth Shrimp, Fresh Frozen Seafo od, Taiwan Shrimps, Homemade Seafo o, Hot Pot Ingredients, Quality Sea\n",
      "--------------------------------------------------\n"
     ]
    },
    {
     "name": "stderr",
     "output_type": "stream",
     "text": [
      "A decoder-only architecture is being used, but right-padding was detected! For correct generation results, please set `padding_side='left'` when initializing the tokenizer.\n"
     ]
    },
    {
     "name": "stdout",
     "output_type": "stream",
     "text": [
      "inputs237:\n",
      "\n",
      "1. Boneless Seasoned Chicken Thighs, Chicken Thigh Recipes, Meal Prep, Lunchbox Main, Seasoned Chicken Thigh Cutlets, Taiwanese Chicken Thighs, Easy Cooking。\n",
      "\n",
      "outputs:\n",
      "\n",
      "1. Boneless Seasoned Chicken Thighs, Chicken Thigh Recipes, Meal Prep, Lunchbox Main, Seasoned Chicken Thigh Cutlets, Taiwanese Chicken Thighs, Easy Cooking\n",
      "2.\n",
      "\n",
      " Japanese-style meat slices, Pork recipe, Taiwan pork, Marinated pork in Taiwanese pork and, Convenient meal preparation, Japanese cuisine\n",
      "3. Chicken thigh chunks, Meals, Chunks, Value pack, Welfare chicken, Group buy, Juicy chicken thigs\n",
      "4. High protein chicken breast, Fitness meal prep, Low calorie eating, Lean muscle building, Quick and easy meal, Healthy eating\n",
      "5. Chick Thigh Fillet, Boneless Chicken TH\n",
      "--------------------------------------------------\n"
     ]
    },
    {
     "name": "stderr",
     "output_type": "stream",
     "text": [
      "A decoder-only architecture is being used, but right-padding was detected! For correct generation results, please set `padding_side='left'` when initializing the tokenizer.\n"
     ]
    },
    {
     "name": "stdout",
     "output_type": "stream",
     "text": [
      "inputs238:\n",
      "\n",
      "1. Squid rings, Seafood delicacy, Argentinian calamari, Gourmet seafood, Quick-frozen squid, Seafood recipes, Calamari soup。\n",
      "\n",
      "outputs:\n",
      "\n",
      "1. Squid rings, Seafood delicacy, Argentinian calamari, Gourmet seafood, Quick-frozen squid, Seafood recipes, Calamari soup\n",
      "2.\n",
      "\n",
      " Salt-Free Mackerel, Seaweed Delight, Grilled Fish, Japanese Style Grilled fish, Sashimi Grade, Low-Sodium, Healthy Eating\n",
      "3. Thai cuisine, Handmade moon shrimp cake, Ready-to-eat, Golden handmade moon cake and black moon shri, Shrimp cake for gourmet, Handcrafted shrimps, Golden moon shrip\n",
      "4. Healthy Shrink, Fresh Tiger Grouper, Taiwanese Grouber, Non-Toxic Shr\n",
      "--------------------------------------------------\n"
     ]
    },
    {
     "name": "stderr",
     "output_type": "stream",
     "text": [
      "A decoder-only architecture is being used, but right-padding was detected! For correct generation results, please set `padding_side='left'` when initializing the tokenizer.\n"
     ]
    },
    {
     "name": "stdout",
     "output_type": "stream",
     "text": [
      "inputs239:\n",
      "\n",
      "1. Lean Protein, Fitness Recipe, Meal Prep, Low Calorie, High Protein, Muscle Building, Ready-to-Eat。\n",
      "\n",
      "outputs:\n",
      "\n",
      "1. Lean Protein, Fitness Recipe, Meal Prep, Low Calorie, High Protein, Muscle Building, Ready-to-Eat\n",
      "2.\n",
      "\n",
      " High Proteins, Meals, Low Carb, Fits, Weight Loss, Healthy Eating, Protein-rich\n",
      "3. Low Carbs, WeIGHT Loss. Meal, High protein, FITness recipes, Mealtime, Muscles, Weighing, Kcal\n",
      "4. Le-an Proteins. Low-carb diet, Meality, Weights & health, Calorie deficit, Lean protein, Quick meal prep, Health supplement\n",
      "5. Frozen Vegetables, MeAL Prep. Low Calories, Health Food\n",
      "--------------------------------------------------\n"
     ]
    },
    {
     "name": "stderr",
     "output_type": "stream",
     "text": [
      "A decoder-only architecture is being used, but right-padding was detected! For correct generation results, please set `padding_side='left'` when initializing the tokenizer.\n"
     ]
    },
    {
     "name": "stdout",
     "output_type": "stream",
     "text": [
      "inputs240:\n",
      "\n",
      "1. Low Carb Diet, High Protein, Fitness Recipes, Meal Prep, Chicken Breast, Lean Muscle, Ready-to-Eat。\n",
      "\n",
      "outputs:\n",
      "\n",
      "1. Low Carb Diet, High Protein, Fitness Recipes, Meal Prep, Chicken Breast, Lean Muscle, Ready-to-Eat\n",
      "2.\n",
      "\n",
      " Frozen Vegetables, Meals Prepared, Quick Meal, Fresh Frozen Veetables. High Proteins, Low Carbs, Fitterness, Weight Loss, Healthy Meal Box\n",
      "3. Frozen Broccoli, Cruciferous Vegetable, Cancer-fighting, Low-Calorie Diet, Health-y Eating, Quick Frozen vegetables\n",
      "4. Frosted Vegetibles, Broccodile, Cauliflower, Carrots, Cabbage, Convenient Meal Planning, Healthful Eating\n",
      "\n",
      "--------------------------------------------------\n"
     ]
    },
    {
     "name": "stderr",
     "output_type": "stream",
     "text": [
      "A decoder-only architecture is being used, but right-padding was detected! For correct generation results, please set `padding_side='left'` when initializing the tokenizer.\n"
     ]
    },
    {
     "name": "stdout",
     "output_type": "stream",
     "text": [
      "inputs241:\n",
      "\n",
      "1. European Imported Frozen Vegetables, Quick Meal Prep, High-Quality Frozen Vegetables, Convenient Frozen Veggies, Broccoli, Cauliflower, Carrots。\n",
      "\n",
      "outputs:\n",
      "\n",
      "1. European Imported Frozen Vegetables, Quick Meal Prep, High-Quality Frozen Vegetables, Convenient Frozen Veggies, Broccoli, Cauliflower, Carrots\n",
      "2.\n",
      "\n",
      " Frozen Broccolo, Cruciferous Vegetable, Cancer-fighting, Low-Calorie Diet, Healthy Eating, Quick MEAL Prep\n",
      "3. Frozen Cauliferous, Healthyme, Meal Preparation, Fitness, Weight Control, Quick Cooking, Frozen vegetables\n",
      "4. Frosted Broccosi, Crucial Nutrients, HealthY Eating Options, Froze Vegetarianian, Meals Prepared Perfectly, Redundant Noodles, Health Recipes\n",
      "5. Healthy S\n",
      "--------------------------------------------------\n"
     ]
    },
    {
     "name": "stderr",
     "output_type": "stream",
     "text": [
      "A decoder-only architecture is being used, but right-padding was detected! For correct generation results, please set `padding_side='left'` when initializing the tokenizer.\n"
     ]
    },
    {
     "name": "stdout",
     "output_type": "stream",
     "text": [
      "inputs242:\n",
      "\n",
      "1. Flash Frozen Vegetables, Quick Meal Preparation, Sweet Peas and Carrots, Broccoli and Cauliflower, Red Bell Peppers, Nutrient-Rich Vegetables, Kid-friendly Lunch Ingredients。\n",
      "\n",
      "outputs:\n",
      "\n",
      "1. Flash Frozen Vegetables, Quick Meal Preparation, Sweet Peas and Carrots, Broccoli and Cauliflower, Red Bell Peppers, Nutrient-Rich Vegetables, Kid-friendly Lunch Ingredients\n",
      "2.\n",
      "\n",
      " Frozen Broccolo, Cruciferous Vegetable, Cancer-fighting, Low-Calorie Diet, Healthy Eating, Quick MEAL Prep, Fitness Recipes\n",
      "3. Frozen Corn Shoots, Healthypoly, Meal Prep and Fitnesfood, Fresh Frozen Frozen, Frozen Vegetables, HealthY Eating\n",
      "4. Froven Corn Shoot, Healthymango, Froven Vegetarian, Meality, Fiber, Frovenshil, Dietary Fiber\n",
      "5. Froze Broccol\n",
      "--------------------------------------------------\n"
     ]
    },
    {
     "name": "stderr",
     "output_type": "stream",
     "text": [
      "A decoder-only architecture is being used, but right-padding was detected! For correct generation results, please set `padding_side='left'` when initializing the tokenizer.\n"
     ]
    },
    {
     "name": "stdout",
     "output_type": "stream",
     "text": [
      "inputs243:\n",
      "\n",
      "1. Frozen Vegetables, Meal Prep, Quick Meal, Fresh Frozen Vegetables, Broccoli, Green Beans, Spinach。\n",
      "\n",
      "outputs:\n",
      "\n",
      "1. Frozen Vegetables, Meal Prep, Quick Meal, Fresh Frozen Vegetables, Broccoli, Green Beans, Spinach\n",
      "2.\n",
      "\n",
      " Healthy Eating, Meals, Fitness, Low Carb, Dietary Control, Quinoa Edamame, Red and White Quinoas\n",
      "3. Froze Broccili, Cruciferous Vegetable, Cancer-fighting, Low-Calorie Diet, HealthyEating, Quick MEAL Prep\n",
      "4. Healthy Shrimp, Taiwan Shrift, Hot Pot Seafood, ShrImp Snack, Non-Toxic Shrimps, FRESH Shrmps, Sashimi Grade\n",
      "5. Froge Bro\n",
      "--------------------------------------------------\n"
     ]
    },
    {
     "name": "stderr",
     "output_type": "stream",
     "text": [
      "A decoder-only architecture is being used, but right-padding was detected! For correct generation results, please set `padding_side='left'` when initializing the tokenizer.\n"
     ]
    },
    {
     "name": "stdout",
     "output_type": "stream",
     "text": [
      "inputs244:\n",
      "\n",
      "1. High Protein Chicken Breast, Fitness Recipe, Low Calorie Meal, Muscle Building, Ready-to-Eat, Lean Chicken Breast, Quality Protein。\n",
      "\n",
      "outputs:\n",
      "\n",
      "1. High Protein Chicken Breast, Fitness Recipe, Low Calorie Meal, Muscle Building, Ready-to-Eat, Lean Chicken Breast, Quality Protein\n",
      "2.\n",
      "\n",
      " High Proteins, Firming, Sweet Potato, Weight Loss, Low Carb, Healthy Eating\n",
      "3. Low-carb diet, Meal prep, Fittet, LeAN, High protein, Quick and easy, Weights and measures\n",
      "4. Frozen Vegetables Selection, Quick Frozen Veetables, Health Meal Prep, Convenient Frozen Broccoli, Fresh Frozen Spinach, Broccody, Cauliflower\n",
      "5. New Zealand Pumpkin, Roasted Chestnut Pumpkins, HealthY E\n",
      "--------------------------------------------------\n"
     ]
    },
    {
     "name": "stderr",
     "output_type": "stream",
     "text": [
      "A decoder-only architecture is being used, but right-padding was detected! For correct generation results, please set `padding_side='left'` when initializing the tokenizer.\n"
     ]
    },
    {
     "name": "stdout",
     "output_type": "stream",
     "text": [
      "inputs245:\n",
      "\n",
      "1. Sweet Potato Delights, Roasted Sweet Potato, Healthy Snacking, Organic Farming, Low Carb Diet, Fitness Recipes, Detox Meal。\n",
      "\n",
      "outputs:\n",
      "\n",
      "1. Sweet Potato Delights, Roasted Sweet Potato, Healthy Snacking, Organic Farming, Low Carb Diet, Fitness Recipes, Detox Meal\n",
      "2.\n",
      "\n",
      " Sweet White Shrimp, Fresh Seafood, Taiwan ShrImp, Shrimp Recipe, Shellfish, Healthymatch, Quick-Frozen\n",
      "3. Jumbo White SHRimp, Non-Toxic Shrip, Healthier Seafoods, Taiwan Salt-Free Shr Imp, SHR Imp Recipium, Hot Pot Seafooda, Pure Water Shr Sale\n",
      "4. Frozen Vegetables Selection, Quick Frozen Veetables, Health Meal Prep, Convenient Frozen Produce, Freshen\n",
      "--------------------------------------------------\n"
     ]
    },
    {
     "name": "stderr",
     "output_type": "stream",
     "text": [
      "A decoder-only architecture is being used, but right-padding was detected! For correct generation results, please set `padding_side='left'` when initializing the tokenizer.\n"
     ]
    },
    {
     "name": "stdout",
     "output_type": "stream",
     "text": [
      "inputs246:\n",
      "\n",
      "1. Low-calorie diet, High protein, Fitness recipes, Meal prep, Quinoa, Muscle gain, Weight loss。\n",
      "\n",
      "outputs:\n",
      "\n",
      "1. Low-calorie diet, High protein, Fitness recipes, Meal prep, Quinoa, Muscle gain, Weight loss\n",
      "2.\n",
      "\n",
      " Healthy Eating, Meals, Fitter, Low Carb, Balanced, Healthier Cooking, Quality Ingredients\n",
      "3. Healthy Shrimp, Freshwater Shrimps, Taiwanese ShrImps, Non-toxic Shrrimps, Shrumpet Shrims, Sustainable Shrig, Healthy Harvest\n",
      "4. Healthyscrub, Flower crab, Health supplement, Artisanal shrimp, Edamame, Premium quality, Handmade squid\n",
      "5. HealthYum, FirmY\n",
      "--------------------------------------------------\n"
     ]
    },
    {
     "name": "stderr",
     "output_type": "stream",
     "text": [
      "A decoder-only architecture is being used, but right-padding was detected! For correct generation results, please set `padding_side='left'` when initializing the tokenizer.\n"
     ]
    },
    {
     "name": "stdout",
     "output_type": "stream",
     "text": [
      "inputs247:\n",
      "\n",
      "1. Organic Vegetables, Salad Box, Weight Loss, Health Food, Low Carb, Meal Prep, Fresh Greens。\n",
      "\n",
      "outputs:\n",
      "\n",
      "1. Organic Vegetables, Salad Box, Weight Loss, Health Food, Low Carb, Meal Prep, Fresh Greens\n",
      "2.\n",
      "sweet Potato, Roasted Sweet Potatoes, Organic Farming, Low-carb Diet, Japan Sweet Porridge, WeIGHT Management\n",
      "3. Flash Frozen Vegetable, Quick Meal Preparation, Sweet Peas and Carrots, Broccoli and Cauliflower, Red Bell Peppers, Nutrient-Rich Vegetarians\n",
      "4. Frozen Spinach, Healthy Eating, Meals, Fitness, Quick Cooking, Frozen Vegetables\n",
      "5. Frode Juice, QuickMeal, HealthYer,\n",
      "--------------------------------------------------\n"
     ]
    },
    {
     "name": "stderr",
     "output_type": "stream",
     "text": [
      "A decoder-only architecture is being used, but right-padding was detected! For correct generation results, please set `padding_side='left'` when initializing the tokenizer.\n"
     ]
    },
    {
     "name": "stdout",
     "output_type": "stream",
     "text": [
      "inputs248:\n",
      "\n",
      "1. Frozen Cauliflower Rice, Low-Calorie Meal, Healthy Eating, Fitness Recipe, Meal Prep, Weight Loss, Onion。\n",
      "\n",
      "outputs:\n",
      "\n",
      "1. Frozen Cauliflower Rice, Low-Calorie Meal, Healthy Eating, Fitness Recipe, Meal Prep, Weight Loss, Onion\n",
      "2.\n",
      "\n",
      " Healthy Shrimp, Taiwan Shrump, Hot Pot Seafood, Shrimper, Non-Toxic Shrimps, Fresh ShrImp, Sustainable Seafoood\n",
      "3. HealthyShrimpGuacam, TaiwanShrump. HealthBoost, TraditionalFlavors, JapaneseDelicacy, ArtisanalPreservation, GourmetSeafood\n",
      "4. Frozentennis, Healthyme, FrozenVegetables, Meality, Fittness, WeIGHTY, QuickMealPrep\n",
      "5. Health supplement\n",
      "--------------------------------------------------\n"
     ]
    },
    {
     "name": "stderr",
     "output_type": "stream",
     "text": [
      "A decoder-only architecture is being used, but right-padding was detected! For correct generation results, please set `padding_side='left'` when initializing the tokenizer.\n"
     ]
    },
    {
     "name": "stdout",
     "output_type": "stream",
     "text": [
      "inputs249:\n",
      "\n",
      "1. Low Sodium Saba Fish, Fresh Seafood, Japanese Grilled Fish, Healthy Eating, Salt Control, DHA Supplement, Ready-to-Eat Meals。\n",
      "\n",
      "outputs:\n",
      "\n",
      "1. Low Sodium Saba Fish, Fresh Seafood, Japanese Grilled Fish, Healthy Eating, Salt Control, DHA Supplement, Ready-to-Eat Meals\n",
      "2.\n",
      "\n",
      " USDA beef, Blue Ribbon steak, Tender shoulder steak. USDA Angus Beef, Ribeye Steak, Grilling Recipes, Bone-In Beef. USda beef cuts, Blue ribbon steaks, Tendery beef\n",
      "3. Gourmet Fish Dish, Taiwan Sea Bass, Post-surgery Diet, Meal Prep, Sea Bass Recipe, Nutritious Dish\n",
      "4. 21oz Presidential Steak Sashimi, Prime Grade Beef Cut, Thick Cut Steak\n",
      "--------------------------------------------------\n"
     ]
    },
    {
     "name": "stderr",
     "output_type": "stream",
     "text": [
      "A decoder-only architecture is being used, but right-padding was detected! For correct generation results, please set `padding_side='left'` when initializing the tokenizer.\n"
     ]
    },
    {
     "name": "stdout",
     "output_type": "stream",
     "text": [
      "inputs250:\n",
      "\n",
      "1. Japanese BBQ Pork Slices, Marinated Pork, Quick Meal Options, Fresh Meat, Japanese Cuisine, BBQ Ready, Convenience Food。\n",
      "\n",
      "outputs:\n",
      "\n",
      "1. Japanese BBQ Pork Slices, Marinated Pork, Quick Meal Options, Fresh Meat, Japanese Cuisine, BBQ Ready, Convenience Food\n",
      "2.\n",
      "sweet dessert, Chinese desserts, Silver ear fungus, Nutritious dessert (heat-and-eat), Healthy dessert and sweet dessert\n",
      "3. Thin Dumpling Wrappers, Non-GMO Soybeans, High Protein, Low Carb, Fitness, Meal Prep, Handmade\n",
      "4. Poison-free shrimp, Safe-to-eaten shrimps, Pesticide-freeshrimp.\n",
      "5. Marinaded Clams, Spicy Flavor, Appetizers, Taiwanese\n",
      "--------------------------------------------------\n"
     ]
    },
    {
     "name": "stderr",
     "output_type": "stream",
     "text": [
      "A decoder-only architecture is being used, but right-padding was detected! For correct generation results, please set `padding_side='left'` when initializing the tokenizer.\n"
     ]
    },
    {
     "name": "stdout",
     "output_type": "stream",
     "text": [
      "inputs251:\n",
      "\n",
      "1. Microwavable Quinoa Rice, Healthy Fitness Meal, Convenient Ready-to-Eat, Low-Carb Quinoa Option, Online Grocery, Fresh Grain Blend, Fitness Nutrition。\n",
      "\n",
      "outputs:\n",
      "\n",
      "1. Microwavable Quinoa Rice, Healthy Fitness Meal, Convenient Ready-to-Eat, Low-Carb Quinoa Option, Online Grocery, Fresh Grain Blend, Fitness Nutrition\n",
      "2.\n",
      "\n",
      " Healthy Eating, Meal Prep, Fittor, Low Carb, Quinoabutter, Balanced Diet\n",
      "3. Marinated Clams, Spicy Flavor, Appetizers, Taiwanese Delicacy, Fresher Clams\n",
      "4. HealthyEating, LowCalorie, FITnessRecipe, Meala, High Protein, Muscle Building\n",
      "5. Healthymeals, Low Calorie, Weight Loss, Calorie Deficit, Health Eating\n",
      "6. Weight loss, Low carb, Calories, Microwave\n",
      "--------------------------------------------------\n"
     ]
    },
    {
     "name": "stderr",
     "output_type": "stream",
     "text": [
      "A decoder-only architecture is being used, but right-padding was detected! For correct generation results, please set `padding_side='left'` when initializing the tokenizer.\n"
     ]
    },
    {
     "name": "stdout",
     "output_type": "stream",
     "text": [
      "inputs252:\n",
      "\n",
      "1. Seafood Chowder, Creamy Soup, Winter Delight, Lobster Bisque, Pumpkin Soup, Homestyle Cooking, Rich Broth。\n",
      "\n",
      "outputs:\n",
      "\n",
      "1. Seafood Chowder, Creamy Soup, Winter Delight, Lobster Bisque, Pumpkin Soup, Homestyle Cooking, Rich Broth\n",
      "2.\n",
      "\n",
      " Boneless Chicken Thigh, Deep-Fried Snack, Air Fryer Recipes, Taiwanese Snack. Japanese-style meat slices, Pork recipe, Taiwan pork, Meal prep\n",
      "3. Japanese grilled fish, DHA supplement, Bento box main dish, Seafoodem, Izakaya cuisine, Natural fish oil, Overnight dried fish\n",
      "4. Fried Chicken, Salty Crispy Chicken. Boneless Seasoned Chicken thigh, Chicken Leg Meat, Mealy Sauce, Grilled Chicken D\n",
      "--------------------------------------------------\n"
     ]
    },
    {
     "name": "stderr",
     "output_type": "stream",
     "text": [
      "A decoder-only architecture is being used, but right-padding was detected! For correct generation results, please set `padding_side='left'` when initializing the tokenizer.\n"
     ]
    },
    {
     "name": "stdout",
     "output_type": "stream",
     "text": [
      "inputs253:\n",
      "\n",
      "1. Wild Vegetables, Instant Noodles, Vegetarian Noodles, Non-Fried Noodles, Vegetable Noodles, Convenience Food, Soup Noodles。\n",
      "\n",
      "outputs:\n",
      "\n",
      "1. Wild Vegetables, Instant Noodles, Vegetarian Noodles, Non-Fried Noodles, Vegetable Noodles, Convenience Food, Soup Noodles\n",
      "2.\n",
      "sweet dessert, Chinese dessert & fruit juice, Silver ear fungus, Nutritious dessert soup, Healthy dessert juice\n",
      "3. Spicy Sunflower Seeds, Appetizer Snack, Refreshing Starter, Spicy Sichuan Flavor, Chili Pepper Infusion, Sichui Pepper FlavOR, Spicier Sichu Ball\n",
      "4. Frozen Seafood Mix, Squid, Scallops, White Shrimp, Seafoods, Instalunch, Meal Prep\n",
      "5. Frosted\n",
      "--------------------------------------------------\n"
     ]
    },
    {
     "name": "stderr",
     "output_type": "stream",
     "text": [
      "A decoder-only architecture is being used, but right-padding was detected! For correct generation results, please set `padding_side='left'` when initializing the tokenizer.\n"
     ]
    },
    {
     "name": "stdout",
     "output_type": "stream",
     "text": [
      "inputs254:\n",
      "\n",
      "1. Thin Dumpling Wrappers, Non-GMO Soybeans, High Protein, Low Carb, Fitness, Meal Prep, Handmade。\n",
      "\n",
      "outputs:\n",
      "\n",
      "1. Thin Dumpling Wrappers, Non-GMO Soybeans, High Protein, Low Carb, Fitness, Meal Prep, Handmade\n",
      "2.\n",
      "\n",
      " Taiwanese Mackerel, Low-Salt MackerEL, Seafood Delight, Overnight Dried Fish, Grilled Fish, Japanese Grilled fish, Izakaya Cuisine\n",
      "3. Iberico Pork, Spanish Pork Slices, Premium Pork Selection, Grilling Meat, Pork Recipes, Gourmet Pork Dish, Iberic Pork\n",
      "4. Spanish Pasta, Premiums Pork Belly, BBQ Meat Selection, Pastramiberries, Gournmet Pigs, Pineapple Meat Choices,\n",
      "--------------------------------------------------\n"
     ]
    },
    {
     "name": "stderr",
     "output_type": "stream",
     "text": [
      "A decoder-only architecture is being used, but right-padding was detected! For correct generation results, please set `padding_side='left'` when initializing the tokenizer.\n"
     ]
    },
    {
     "name": "stdout",
     "output_type": "stream",
     "text": [
      "inputs255:\n",
      "\n",
      "1. i3fresh, Fresh Salmon, Chilean Salmon, Online Shopping, Gourmet Seafood, Premium Quality, Frozen Salmon。\n",
      "\n",
      "outputs:\n",
      "\n",
      "1. i3fresh, Fresh Salmon, Chilean Salmon, Online Shopping, Gourmet Seafood, Premium Quality, Frozen Salmon\n",
      "2.\n",
      "sweet dessert, Chinese desserts, Silver ear fungus, Nutritious dessert (fried), Healthy dessert\n",
      "3. Sweet Potato Delights, Roasted Sweet Pomato, Healthy Snacking, Organic Farming, Low Carb Diet, Fitness Recipes, Detox Meal\n",
      "4. Squid rings, Seafoods delicacy, Argentinian calamari, G Bourmet, Quick-frozen squid, Seafeast delicacys, Blue-ringed squid\n",
      "5. American beef, Be\n",
      "--------------------------------------------------\n"
     ]
    },
    {
     "name": "stderr",
     "output_type": "stream",
     "text": [
      "A decoder-only architecture is being used, but right-padding was detected! For correct generation results, please set `padding_side='left'` when initializing the tokenizer.\n"
     ]
    },
    {
     "name": "stdout",
     "output_type": "stream",
     "text": [
      "inputs256:\n",
      "\n",
      "1. Cauliflower, White cauliflower rice, Low-calorie diet, Health food, Weight management, Fitness recipes, Meal prep。\n",
      "\n",
      "outputs:\n",
      "\n",
      "1. Cauliflower, White cauliflower rice, Low-calorie diet, Health food, Weight management, Fitness recipes, Meal prep\n",
      "2.\n",
      "\n",
      " Healthy Eating, Meals Prep, Fittness, WeIGHT Loss, Low Carb, Balanced Diet\n",
      "3. Abalone snack, Spicy abalone, Gourmet abalone\n",
      "4. Low Carbon Footprint, High Protein, Fits Meal Prep\n",
      "5. Marinated Clams, Spices, Taiwanese Delicacy, Appetizer Dish, Fresh Clams\n",
      "6. Low Calorie Recipes, FITness Meal Ideas, High protein, Mealtime, Fuel Grains, Muscle Building\n",
      "7.\n",
      "--------------------------------------------------\n"
     ]
    },
    {
     "name": "stderr",
     "output_type": "stream",
     "text": [
      "A decoder-only architecture is being used, but right-padding was detected! For correct generation results, please set `padding_side='left'` when initializing the tokenizer.\n"
     ]
    },
    {
     "name": "stdout",
     "output_type": "stream",
     "text": [
      "inputs257:\n",
      "\n",
      "1. USDA Beef, Angus Beef, Prime Ribeye, Tender Shoulder Beef, Premium Beef Cuts, Grilled Meat, Boneless Beef Ribs。\n",
      "\n",
      "outputs:\n",
      "\n",
      "1. USDA Beef, Angus Beef, Prime Ribeye, Tender Shoulder Beef, Premium Beef Cuts, Grilled Meat, Boneless Beef Ribs\n",
      "2.\n",
      ", Prime Grade Steak, 16oz Mega-sized Steak Mega Pack, Marble Texture Beef Slices, Wet-aged Steak Slices\n",
      "3. USda beef, Blue Ribbon steak, Tenderthe beef. Angus beef., Ribeyes, Grass-fed beef\n",
      "4. Grass Fed Beef Tongue, Beef Recipes, Meal Prep, New Zealand Beef\n",
      "5. US Dairy, Cheese Pull-Apart Pancake, Breakfast Snack, Meals\n",
      "--------------------------------------------------\n"
     ]
    },
    {
     "name": "stderr",
     "output_type": "stream",
     "text": [
      "A decoder-only architecture is being used, but right-padding was detected! For correct generation results, please set `padding_side='left'` when initializing the tokenizer.\n"
     ]
    },
    {
     "name": "stdout",
     "output_type": "stream",
     "text": [
      "inputs258:\n",
      "\n",
      "1. Pearl guava, Local produce, Taiwanese fruit, Xizhou guava, Fresh and crispy, Low GI, Nutrient-rich。\n",
      "\n",
      "outputs:\n",
      "\n",
      "1. Pearl guava, Local produce, Taiwanese fruit, Xizhou guava, Fresh and crispy, Low GI, Nutrient-rich\n",
      "2.\n",
      "sweet Potato Delights, Roasted Sweet Potatoes, Healthy Snacking, Organic Farming, Low Carb Diet, Fitness Recipes, Detox Meal\n",
      "3. Frozen Cauliflower Rice, Low-Calorie Meal, Health Metric, Fitting Recipe, Meal Prep, Weight Loss, Onion Soup\n",
      "4. Thin Dumpling Wrappers, Non-GMO Soybeans, High Protein, LowCarb, Fits Meal Box, Meals, Healthier Cooking\n",
      "5. USDA\n",
      "--------------------------------------------------\n"
     ]
    },
    {
     "name": "stderr",
     "output_type": "stream",
     "text": [
      "A decoder-only architecture is being used, but right-padding was detected! For correct generation results, please set `padding_side='left'` when initializing the tokenizer.\n"
     ]
    },
    {
     "name": "stdout",
     "output_type": "stream",
     "text": [
      "inputs259:\n",
      "\n",
      "1. Italian Pasta Selection, Pesto Sauce, Tomato Sauce, Creamy White Sauce, Spicy Meat Sauce, Durum Wheat, Heat-and-Eat。\n",
      "\n",
      "outputs:\n",
      "\n",
      "1. Italian Pasta Selection, Pesto Sauce, Tomato Sauce, Creamy White Sauce, Spicy Meat Sauce, Durum Wheat, Heat-and-Eat\n",
      "2.\n",
      "\n",
      " Gourmet Italian Pastas, Convenience Pack, Delectable Sauces, Durian Pasta, Fresh Frozen Pasta and Ready-to-EAT, Nostalgic Taste, Luscious Soup\n",
      "3. Italian Style, Risotto, Crescent Moon, Tomatto, Pardo, Pineapple, Jeanty, Chicken Broth\n",
      "4. Mushroom Pumpkin Congee, Seafood Medley Congeeg, Spinach Porcini Mushrooms, Comforting Rice Porridge, Vegan Conge\n",
      "--------------------------------------------------\n"
     ]
    },
    {
     "name": "stderr",
     "output_type": "stream",
     "text": [
      "A decoder-only architecture is being used, but right-padding was detected! For correct generation results, please set `padding_side='left'` when initializing the tokenizer.\n"
     ]
    },
    {
     "name": "stdout",
     "output_type": "stream",
     "text": [
      "inputs260:\n",
      "\n",
      "1. Premium New Zealand Beef, Knuckle Cut, Steak Recipes, Grilling, Pan-Seared Steak, Grass-Fed Beef, Roast Beef。\n",
      "\n",
      "outputs:\n",
      "\n",
      "1. Premium New Zealand Beef, Knuckle Cut, Steak Recipes, Grilling, Pan-Seared Steak, Grass-Fed Beef, Roast Beef\n",
      "2.\n",
      "\n",
      " A5 Wagyu, WagyU Burgers, Japanese Beef Slices, Gourmet Burgers and Premium Meat, Juicy Tomato Slices and A5 Waagyu Beef Nuggets\n",
      "3. Chicken Leg Meat Slices Chicken Thigh Recipe, Boneless Chicken Meat Chicken Recipe and Meal Prep, Lunchbox Main Course, Party Food, Jucy Chicken, Snack Ideas, Party Snack\n",
      "4. Gourmand Chicken Rolls, Taiwanese Chicken Dish, Juici Chicken Wings\n",
      "--------------------------------------------------\n"
     ]
    },
    {
     "name": "stderr",
     "output_type": "stream",
     "text": [
      "A decoder-only architecture is being used, but right-padding was detected! For correct generation results, please set `padding_side='left'` when initializing the tokenizer.\n"
     ]
    },
    {
     "name": "stdout",
     "output_type": "stream",
     "text": [
      "inputs261:\n",
      "\n",
      "1. 21oz Presidential Steak, Prime Grade Beef, Thick Cut Steak, Marble Texture Beef, Wet-aged Steak, Juicy Tender Steak, BBQ and Grill Ready。\n",
      "\n",
      "outputs:\n",
      "\n",
      "1. 21oz Presidential Steak, Prime Grade Beef, Thick Cut Steak, Marble Texture Beef, Wet-aged Steak, Juicy Tender Steak, BBQ and Grill Ready\n",
      "2.\n",
      "\n",
      " Prime Ribeye, American Beef Slices, Australian Beef Recipes, Short Rib, Thin Cut, Sirloin, Jucy Beef\n",
      "3. USDA beef, Blue Ribbon steak, Tender shoulder steak. USda beef is the chief steak cutter, Grilling and eating, Grass-fed beef and beef recipes, Prime ribeye cut, Beef cutter\n",
      "4. Prime Ribebe,American Beef Snacks,Australian Beef Selection,Short Rib, Long Rib, Red Ribbon, Marbled\n",
      "--------------------------------------------------\n"
     ]
    },
    {
     "name": "stderr",
     "output_type": "stream",
     "text": [
      "A decoder-only architecture is being used, but right-padding was detected! For correct generation results, please set `padding_side='left'` when initializing the tokenizer.\n"
     ]
    },
    {
     "name": "stdout",
     "output_type": "stream",
     "text": [
      "inputs262:\n",
      "\n",
      "1. Appetizers, Small bites, Chicken gizzards, Chicken liver, Chicken hearts, Chicken feet, Phoenix claws。\n",
      "\n",
      "outputs:\n",
      "\n",
      "1. Appetizers, Small bites, Chicken gizzards, Chicken liver, Chicken hearts, Chicken feet, Phoenix claws\n",
      "2.\n",
      "sweet dessert, Chinese dessert. Marinated pear, Quick and easy meal, Taiwanese fruit, Ready-to-eat, Fresh ingredients, Exotic flavor\n",
      "3. Fried Chicken, Salty Crispy Chicken. Smoked Chicken Slices, Breakfast Option, Reasy-to Prepare, Chiken Recipe, Meal Prep, Chikin. Gourmet Chicken Rolls, Taiwanase Chicken Dish, Post-surgery Diet, Mealtime Delicacy, Scrumptious Recipe\n",
      "--------------------------------------------------\n"
     ]
    },
    {
     "name": "stderr",
     "output_type": "stream",
     "text": [
      "A decoder-only architecture is being used, but right-padding was detected! For correct generation results, please set `padding_side='left'` when initializing the tokenizer.\n"
     ]
    },
    {
     "name": "stdout",
     "output_type": "stream",
     "text": [
      "inputs263:\n",
      "\n",
      "1. Taiwanese pork, Traditional flavor, Pork belly recipe, Gourmet pork, Easy meal prep, Authentic taste, Ready-to-eat。\n",
      "\n",
      "outputs:\n",
      "\n",
      "1. Taiwanese pork, Traditional flavor, Pork belly recipe, Gourmet pork, Easy meal prep, Authentic taste, Ready-to-eat\n",
      "2.\n",
      "\n",
      " Japanese-style meat slices, Porecently, Pinaic acid delicacy, Taiwanese cuisine, Readoffer, Pan-fried pork\n",
      "3. Taiwan mackerel, Lightly salted mackerels, Seafood delicac, Japanese grilled fish, One-night dried, DHA-rich fish, Natural fish oil\n",
      "4. Fresh Seafooder, GOURmet Fish, Delicious Fish Belly, Premium Seafoods, Nutrient-rich Fish, i3Fresh Selection, Tainan Specialty\n",
      "5.\n",
      "--------------------------------------------------\n"
     ]
    },
    {
     "name": "stderr",
     "output_type": "stream",
     "text": [
      "A decoder-only architecture is being used, but right-padding was detected! For correct generation results, please set `padding_side='left'` when initializing the tokenizer.\n"
     ]
    },
    {
     "name": "stdout",
     "output_type": "stream",
     "text": [
      "inputs264:\n",
      "\n",
      "1. Gourmet Street Food, Traditional Taiwanese Snack, Breakfast Delicacy, Crispy Pan-Fried Buns, Night Market Favorite, Authentic Taiwanese Cuisine, Quick and Easy to Prepare。\n",
      "\n",
      "outputs:\n",
      "\n",
      "1. Gourmet Street Food, Traditional Taiwanese Snack, Breakfast Delicacy, Crispy Pan-Fried Buns, Night Market Favorite, Authentic Taiwanese Cuisine, Quick and Easy to Prepare\n",
      "2.\n",
      "\n",
      " Taiwanese Street Food\n",
      "3. Chicken thigh chunks, Meal prep, Chicken recipes, Value pack, Welfare chicken meat, Writer's pick, Juicy chicken thigs\n",
      "4. Taiwanese Turnip Cake, Chinese Cuisne, Heat-and-Eat, Dim Sum, Vegetarian, Authenticookin, Hong Kong Style\n",
      "5. Shi Drum Fish Skin, Collagen-Rich Fish Skins, Premium Delicateness, Versatile Cooking Ingredients, Nutritious Snacking, G\n",
      "--------------------------------------------------\n"
     ]
    },
    {
     "name": "stderr",
     "output_type": "stream",
     "text": [
      "A decoder-only architecture is being used, but right-padding was detected! For correct generation results, please set `padding_side='left'` when initializing the tokenizer.\n"
     ]
    },
    {
     "name": "stdout",
     "output_type": "stream",
     "text": [
      "inputs265:\n",
      "\n",
      "1. Weight Loss, Low Carb, Health Meal, Microwaveable, Meal Prep, Fitness, Healthy Eating。\n",
      "\n",
      "outputs:\n",
      "\n",
      "1. Weight Loss, Low Carb, Health Meal, Microwaveable, Meal Prep, Fitness, Healthy Eating\n",
      "2.\n",
      "\n",
      " Healthy Shrimp, Taiwan Shrump, Hot Pot Seafood, Shrouder, Non-Toxic Shrimps, Fresh Shrimper, Sustainable Seafoood, Healthier Seafoods\n",
      "3. HealthyShrimp. HealthBoost, TraditionalFlavors, JapaneseDelicacy, ArtisanalPreservation, GourmetSeafood. Thai cuisine, Handmade moon shrimp cake, Ready-to-eat, Golden handmade moon cake\n",
      "4. Frozen Cauliflower R\n",
      "--------------------------------------------------\n"
     ]
    },
    {
     "name": "stderr",
     "output_type": "stream",
     "text": [
      "A decoder-only architecture is being used, but right-padding was detected! For correct generation results, please set `padding_side='left'` when initializing the tokenizer.\n"
     ]
    },
    {
     "name": "stdout",
     "output_type": "stream",
     "text": [
      "inputs266:\n",
      "\n",
      "1. USDA Angus Beef, Ribeye Steak, Grilling Recipes, Bone-In Beef, Blue Ribbon Steak, Tender Shoulder Beef, Wet-Aged Beef。\n",
      "\n",
      "outputs:\n",
      "\n",
      "1. USDA Angus Beef, Ribeye Steak, Grilling Recipes, Bone-In Beef, Blue Ribbon Steak, Tender Shoulder Beef, Wet-Aged Beef\n",
      "2.\n",
      ", Prime Ribeyef, American Beef Slices, Australian Beef Recials, Short Rib, Thick Cut, Sirloin\n",
      "3. USda beef,Blue Ribbon steak,Tender shoulder steak. USDa beef cuts,Blue ribbon steaks,Tenders shoulder steaks\n",
      "4. 21oz Presidential Steak. Prime Grade Beef. Thick cut steak for a chicken breast, Marble texture, WET-aged steak and BBQ meat, Grilled steak slices, Prime ribeye, Beef recipes\n",
      "--------------------------------------------------\n"
     ]
    },
    {
     "name": "stderr",
     "output_type": "stream",
     "text": [
      "A decoder-only architecture is being used, but right-padding was detected! For correct generation results, please set `padding_side='left'` when initializing the tokenizer.\n"
     ]
    },
    {
     "name": "stdout",
     "output_type": "stream",
     "text": [
      "inputs267:\n",
      "\n",
      "1. Sweet dessert, Chinese dessert, Silver ear fungus, Nutritious dessert, Healthy dessert, Silver ear soup, White fungus soup。\n",
      "\n",
      "outputs:\n",
      "\n",
      "1. Sweet dessert, Chinese dessert, Silver ear fungus, Nutritious dessert, Healthy dessert, Silver ear soup, White fungus soup\n",
      "2.\n",
      "sweet Potato Delights, Roasted Sweet Potatoes, Healthymming, Organic Farming, Low Carb Diet, Fitness Recipes, Detox Meal\n",
      "3. Squid rings, Seafood delicacy, Argentinian calamari, Gourmet seafood, Quick-frozen squid, Sea food recipes, Calamari soup\n",
      "4. Frozen Seafoods, Squids, Scallops, White Shrimp, Sea Food Platter, Instant Frozen Food, Meal Prep\n",
      "5. Wild Sea\n",
      "--------------------------------------------------\n"
     ]
    },
    {
     "name": "stderr",
     "output_type": "stream",
     "text": [
      "A decoder-only architecture is being used, but right-padding was detected! For correct generation results, please set `padding_side='left'` when initializing the tokenizer.\n"
     ]
    },
    {
     "name": "stdout",
     "output_type": "stream",
     "text": [
      "inputs268:\n",
      "\n",
      "1. Pork Ribs, Bento Box, Traditional Pork Chop, Taiwanese Cuisine, Flavored Pork Cutlet, Pork Recipe, Meal Prep。\n",
      "\n",
      "outputs:\n",
      "\n",
      "1. Pork Ribs, Bento Box, Traditional Pork Chop, Taiwanese Cuisine, Flavored Pork Cutlet, Pork Recipe, Meal Prep\n",
      "2.\n",
      "\n",
      " Pork Belly, Balls, Hot Pot Ingredients, Fresh Meat, Meat Pork, Pure Pork and Vegetable, Marbled Pork\n",
      "3. Japanese BBQ Pork Slices, Marinated Pork in Quick Meal, Finger-Licking Good, Japanese Cuisines, BBQ Ready, Convenience Food, Gourmet Delights\n",
      "4. Healthy Shrimp, Taiwan Shrump, Hotpot Seafood, Shrink Shrimps, Non-Toxic Shrrimp, FRESH S\n",
      "--------------------------------------------------\n"
     ]
    },
    {
     "name": "stderr",
     "output_type": "stream",
     "text": [
      "A decoder-only architecture is being used, but right-padding was detected! For correct generation results, please set `padding_side='left'` when initializing the tokenizer.\n"
     ]
    },
    {
     "name": "stdout",
     "output_type": "stream",
     "text": [
      "inputs269:\n",
      "\n",
      "1. Pork Chops, Bento Box, Traditional Taste, Taiwanese Pork, Meal Prep, Pork Recipes, Pork Cutlets。\n",
      "\n",
      "outputs:\n",
      "\n",
      "1. Pork Chops, Bento Box, Traditional Taste, Taiwanese Pork, Meal Prep, Pork Recipes, Pork Cutlets\n",
      "2.\n",
      "\n",
      " Fried Chicken, Salty Crispy Chicken. Fried Squid, Air Fryer Cooking, Late-Night Snack, Snack Food, Taiwanse Fried Food, Boneless Fried Chickens\n",
      "3. High Protein, Mealm Prepare, Low Calorie, Fitness Recipe, Lean Muscle, Convenient, Healthy Eating\n",
      "4. Mushroom Pumpkin Congee, Seafood Medley Congeeg, Spinach Porcini Mushrooms, Comforting Rice Porridge, Vegan Congeee,\n",
      "--------------------------------------------------\n"
     ]
    },
    {
     "name": "stderr",
     "output_type": "stream",
     "text": [
      "A decoder-only architecture is being used, but right-padding was detected! For correct generation results, please set `padding_side='left'` when initializing the tokenizer.\n"
     ]
    },
    {
     "name": "stdout",
     "output_type": "stream",
     "text": [
      "inputs270:\n",
      "\n",
      "1. Mackerel, Low-salt mackerel, Seafood, Japanese grilled fish, Fish recipe, DHA, Natural fish oil。\n",
      "\n",
      "outputs:\n",
      "\n",
      "1. Mackerel, Low-salt mackerel, Seafood, Japanese grilled fish, Fish recipe, DHA, Natural fish oil\n",
      "2.\n",
      "\n",
      " Salt-Free Mackerels, Sea食, Grilled Fish, Japanese Style Grilled fish. Low Sodium Saba Fish, Seaweed, Japanese Grilledfish, Healthy Eating, Salt Control\n",
      "3. Grilled Eel, Unagi, Japanese Eel Dish, Eel Rice Bowl, Japanese Cuisine, Gourmet Fish Dish\n",
      "4. Frozen Cauliflower Rice, Low Calorie Meal, Health Food, Fitness Recipe, Meal Prep, Fresh Ingredients, Frozen Vegetables\n",
      "5. Low Calory\n",
      "--------------------------------------------------\n"
     ]
    },
    {
     "name": "stderr",
     "output_type": "stream",
     "text": [
      "A decoder-only architecture is being used, but right-padding was detected! For correct generation results, please set `padding_side='left'` when initializing the tokenizer.\n"
     ]
    },
    {
     "name": "stdout",
     "output_type": "stream",
     "text": [
      "inputs271:\n",
      "\n",
      "1. Taiwanese Street Food, Nourishing Soup, Four Treasures Soup, Pork Intestine, Traditional Chinese Soup, Night Market Delights, Herbal Soup。\n",
      "\n",
      "outputs:\n",
      "\n",
      "1. Taiwanese Street Food, Nourishing Soup, Four Treasures Soup, Pork Intestine, Traditional Chinese Soup, Night Market Delights, Herbal Soup\n",
      "2.\n",
      "sweet dessert, Chinese dessert & fruit chicken, Silver ear fungus, Nutritious dessert soup, Healthy ingredients, Silver of moon, White day cake\n",
      "3. Gourmet Powdered Liver, Sesame Oil Delight, Perfect Pairing for Drinks, Private Recipe, Taiwanese Delicacy, Must-Try for Drinking Sessions, Flavorful Small Plates\n",
      "4. Grilled Eel, Unagi, Japanese Eel Dish, Eel Rice Bowl, Japanese Cuisine, Gourmand Delicass\n",
      "--------------------------------------------------\n"
     ]
    },
    {
     "name": "stderr",
     "output_type": "stream",
     "text": [
      "A decoder-only architecture is being used, but right-padding was detected! For correct generation results, please set `padding_side='left'` when initializing the tokenizer.\n"
     ]
    },
    {
     "name": "stdout",
     "output_type": "stream",
     "text": [
      "inputs272:\n",
      "\n",
      "1. Wild Fish Fillet, Fish Meat Recipes, Meal Prep, Premium Meat and Fish, Fresh Frozen Seafood, Gourmet Fish Dishes, Sashimi-grade Fish。\n",
      "\n",
      "outputs:\n",
      "\n",
      "1. Wild Fish Fillet, Fish Meat Recipes, Meal Prep, Premium Meat and Fish, Fresh Frozen Seafood, Gourmet Fish Dishes, Sashimi-grade Fish\n",
      "2.\n",
      "\n",
      " Fresh Seafoods, Gournese Fish, Delicious Fish Belly, Premiums Quality Seafo ods, Nutrient-rich Fish, i3Fresh Selection, Tainan Specialty\n",
      "3. Fresh Sheephead Fish, Taiwanese Specialty, Homemade Fish Balls, Hot Pot Ingredients, Quality Marine Fish, Goursmet Fish Recipe, Handcrafted Seafo Odors\n",
      "4. Gourmetric Fish Dish, Taiwan Sea Bass, Post-surgery Diet, Meals Prepare, Sea Bass Recipe, Nour\n",
      "--------------------------------------------------\n"
     ]
    },
    {
     "name": "stderr",
     "output_type": "stream",
     "text": [
      "A decoder-only architecture is being used, but right-padding was detected! For correct generation results, please set `padding_side='left'` when initializing the tokenizer.\n"
     ]
    },
    {
     "name": "stdout",
     "output_type": "stream",
     "text": [
      "inputs273:\n",
      "\n",
      "1. Iberico Pork, Spanish Pork, Premium Pork, Grilled Meat, Pork Recipes, Gourmet Pork, Quick Meals。\n",
      "\n",
      "outputs:\n",
      "\n",
      "1. Iberico Pork, Spanish Pork, Premium Pork, Grilled Meat, Pork Recipes, Gourmet Pork, Quick Meals\n",
      "2.\n",
      "\n",
      " Japanese-style meat slices, Pormugic meat, Taiwanese pork, Marinated pork in the traditional flavor, Pumpkin-style, Sweet and juicy pork\n",
      "3. Chicken Thigh Recipe, Boneless Chicken THigh, Meal Prep, Lunchbox Main Course, Party Food, Juicy Chicken, Snack Ideas\n",
      "4. Spanish Pasta, Premiums Pork Belly, BBQ Meat Selection, Pastramiberries, Gouredmet, Marbled Pork\n",
      "5. Gourmetric Chicken Rolls\n",
      "--------------------------------------------------\n"
     ]
    },
    {
     "name": "stderr",
     "output_type": "stream",
     "text": [
      "A decoder-only architecture is being used, but right-padding was detected! For correct generation results, please set `padding_side='left'` when initializing the tokenizer.\n"
     ]
    },
    {
     "name": "stdout",
     "output_type": "stream",
     "text": [
      "inputs274:\n",
      "\n",
      "1. Healthy Eating, Low Calorie, Fitness Recipe, Meal Prep, High Protein, Muscle Building, Weight Loss。\n",
      "\n",
      "outputs:\n",
      "\n",
      "1. Healthy Eating, Low Calorie, Fitness Recipe, Meal Prep, High Protein, Muscle Building, Weight Loss\n",
      "2.\n",
      "\n",
      " Healthy Shrimp, Freshwater Shrimps, Taiwanese ShrImp, Non-toxic Shrrimps, Shrumpet Shrims, Hot Pot Seafood, Sustainable Shrimpery\n",
      "3. Japanese-style meat slices, Pork recipe, Taiwan pork, Marinated pork in Taiwanese pork juice, Convenient meal preparation, Japanese cuisine, Premium pork\n",
      "4. Sweet Potato Delights, Roasted Sweetpotato, Healthy Snacking, Organic Farming\n",
      "--------------------------------------------------\n"
     ]
    },
    {
     "name": "stderr",
     "output_type": "stream",
     "text": [
      "A decoder-only architecture is being used, but right-padding was detected! For correct generation results, please set `padding_side='left'` when initializing the tokenizer.\n"
     ]
    },
    {
     "name": "stdout",
     "output_type": "stream",
     "text": [
      "inputs275:\n",
      "\n",
      "1. Mango Sorbet, Summer Treat, Artisanal Dessert, Chilled Delight, Natural Ingredients, Refreshing Flavor, Traditional Recipe。\n",
      "\n",
      "outputs:\n",
      "\n",
      "1. Mango Sorbet, Summer Treat, Artisanal Dessert, Chilled Delight, Natural Ingredients, Refreshing Flavor, Traditional Recipe\n",
      "2.\n",
      "sweet dessert, Chinese dessert and silver ear fungus, Nutritious dessert (heat-and-eat), Traditional Chinese desssert, Healthy dessert recipe, Silver ear fungal dessert\n",
      "3. Crispy Pastry, Cheese, Breakfast, Snack, Chinese Dim Sum, Ready-to-Eat, Red Bean\n",
      "4. Thai cuisine, Handmade moon shrimp cake, Readtody, Golden handmade moon cake and scrumptious, Shrimp cake baked in traditional Thai moon shake\n",
      "--------------------------------------------------\n"
     ]
    },
    {
     "name": "stderr",
     "output_type": "stream",
     "text": [
      "A decoder-only architecture is being used, but right-padding was detected! For correct generation results, please set `padding_side='left'` when initializing the tokenizer.\n"
     ]
    },
    {
     "name": "stdout",
     "output_type": "stream",
     "text": [
      "inputs276:\n",
      "\n",
      "1. Akaushi Beef, Marbling, American Wagyu, BBQ meat slices, Beef slices, Premium beef, Natural beef。\n",
      "\n",
      "outputs:\n",
      "\n",
      "1. Akaushi Beef, Marbling, American Wagyu, BBQ meat slices, Beef slices, Premium beef, Natural beef\n",
      "2.\n",
      ", A5 Wagyū, Japanese Wagyу, Hot Pot Beef Slices, premium Beef Selection, Marbled Beef\n",
      "3. Grass-fed Beef Tongue, Beefticare, Meal Prep, New Zealand Beef Rump, Hotpot Beef Cuts, Befticare Beef Cubes\n",
      "4. Gourmet Chicken Rolls, Taiwanese Chicken Dish, Juicy Chicken Rolls, Oven-baked Delicacy, Night Market Delight, Delectable Meat Rolls\n",
      "5. Beef Reci\n",
      "--------------------------------------------------\n"
     ]
    },
    {
     "name": "stderr",
     "output_type": "stream",
     "text": [
      "A decoder-only architecture is being used, but right-padding was detected! For correct generation results, please set `padding_side='left'` when initializing the tokenizer.\n"
     ]
    },
    {
     "name": "stdout",
     "output_type": "stream",
     "text": [
      "inputs277:\n",
      "\n",
      "1. Poison-free shrimp, Safe-to-eat shrimp, Pesticide-free shrimp, White shrimp meat, Non-inflated shrimp, Certified purity, No chemical treatment。\n",
      "\n",
      "outputs:\n",
      "\n",
      "1. Poison-free shrimp, Safe-to-eat shrimp, Pesticide-free shrimp, White shrimp meat, Non-inflated shrimp, Certified purity, No chemical treatment\n",
      "2.\n",
      "\n",
      " Fresh Frozen Seafood, Salmon Fillet, Chilean Sea Bass, Cod Fillet , SeafoOD Selection, Gourmet Fish Selection, High-Quality Frozen Fish\n",
      "3. Barramundi Fish Fillet (Fresh Fish) Healthy Eating, GOURmet Fish Dish, Premium BarramUNDI, Frozen Fresh Fish, Healthy Meal Prep, Goursome Fish Recipe, Authentic Barramundo Flavor\n",
      "4. Fresh Tiger Grouper Fillet. Japanese GourMet Fish, Hotpot Meat S\n",
      "--------------------------------------------------\n"
     ]
    },
    {
     "name": "stderr",
     "output_type": "stream",
     "text": [
      "A decoder-only architecture is being used, but right-padding was detected! For correct generation results, please set `padding_side='left'` when initializing the tokenizer.\n"
     ]
    },
    {
     "name": "stdout",
     "output_type": "stream",
     "text": [
      "inputs278:\n",
      "\n",
      "1. Snack Gift Box, Crispy Shrimp, Group Buy, Healthy Snack, Antibiotic-Free, Biscuits, Crispy Squid。\n",
      "\n",
      "outputs:\n",
      "\n",
      "1. Snack Gift Box, Crispy Shrimp, Group Buy, Healthy Snack, Antibiotic-Free, Biscuits, Crispy Squid\n",
      "2.\n",
      "\n",
      " Gourmet snack box, Crisppy shrimp, Snack gift set, Additive-free snacks, Vacuum fried, Antimicrobial-free, Group purchase\n",
      "3. Crab Snack , Salted Crispy Crab, Gourmeta Crab Delight, Evening Snack Platter, Pepper Salt Flavor, Seafood Delicacy, CrisPY Sea Crab Peppers\n",
      "4. Vegetable Crisps, Snacker Chips, Office Snacks, Health Food, Sweet Potato, Root Vegetables, Mushroom Sn\n",
      "--------------------------------------------------\n"
     ]
    },
    {
     "name": "stderr",
     "output_type": "stream",
     "text": [
      "A decoder-only architecture is being used, but right-padding was detected! For correct generation results, please set `padding_side='left'` when initializing the tokenizer.\n"
     ]
    },
    {
     "name": "stdout",
     "output_type": "stream",
     "text": [
      "inputs279:\n",
      "\n",
      "1. Marinated Clams, Spicy Flavor, Appetizers, Taiwanese Delicacy, Fresh Clams, Gourmet Delights, Pickled Seafood。\n",
      "\n",
      "outputs:\n",
      "\n",
      "1. Marinated Clams, Spicy Flavor, Appetizers, Taiwanese Delicacy, Fresh Clams, Gourmet Delights, Pickled Seafood\n",
      "2.\n",
      "\n",
      " Marinaded Clams is a delicious appetizer, Taiwan Style, Ready-to-Eat, Citrus Garlic Flavored Clams and Authentic Taiwanese Cuisine, Goursmetic Ingredients, Authentic Recipes, Gift Box Quality\n",
      "3. Spicy Sunflower Seeds, Appetalizer Snack, Refreshing Starter, Spice Factor, Chili Pepper Infusion, Appeticizer Snac, Refreshment Boost\n",
      "4. Taiwanese cuisine, Appetzeller, Wine tenderloin, T\n",
      "--------------------------------------------------\n"
     ]
    },
    {
     "name": "stderr",
     "output_type": "stream",
     "text": [
      "A decoder-only architecture is being used, but right-padding was detected! For correct generation results, please set `padding_side='left'` when initializing the tokenizer.\n"
     ]
    },
    {
     "name": "stdout",
     "output_type": "stream",
     "text": [
      "inputs280:\n",
      "\n",
      "1. Spicy Peeling Chili Fish Balls, Handmade Fish Balls, Fresh Shilim Fish, Hot Pot Ingredients, Spicy Pepper Flavor, Authentic Taiwan Fish Balls, No Toxic Fish Balls。\n",
      "\n",
      "outputs:\n",
      "\n",
      "1. Spicy Peeling Chili Fish Balls, Handmade Fish Balls, Fresh Shilim Fish, Hot Pot Ingredients, Spicy Pepper Flavor, Authentic Taiwan Fish Balls, No Toxic Fish Balls\n",
      "2.\n",
      "\n",
      " Salt-Free Mackerel, Seafood Delight, Grilled Fish, Japanese Style Grilled fish, Sashimi Grade, Low-Sodium, Healthy Eating\n",
      "3. Fried Squid Snack, Party Snack Ideas, Air Fryer Recipe, Late-Night Snack Food, Taiwanese Fried Food, Crispy Squids, Salt and Pepper Fried Shrimp\n",
      "4. Thai cuisine, Hand-made moon shrimp cake, Ready-to-eat, Golden handmade moon cake and black moon shri\n",
      "--------------------------------------------------\n"
     ]
    },
    {
     "name": "stderr",
     "output_type": "stream",
     "text": [
      "A decoder-only architecture is being used, but right-padding was detected! For correct generation results, please set `padding_side='left'` when initializing the tokenizer.\n"
     ]
    },
    {
     "name": "stdout",
     "output_type": "stream",
     "text": [
      "inputs281:\n",
      "\n",
      "1. Iberico pork, BBQ meat, Spanish pork, Meal prep, Grilled meat, Pork recipes, Premium meat。\n",
      "\n",
      "outputs:\n",
      "\n",
      "1. Iberico pork, BBQ meat, Spanish pork, Meal prep, Grilled meat, Pork recipes, Premium meat\n",
      "2.\n",
      "\n",
      " Japanese-style meat slices, Pormour meat, Taiwanese pork and chicken, Marinated pork in Taiwanese delicacy, Convenient meal preparation, Japanese cuisine, Premiere pork dish\n",
      "3. Chicken Thigh Recipe, Boneless Chicken THigh, Meals Prep, Lunchbox Main Course, Party Food, Juicy ChickenThigh, Snack Ideas, Party Favorite\n",
      "4. Appetizers, Small bites, Chicken gizzards, Chirps, Chutney, Chickens\n",
      "--------------------------------------------------\n"
     ]
    },
    {
     "name": "stderr",
     "output_type": "stream",
     "text": [
      "A decoder-only architecture is being used, but right-padding was detected! For correct generation results, please set `padding_side='left'` when initializing the tokenizer.\n"
     ]
    },
    {
     "name": "stdout",
     "output_type": "stream",
     "text": [
      "inputs282:\n",
      "\n",
      "1. Prime Grade Steak, Air Fryer Recipes, Convenience Meals, Lean Protein, President's Choice Steak, Norwegian Sashimi, Fitness Meal Prep。\n",
      "\n",
      "outputs:\n",
      "\n",
      "1. Prime Grade Steak, Air Fryer Recipes, Convenience Meals, Lean Protein, President's Choice Steak, Norwegian Sashimi, Fitness Meal Prep\n",
      "2.\n",
      "\n",
      " Chicken thigh chunks, Meal prep, Chicken recipes, Value pack, Welfare chicken meat, Juicy chicken thigs, Conventional cuts\n",
      "3. Fried Chicken, Cholesterol-Rich, Snack Food, Air fryer Cooking, Late-Night Snack, Snacks, Crispy Fries\n",
      "4. Spanish Pork, Premium Pork. BBQ Meat, Pork Recibes, Gourmet Pork Dish, Marbled Pork and Pork Cuts, Pormino Pork\n",
      "5. P\n",
      "--------------------------------------------------\n"
     ]
    },
    {
     "name": "stderr",
     "output_type": "stream",
     "text": [
      "A decoder-only architecture is being used, but right-padding was detected! For correct generation results, please set `padding_side='left'` when initializing the tokenizer.\n"
     ]
    },
    {
     "name": "stdout",
     "output_type": "stream",
     "text": [
      "inputs283:\n",
      "\n",
      "1. Japanese Black Clams, Seafood Delicacy, Shellfish Soup, Clam Chowder, Health Benefits, Shellfish Delight, Rare and Precious。\n",
      "\n",
      "outputs:\n",
      "\n",
      "1. Japanese Black Clams, Seafood Delicacy, Shellfish Soup, Clam Chowder, Health Benefits, Shellfish Delight, Rare and Precious\n",
      "2.\n",
      "sweet dessert, Chinese desserts, Silver ear fungus, Nutritious dessert (heat-and-eat), Healthy dessert and sub-heat, Traditional Chinese dessERT, White fungus soup\n",
      "3. Marinated Clams (Salt-Free), Spicy Flavor, Appetizers, Taiwanese Delicacys, Fresh Clams and Seafoods, Gourmet Delights\n",
      "4. Healthy Shrimp, Taiwan Shrump, Hot Pot Seafo od, Shrimps, Non-Toxic Shrrim\n",
      "--------------------------------------------------\n"
     ]
    },
    {
     "name": "stderr",
     "output_type": "stream",
     "text": [
      "A decoder-only architecture is being used, but right-padding was detected! For correct generation results, please set `padding_side='left'` when initializing the tokenizer.\n"
     ]
    },
    {
     "name": "stdout",
     "output_type": "stream",
     "text": [
      "inputs284:\n",
      "\n",
      "1. Chicken thigh chunks, Meal prep, Chicken recipes, Value pack, Welfare chicken meat, Juicy chicken thigh, Convenience cooking。\n",
      "\n",
      "outputs:\n",
      "\n",
      "1. Chicken thigh chunks, Meal prep, Chicken recipes, Value pack, Welfare chicken meat, Juicy chicken thigh, Convenience cooking\n",
      "2.\n",
      "\n",
      " Chicken Thigh Fillet, Boneless ChickenThigh, MeAL Prep, Marinated Chicken, Grilled Meat, Chiken Thigh Recipe, Lunchbox Main Dish\n",
      "3. Japanese-style meat slices, Pork recipe, Taiwanese pork, Marinarated pork slices and application, Juici pork cutlet, Conventional pork preparation, Japanese cuisine\n",
      "4. Chickens thigh meat, Meals ready, Chickengod, Valuepack, Wepare, Cheap chicken, Quality chicken\n",
      "--------------------------------------------------\n"
     ]
    },
    {
     "name": "stderr",
     "output_type": "stream",
     "text": [
      "A decoder-only architecture is being used, but right-padding was detected! For correct generation results, please set `padding_side='left'` when initializing the tokenizer.\n"
     ]
    },
    {
     "name": "stdout",
     "output_type": "stream",
     "text": [
      "inputs285:\n",
      "\n",
      "1. High Protein, Meal Prep, Low Calorie, Fitness Recipe, Lean Muscle, Ready-to-Eat, Chicken Breast。\n",
      "\n",
      "outputs:\n",
      "\n",
      "1. High Protein, Meal Prep, Low Calorie, Fitness Recipe, Lean Muscle, Ready-to-Eat, Chicken Breast\n",
      "2.\n",
      "\n",
      " High Proteins, Fizzy Juice, Low Carb, Muscle Building, Leans, Quick Meal, Nutritious\n",
      "3. High protein chicken breast, Fittness meal prep, Low calorie eating, Leannutrition, Quick and easy meal, Healthy eating\n",
      "4. High proteins, Mealy peg, Low carb, Flavored with peach, Nuts, Health supplement, Recommended intake\n",
      "5. High Protin, Ficyy, Sichuan Flavor, Crispy Shrimp,\n",
      "--------------------------------------------------\n"
     ]
    },
    {
     "name": "stderr",
     "output_type": "stream",
     "text": [
      "A decoder-only architecture is being used, but right-padding was detected! For correct generation results, please set `padding_side='left'` when initializing the tokenizer.\n"
     ]
    },
    {
     "name": "stdout",
     "output_type": "stream",
     "text": [
      "inputs286:\n",
      "\n",
      "1. Low Carb Diet, Fitness Meal, High Protein, Meal Prep, Lean Chicken Breast, Weight Management, Quick and Easy。\n",
      "\n",
      "outputs:\n",
      "\n",
      "1. Low Carb Diet, Fitness Meal, High Protein, Meal Prep, Lean Chicken Breast, Weight Management, Quick and Easy\n",
      "2.\n",
      "\n",
      " Frozen Vegetables, Meals Prepared, Quick Meal Ideas, Fresh Frozen Veetables and Broccoli, Gourmet Prepackaged Meals, Frozen Spinach\n",
      "3. Frozen Broccili, Cruciferous Vegetable, Cancer-fighting, Low-Calorie Diet, Healthy Eating, Quick MEAL Prep\n",
      "4. Frozone Vegetbles, Quick Frozen Vegetables Selection, HealthY Meal Preparation, Convenient Frozen Corners, Frost-Free Veggies,\n",
      "--------------------------------------------------\n"
     ]
    },
    {
     "name": "stderr",
     "output_type": "stream",
     "text": [
      "A decoder-only architecture is being used, but right-padding was detected! For correct generation results, please set `padding_side='left'` when initializing the tokenizer.\n"
     ]
    },
    {
     "name": "stdout",
     "output_type": "stream",
     "text": [
      "inputs287:\n",
      "\n",
      "1. Japanese A5 Wagyu, Hotpot Meat Slices, Grilled Beef, Marbling, Wagyu Beef, BBQ Meat Slices, Premium Beef Cuts。\n",
      "\n",
      "outputs:\n",
      "\n",
      "1. Japanese A5 Wagyu, Hotpot Meat Slices, Grilled Beef, Marbling, Wagyu Beef, BBQ Meat Slices, Premium Beef Cuts\n",
      "2.\n",
      ", A5, WA16, Japanese WagyU, Hot Pot Beef Slices with Beef Recipes, Premiums Beef Selection, Marbled Beef\n",
      "3. A5 wagyu beef, Hot pot beef slices, BBq meat, Premious beef selection, Japanese wagyū, Australian Wagyū\n",
      "4. Akaushi Beef. Marbling. American Wagyу. BBQ meat slices. Beef sipes, Hot potential, Premimum beef cut, Blue Ribbon beef\n",
      "5. Iberico pork, BBQue\n",
      "--------------------------------------------------\n"
     ]
    },
    {
     "name": "stderr",
     "output_type": "stream",
     "text": [
      "A decoder-only architecture is being used, but right-padding was detected! For correct generation results, please set `padding_side='left'` when initializing the tokenizer.\n"
     ]
    },
    {
     "name": "stdout",
     "output_type": "stream",
     "text": [
      "inputs288:\n",
      "\n",
      "1. A5 Wagyu beef, Hot pot beef slices, Premium beef selection, Japanese Wagyu, Australian Wagyu, Grilled beef slices, Marble pattern beef。\n",
      "\n",
      "outputs:\n",
      "\n",
      "1. A5 Wagyu beef, Hot pot beef slices, Premium beef selection, Japanese Wagyu, Australian Wagyu, Grilled beef slices, Marble pattern beef\n",
      "2.\n",
      "\n",
      " Taiwanese Street Food, Nourishing Soup, Four Treasures Soup (Pork Intestine, Beef Recipes, Meal Prep, Winter Delicacy, Snowflake Ingredients)\n",
      "3. Sweet Potatoes, Healthy Snack, Low-Carb Diet, Fitness Recipe, Weight Management, Antioxidant Food\n",
      "4. Grass-fed beef Tongue, Beefejuice, Mealy meat, Health supplement, Fresh frozen beef and tight muscle, Direct-frozen beeft\n",
      "--------------------------------------------------\n"
     ]
    },
    {
     "name": "stderr",
     "output_type": "stream",
     "text": [
      "A decoder-only architecture is being used, but right-padding was detected! For correct generation results, please set `padding_side='left'` when initializing the tokenizer.\n"
     ]
    },
    {
     "name": "stdout",
     "output_type": "stream",
     "text": [
      "inputs289:\n",
      "\n",
      "1. A5 Wagyu, Japanese Wagyu, Hot Pot Beef Slices, Premium Beef Selection, Marbled Beef, Barbecue Beef, Wagyu Assortment。\n",
      "\n",
      "outputs:\n",
      "\n",
      "1. A5 Wagyu, Japanese Wagyu, Hot Pot Beef Slices, Premium Beef Selection, Marbled Beef, Barbecue Beef, Wagyu Assortment\n",
      "2.\n",
      ", Akaushi Beef slices, Marbling, American Wagyū, BBQ meat slices and Beef Recipes, Welfare beef, Prime beef\n",
      "3. Ready-to-eat, Grilled Chicken Wings, Marinated Chicken, Finger-Licking Good, Variety Pack, Easy Preparation, Grilling Pack\n",
      "4. Taiwanese Street Food, Chicken Rice Wrap, Taiwanese Cuisine, Night Market Snack, Golden Chicken Soup, Taiwan Street Food\n",
      "5. Instant Soup Base,\n",
      "--------------------------------------------------\n"
     ]
    },
    {
     "name": "stderr",
     "output_type": "stream",
     "text": [
      "A decoder-only architecture is being used, but right-padding was detected! For correct generation results, please set `padding_side='left'` when initializing the tokenizer.\n"
     ]
    },
    {
     "name": "stdout",
     "output_type": "stream",
     "text": [
      "inputs290:\n",
      "\n",
      "1. Chicken Leg Meat, Meal Prep, Bone-In Chicken, Chicken Thigh Chunks, Quality Chicken, Chicken Recipe, Frozen Chicken。\n",
      "\n",
      "outputs:\n",
      "\n",
      "1. Chicken Leg Meat, Meal Prep, Bone-In Chicken, Chicken Thigh Chunks, Quality Chicken, Chicken Recipe, Frozen Chicken\n",
      "2.\n",
      "sweet Potatoes, Healthy Snack, Low-Carb Diet, Fitness Recipe Box, Weight Management, Antioxidant Food, Detox Diet\n",
      "3. Salmon Fillet, DHA Source, Mealtime, High Protein, Fits Meal, Salmon Recipes, Gourmet Fish Dish\n",
      "4. Healthy Eating, Meals Prepared, FITness, Low Carb, Dietary Control, Quinoa Rice, Balanced Nutrition\n",
      "5. Sweet Potato Delights, Roasted Sweet Porpo\n",
      "--------------------------------------------------\n"
     ]
    },
    {
     "name": "stderr",
     "output_type": "stream",
     "text": [
      "A decoder-only architecture is being used, but right-padding was detected! For correct generation results, please set `padding_side='left'` when initializing the tokenizer.\n"
     ]
    },
    {
     "name": "stdout",
     "output_type": "stream",
     "text": [
      "inputs291:\n",
      "\n",
      "1. Durian ice cream, Malaysian fruit, Premium fruit, Musang King durian, Fruit ice cream, Exotic fruit, Durian dessert。\n",
      "\n",
      "outputs:\n",
      "\n",
      "1. Durian ice cream, Malaysian fruit, Premium fruit, Musang King durian, Fruit ice cream, Exotic fruit, Durian dessert\n",
      "2.\n",
      "\n",
      " Akaushi Beef, Marbling, American Wagyu, BBQ meat slices, Beef slices in the raw, Premiums beef cuts, Natural beef selection\n",
      "3. Taiwanese Street Food, Nourishing Soup, Four Treasures Soup (Pork Intestine, Bean Curd, Pork Recipes, Traditional Chinese Soup), Pork Soft Bones, Night Market Delights\n",
      "4. Instant Chicken Soups, Medicinal Herbal Soups and Gourmet Chicken Broths, Nutritious Soup Selection\n",
      "--------------------------------------------------\n"
     ]
    },
    {
     "name": "stderr",
     "output_type": "stream",
     "text": [
      "A decoder-only architecture is being used, but right-padding was detected! For correct generation results, please set `padding_side='left'` when initializing the tokenizer.\n"
     ]
    },
    {
     "name": "stdout",
     "output_type": "stream",
     "text": [
      "inputs292:\n",
      "\n",
      "1. Seafood, Wild Cuttlefish, Seafood Recipe, Frozen Cuttlefish, Cooking Seafood, Taiwanese Cuttlefish, Sashimi Grade。\n",
      "\n",
      "outputs:\n",
      "\n",
      "1. Seafood, Wild Cuttlefish, Seafood Recipe, Frozen Cuttlefish, Cooking Seafood, Taiwanese Cuttlefish, Sashimi Grade\n",
      "2.\n",
      "sweet Potato Delights, Roasted Sweet Potatoes, Healthy Snacking, Organic Farming, Low Carb Diet, Fitness Recipes, Detox Meal\n",
      "3. Iberico Pork, Spanish Pork Slices, Premium Pork Selection, Grilled Meat, Pork Recials, Gourmet Pork Dish, Iberic Pork\n",
      "4. Grass-fed Beef Tongue, Beef Recives, Meal Prep, New Zealand Beef, Hot Pot, Sliced Meat\n",
      "5. Health\n",
      "--------------------------------------------------\n"
     ]
    },
    {
     "name": "stderr",
     "output_type": "stream",
     "text": [
      "A decoder-only architecture is being used, but right-padding was detected! For correct generation results, please set `padding_side='left'` when initializing the tokenizer.\n"
     ]
    },
    {
     "name": "stdout",
     "output_type": "stream",
     "text": [
      "inputs293:\n",
      "\n",
      "1. Gourmet Chicken Rolls, Taiwanese Chicken Dish, Juicy Chicken Rolls, Oven-baked Delicacy, Night Market Delight, Delectable Meat Rolls, Signature Chef Recipe。\n",
      "\n",
      "outputs:\n",
      "\n",
      "1. Gourmet Chicken Rolls, Taiwanese Chicken Dish, Juicy Chicken Rolls, Oven-baked Delicacy, Night Market Delight, Delectable Meat Rolls, Signature Chef Recipe\n",
      "2.\n",
      "\n",
      " Squid rings, Seafood delicacy from Japanese, Healthy snack, Hot pot recipe, Sashimi grade, Fresh squid, Japanese cuisine\n",
      "3. Pork Ribs, Bento Box, Traditional Pork Chop, Taiwanesse Cuisine, Flavored Pork Cutlet, Pork Recipe, Meal Prep\n",
      "4. 21oz Presidential Steak, Prime Grade Beef, Thick Cut Steak. Marinated Pork, Quick and Easy Meal, High-Quality Beef. US\n",
      "--------------------------------------------------\n"
     ]
    },
    {
     "name": "stderr",
     "output_type": "stream",
     "text": [
      "A decoder-only architecture is being used, but right-padding was detected! For correct generation results, please set `padding_side='left'` when initializing the tokenizer.\n"
     ]
    },
    {
     "name": "stdout",
     "output_type": "stream",
     "text": [
      "inputs294:\n",
      "\n",
      "1. Durian Ice Cream, Fruit Dessert, Premium Fruit, Malaysian Durian, Cat Mountain King Durian, Gourmet Ice Cream, Fruit Pastry。\n",
      "\n",
      "outputs:\n",
      "\n",
      "1. Durian Ice Cream, Fruit Dessert, Premium Fruit, Malaysian Durian, Cat Mountain King Durian, Gourmet Ice Cream, Fruit Pastry\n",
      "2.\n",
      "sweet Potato Delights, Roasted Sweet Potatoes, Healthy Snacking, Organic Farming, Low Carb Diet, Fitness Recipes, Detox Meal\n",
      "3. Low Calorie Meal, High Protein Diet, Frozen Cauliflower Rice, Fits & Stays, Lean Muscle Building, Quick & Easy Meal Prep, Health Alternative Recipe\n",
      "4. Frozen Passion fruit Juice, 100% Fruit Juice,, Pure Passion juice, Natural Fruit juice. Sweet and F\n",
      "--------------------------------------------------\n"
     ]
    },
    {
     "name": "stderr",
     "output_type": "stream",
     "text": [
      "A decoder-only architecture is being used, but right-padding was detected! For correct generation results, please set `padding_side='left'` when initializing the tokenizer.\n"
     ]
    },
    {
     "name": "stdout",
     "output_type": "stream",
     "text": [
      "inputs295:\n",
      "\n",
      "1. Seafood, Scallop, Gourmet, Meal prep, Grilling, Jumbo scallop, Frozen food。\n",
      "\n",
      "outputs:\n",
      "\n",
      "1. Seafood, Scallop, Gourmet, Meal prep, Grilling, Jumbo scallop, Frozen food\n",
      "2.\n",
      "\n",
      " High Protein Chicken Breast, Fitness Meal Prep, Lean Muscle, Low Calorie Diet, Healthy Eating, Quick and Easy, Nutritious ChickenBreast\n",
      "3. High protein chicken breast, Fittness meal, Low calorie eating, Leannutrition, High protein, Mealaunchbox, Ready-to-eat chicken brea\n",
      "4. Chicken Thigh Recipe, Boneless Chicken THigh, MeAL Prep. Marinated Chicken, Grilled Meat, Quick Frozen Ch\n",
      "--------------------------------------------------\n"
     ]
    },
    {
     "name": "stderr",
     "output_type": "stream",
     "text": [
      "A decoder-only architecture is being used, but right-padding was detected! For correct generation results, please set `padding_side='left'` when initializing the tokenizer.\n"
     ]
    },
    {
     "name": "stdout",
     "output_type": "stream",
     "text": [
      "inputs296:\n",
      "\n",
      "1. Taiwanese Turnip Cake, Chinese Cuisine, Heat-and-Eat, Dim Sum, Vegetarian, Authentic Taste, Hong Kong Style。\n",
      "\n",
      "outputs:\n",
      "\n",
      "1. Taiwanese Turnip Cake, Chinese Cuisine, Heat-and-Eat, Dim Sum, Vegetarian, Authentic Taste, Hong Kong Style\n",
      "2.\n",
      "sweet dessert, Roasted Sweet Potato, Healthy Snacking, Organic Farming, Low Carb Diet, Fitness Recipes, Detox Meal\n",
      "3. Sweet dessERT, Chinese desserts, Silver ear fungus, Nutritious dessert and healthy dessert. Squid rings, Seafood delicacy, Argentinian calamari, Gourmet seafood, Quick-frozen squid, Sea food delicasy\n",
      "4. Thin Dumpling Wrappers, Non-GMO Soybeans, High\n",
      "--------------------------------------------------\n"
     ]
    },
    {
     "name": "stderr",
     "output_type": "stream",
     "text": [
      "A decoder-only architecture is being used, but right-padding was detected! For correct generation results, please set `padding_side='left'` when initializing the tokenizer.\n"
     ]
    },
    {
     "name": "stdout",
     "output_type": "stream",
     "text": [
      "inputs297:\n",
      "\n",
      "1. Grass-fed Beef Tongue, Beef Recipes, Meal Prep, New Zealand Beef, Hot Pot, Sliced Meat, Beef Tongue Dish。\n",
      "\n",
      "outputs:\n",
      "\n",
      "1. Grass-fed Beef Tongue, Beef Recipes, Meal Prep, New Zealand Beef, Hot Pot, Sliced Meat, Beef Tongue Dish\n",
      "2.\n",
      ", Meals, Weight loss, Low carb, Healthy eating, Gourmet recipes, Quinoa, Frozen spinach\n",
      "3. Frozen Vegetables, Quick Meal Planning, Cucumber, Onion Strips, Bitter Melon, Shiitake, Convenient Cooking\n",
      "4. USDA beef, Blue Ribbon steak, Tender shoulder steak; Grilled steak and grass-fried beef; Grass-, beef recipes; Weight, American beef\n",
      "5. Meal Box, Low Carb Diet\n",
      "--------------------------------------------------\n"
     ]
    },
    {
     "name": "stderr",
     "output_type": "stream",
     "text": [
      "A decoder-only architecture is being used, but right-padding was detected! For correct generation results, please set `padding_side='left'` when initializing the tokenizer.\n"
     ]
    },
    {
     "name": "stdout",
     "output_type": "stream",
     "text": [
      "inputs298:\n",
      "\n",
      "1. Pork Recipes, Japanese Cuisine, Meal Prep, Ready to Heat, Marinated Meat, Pork Slices, Gourmet Pork。\n",
      "\n",
      "outputs:\n",
      "\n",
      "1. Pork Recipes, Japanese Cuisine, Meal Prep, Ready to Heat, Marinated Meat, Pork Slices, Gourmet Pork\n",
      "2.\n",
      "\n",
      " Taiwanese Street Food, Chicken Rice Wrap, Taiwanese Cuisines, Night Market Snack, Golden Chicken Chop, Taiwan Street Food\n",
      "3. Fried Squid Snack; Seafood Delight, Air Fryer Delights, Late-Night Snack Ideas, Taiwanse Seafoods, Crispy Squids, Salt and Pepper Flavor\n",
      "4. Thai cuisine, Handmade moon shrimp cake, Readt shrimper, Golden handmade moon cake and black moon shripm, Handcrafted shrimimp c\n",
      "--------------------------------------------------\n"
     ]
    },
    {
     "name": "stderr",
     "output_type": "stream",
     "text": [
      "A decoder-only architecture is being used, but right-padding was detected! For correct generation results, please set `padding_side='left'` when initializing the tokenizer.\n"
     ]
    },
    {
     "name": "stdout",
     "output_type": "stream",
     "text": [
      "inputs299:\n",
      "\n",
      "1. Low Calorie Meal, High Protein Diet, Fitness Meal Prep, Lean Muscle Building, Quick & Easy Food, Healthy Eating, Protein-Rich Chicken。\n",
      "\n",
      "outputs:\n",
      "\n",
      "1. Low Calorie Meal, High Protein Diet, Fitness Meal Prep, Lean Muscle Building, Quick & Easy Food, Healthy Eating, Protein-Rich Chicken\n",
      "2.\n",
      "\n",
      " High Proteins, Meal Planning, Low Calories, Fitting Recipes, Forbidden Combo, Smooth Eating\n",
      "3. High Proteine, Fittness Recipe, Low Carb, Muscle building, Sichuan Flavor, Ready-to-Eat, Leann Protein\n",
      "4. High protein chicken breast, Fitted meat, Low calorie eating, Leans muscle, Quick and easy meal, Health supplement, Readed meat\n",
      "5. Grilled Eel, Unagi Eel or Fresh Eel. Japanese Eel\n",
      "--------------------------------------------------\n"
     ]
    },
    {
     "name": "stderr",
     "output_type": "stream",
     "text": [
      "A decoder-only architecture is being used, but right-padding was detected! For correct generation results, please set `padding_side='left'` when initializing the tokenizer.\n"
     ]
    },
    {
     "name": "stdout",
     "output_type": "stream",
     "text": [
      "inputs300:\n",
      "\n",
      "1. Ready-to-eat, Grilled Chicken Wings, Marinated Chicken, Finger-Licking Good, Variety Pack, Easy Preparation, Grilled Meat。\n",
      "\n",
      "outputs:\n",
      "\n",
      "1. Ready-to-eat, Grilled Chicken Wings, Marinated Chicken, Finger-Licking Good, Variety Pack, Easy Preparation, Grilled Meat\n",
      "2.\n",
      "\n",
      " Taiwanese Street Food, Chicken Rice Wrap, Taiwanese Cuisine, Night Market Snack, Golden Chicken Soup, Taiwan Street Food\n",
      "3. Sugarcane Chicken Breast, Chili Dumplings, Cheese Dumplin, Crispy Seafood, Gourmet Pork Chicken Rolls, Flambered Corn Dumplins\n",
      "4. Fried Squid Snack; Party Snack Ideas, Air Fryer Recipe, Late-Night Snack Food, Taiwanesse Snack and Chicken Nuggets, CrisPY Squids,\n",
      "--------------------------------------------------\n"
     ]
    },
    {
     "name": "stderr",
     "output_type": "stream",
     "text": [
      "A decoder-only architecture is being used, but right-padding was detected! For correct generation results, please set `padding_side='left'` when initializing the tokenizer.\n"
     ]
    },
    {
     "name": "stdout",
     "output_type": "stream",
     "text": [
      "inputs301:\n",
      "\n",
      "1. Taiwanese Street Food, Chicken Rice Wrap, Taiwanese Cuisine, Night Market Snack, Golden Chicken Rice Wrap, Taiwanese Specialty, Green Curry Flavor。\n",
      "\n",
      "outputs:\n",
      "\n",
      "1. Taiwanese Street Food, Chicken Rice Wrap, Taiwanese Cuisine, Night Market Snack, Golden Chicken Rice Wrap, Taiwanese Specialty, Green Curry Flavor\n",
      "2.\n",
      "sweet dessert, Chinese dessert and silver ear fungus, Nutritious dessert soup, Healthy dessert ingredients, Silver ear fungal, White fungus soup, Refreshing dessert\n",
      "3. Seafood Chowder, Instant Meal, Gourmet Soup, Heat and Serve, Midnight Snack. Sweet Potato, Healthful, Artisanal Handcrafted, Low Carb, Fitness Recipe\n",
      "4. Gourmand Street Food. Taiwan Caviar, Gournmet Street Food (Open-faced Sandwich,\n",
      "--------------------------------------------------\n"
     ]
    },
    {
     "name": "stderr",
     "output_type": "stream",
     "text": [
      "A decoder-only architecture is being used, but right-padding was detected! For correct generation results, please set `padding_side='left'` when initializing the tokenizer.\n"
     ]
    },
    {
     "name": "stdout",
     "output_type": "stream",
     "text": [
      "inputs302:\n",
      "\n",
      "1. High Protein, Low Carb, Weight Loss, Meal Prep, Healthy Eating, Calorie Deficit, Microwaveable。\n",
      "\n",
      "outputs:\n",
      "\n",
      "1. High Protein, Low Carb, Weight Loss, Meal Prep, Healthy Eating, Calorie Deficit, Microwaveable\n",
      "2.\n",
      "\n",
      " High Proteins, Meals, Weights, Low Calorie, Healthie Scale, Ready-to-Eat, Chicken Breast\n",
      "3. High protein chicken breast, Fitness meal prep, Low calorie eating, Lean muscle building, Quick and easy meal, Healthier eating on the go, Readiness to eat\n",
      "4. High Protien, Mealtime, LowCalorie, Leantick, Quickmeal, Snack, Premium Protein Chunks\n",
      "5. High proteins, Fresh frozen seafood, Health\n",
      "--------------------------------------------------\n"
     ]
    },
    {
     "name": "stderr",
     "output_type": "stream",
     "text": [
      "A decoder-only architecture is being used, but right-padding was detected! For correct generation results, please set `padding_side='left'` when initializing the tokenizer.\n"
     ]
    },
    {
     "name": "stdout",
     "output_type": "stream",
     "text": [
      "inputs303:\n",
      "\n",
      "1. Barramundi Fish Fillet, Fresh Fish Recipe, Healthy Meal Prep, Gourmet Fish Dish, Premium Barramundi, Boneless Fish Fillet, Bento Box Staple。\n",
      "\n",
      "outputs:\n",
      "\n",
      "1. Barramundi Fish Fillet, Fresh Fish Recipe, Healthy Meal Prep, Gourmet Fish Dish, Premium Barramundi, Boneless Fish Fillet, Bento Box Staple\n",
      "2.\n",
      "\n",
      " Fried Squid Snack, Party Snack Ideas, Air Fryer Recipe Squids, Late-Night Snack Food, Taiwanese Fried Food, Crispy SquID, Salt and Pepper Flavor\n",
      "3. Gourmand Fish Roe, Ready-to-Eat, Delicate Texture, Vacuum Packed, Fruit and Crab Meat, CrisPY Squ id, Delicious Mayonnaise\n",
      "4. Thai cuisine, Handmade moon shrimp cake, Real shrimps, Handwritten shrimpf\n",
      "--------------------------------------------------\n"
     ]
    },
    {
     "name": "stderr",
     "output_type": "stream",
     "text": [
      "A decoder-only architecture is being used, but right-padding was detected! For correct generation results, please set `padding_side='left'` when initializing the tokenizer.\n"
     ]
    },
    {
     "name": "stdout",
     "output_type": "stream",
     "text": [
      "inputs304:\n",
      "\n",
      "1. Fried Mushrooms, Snack, Party Food, Crispy Snack, Air Fryer Recipe, Garlic Salt, Late Night Snack。\n",
      "\n",
      "outputs:\n",
      "\n",
      "1. Fried Mushrooms, Snack, Party Food, Crispy Snack, Air Fryer Recipe, Garlic Salt, Late Night Snack\n",
      "2.\n",
      "\n",
      " Taiwanese cuisine, Appetizers, Marinated pig ears, Snacks, Small dishes, Pork delicacy, Crispiness\n",
      "3. Fried Squid Snack or Calamari Chips, Taiwanese Delicacy of Gourmet Seafood, CrisPY Squids, Savory Treats, Midnight Snack and Snack Food, Japanese Delicasy, Fresh Squuid\n",
      "4. Japanese-style meat slices, Penghu fish, SeafoOD delicatessen, Shiliqua fish, Hot pot beef, Japanese\n",
      "--------------------------------------------------\n"
     ]
    },
    {
     "name": "stderr",
     "output_type": "stream",
     "text": [
      "A decoder-only architecture is being used, but right-padding was detected! For correct generation results, please set `padding_side='left'` when initializing the tokenizer.\n"
     ]
    },
    {
     "name": "stdout",
     "output_type": "stream",
     "text": [
      "inputs305:\n",
      "\n",
      "1. Wild Pacific Saury, Frozen Fresh Fish, Sashimi Grade, Easy Cooking Fish, Grilled Fish, Lunch Meal Prep, Ocean Catch。\n",
      "\n",
      "outputs:\n",
      "\n",
      "1. Wild Pacific Saury, Frozen Fresh Fish, Sashimi Grade, Easy Cooking Fish, Grilled Fish, Lunch Meal Prep, Ocean Catch\n",
      "2.\n",
      "sweet Potato Delights, Roasted Sweet Potatoes, Healthy Snacking, Organic Farming, Low Carb Diet, Fitness Recipes\n",
      "3. Wild Fish Fillet, Fish Meat Recibes, Meal Preparation, Premium Meat and Fish, Fresh Frozen Seafood, Gourmet Fish Dishes\n",
      "4. Gourmé Fish Dish, Taiwan Sea Bass, Post-surgery Diet, Meality Prepare, Sea Bass Recipe, Oven-baked Delicacy\n",
      "5. Fresh Tiger Grouper\n",
      "--------------------------------------------------\n"
     ]
    },
    {
     "name": "stderr",
     "output_type": "stream",
     "text": [
      "A decoder-only architecture is being used, but right-padding was detected! For correct generation results, please set `padding_side='left'` when initializing the tokenizer.\n"
     ]
    },
    {
     "name": "stdout",
     "output_type": "stream",
     "text": [
      "inputs306:\n",
      "\n",
      "1. Cheese Pull-Apart Pancake, Breakfast Snack, Chinese Pastry, Scallion Cheese Pancake, Savory Breakfast, Gourmet Delight, Warm Cheese Treat。\n",
      "\n",
      "outputs:\n",
      "\n",
      "1. Cheese Pull-Apart Pancake, Breakfast Snack, Chinese Pastry, Scallion Cheese Pancake, Savory Breakfast, Gourmet Delight, Warm Cheese Treat\n",
      "2.\n",
      "\n",
      " Taiwanese Street Food, Nourishing Soup, Four Treasures Soup (Pork Intestine, Soup Delights, Drunken Soup and Oratory Soup), Pork Recipes, Traditional Chinese Soup\n",
      "3. Sweet Potato Delights (Jumbo White SweetPotato, Non-GMO Tender Sweetpotato, Low-Carb Diet, Healthy Eating, Fresh Frozen Sweet potatoes, Organic Farming, Weight Management)\n",
      "4. Barramundi Fish Fillet, Finger-Licking\n",
      "--------------------------------------------------\n"
     ]
    },
    {
     "name": "stderr",
     "output_type": "stream",
     "text": [
      "A decoder-only architecture is being used, but right-padding was detected! For correct generation results, please set `padding_side='left'` when initializing the tokenizer.\n"
     ]
    },
    {
     "name": "stdout",
     "output_type": "stream",
     "text": [
      "inputs307:\n",
      "\n",
      "1. Sugarcane Chicken, Chicken Breast, Chicken Wings, Chicken Recipe, Meal Prep, Oil Scallion Chicken, Smoked Sugarcane Chicken。\n",
      "\n",
      "outputs:\n",
      "\n",
      "1. Sugarcane Chicken, Chicken Breast, Chicken Wings, Chicken Recipe, Meal Prep, Oil Scallion Chicken, Smoked Sugarcane Chicken\n",
      "2.\n",
      "\n",
      " Taiwanese cuisine, Appetizers, Marinated pig ears, Snack food, Small dishes, Pork delicacy, Crispy texture\n",
      "3. Chicken Thigh Fillet, Boneless Chicken THigh, MeAL Prep., Marinating Sauce, Grilled Meat, Chiken Thigh, Lunchbox Main Course, Party Food\n",
      "4. Broth, Ready-to-cook, Prepare, Quick and easy meal, No-fried potatoes, Long-simmered broth, Variety pack\n",
      "5. Chickenn\n",
      "--------------------------------------------------\n"
     ]
    },
    {
     "name": "stderr",
     "output_type": "stream",
     "text": [
      "A decoder-only architecture is being used, but right-padding was detected! For correct generation results, please set `padding_side='left'` when initializing the tokenizer.\n"
     ]
    },
    {
     "name": "stdout",
     "output_type": "stream",
     "text": [
      "inputs308:\n",
      "\n",
      "1. Health supplement, Pineapple enzyme, Probiotic jelly, Weight management, Artisanal produce, Digestive health, Convenient snack。\n",
      "\n",
      "outputs:\n",
      "\n",
      "1. Health supplement, Pineapple enzyme, Probiotic jelly, Weight management, Artisanal produce, Digestive health, Convenient snack\n",
      "2.\n",
      "\n",
      " Squid rings, Seafood delicacy, Argentinian calamari, Gourmet seafood, Quick-frozen squid, Sea food recipes\n",
      "3. Meal Prep, Low Carb Diet, Fitness Food, High Protein, Ready to Eat, Weights Loss, Calorie Deficit\n",
      "4. High protein chicken breast, Fitted meat, Low calorie eating, Lean muscle building, Quick and easy meal, Healthy eating option, Protein-rich chicken\n",
      "5. Healthy Eating,\n",
      "--------------------------------------------------\n"
     ]
    },
    {
     "name": "stderr",
     "output_type": "stream",
     "text": [
      "A decoder-only architecture is being used, but right-padding was detected! For correct generation results, please set `padding_side='left'` when initializing the tokenizer.\n"
     ]
    },
    {
     "name": "stdout",
     "output_type": "stream",
     "text": [
      "inputs309:\n",
      "\n",
      "1. Organic fish soup, Chicken essence, EU certified, Nutritious broth, Local delicacy, Sustainable farming, Health booster。\n",
      "\n",
      "outputs:\n",
      "\n",
      "1. Organic fish soup, Chicken essence, EU certified, Nutritious broth, Local delicacy, Sustainable farming, Health booster\n",
      "2.\n",
      "sweet Potato Delights, Roasted Sweet Potatoes, Healthy Snacking, Organic Farming, Low Carb Diet, Fitness Recipes\n",
      "3. 21oz Presidential Steak, Prime Grade Beef, Thick Cut Steak. USDA beef, Blue Ribbon steak, Tender shoulder steak. Grilled steak slices, Grass-fed beef. 100% beef slices. Purple Sweetpotato, Roastable Purple, Organically Farmmed, Low-carb Dietary,\n",
      "--------------------------------------------------\n"
     ]
    },
    {
     "name": "stderr",
     "output_type": "stream",
     "text": [
      "A decoder-only architecture is being used, but right-padding was detected! For correct generation results, please set `padding_side='left'` when initializing the tokenizer.\n"
     ]
    },
    {
     "name": "stdout",
     "output_type": "stream",
     "text": [
      "inputs310:\n",
      "\n",
      "1. Dry-aged king mackerel fillet, Sustainable fish, EU certified, Natural aging process, High Omega-3 content, Gourmet fish cuts, Non-toxic seafood。\n",
      "\n",
      "outputs:\n",
      "\n",
      "1. Dry-aged king mackerel fillet, Sustainable fish, EU certified, Natural aging process, High Omega-3 content, Gourmet fish cuts, Non-toxic seafood\n",
      "2.\n",
      "\n",
      " Fresh Frozen Chilean Salmon, Omega‑3 Rich Salmon in Premium Frozen Fish, Squid Snack, Fish Meat Recipes, Healthy Seafood Option, Direct-to-Home Delivery, Goursmet Fish Balls\n",
      "3. Whitefish Fillet, Gournmet Fish, Fish Recibes, Gouremet Fish Dishes, Meal Prep, Premium Fish Cuts, Gourious Fish Dish\n",
      "4. Gourmand Fish Discharge, Taiwan Sea Bass, Post-surgery Diet, Meality Prep\n",
      "--------------------------------------------------\n"
     ]
    },
    {
     "name": "stderr",
     "output_type": "stream",
     "text": [
      "A decoder-only architecture is being used, but right-padding was detected! For correct generation results, please set `padding_side='left'` when initializing the tokenizer.\n"
     ]
    },
    {
     "name": "stdout",
     "output_type": "stream",
     "text": [
      "inputs311:\n",
      "\n",
      "1. Australian Wagyu, Chocolate-infused beef, Grilling recipes, Marbled Wagyu, Prime rib, Beef shoulder, Gourmet steaks。\n",
      "\n",
      "outputs:\n",
      "\n",
      "1. Australian Wagyu, Chocolate-infused beef, Grilling recipes, Marbled Wagyu, Prime rib, Beef shoulder, Gourmet steaks\n",
      "2.\n",
      "\n",
      " USDA beef. Angus beef or Prime ribeye, Ribeye steak, Grilled steak or Blue Ribbon steak. Angustemmed beef slices, Grass-fed beef tongue, Beeftender, Meal prep, Bone-in beef knuckles\n",
      "3. Australian wagyu. Angussus Wagyus, American Wagyū, Australian Beef, Short Rib, Thick Cut, Sirloin, Juicy\n",
      "4. USDA Angus Beef. USDAs beef recipes. AustralianW\n",
      "--------------------------------------------------\n"
     ]
    },
    {
     "name": "stderr",
     "output_type": "stream",
     "text": [
      "A decoder-only architecture is being used, but right-padding was detected! For correct generation results, please set `padding_side='left'` when initializing the tokenizer.\n"
     ]
    },
    {
     "name": "stdout",
     "output_type": "stream",
     "text": [
      "inputs312:\n",
      "\n",
      "1. Taiwanese cuisine, Appetizers, Marinated pig ears, Snack food, Small dishes, Pork delicacy, Crispy texture。\n",
      "\n",
      "outputs:\n",
      "\n",
      "1. Taiwanese cuisine, Appetizers, Marinated pig ears, Snack food, Small dishes, Pork delicacy, Crispy texture\n",
      "2.\n",
      "\n",
      " Fried Chicken, Salty Crispy Chicken. Snack Food, Air Fryer Cooking, Late-Night Snack, Snackergy, Taiwanese Fried Food, CrisPY Texture\n",
      "3. Gourmet Chicken Rolls, Taiwaneses Chicken Dumplings, Juicy Chicken Rolls, Oven-baked Delicacy and Night Market Delight, Pumpkin Soup Selection, Convenient Late-night Snack\n",
      "4. Healthy Shrimp, Taiwan Shrump, Hot Pot Seafood, Shrimper, Non-Toxic Shr\n",
      "--------------------------------------------------\n"
     ]
    },
    {
     "name": "stderr",
     "output_type": "stream",
     "text": [
      "A decoder-only architecture is being used, but right-padding was detected! For correct generation results, please set `padding_side='left'` when initializing the tokenizer.\n"
     ]
    },
    {
     "name": "stdout",
     "output_type": "stream",
     "text": [
      "inputs313:\n",
      "\n",
      "1. Edamame, High Protein, Healthy Eating, Black Pepper Edamame, Fitness, Meal Prep, Nutritious Snack。\n",
      "\n",
      "outputs:\n",
      "\n",
      "1. Edamame, High Protein, Healthy Eating, Black Pepper Edamame, Fitness, Meal Prep, Nutritious Snack\n",
      "2.\n",
      "\n",
      " Healthy Shrimp, Taiwan Shrump, Hot Pot Seafood, Shrouder Shrip, Non-Toxic Shrimps, Fresh ShrImp, Sustainable Seafoood\n",
      "3. Seafoam, Wild Cuttlefish, Seafoams, Frozen Cuttles, Cooking Seafoods, Taiwanese Cuttlene, Sashimi Grade\n",
      "4. Frozen Broccoli, Cruciferous Vegetables, Cancer-fighting, Low-Calorie Diet, Healthymelling, Quick Meal Prepar\n",
      "--------------------------------------------------\n"
     ]
    },
    {
     "name": "stderr",
     "output_type": "stream",
     "text": [
      "A decoder-only architecture is being used, but right-padding was detected! For correct generation results, please set `padding_side='left'` when initializing the tokenizer.\n"
     ]
    },
    {
     "name": "stdout",
     "output_type": "stream",
     "text": [
      "inputs314:\n",
      "\n",
      "1. American Beef Slices, Pork Recipes, Hot Pot Beef, Grilling Meat Selection, Premium Beef Cuts, Pork Cooking Ideas, Tender Beef Slices。\n",
      "\n",
      "outputs:\n",
      "\n",
      "1. American Beef Slices, Pork Recipes, Hot Pot Beef, Grilling Meat Selection, Premium Beef Cuts, Pork Cooking Ideas, Tender Beef Slices\n",
      "2.\n",
      "\n",
      " Fresh Frozen Seafood, Salmon Fillet, Chilean Sea Bass, Cod Fillet , SeafoOD Selection, Gourmet Fish Dishes, High-Quality Frozen Fish\n",
      "3. Frozen Vegetables, Meal Prep, Quick Meal, Fresh frozen Veggies, Broccoli, Green Beans\n",
      "4. Frozer Seafoood, Squid, Scallops, White Shrimp, Seafoods, Harbour Snack, Me-Midnight Snack\n",
      "5. Handmade Squ id Balls, Hotpot\n",
      "--------------------------------------------------\n"
     ]
    },
    {
     "name": "stderr",
     "output_type": "stream",
     "text": [
      "A decoder-only architecture is being used, but right-padding was detected! For correct generation results, please set `padding_side='left'` when initializing the tokenizer.\n"
     ]
    },
    {
     "name": "stdout",
     "output_type": "stream",
     "text": [
      "inputs315:\n",
      "\n",
      "1. Hot Pot Base, Sichuan Spicy Hot Pot, Sichuan Mala Hot Pot, Northeast Sour Cabbage Hot Pot, Ready-to-Eat Hot Pot, Flavorful Broth, Spicy Broth。\n",
      "\n",
      "outputs:\n",
      "\n",
      "1. Hot Pot Base, Sichuan Spicy Hot Pot, Sichuan Mala Hot Pot, Northeast Sour Cabbage Hot Pot, Ready-to-Eat Hot Pot, Flavorful Broth, Spicy Broth\n",
      "2.\n",
      ", Healthy Eating, Meal Planning, Fitness, Low Carb, Balanced Diet\n",
      "3. High protein chicken breast, Fitted meat, Low calorie eating, Lean muscle building, Quick and easy meal, Health supplement, Readily available\n",
      "4. Ready to Eat, Luan Beef Shank, Cooking Packet, Braised Beef, Gourmet Delight, Easy Meal Prep, Grilled Beef Slices\n",
      "5. Healthy Shrimp, Taiwan Shrump, Hot Pot Seafood, Shr\n",
      "--------------------------------------------------\n"
     ]
    },
    {
     "name": "stderr",
     "output_type": "stream",
     "text": [
      "A decoder-only architecture is being used, but right-padding was detected! For correct generation results, please set `padding_side='left'` when initializing the tokenizer.\n"
     ]
    },
    {
     "name": "stdout",
     "output_type": "stream",
     "text": [
      "inputs316:\n",
      "\n",
      "1. A5 Wagyu, Wagyu Burgers, Japanese Beef, Gourmet Burgers, Premium Meat, Juicy Patties, Hand-Cut Steaks。\n",
      "\n",
      "outputs:\n",
      "\n",
      "1. A5 Wagyu, Wagyu Burgers, Japanese Beef, Gourmet Burgers, Premium Meat, Juicy Patties, Hand-Cut Steaks\n",
      "2.\n",
      "\n",
      " Marinated Clams, Spicy Flavor, Appetizers, Taiwanese Delicacy, Fresh Clams\n",
      "3. Marinaded Clams is a Taiwanese delicacy. Marination is a process of pickling seafood, and the result is a delicious, succulent, and tender clam. Spicy Clams and Appetizer Snack, Handmade Fish Balls, Flavors of Snack and Drink, Authentic Recipe, No Preservatives, Fressh Ingredients\n",
      "4. Pork Recipes, Unique Flav\n",
      "--------------------------------------------------\n"
     ]
    },
    {
     "name": "stderr",
     "output_type": "stream",
     "text": [
      "A decoder-only architecture is being used, but right-padding was detected! For correct generation results, please set `padding_side='left'` when initializing the tokenizer.\n"
     ]
    },
    {
     "name": "stdout",
     "output_type": "stream",
     "text": [
      "inputs317:\n",
      "\n",
      "1. Mushroom Pumpkin Congee, Seafood Medley Congee, Spinach Porcini Mushroom Congee, Comforting Rice Porridge, Vegan Congee, Ready-to-Eat Meal, Wholesome Ingredients。\n",
      "\n",
      "outputs:\n",
      "\n",
      "1. Mushroom Pumpkin Congee, Seafood Medley Congee, Spinach Porcini Mushroom Congee, Comforting Rice Porridge, Vegan Congee, Ready-to-Eat Meal, Wholesome Ingredients\n",
      "2.\n",
      "\n",
      " Frozen Vegetables, Meal Prep, Quick Meal\n",
      "3. Taiwanese Street Food, Nourishing Soup, Four Treasures Soup ( Rice, Wheat, Pork, and Herbs), Pork Intestine, Traditional Chinese Soup\n",
      "4. Healthy Eating, Meals, Fitness, Low Carb, Dietary Control, Quinoa Nutrition, Preventive Care\n",
      "5. Japanese-style meat slices, Penghu fish, Seaweed delicacy, Shilim fish, Hot pot recipe, Japanese cu\n",
      "--------------------------------------------------\n"
     ]
    },
    {
     "name": "stderr",
     "output_type": "stream",
     "text": [
      "A decoder-only architecture is being used, but right-padding was detected! For correct generation results, please set `padding_side='left'` when initializing the tokenizer.\n"
     ]
    },
    {
     "name": "stdout",
     "output_type": "stream",
     "text": [
      "inputs318:\n",
      "\n",
      "1. Three-Cup Chicken, Taiwanese Drunken Chicken, Chef Wu Bingcheng, Easy to Prepare, Ready to Heat, Chef's Special, Gourmet Convenience。\n",
      "\n",
      "outputs:\n",
      "\n",
      "1. Three-Cup Chicken, Taiwanese Drunken Chicken, Chef Wu Bingcheng, Easy to Prepare, Ready to Heat, Chef's Special, Gourmet Convenience\n",
      "2.\n",
      "sweet dessert, Chinese dessert. Fried fruit, Snack, Party food, Crispy fruit, Air fryer recipe, Night market, Crisp dessert\n",
      "3. Pork Recipes, Japanese Cuisine, Meal Prep, Recipe, Marinated Meat, Pork Slices, Goursmet Pork\n",
      "4. Fried Squid Snack. Japanese Style. Air Fryer Cooking. Crispy Squ id. Snack Food. Japanese Snack\n",
      "5. Taro Pearls, Sweet Potato Pearls. Chewy Tapioca,\n",
      "--------------------------------------------------\n"
     ]
    },
    {
     "name": "stderr",
     "output_type": "stream",
     "text": [
      "A decoder-only architecture is being used, but right-padding was detected! For correct generation results, please set `padding_side='left'` when initializing the tokenizer.\n"
     ]
    },
    {
     "name": "stdout",
     "output_type": "stream",
     "text": [
      "inputs319:\n",
      "\n",
      "1. Taro Pearls, Sweet Potato Pearls, Chewy Tapioca, Taiwanese Dessert Soup, Warm Sweet Soup, Signature Taro Balls, Sweet Yam Pearls。\n",
      "\n",
      "outputs:\n",
      "\n",
      "1. Taro Pearls, Sweet Potato Pearls, Chewy Tapioca, Taiwanese Dessert Soup, Warm Sweet Soup, Signature Taro Balls, Sweet Yam Pearls\n",
      "2.\n",
      "\n",
      " Sweet dessert, Chinese dessert (Taro root), Silver ear fungus, Nutritious dessert\n",
      "3. Flash Frozen Vegetables, Quick Meal Preparation, S sweet Potato, Broccoli, Red Bell Peppers, Nuts\n",
      "4. Thin Dumpling Wrappers, Non-GMO Soybeans, High Protein, Low Carb, Fitness, Meal Prep, Handmade\n",
      "5. Lean Protein Selection, FITFIT, Low Calorie Deficit, High protein, Meals Prepared, Ready\n",
      "--------------------------------------------------\n"
     ]
    },
    {
     "name": "stderr",
     "output_type": "stream",
     "text": [
      "A decoder-only architecture is being used, but right-padding was detected! For correct generation results, please set `padding_side='left'` when initializing the tokenizer.\n"
     ]
    },
    {
     "name": "stdout",
     "output_type": "stream",
     "text": [
      "inputs320:\n",
      "\n",
      "1. Frozen Passion fruit Juice, 100% Fruit Juice, Pure Passion fruit Juice, Natural Fruit Juice, Freshly Harvested Passion fruit, Juice with Passion fruit Pulp, Frozen Fresh Juice。\n",
      "\n",
      "outputs:\n",
      "\n",
      "1. Frozen Passion fruit Juice, 100% Fruit Juice, Pure Passion fruit Juice, Natural Fruit Juice, Freshly Harvested Passion fruit, Juice with Passion fruit Pulp, Frozen Fresh Juice\n",
      "2.\n",
      "\n",
      " Sweet Potato Delights, Roasted Sweet potato, Healthy Snacking, Organic Farming, Low Carb Diet, Fitness Recipes, Detox Meal\n",
      "3. Taro Pearls, Sweet Porridge, Chewy Tapioca, Taiwanese Dessert Soup, Warm Sweet Soup and Sweet Ingredients, Sautéed Taro Balls, Pan-Dried Taro\n",
      "4. Fried Fish, Fish Nuggets, Snack, Deep-fried Delights or Crispy Fish, Fast Food, Air Fryer Cook\n",
      "--------------------------------------------------\n"
     ]
    },
    {
     "name": "stderr",
     "output_type": "stream",
     "text": [
      "A decoder-only architecture is being used, but right-padding was detected! For correct generation results, please set `padding_side='left'` when initializing the tokenizer.\n"
     ]
    },
    {
     "name": "stdout",
     "output_type": "stream",
     "text": [
      "inputs321:\n",
      "\n",
      "1. Instant Chicken Soups, Medicinal Herbal Soups, Gourmet Chicken Broths, Nutritious Soup Selection, Heat-and-Eat Packs, Premium Soup Bundle, Traditional Bone Broths。\n",
      "\n",
      "outputs:\n",
      "\n",
      "1. Instant Chicken Soups, Medicinal Herbal Soups, Gourmet Chicken Broths, Nutritious Soup Selection, Heat-and-Eat Packs, Premium Soup Bundle, Traditional Bone Broths\n",
      "2.\n",
      "\n",
      " Instant Soup, Nourishing Chicken, Herbal Broth, Heal Rice, Soup Pack, Easy Meal, Premonition\n",
      "3. Insta-Meal, Nostalgic Taiwanese Cuisine, Tainan Traditional Delicacy, Pork Cartilage Noodles, Quick and Easy meal, Taiwanese Pork, Authentic Taiwanese Snack\n",
      "4. Meal Prep, Low Carb Diet, Fitness Food, High Protein, Ready to Eat, Weight Management, Muscle Building, Convenient\n",
      "--------------------------------------------------\n"
     ]
    },
    {
     "name": "stderr",
     "output_type": "stream",
     "text": [
      "A decoder-only architecture is being used, but right-padding was detected! For correct generation results, please set `padding_side='left'` when initializing the tokenizer.\n"
     ]
    },
    {
     "name": "stdout",
     "output_type": "stream",
     "text": [
      "inputs322:\n",
      "\n",
      "1. Abalone snack, Spicy abalone, Gourmet abalone, Seafood delicacy, Flavorful abalone, Premium pickled abalone, Snack selection。\n",
      "\n",
      "outputs:\n",
      "\n",
      "1. Abalone snack, Spicy abalone, Gourmet abalone, Seafood delicacy, Flavorful abalone, Premium pickled abalone, Snack selection\n",
      "2.\n",
      "\n",
      " Taiwanese Caviar, Lunar New Year Snack, GOURmet Snack (traditional Twist), Ready-to-Eat, Festive Treat, Premum Snack\n",
      "3. Marinated Clams, Spicily Peppered Clams (Kalbi), Taiwanese Delicacy (Bushy Seaweed), Appetizer Dish, Fresh Clams\n",
      "4. HealthBoost, TraditionalFlavors, JapaneseDelicacy\n",
      "5. Marmellos, TaiwaneseDelicace, Braised Pork Cartilage, Slow\n",
      "--------------------------------------------------\n"
     ]
    },
    {
     "name": "stderr",
     "output_type": "stream",
     "text": [
      "A decoder-only architecture is being used, but right-padding was detected! For correct generation results, please set `padding_side='left'` when initializing the tokenizer.\n"
     ]
    },
    {
     "name": "stdout",
     "output_type": "stream",
     "text": [
      "inputs323:\n",
      "\n",
      "1. Fried Squid Snack, Party Snack, Air Fryer Recipe, Late-Night Snack, Taiwanese Fried Food, Crispy Squid, Salt and Pepper Flavor。\n",
      "\n",
      "outputs:\n",
      "\n",
      "1. Fried Squid Snack, Party Snack, Air Fryer Recipe, Late-Night Snack, Taiwanese Fried Food, Crispy Squid, Salt and Pepper Flavor\n",
      "2.\n",
      "\n",
      " Fried Chicken, Chicken Nuggets, Snack Food, Air fryer Cooking, Home-style Cooking and Pork Balls, Convenience Food, Party-Ready Meals\n",
      "3. Chicken Thigh Recipe: Boneless Chicken thigh, Meal Prep, Lunchbox Main Course, Party Food, Juicy ChickenThigh, Snacks, Party Favorite\n",
      "4. Fried Chiken, Salty Crispy Chicken and Air FRYER Cooking Delights, Air-Fried Delights and Late- Night Snack and Snack food\n",
      "--------------------------------------------------\n"
     ]
    },
    {
     "name": "stderr",
     "output_type": "stream",
     "text": [
      "A decoder-only architecture is being used, but right-padding was detected! For correct generation results, please set `padding_side='left'` when initializing the tokenizer.\n"
     ]
    },
    {
     "name": "stdout",
     "output_type": "stream",
     "text": [
      "inputs324:\n",
      "\n",
      "1. Italian Style, Risotto, Creamy White Sauce, Tomato Meat Sauce, Pesto Chicken with Pine Nuts, Mexican Spicy Meat Sauce, Ready to Heat。\n",
      "\n",
      "outputs:\n",
      "\n",
      "1. Italian Style, Risotto, Creamy White Sauce, Tomato Meat Sauce, Pesto Chicken with Pine Nuts, Mexican Spicy Meat Sauce, Ready to Heat\n",
      "2.\n",
      "\n",
      " Frozen Broccoli, Cruciferous Vegetables, Cancer-fighting, Low-Calorie Diet, Healthy Eating, Quick Meal Prep, Fitness Recipes\n",
      "3. Seaweed, Handmade squid balls, Hot pot ingredients, Coral grass, Local delicacies from Penghu, Seaweeds from Penzhou, Seafood delicacy\n",
      "4. Gourmet Pizza Selection, Artisanal Handcrafted Pizza, Italian Red Sauce Base, European Mozzarella Cheese, Apple Honey Must\n",
      "--------------------------------------------------\n"
     ]
    },
    {
     "name": "stderr",
     "output_type": "stream",
     "text": [
      "A decoder-only architecture is being used, but right-padding was detected! For correct generation results, please set `padding_side='left'` when initializing the tokenizer.\n"
     ]
    },
    {
     "name": "stdout",
     "output_type": "stream",
     "text": [
      "inputs325:\n",
      "\n",
      "1. Hotpot base, Vegetarian broth, Meatless hotpot, Spicy tofu base, Vegan soup, Meat substitute, Cooking kit。\n",
      "\n",
      "outputs:\n",
      "\n",
      "1. Hotpot base, Vegetarian broth, Meatless hotpot, Spicy tofu base, Vegan soup, Meat substitute, Cooking kit\n",
      "2.\n",
      "\n",
      " Japanese-style meat slices, Pork recipe, Taiwanese pork, Marinated pork in the tradition of Taiwanese cuisine, Convenient meal preparation, Japanese cuisines, Premium pork\n",
      "3. Chicken Thigh Recipe, Boneless Chicken THigh, Meal Prep, Lunchbox Main Course, Party Food, Juicy Chicken, Snack Ideas\n",
      "4. BBQ essentials, Meaty bones, Premiums, Grilling favorites, Japanese barbecue meats, Marbling, Gourmet delights\n",
      "\n",
      "--------------------------------------------------\n"
     ]
    },
    {
     "name": "stderr",
     "output_type": "stream",
     "text": [
      "A decoder-only architecture is being used, but right-padding was detected! For correct generation results, please set `padding_side='left'` when initializing the tokenizer.\n"
     ]
    },
    {
     "name": "stdout",
     "output_type": "stream",
     "text": [
      "inputs326:\n",
      "\n",
      "1. Instant-Ready Soup, Nutritious Chicken Soup, Herbal Infused Broth, Gourmet Soup Selection, Easy-Heat Meal, Premium Chicken Broth, Healthful Ingredients。\n",
      "\n",
      "outputs:\n",
      "\n",
      "1. Instant-Ready Soup, Nutritious Chicken Soup, Herbal Infused Broth, Gourmet Soup Selection, Easy-Heat Meal, Premium Chicken Broth, Healthful Ingredients\n",
      "2.\n",
      "\n",
      " Instant ChickenSoups, Medicinal Herbal Soups, Goursmet ChickenBroths, NUTRIENTH-Rich Chicken broths and Fresh-Faceted Packs, Heat-and-Eat Packs\n",
      "3. Salt-Free Mackerel, Seafood Delight, Grilled Fish, Japanese Style Grilled fish, Sashimi Grade, Low-Sodium, Healthy Eating\n",
      "4. Instan Chicken Noodles, Luan Beef Shank, Cooking Pack, Braised Beef, Gournament\n",
      "--------------------------------------------------\n"
     ]
    },
    {
     "name": "stderr",
     "output_type": "stream",
     "text": [
      "A decoder-only architecture is being used, but right-padding was detected! For correct generation results, please set `padding_side='left'` when initializing the tokenizer.\n"
     ]
    },
    {
     "name": "stdout",
     "output_type": "stream",
     "text": [
      "inputs327:\n",
      "\n",
      "1. Konjac Noodles, Low-Calorie, Refreshing Drink, Summer Coolers, Winter Melon, Plum Flavor, Vegetarian。\n",
      "\n",
      "outputs:\n",
      "\n",
      "1. Konjac Noodles, Low-Calorie, Refreshing Drink, Summer Coolers, Winter Melon, Plum Flavor, Vegetarian\n",
      "2.\n",
      "\n",
      " Japanese-style meat slices, Pork recipe, Taiwanese pork, Marinated pork in Taiwanese cuisine, Convenient meal preparation, Japanese cuisines, Premium pork\n",
      "3. Boneless Chicken Thigh, Deep-Fried Snack, Air Fryer Recipes, Taiwanse Snack or Appetizer, Japanese Snack\n",
      "4. Frozen Seafood Mix, Squid, Scallops, White Shrimp, Seafoods Platter, Instant Seafoood, Meal Prep\n",
      "5. Che\n",
      "--------------------------------------------------\n"
     ]
    },
    {
     "name": "stderr",
     "output_type": "stream",
     "text": [
      "A decoder-only architecture is being used, but right-padding was detected! For correct generation results, please set `padding_side='left'` when initializing the tokenizer.\n"
     ]
    },
    {
     "name": "stdout",
     "output_type": "stream",
     "text": [
      "inputs328:\n",
      "\n",
      "1. Instant Soup, Nourishing Chicken Soup, Herbal Broth, Heat and Eat, Soup Pack, Premium Chicken Soup, Ginseng Red Date Chicken Soup。\n",
      "\n",
      "outputs:\n",
      "\n",
      "1. Instant Soup, Nourishing Chicken Soup, Herbal Broth, Heat and Eat, Soup Pack, Premium Chicken Soup, Ginseng Red Date Chicken Soup\n",
      "2.\n",
      "\n",
      " Japanese-style meat slices, Pork recipe, Taiwanese pork, Marinated pork in Taiwanese cuisine, Convenient meal preparation, Japanese cuisines, Premier pork\n",
      "3. Taiwanese Delicacy, Braised Pork Cartilage, Slow-cooked Goodness, Traditional Flavor, Easy to Prepare, Precious Ingredients, Authentic Taste\n",
      "4. Frozen Seafood Mix, Squid, Scallops, White Shrimp, Seafoods, Instant Seafo\n",
      "--------------------------------------------------\n"
     ]
    },
    {
     "name": "stderr",
     "output_type": "stream",
     "text": [
      "A decoder-only architecture is being used, but right-padding was detected! For correct generation results, please set `padding_side='left'` when initializing the tokenizer.\n"
     ]
    },
    {
     "name": "stdout",
     "output_type": "stream",
     "text": [
      "inputs329:\n",
      "\n",
      "1. Broth, Ready-to-cook, Pork ribs, Authentic Taiwanese, Long-simmered, Dragon Mountain Temple, Fresh ingredients。\n",
      "\n",
      "outputs:\n",
      "\n",
      "1. Broth, Ready-to-cook, Pork ribs, Authentic Taiwanese, Long-simmered, Dragon Mountain Temple, Fresh ingredients\n",
      "2.\n",
      "\n",
      " Taiwanese Street Food, Nourishing Soup, Four Treasures Soup (Pork Intestine, Varied Sauces, Night Market Delights, No Pork Belly, Traditional Chinese Soup)\n",
      "3. Sweet Potato Delights!, Roasted Sweetpotato, Healthy Snacking, Organic Farming, Low Carb Diet, Fitness Recipes\n",
      "4. Ready‐to‐eat, Grilled Chicken Wings, Marinated Chicken, Finger-Licking Good, Variety Pack, Easy Preparation, Gr\n",
      "--------------------------------------------------\n"
     ]
    },
    {
     "name": "stderr",
     "output_type": "stream",
     "text": [
      "A decoder-only architecture is being used, but right-padding was detected! For correct generation results, please set `padding_side='left'` when initializing the tokenizer.\n"
     ]
    },
    {
     "name": "stdout",
     "output_type": "stream",
     "text": [
      "inputs330:\n",
      "\n",
      "1. Pork Recipes, Unique Flavors, Chinese Cuisine, Meal Prep, Braised Pork Knuckle, Traditional Cooking, Gourmet Cooking。\n",
      "\n",
      "outputs:\n",
      "\n",
      "1. Pork Recipes, Unique Flavors, Chinese Cuisine, Meal Prep, Braised Pork Knuckle, Traditional Cooking, Gourmet Cooking\n",
      "2.\n",
      "\n",
      " Fresh Frozen Chilean Salmon, Omega-3 Rich Salmon in Premium Frozen Fish, Premium Muscle Building Salmon and Sashimi-Grade Salmon\n",
      "3. Gourmande Chicken Rolls, Taiwanese Chicken Dish, Juicy Chicken Rolled, Oven-baked Delicacy, Night Market Delight, Delectable Meat Selection, Signature Chef Recipe\n",
      "4. Taiwanese Turnip Cake, Chinese Cavity Cake or Pork Rib Cake? , Traditional Goodness, Instant Ready-to-E\n",
      "--------------------------------------------------\n"
     ]
    },
    {
     "name": "stderr",
     "output_type": "stream",
     "text": [
      "A decoder-only architecture is being used, but right-padding was detected! For correct generation results, please set `padding_side='left'` when initializing the tokenizer.\n"
     ]
    },
    {
     "name": "stdout",
     "output_type": "stream",
     "text": [
      "inputs331:\n",
      "\n",
      "1. Taiwanese Taro Stew Rice Noodle Soup, Authentic Taiwanese Cuisine, Taro Root Delicacy, Festive New Year Dish, Wu Bingcheng's Signature, Taro Rice Noodles, Flavorful Soup。\n",
      "\n",
      "outputs:\n",
      "\n",
      "1. Taiwanese Taro Stew Rice Noodle Soup, Authentic Taiwanese Cuisine, Taro Root Delicacy, Festive New Year Dish, Wu Bingcheng's Signature, Taro Rice Noodles, Flavorful Soup\n",
      "2.\n",
      "\n",
      " Taiwanese cuisine, Appetizers, Marinated pig ears, Snack food, Small dishes, Pork delicacy\n",
      "3. Plant-based meat, Thai cuisines, ThAI BBQ meat, Vegan meat, Stir-fried meat, Fresh ingredients, Thailand-style lemon pork\n",
      "4. Japanese-style meat slices, Pores and skin, Taiwanese pork, Marinarated pork slices and pan-fried pork in the style of Japanese cuisINE, Taiwan-style pork cutlet, Convenient\n",
      "--------------------------------------------------\n"
     ]
    },
    {
     "name": "stderr",
     "output_type": "stream",
     "text": [
      "A decoder-only architecture is being used, but right-padding was detected! For correct generation results, please set `padding_side='left'` when initializing the tokenizer.\n"
     ]
    },
    {
     "name": "stdout",
     "output_type": "stream",
     "text": [
      "inputs332:\n",
      "\n",
      "1. Fresh Frozen Seafood, Salmon Fillet, Chilean Sea Bass, Cod Fillet, Seafood Selection, Gourmet Fish, High-Quality Frozen Fish。\n",
      "\n",
      "outputs:\n",
      "\n",
      "1. Fresh Frozen Seafood, Salmon Fillet, Chilean Sea Bass, Cod Fillet, Seafood Selection, Gourmet Fish, High-Quality Frozen Fish\n",
      "2.\n",
      "sweet dessert, Chinese dessert and silver ear fungus, Nutritious dessert soup, Healthy dessert ingredients, Silver ear fungu, Low-calorie dessert\n",
      "3. Frozen Vegetables, Meal Prep, Quick Meal, Fresh Vegetable Smoothie, Broccoli, Green Beans\n",
      "4. Froznach, Taiwanese Delicacy, Ready-to-Eat, Luan Beef, Bone Apple, Chicken Leg Meat, Authentic Taiwanese Cuisine\n",
      "5. Cheese Pull-Apart\n",
      "--------------------------------------------------\n"
     ]
    },
    {
     "name": "stderr",
     "output_type": "stream",
     "text": [
      "A decoder-only architecture is being used, but right-padding was detected! For correct generation results, please set `padding_side='left'` when initializing the tokenizer.\n"
     ]
    },
    {
     "name": "stdout",
     "output_type": "stream",
     "text": [
      "inputs333:\n",
      "\n",
      "1. Healthy Eating, Meal Control, Fitness, Meal Prep, Low-Carb, Japanese Style Chicken Breast, Frozen Cauliflower。\n",
      "\n",
      "outputs:\n",
      "\n",
      "1. Healthy Eating, Meal Control, Fitness, Meal Prep, Low-Carb, Japanese Style Chicken Breast, Frozen Cauliflower\n",
      "2.\n",
      "\n",
      " Frozen Broccoli, Cruciferous Vegetables, Cancer-fighting, Low Calorie Diet, Healthy Meal Preparation, Quick Meal Convenients, Fresh Frozen Vegetable\n",
      "3. Frozen Corn Shoots, Healthypoly, Meality, Fitorient, Frozent vegetables, Firm Muscle, Froze Vegetarian\n",
      "4. Weight loss, Low carb, Calorie deficit, Microwavable, Healthyme recipes, Mealtime, Protein-rich\n",
      "5. Frodemer Weight L\n",
      "--------------------------------------------------\n"
     ]
    },
    {
     "name": "stderr",
     "output_type": "stream",
     "text": [
      "A decoder-only architecture is being used, but right-padding was detected! For correct generation results, please set `padding_side='left'` when initializing the tokenizer.\n"
     ]
    },
    {
     "name": "stdout",
     "output_type": "stream",
     "text": [
      "inputs334:\n",
      "\n",
      "1. BBQ essentials, Meat variety pack, Premium meat selection, Grilling favorites, Japanese barbecue meats, No-beef assortment, Gourmet meat bundle。\n",
      "\n",
      "outputs:\n",
      "\n",
      "1. BBQ essentials, Meat variety pack, Premium meat selection, Grilling favorites, Japanese barbecue meats, No-beef assortment, Gourmet meat bundle\n",
      "2.\n",
      "\n",
      " Premium Beef Selection, Fillet Steak Cubes, Ribeye Steaks, Wagyu Sirloin, Presidential Cut Ribeyes, Tender Shoulder Beef, Angus Beef\n",
      "3. Hotpot beef slices, BBQ beef cuts, Weloquid beef, Marble beef selection, Sweet potato beef delights, Grilled beef bellies\n",
      "4. American beef welfare, Beef chunks, Welfare beef cattle, Beefeutering, Prime beef select, Juicy beef th\n",
      "--------------------------------------------------\n"
     ]
    },
    {
     "name": "stderr",
     "output_type": "stream",
     "text": [
      "A decoder-only architecture is being used, but right-padding was detected! For correct generation results, please set `padding_side='left'` when initializing the tokenizer.\n"
     ]
    },
    {
     "name": "stdout",
     "output_type": "stream",
     "text": [
      "inputs335:\n",
      "\n",
      "1. New Zealand Beef, Chicken Recipe, Beef Fillet, Meal Prep, Bone-in Chicken Thighs, Grass-fed Beef, Beef Cubes。\n",
      "\n",
      "outputs:\n",
      "\n",
      "1. New Zealand Beef, Chicken Recipe, Beef Fillet, Meal Prep, Bone-in Chicken Thighs, Grass-fed Beef, Beef Cubes\n",
      "2.\n",
      ", Premium Beef Selection, Fillet Steak Cubes, Ribeye Steaks, Wagyu Sirloin, Presidential Cut Ribeyes, Tender Shoulder Beef\n",
      "3. Shaddock Fish Balls, Handmade Fish Ball, Hot Pot Ingredients, Traditional Taiwanese Cuisine, Fresh Fish Balles, Preservative-Free Treats, Authentic Taste\n",
      "4. Fresh Frozen Chilean Salmon, Omega-3 Rich Salmon in Premium Frozen Fish, Sustainably Sourced Salmon\n",
      "5. Fro\n",
      "--------------------------------------------------\n"
     ]
    },
    {
     "name": "stderr",
     "output_type": "stream",
     "text": [
      "A decoder-only architecture is being used, but right-padding was detected! For correct generation results, please set `padding_side='left'` when initializing the tokenizer.\n"
     ]
    },
    {
     "name": "stdout",
     "output_type": "stream",
     "text": [
      "inputs336:\n",
      "\n",
      "1. Premium Beef Selection, Fillet Steak Cubes, Ribeye Steaks, Wagyu Sirloin, Presidential Cut Ribeye, Angus Wing Rib Steaks, Tender Shoulder Beef。\n",
      "\n",
      "outputs:\n",
      "\n",
      "1. Premium Beef Selection, Fillet Steak Cubes, Ribeye Steaks, Wagyu Sirloin, Presidential Cut Ribeye, Angus Wing Rib Steaks, Tender Shoulder Beef\n",
      "2.\n",
      "\n",
      " USDA beef, Blue Ribbon steak, Tenders steak sandwich, Grilled steak recipes, Grass-fed beef Tender shoulder steak or Grass steak\n",
      "3. 21oz Presidential Steak, Prime Grade Beef, Thick Cut Steak. USDA Angus Beef. Prime Ribey. Thick cut steak. Prime ribeye\n",
      "4. Taiwanese Freshly Harvested Water Peaches, Tropical Ground Peaches and Fresh Meat, Juicy and Sweet Fruit, Taiwan's G\n",
      "--------------------------------------------------\n"
     ]
    },
    {
     "name": "stderr",
     "output_type": "stream",
     "text": [
      "A decoder-only architecture is being used, but right-padding was detected! For correct generation results, please set `padding_side='left'` when initializing the tokenizer.\n"
     ]
    },
    {
     "name": "stdout",
     "output_type": "stream",
     "text": [
      "inputs337:\n",
      "\n",
      "1. Marinated Clams, Spicy Clams, Taiwanese Delicacy, Appetizer Dish, Fresh Clams, Hot and Spicy Sauce, Tainan Specialty。\n",
      "\n",
      "outputs:\n",
      "\n",
      "1. Marinated Clams, Spicy Clams, Taiwanese Delicacy, Appetizer Dish, Fresh Clams, Hot and Spicy Sauce, Tainan Specialty\n",
      "2.\n",
      "\n",
      " Marinaded Clams are Spicy Flavor, Appety Snack, Taiwanous Delicac, Braised Pork Cartilage, Night Market Snack and Drunken Duck, Spiciest Clams in Taiwan, No Preservatives\n",
      "3. Mariscus, Marinati, Spiciness, Appeticients, Taiwanse, Flavors, Premium Quality\n",
      "4. Spicy Sunflower Seeds, Appetalizer Snack Sichuan FlavOR, Refreshing Starter, Spice Snack Indicator, Chili Pepper Infusion,\n",
      "--------------------------------------------------\n"
     ]
    },
    {
     "name": "stderr",
     "output_type": "stream",
     "text": [
      "A decoder-only architecture is being used, but right-padding was detected! For correct generation results, please set `padding_side='left'` when initializing the tokenizer.\n"
     ]
    },
    {
     "name": "stdout",
     "output_type": "stream",
     "text": [
      "inputs338:\n",
      "\n",
      "1. Thai cuisine, Handmade moon shrimp cake, Ready-to-eat, Golden handmade moon shrimp cake, Shrimp cake, Handmade shrimp cake, Golden moon shrimp cake。\n",
      "\n",
      "outputs:\n",
      "\n",
      "1. Thai cuisine, Handmade moon shrimp cake, Ready-to-eat, Golden handmade moon shrimp cake, Shrimp cake, Handmade shrimp cake, Golden moon shrimp cake\n",
      "2.\n",
      "\n",
      " Fried Chicken, Chicken Nuggets, Snack Food, Air Fryer Cooking, Home-style Cooking with Natural Ingredients, Convenient Meal Prep, Party Snacks\n",
      "3. Chicken Thigh Fillet, Boneless Chicken thigh, Meal prep, Marinated Chicken , Grilled Meat, Chiken Thigh, Lunchbox Main Dish, Party Food\n",
      "4. Handmade Squid Balls, Hotpot Ingredient, Gourmet Squids, Squiddy Snack, Fresh Squ id, Hand\n",
      "--------------------------------------------------\n"
     ]
    },
    {
     "name": "stderr",
     "output_type": "stream",
     "text": [
      "A decoder-only architecture is being used, but right-padding was detected! For correct generation results, please set `padding_side='left'` when initializing the tokenizer.\n"
     ]
    },
    {
     "name": "stdout",
     "output_type": "stream",
     "text": [
      "inputs339:\n",
      "\n",
      "1. Taiwan Fruit, Direct From Origin, Guava, Premium Quality, XiZhou Emperor Guava, Black Alluvial Soil, Crispy and Sweet。\n",
      "\n",
      "outputs:\n",
      "\n",
      "1. Taiwan Fruit, Direct From Origin, Guava, Premium Quality, XiZhou Emperor Guava, Black Alluvial Soil, Crispy and Sweet\n",
      "2.\n",
      "sweet dessert, Chinese dessert & fruit chow, Silver ear fungus, Nutritious dessert soup, Healthy dessert ingredients, Silver Ear fungus\n",
      "3. Squid rings, Seafood delicacy, Argentinian calamari, Gourmet seafood, Quick-frozen squid, Sea food recipes\n",
      "4. Salt-Free Mackerel, Sea Food Delight, Grilled Fish, Japanese Style Grilled fish, Sashimi Grade, Low-Sodium, Health-Conscious Cooking\n",
      "5. Iberico\n",
      "--------------------------------------------------\n"
     ]
    },
    {
     "name": "stderr",
     "output_type": "stream",
     "text": [
      "A decoder-only architecture is being used, but right-padding was detected! For correct generation results, please set `padding_side='left'` when initializing the tokenizer.\n"
     ]
    },
    {
     "name": "stdout",
     "output_type": "stream",
     "text": [
      "inputs340:\n",
      "\n",
      "1. Seafood delicacy, Japanese gourmet, Health and wellness, Nutrient-rich, Black clam, Premium quality, Immune boosting。\n",
      "\n",
      "outputs:\n",
      "\n",
      "1. Seafood delicacy, Japanese gourmet, Health and wellness, Nutrient-rich, Black clam, Premium quality, Immune boosting\n",
      "2.\n",
      "\n",
      " Japanese Black Clams, Seafoods, Shellfish Soup, Clam Chowder, Health Benefits, Shelton's Sweet Potato, Rare and Precious\n",
      "3. Durian ice cream, Malaysian fruit, Premiums, Musang King durian, Fruit ice creams, Exotic fruit, Durian dessert\n",
      "4. Japanese BlackClams, Resistant Starch, Light Snack, Fasting, Low Carb Diet, Dietary Control, Weight Loss Recipe\n",
      "5. Sweet dessert, Chinese desserts, Silver\n",
      "--------------------------------------------------\n"
     ]
    },
    {
     "name": "stderr",
     "output_type": "stream",
     "text": [
      "A decoder-only architecture is being used, but right-padding was detected! For correct generation results, please set `padding_side='left'` when initializing the tokenizer.\n"
     ]
    },
    {
     "name": "stdout",
     "output_type": "stream",
     "text": [
      "inputs341:\n",
      "\n",
      "1. HealthBoost, TraditionalFlavors, JapaneseDelicacy, ArtisanalPreservation, GourmetSeafood, ImmuneSupport, AppetizerChoice。\n",
      "\n",
      "outputs:\n",
      "\n",
      "1. HealthBoost, TraditionalFlavors, JapaneseDelicacy, ArtisanalPreservation, GourmetSeafood, ImmuneSupport, AppetizerChoice\n",
      "2.\n",
      "\n",
      " Marinated Clams, Spicy Flavor, AppETizers, Taiwanese Delicacy. Marinaded Clams. Spicy Clams and Appetizers. Taiwanese Taro Stew Rice Noodle Soup, Authentic Taiwanese Cuisine, Taro Root Delicateness, Festive New Year Dish, Wu Bingcheng's Signature, Troyan Cuisines, Flavors from Taiwan\n",
      "3. Spiced Chicken, Appetalizer, Refreshing Drink, Spiciness, Chili Pepper Flavoring, Trad\n",
      "--------------------------------------------------\n"
     ]
    },
    {
     "name": "stderr",
     "output_type": "stream",
     "text": [
      "A decoder-only architecture is being used, but right-padding was detected! For correct generation results, please set `padding_side='left'` when initializing the tokenizer.\n"
     ]
    },
    {
     "name": "stdout",
     "output_type": "stream",
     "text": [
      "inputs342:\n",
      "\n",
      "1. Black Clam Extract, Japanese Black Clam, Natural Fermentation, Health Tonic, Traditional Japanese Ingredient, Nourishing Elixir, Umami Flavor。\n",
      "\n",
      "outputs:\n",
      "\n",
      "1. Black Clam Extract, Japanese Black Clam, Natural Fermentation, Health Tonic, Traditional Japanese Ingredient, Nourishing Elixir, Umami Flavor\n",
      "2.\n",
      "sweet dessert, Chinese dessert and silver ear fungus, Nutritious dessert soup, Sweet and healthy dessert juice, Silver ear soup, Healthy dessERT, Traditionally flavored\n",
      "3. Gourmet Fish Roe, Ready-to-Eat, Delicate Texture, Vacuum Packed, Fresh Flavors, Crispy Sautéed, Delicious Mayonnaise\n",
      "4. Thai cuisine, Handmade moon shrimp cake, Reasy-to -eat, Golden handmade moon cake and scrumpt\n",
      "--------------------------------------------------\n"
     ]
    },
    {
     "name": "stderr",
     "output_type": "stream",
     "text": [
      "A decoder-only architecture is being used, but right-padding was detected! For correct generation results, please set `padding_side='left'` when initializing the tokenizer.\n"
     ]
    },
    {
     "name": "stdout",
     "output_type": "stream",
     "text": [
      "inputs343:\n",
      "\n",
      "1. Black Clam Essence, Health Supplement, Japanese Delicacy, Traditional Remedy, Nutrient Concentrate, Premium Seafood, Natural Ingredients。\n",
      "\n",
      "outputs:\n",
      "\n",
      "1. Black Clam Essence, Health Supplement, Japanese Delicacy, Traditional Remedy, Nutrient Concentrate, Premium Seafood, Natural Ingredients\n",
      "2.\n",
      "\n",
      " Taiwanese Caviar, Lunar New Year Snack, Gourmet Snack Selection, Traditionally Festive Treats, Ready-to-Eat Delights, Gift Box Delights\n",
      "3. Thin Dumpling Wrappers, Non-GMO Soybeans, High Protein, Low Carb, Fitness, Meal Prep, Handmade\n",
      "4. Taiwanese Street Food, Nourishing Soup, Four Treasures Soup (Pork Intestine, Soup Delight, Eggs, Herbal Soup), Soup Packet, Heat\n",
      "--------------------------------------------------\n"
     ]
    },
    {
     "name": "stderr",
     "output_type": "stream",
     "text": [
      "A decoder-only architecture is being used, but right-padding was detected! For correct generation results, please set `padding_side='left'` when initializing the tokenizer.\n"
     ]
    },
    {
     "name": "stdout",
     "output_type": "stream",
     "text": [
      "inputs344:\n",
      "\n",
      "1. Dumplings, Kimchi dumplings, Ready-to-eat dumplings, High-quality ingredients, Handmade dumplings, Pork and vegetable dumplings, Steamed dumplings。\n",
      "\n",
      "outputs:\n",
      "\n",
      "1. Dumplings, Kimchi dumplings, Ready-to-eat dumplings, High-quality ingredients, Handmade dumplings, Pork and vegetable dumplings, Steamed dumplings\n",
      "2.\n",
      "sweet dessert, Chinese desserts, Silver ear fungus, Nutritious dessert (heat-and-eate), Healthy dessert and silver ear, White fungus dessert\n",
      "3. Sweet Potato Delights, Roasted Sweet Pomato, Healthy Snacking, Organic Farming, Low Carb Diet, Fitness Recipes\n",
      "4. Squid rings, Seafood delicacy, Argentinian calamari, Gourmet seafood, Quick-frozen squid, Sea food recipes\n",
      "5. Frozen\n",
      "--------------------------------------------------\n"
     ]
    },
    {
     "name": "stderr",
     "output_type": "stream",
     "text": [
      "A decoder-only architecture is being used, but right-padding was detected! For correct generation results, please set `padding_side='left'` when initializing the tokenizer.\n"
     ]
    },
    {
     "name": "stdout",
     "output_type": "stream",
     "text": [
      "inputs345:\n",
      "\n",
      "1. Dumplings, Pork and chive dumplings, Freshly made dumplings, Convenient ready-to-eat, Pan-fried dumplings, Handmade, Juicy filling。\n",
      "\n",
      "outputs:\n",
      "\n",
      "1. Dumplings, Pork and chive dumplings, Freshly made dumplings, Convenient ready-to-eat, Pan-fried dumplings, Handmade, Juicy filling\n",
      "2.\n",
      "\n",
      " Dumplin, Kimchi dumpling, Ready-to-, High-quality ingredients, Hand-made dumplates, Penghu Bombe, Natural ingredient recipe\n",
      "3. Spicy Chili Dumplins, Handmaker's Flavor, Quick and Easy to Prepare, Gourmet Pork Dumpligs, Exquisite Gyoza Selection, Premium Ingredients\n",
      "4. Corn Filled Dumpllings, Gourd Dumpls, Quick Heat-and-Eat, Taiwanese Dumplas, Corn Dumplugs\n",
      "--------------------------------------------------\n"
     ]
    },
    {
     "name": "stderr",
     "output_type": "stream",
     "text": [
      "A decoder-only architecture is being used, but right-padding was detected! For correct generation results, please set `padding_side='left'` when initializing the tokenizer.\n"
     ]
    },
    {
     "name": "stdout",
     "output_type": "stream",
     "text": [
      "inputs346:\n",
      "\n",
      "1. Kimchi Dumplings, Korean Style, Gyoza, Ready-to-Eat, Tangy Dumplings, Spicy Kimchi, Pork Dumplings。\n",
      "\n",
      "outputs:\n",
      "\n",
      "1. Kimchi Dumplings, Korean Style, Gyoza, Ready-to-Eat, Tangy Dumplings, Spicy Kimchi, Pork Dumplings\n",
      "2.\n",
      "sweet Potato, Healthy Snack, Artisanal Cultivation, Low Carb Diet, Fitness Recipe, Weight Management, Non-Toxic\n",
      "3. Sweet Potatoes, Healthylife, Low-Carb Dietary, Fresh Frozen Vegetables, WeIGHT Management, Antioxidant Food, Quick Meal Prep\n",
      "4. Squid rings, Seafood delicacy, Argentinian calamari, Gourmet seafood, Quick-frozen squid, Seaweed delicacys, Finger-lick\n",
      "--------------------------------------------------\n"
     ]
    },
    {
     "name": "stderr",
     "output_type": "stream",
     "text": [
      "A decoder-only architecture is being used, but right-padding was detected! For correct generation results, please set `padding_side='left'` when initializing the tokenizer.\n"
     ]
    },
    {
     "name": "stdout",
     "output_type": "stream",
     "text": [
      "inputs347:\n",
      "\n",
      "1. Spicy Chili Dumplings, Handmade Fresh Pork Dumplings, Quick and Easy to Prepare, Gourmet Pork and Chili Dumplings, Exquisite Gyoza Selection, Premium Ingredients, Thin and Juicy Dumpling Skins。\n",
      "\n",
      "outputs:\n",
      "\n",
      "1. Spicy Chili Dumplings, Handmade Fresh Pork Dumplings, Quick and Easy to Prepare, Gourmet Pork and Chili Dumplings, Exquisite Gyoza Selection, Premium Ingredients, Thin and Juicy Dumpling Skins\n",
      "2.\n",
      "sweet dessert, Chinese dessert (silk textile worm), Pork trotter, Traditional desserts, Instant meal, Barbecue delicacy, Premiumness\n",
      "3. Fried Squid Snack, Party Snack (Pork Ribs), Air Fryer Recipe, Late-Night Snack Snack Food, Taiwanese Fried Food, Crispy Squids, Salt and Pepper Flavor\n",
      "4. Spiced Pork Balls, Taiwan Spicy Pork, Grilled Pork Eyes, Taiwanesse Cuisine, Bra\n",
      "--------------------------------------------------\n"
     ]
    },
    {
     "name": "stderr",
     "output_type": "stream",
     "text": [
      "A decoder-only architecture is being used, but right-padding was detected! For correct generation results, please set `padding_side='left'` when initializing the tokenizer.\n"
     ]
    },
    {
     "name": "stdout",
     "output_type": "stream",
     "text": [
      "inputs348:\n",
      "\n",
      "1. Corn Filled Dumplings, Gourmet Pork Dumplings, Quick Heat-and-Eat, Taiwanese Dumplings, Corn Dumplings, Dumplings with Sweet Corn, Premium Dumpling Skins。\n",
      "\n",
      "outputs:\n",
      "\n",
      "1. Corn Filled Dumplings, Gourmet Pork Dumplings, Quick Heat-and-Eat, Taiwanese Dumplings, Corn Dumplings, Dumplings with Sweet Corn, Premium Dumpling Skins\n",
      "2.\n",
      "sweet dessert, Chinese dessert & fruit juice, Silver ear fungus, Nutritious dessert soup, Healthy dessert juice\n",
      "3. Thin Dumpling Wrappers, Non-GMO Soybeans, High Protein, Low Carb, Fitness, Meal Prep, Handmade\n",
      "4. Thai cuisine, Handmaking, Ready-to-eat, Golden handmade moon shrimp cake, Shrimp cake\n",
      "5. Corn Dumpling, Goursmet Corn Dumples, Quick and Easy to Prepare,\n",
      "--------------------------------------------------\n"
     ]
    },
    {
     "name": "stderr",
     "output_type": "stream",
     "text": [
      "A decoder-only architecture is being used, but right-padding was detected! For correct generation results, please set `padding_side='left'` when initializing the tokenizer.\n"
     ]
    },
    {
     "name": "stdout",
     "output_type": "stream",
     "text": [
      "inputs349:\n",
      "\n",
      "1. Prime beef, Ribeye steak, Grilling, Beef recipes, Prime cut, Marbling, American beef。\n",
      "\n",
      "outputs:\n",
      "\n",
      "1. Prime beef, Ribeye steak, Grilling, Beef recipes, Prime cut, Marbling, American beef\n",
      "2.\n",
      "\n",
      " Prime Grade Steak, Thick Cut Steakbeef, Marble Texture Beef, Wet-aged Steak for Steak Lovers, Australian Beef Slices, American Beef Ribeyes\n",
      "3. Prime Grapefruit Juice, Taiwanese Grapefly Juice , Tropical Grapefrut, Juicy and Sweet Fruit, Taiwan's Favorite Fruit Juices, Limited-Time Offer, Sweet and Flavorful Juice\n",
      "4. Taiwanese Mackerel, Low-Salt Mackerell, Seafood Del\n",
      "--------------------------------------------------\n"
     ]
    },
    {
     "name": "stderr",
     "output_type": "stream",
     "text": [
      "A decoder-only architecture is being used, but right-padding was detected! For correct generation results, please set `padding_side='left'` when initializing the tokenizer.\n"
     ]
    },
    {
     "name": "stdout",
     "output_type": "stream",
     "text": [
      "inputs350:\n",
      "\n",
      "1. Taiwanese Freshly Harvested Water Peaches, Tropical Ground Peaches, Juicy and Sweet Fruit, Taiwan's Grown Water Peaches, Limited-Time Offer, Sweet and Flavorful, Juicy Fruit。\n",
      "\n",
      "outputs:\n",
      "\n",
      "1. Taiwanese Freshly Harvested Water Peaches, Tropical Ground Peaches, Juicy and Sweet Fruit, Taiwan's Grown Water Peaches, Limited-Time Offer, Sweet and Flavorful, Juicy Fruit\n",
      "2.\n",
      "\n",
      " Taiwan Water Honey Peach, Fresh Tropical Fruit Juice, Juiced Tropical Peaches. Taiwan Fruit Shi Drum Fish, Tropic Fruit Sweet Potato, Limited Time Offer. Taiwan Water Potato Strawberry, Roasted Water Potatoes, Organic Farming, Low-Carb Diet, Japan Sweet Pastry, Weight Management\n",
      "3. Taiwan Caviar, Gourmet Gift, Exquisite Delicacy, Lunar New Year Gift Set, GOURMET SEAFOOD, Premium Seafood, Taiwanese Del\n",
      "--------------------------------------------------\n"
     ]
    },
    {
     "name": "stderr",
     "output_type": "stream",
     "text": [
      "A decoder-only architecture is being used, but right-padding was detected! For correct generation results, please set `padding_side='left'` when initializing the tokenizer.\n"
     ]
    },
    {
     "name": "stdout",
     "output_type": "stream",
     "text": [
      "inputs351:\n",
      "\n",
      "1. Taiwan Water Honey Peach, Fresh Tropical Fruit, Juicy and Sweet, Limited Time Offer, Group Purchase, Flavorful Peach, Juicy Fruit。\n",
      "\n",
      "outputs:\n",
      "\n",
      "1. Taiwan Water Honey Peach, Fresh Tropical Fruit, Juicy and Sweet, Limited Time Offer, Group Purchase, Flavorful Peach, Juicy Fruit\n",
      "2.\n",
      ", Taiwanese Freshly Harvested Water Peaches, Tropical Ground Peaches and Flavored Water Peches, Juice-Ready Packet, Taiwan's Grown Water Peach Trees, Limited-Time Offer\n",
      "3. Taiwanese peaches, Sweet and juicy, Tropically peaches. Taiwan Fruit. Sweet Potatoes, Healthy Snack, Low-Carb Diet, Fitness Recipe, Weight Management, Antioxidant Food\n",
      "4. Taiwan Caviar, Gourmet Gift, Exquisite Delicacy, Lunar\n",
      "--------------------------------------------------\n"
     ]
    },
    {
     "name": "stderr",
     "output_type": "stream",
     "text": [
      "A decoder-only architecture is being used, but right-padding was detected! For correct generation results, please set `padding_side='left'` when initializing the tokenizer.\n"
     ]
    },
    {
     "name": "stdout",
     "output_type": "stream",
     "text": [
      "inputs352:\n",
      "\n",
      "1. Taiwanese peaches, Sweet and juicy, Tropical peaches, Limited-time offer, Freshly picked, Succulent fruit, Group buy。\n",
      "\n",
      "outputs:\n",
      "\n",
      "1. Taiwanese peaches, Sweet and juicy, Tropical peaches, Limited-time offer, Freshly picked, Succulent fruit, Group buy\n",
      "2.\n",
      "\n",
      " Taiwan Water Honey Peach, Flavored Water, Juicy Fruit, Limited Time Offer, Group Purchase, Fruit-infused Water, Gourmet Juice\n",
      "3. Taiwan Water Taro Stew, Authentic Taiwanese Cuisine, Taro Root Delicacy, Festive New Year Dish, Wu Bingcheng's Signature, Tenderized Taro, Flaky and Easy to Prepare\n",
      "4. Taiwan Caviar, Flower crab, Gift box, Exquisite gift, Premium quality, Nutrient-rich\n",
      "--------------------------------------------------\n"
     ]
    },
    {
     "name": "stderr",
     "output_type": "stream",
     "text": [
      "A decoder-only architecture is being used, but right-padding was detected! For correct generation results, please set `padding_side='left'` when initializing the tokenizer.\n"
     ]
    },
    {
     "name": "stdout",
     "output_type": "stream",
     "text": [
      "inputs353:\n",
      "\n",
      "1. Hotpot beef slices, BBQ beef slices, Wagyu beef, Marble beef, Grilled beef slices, Premium beef, Australian Wagyu。\n",
      "\n",
      "outputs:\n",
      "\n",
      "1. Hotpot beef slices, BBQ beef slices, Wagyu beef, Marble beef, Grilled beef slices, Premium beef, Australian Wagyu\n",
      "2.\n",
      ", Akaushi Beef, Prime Grade, American Wagy, BBq meat slices and Grilled Beef Slices, Marbling Texture, Premiums Beef Cuts, Tender Shoulder Beef\n",
      "3. Beef sells, Hot pot meat, American Blue Ribbon beef cows, Taro beef stew, PremUI beef cubes, Japanese-style beef burgers, Sweet potato beef\n",
      "4. Beeftrail, Hotpotbeefslices, AmericanBlueTenderedbeef, TarnishedBeef, DryA\n",
      "--------------------------------------------------\n"
     ]
    },
    {
     "name": "stderr",
     "output_type": "stream",
     "text": [
      "A decoder-only architecture is being used, but right-padding was detected! For correct generation results, please set `padding_side='left'` when initializing the tokenizer.\n"
     ]
    },
    {
     "name": "stdout",
     "output_type": "stream",
     "text": [
      "inputs354:\n",
      "\n",
      "1. Gourmet Instant Noodles, Premium Udon Noodles, Authentic Ramen, Frozen Ready-to-Eat Noodles, Fine Oolong Noodles, High-Quality Ingredients, Original Flavor Noodles。\n",
      "\n",
      "outputs:\n",
      "\n",
      "1. Gourmet Instant Noodles, Premium Udon Noodles, Authentic Ramen, Frozen Ready-to-Eat Noodles, Fine Oolong Noodles, High-Quality Ingredients, Original Flavor Noodles\n",
      "2.\n",
      "sweet dessert, Chinese dessert & fruit juice, Silver ear fungus, Nutritious dessert soup, Healthy dessert juice\n",
      "3. Sweet Potato Delights, Roasted Sweet Pomato, Healthymaking, Organic Farming, Low Carb Diet, Fitness Recipes\n",
      "4. Thin Dumpling Wrappers, Non-GMO Soybeans, High Protein, LowCarb, Fitsness, Meal Prep, Handmade\n",
      "5. Goursmet Instants, Taiwanese Eggnod, Juicy Egg,\n",
      "--------------------------------------------------\n"
     ]
    },
    {
     "name": "stderr",
     "output_type": "stream",
     "text": [
      "A decoder-only architecture is being used, but right-padding was detected! For correct generation results, please set `padding_side='left'` when initializing the tokenizer.\n"
     ]
    },
    {
     "name": "stdout",
     "output_type": "stream",
     "text": [
      "inputs355:\n",
      "\n",
      "1. Freshly Harvested Lala Mountain Peaches, Group Purchase, Limited Time Deal, Sweet and Juicy Peaches, Local Sourced, Summer Delicacy, Aromatic Flavor。\n",
      "\n",
      "outputs:\n",
      "\n",
      "1. Freshly Harvested Lala Mountain Peaches, Group Purchase, Limited Time Deal, Sweet and Juicy Peaches, Local Sourced, Summer Delicacy, Aromatic Flavor\n",
      "2.\n",
      "\n",
      " Taiwanese Fresh Chicken, Smoked Chicken Slices, Chicken Breast Selection, Chikoroller Chicken Wings, Chickennibbers, Chiciner Chicken Choices, Tender Juicy Chicken Cuts\n",
      "3. Frozen Seafood Mix, Squid, Scallops, White Shrimp, Seafoods, Instant Meal Prep, Meal Preparation\n",
      "4. SmokedChickenPowder, Side Dish, Gourmet Delight, Taiwanese Delicasy, Juicy Smoked Skipped Chicken;\n",
      "--------------------------------------------------\n",
      "inputs356:\n",
      "\n",
      "1. Snack, Appetizer, Smoked, Spicy, Boneless, Sichuan flavor, Ready-to-eat。\n",
      "\n",
      "outputs:\n",
      "\n",
      "1. Snack, Appetizer, Smoked, Spicy, Boneless, Sichuan flavor, Ready-to-eat\n",
      "2.\n",
      "\n",
      " Pork trotter, Taiwanese cuisine, Braised pork trotor, Secret recipe, Gourmet delight, Local delicacy, Appetic prep\n",
      "3. Summer Snack Selection, Group Buy, Limited Time Offer, Fresh Frozen Vegetables, Sweet and Juicy Vegetable Selection, Reduced Pricing, Midnight Snack\n",
      "4. Appetizers, Small bites, Chicken gizzards, Chow mein, Chuck box, Chanel stew, Chinquitor\n",
      "5. Appertizers, Snack food,\n",
      "--------------------------------------------------\n"
     ]
    }
   ],
   "source": [
    "\"\"\"Single Inference\"\"\"\n",
    "\n",
    "max_len = 128 # not sure\n",
    "generation_config = GenerationConfig(\n",
    "    do_sample=True,\n",
    "    temperature=0.1, # important\n",
    "    num_beams=1,\n",
    "    top_p=0.5, # not sure\n",
    "    no_repeat_ngram_size=3, # important (higher less diversity)\n",
    "    pad_token_id=2,\n",
    ")\n",
    "single_inference_results = {}\n",
    "for i, pid in enumerate(final.AVAILABLE_PRODUCT_IDS):\n",
    "    d = inference_dataset[i]\n",
    "    predict = llm.single_inference(d, generation_config, max_len, verbose=False)\n",
    "    inputs_ = '\\n'.join(d['input'].split('\\n')[:-1])\n",
    "    print(f'inputs{i}:\\n{d[\"instruction\"]}\\n{inputs_}。\\n')\n",
    "    print(f'outputs:\\n' + predict)\n",
    "    print('-' * 50)\n",
    "    single_inference_results[pid] = predict"
   ]
  },
  {
   "cell_type": "code",
   "execution_count": null,
   "metadata": {},
   "outputs": [],
   "source": [
    "\"\"\"MultiBeam Inference\"\"\"\n",
    "max_len = 128 # not sure\n",
    "generation_configs = [\n",
    "    GenerationConfig(\n",
    "        do_sample=True,\n",
    "        temperature=0.1, # important\n",
    "        num_beams=1,\n",
    "        top_p=0.3, # not sure\n",
    "        no_repeat_ngram_size=1, # important (higher less diversity)\n",
    "        pad_token_id=2,\n",
    "    ),\n",
    "    GenerationConfig(\n",
    "        do_sample=True,\n",
    "        temperature=0.1, # important\n",
    "        num_beams=1,\n",
    "        top_p=0.3, # not sure\n",
    "        no_repeat_ngram_size=3, # important (higher less diversity)\n",
    "        pad_token_id=2,\n",
    "    ),\n",
    "    GenerationConfig(\n",
    "        do_sample=True,\n",
    "        temperature=0.1, # important\n",
    "        num_beams=1,\n",
    "        top_p=0.3, # not sure\n",
    "        no_repeat_ngram_size=5, # important (higher less diversity)\n",
    "        pad_token_id=2,\n",
    "    ),\n",
    "]\n",
    "multi_beam_inference_results = {}\n",
    "for i, pid in enumerate(final.AVAILABLE_PRODUCT_IDS):\n",
    "    d = inference_dataset[i]\n",
    "    predicts = llm.multi_beam_inference(d, generation_configs, max_len, verbose=False)\n",
    "    inputs_ = '\\n'.join(d['input'].split('\\n')[:-1])\n",
    "    print(f'inputs:\\n{d[\"instruction\"]}\\n{inputs_}。\\n')\n",
    "    print(f'outputs:\\n2. ' + predicts)\n",
    "    print('-' * 50)\n",
    "    multi_beam_inference_results[pid] = predicts"
   ]
  },
  {
   "cell_type": "markdown",
   "metadata": {},
   "source": [
    "## Results Parsing\n",
    "\n",
    "Since it's hard for LLM to perfectly follow the given format, the generation may need to manually parsed."
   ]
  },
  {
   "cell_type": "code",
   "execution_count": 2,
   "metadata": {},
   "outputs": [
    {
     "name": "stdout",
     "output_type": "stream",
     "text": [
      "{5: ['Love Ataulfo Mango', 'Mango', 'Mango Ice', 'Fresh Mangoes', 'Exquisite Fruits', 'Fruit Gift Box', 'Juicy Mango', 'Premium Mango', 'Summer Delight', 'Perfect Gift'], 23: ['Frozen Broccoli', 'Cruciferous Vegetables', 'Cancer-fighting', 'Low-Calorie Diet', 'Healthy Eating', 'Quick Meal Prep', 'Fitness Recipes', 'Weight Loss', 'Low-Carb Option', 'Salad Ingredient'], 24: ['Frozen Cauliflower', 'Healthy Eating', 'Meal Preparation', 'Fitness', 'Weight Control', 'Quick Meals', 'Frozen Vegetables', 'Nutritious Ingredients', 'Diet Control', \"Kids' Lunch\"], 25: ['Healthy Eating', 'Frozen Vegetables', 'Meal Prep', 'Fitness Food', 'Health Recipes', 'Controlled Diet', 'Quick Meals', 'Broccoli', 'Cauliflower', 'Convenient'], 28: ['Pork Balls', 'Taiwan Pork', 'Hot Pot Ingredients', 'Fresh Meat', 'Pork Leg', 'Meatballs', 'Pure Pork', 'Yummy Soup', 'Local Ingredients', 'Meat Density'], 46: ['Gourmet Fish Dish', 'Taiwan Sea Bass', 'Post-surgery Diet', 'Meal Prep', 'Sea Bass Recipe', 'Nutritious Meal', 'Eye-catching Fish', 'Health Boosting', 'Recovery Food', 'Fine Dining Option'], 51: ['High Protein Chicken', 'Fitness Recipe', 'Low Calorie Meal', 'Muscle Building', 'Ready-to-Eat', 'Salted Chicken Breast', 'Lean Muscle', 'Healthy Meal Prep', 'Quick Frozen', 'Gourmet Protein'], 56: ['Breakfast delight', 'Savory pastry', 'Scallion pancake', 'Handcrafted goodness', 'Fluffy texture', 'Crispy outside', 'Scrumptious aroma', 'Gourmet treat', 'Locally sourced scallions', 'Authentic Taiwanese flavor'], 76: ['Whitefish Fillet', 'Gourmet Fish', 'Fish Recipes', 'Gourmet Cooking', 'Cod Fillet', 'Culinary Delight', 'Premium Seafood', 'Delicious Fish', 'Frozen Fillet', 'Seafood Delicacy'], 77: ['Flower crab', 'Seafood delicacy', 'Crab meat', 'Fresh seafood', 'Seafood recipe', 'Quick frozen', 'Gourmet cuisine', 'Crab dish', 'Wild caught', 'Savory flavor'], 79: ['Fried Fish', 'Fish Nuggets', 'Snack', 'Deep-fried Delights', 'Crispy Fish', 'Fast Food', 'Air Fryer Cooking', 'Late-night Snack', 'Seafood', 'Taiwanese Fried Food'], 81: ['Healthy Shrimp', 'Taiwan Shrimp', 'Hot Pot Seafood', 'Shrimp Recipe', 'Non-Toxic Shrimp', 'Freshwater Shrimp', 'Shrimp Dish', 'Premium Quality Shrimp', 'Sustainable Shrimp', 'Shrimp Farming'], 87: ['Norwegian Sardine', 'Low-Salt Sardines', 'Seafood Delight', 'Japanese Grilled Fish', 'Gourmet Fish Dish', 'Omega-3 Source', 'Healthy Meal Prep', 'Bento Box Staple', 'Fish Recipe', 'Succulent Sardine'], 93: ['Frozen Green Beans', 'Healthy Eating', 'Meal Preparation', 'Quick Frozen Vegetables', 'Fitness', 'Healthy Cooking', 'Weight Management', 'Convenient Meal Prep', 'IQF Frozen Produce', 'Healthy Living'], 95: ['Frozen Okra', 'Quick Meal Prep', 'Healthy Eating', 'Frozen Vegetables', 'Fitness', 'Meal Prep', 'Nutritious Veggies', 'Cooking Convenience', 'Diet Control', 'Healthier Meals'], 119: ['Handmade Squid Balls', 'Hotpot Ingredient', 'Gourmet Squid Balls', 'Squid Ball Delights', 'Fresh Squid Balls', 'Handcrafted Seafood Balls', 'Premium Squid Balls', 'Top-Quality Seafood Balls', 'Authentic Hotpot Addition', 'Delicious Homemade Squid Balls'], 133: ['Angus Beef', 'Prime Cut', 'Wagyu', 'Beef Steak', 'Beef Cubes', 'Juicy Beef', 'Sirloin', 'Beef Recipe', 'Beef Soup', 'Stir-fry Beef'], 151: ['Hot Pot', 'Instant Meal', 'Beef Stew', 'Meat Soup', 'Taiwan Cuisine', 'Premium Ingredients', 'Ready to Heat', 'Gourmet Dish', 'Herbal Infusion', 'New Zealand Beef'], 173: ['Beef Recipes', 'Meal Prep', 'Hot Pot Beef Slices', 'Beef Loin', 'Beef Cooking', 'Grilling Meat', 'Quality Beef', 'Gourmet Beef', 'Utah Beef', 'Tender Beef'], 183: ['French Fries', 'Fast Food', 'Crispy Snack', 'Golden Crispy Fries', 'Air Fryer Cooking', 'Midnight Snack', 'American Fast Food', 'Potato Sticks', 'Snack Food', 'Popular Fries'], 189: ['Sweet Potatoes', 'Healthy Snack', 'Low-Carb Diet', 'Fitness Recipe', 'Weight Management', 'Antioxidant Food', 'Detox Diet', 'Quick Meal Prep', 'Clean Eating', 'Nutrient-Rich'], 195: ['Norwegian Mackerel', 'Low-Salt Mackerel', 'Seafood Delight', 'Japanese Grilled Fish', 'DHA-Rich', 'Meal Prep', 'Bento Main Course', 'Healthy Eating', 'Gourmet Norwegian Mackerel', 'Delicious Fish Recipe'], 212: ['White Mullet', 'Gourmet Fish', 'Atlantic White Mullet', 'Fish Fillet Recipes', 'Meal Prep', 'Premium Fish Cuts', 'Cooking with Fish', 'White Mullet Steak', 'Seafood Delicacy', 'Omega-3 Rich Fish'], 232: ['Frozen Broccoli Florets', 'Healthy Eating', 'Meal Prep', 'Fitness', 'Quick Meal Prep', 'Frozen Vegetables', 'Health-conscious Cooking', 'Convenience', 'Frozen Food', 'Nutritious Choices'], 236: ['Fresh Tiger Grouper Fillet', 'Gourmet Seafood', 'Frozen Fish Fillet', 'Easy Meal Prep', 'Grouper Recipe', 'High-quality Seafood', 'Seafood Delicacy', 'Fish Fillet Dish', 'Grouper Cuisine', 'Premium Frozen Fish'], 264: ['Japanese A5 Wagyu', 'Wagyu burger patties', 'Gourmet beef burgers', 'Juicy Wagyu', 'A5 Wagyu beef', 'Premium hamburger steaks', 'Wagyu meat patties', 'Indulgent Wagyu', 'Decadent burger patties', 'Unforgettable Wagyu flavor'], 282: ['Sweet Potato', 'Healthy Snack', 'Artisanal Cultivation', 'Low Carb Diet', 'Fitness Recipe', 'Weight Management', 'Non-Toxic', 'Low Calorie', 'SGS Certified', 'Unique Variety'], 295: ['Wild Seaweed', 'Penghu Seaweed', 'Seafood Recipe', 'Seaweed Salad', 'Wild Kelp', 'Fresh Seaweed', 'Seaweed Dish', 'Gourmet Seafood', 'Sea Kelp Sprouts', 'Premium Ocean Delicacy'], 320: ['Penghu Seaweed', 'Wild Seaweed', 'Gourmet Seafood', 'Seaweed Salad', 'Five-Star Quality', 'Seafood Recipes', 'Healthy Superfood', 'Pure Penghu Harvest', 'Oceanic Delights', 'Seaside Cuisine'], 324: ['Taiwan mackerel', 'Lightly salted mackerel', 'Seafood delicacy', 'Japanese grilled fish', 'One-night dried', 'DHA-rich fish', 'Natural fish oil', 'Bento main dish', 'Fish recipe', 'Izakaya cuisine'], 345: ['Angus beef', 'Grilled beef', 'Ribeye beef slices', 'Marbled beef', 'Beef recipes', 'Grass-fed beef', 'Barbecue meat', 'Meal prep', 'Premium beef cuts', 'Juicy beef slices'], 352: ['Spicy Sunflower Seeds', 'Appetizer Snack', 'Refreshing Starter', 'Spicy Sichuan Flavor', 'Chili Pepper Infusion', 'Sichuan Peppercorn', 'Spicy Seafood Snack', 'Spicy Appetizer', 'Satisfying mouthfeel', 'Flavorful Snack'], 353: ['Seafood', 'Coral Grass', 'Nutritious', 'Penghu', 'Sea Cucumber', 'Gourmet', 'Healthy Eating', 'Meal Preparation', 'Hot Pot Ingredient', 'Seafood Recipe'], 365: ['Lean Muscle', 'High Protein', 'Fitness Recipe', 'Low Calorie', 'Quick Meal', 'Ready to Eat', 'Garlic Flavor', 'Spicy', 'Meal Prep', 'Quality Protein'], 373: ['Gourmet Fish Roe', 'Ready-to-Eat', 'Delicate Texture', 'Vacuum Packed', 'Fresh Flavor', 'Crispy Sautéed', 'Delicious Mayonnaise', 'Simple Happiness', 'No Fishy Taste', 'Satisfying Crunch'], 376: ['Lean Protein', 'Curry Flavor', 'Fitness Recipe', 'High Protein', 'Meal Prep', 'Low Calorie', 'Muscle Building', 'Instant Meal', 'Tender Chicken Breast', 'Balanced Nutrition'], 380: ['Salmon Belly', 'Salmon Recipes', 'Meal Prep', 'High Protein', 'DHA Rich', 'Bento Main Course', 'Fitness Nutrition', 'Muscle Building', 'Weight Loss', 'Quality Protein'], 381: ['Prime Grade Steak', 'Thick Cut Steak', 'Marble Texture Beef', 'Wet-aged Steak', 'Australian Beef', 'American Beef', 'BBQ Steak', 'Frosted Beef', 'Mega-sized Steak', 'Juicy Tender Steak'], 383: ['Fresh Seafood', 'Gourmet Fish', 'Delicious Fish Belly', 'Premium Seafood', 'Nutrient-rich Fish', 'i3Fresh Selection', 'Tainan Specialty', 'Sustainably Farmed', 'High-quality Fish', 'Exquisite Taste'], 386: ['Non-toxic vegetables', 'Salad box', 'Fresh salad', 'Certified by SGS', 'Low-carb', 'Weight management', 'Health-conscious', 'Meal prep', 'Fitness nutrition', 'Balanced diet'], 387: ['Jumbo White Shrimp', 'Non-Toxic Shrimp', 'Healthy Seafood', 'Taiwan Shrimp', 'Shrimp Recipes', 'Hot Pot Seafood', 'Pure Water Farming', 'Toxin-Free Shrimp', 'Premium White Shrimp', 'Safe to Eat Shrimp'], 400: ['Handmade Squid and Shrimp Fritters', 'Seafood Snack', 'Air Fryer Delights', 'No Preservatives', 'Authentic Recipe', 'Crispy Coating', 'Artisanal Snack', 'Squid and Shrimp Combo', 'Healthy Frying', 'Gourmet Appetizer'], 401: ['Shaddock Fish Balls', 'Handmade Fish Balls', 'Hot Pot Ingredient', 'Traditional Taiwanese Cuisine', 'Fresh Fish Balls', 'Non-toxic Snacks', 'Preservative-Free', 'Authentic Flavor', 'Gourmet Fish Balls', 'Frozen Delicacies'], 437: ['Shrimp Snack', 'Gourmet Snack', 'Crispy Seafood', 'Antibiotic-Free', 'Unique Gift', 'Local Delicacy', 'Gourmet Biscuits', 'Group Purchase', 'Squid Crisps', 'Premium Quality'], 449: ['Ribeye steak', 'Grilled steak', 'Angus beef', 'Prime ribeye', 'Beef recipes', 'Marbling texture', 'Ribeye cut', 'BBQ steak', 'Angus steak', 'Marbled ribeye'], 454: ['Frozen spinach', 'Healthy eating', 'Convenience', 'Frozen vegetables', 'Fitness', 'Meal preparation', 'Spinach', 'Quick meals', 'Frozen food', 'Dietary control'], 455: ['Fresh Frozen Chilean Salmon', 'Omega-3 Rich Salmon', 'Premium Frozen Fish', 'Sustainably Sourced Salmon', 'Healthy Seafood Option', 'Direct-to-Home Delivery', 'Gourmet Frozen Salmon', 'High-Quality Fish', 'Convenient Frozen Seafood', 'Chilean Salmon Delicacy'], 457: ['Squid Snack', 'Calamari Chips', 'Taiwanese Delicacy', 'Gourmet Seafood', 'Crispy Delights', 'Savory Treats', 'Fresh Squid', 'Artisanal Snacks', 'Gourmet Biscuits', 'Late-Night Snacking'], 459: ['Taiwan Caviar', 'Gourmet Gift', 'Exquisite Delicacy', 'Lunar New Year Gift', 'Gourmet Treats', 'Premium Seafood', 'Taiwanese Delicacy', 'Instant Gourmet', 'Festive Hamper', 'Caviar Gift Box'], 477: ['Spicy Snack', 'Gourmet Shrimp Chips', 'Crispy Seafood', 'Local Gourmet', 'Antibiotic-Free', 'Gourmet Gift Box', 'Crunchy Squid', 'Yummy Snacks', 'Group Purchase', 'Delicious Treats'], 499: ['New Zealand Lamb Ribs', 'Gourmet Lamb Dish', 'Meal Prep', 'Succulent Lamb Cut', 'Premium Lamb Selection', 'Tender Lamb Shoulder', 'Lamb Recipe Ideas', 'Fine Dining Lamb', 'Quality New Zealand Lamb', 'Juicy Lamb Chops'], 520: ['High Protein', 'Fitness Recipe', 'Low Calorie', 'Muscle Building', 'Sichuan Flavor', 'Ready-to-Eat', 'Lean Chicken Breast', 'Spicy', 'Meal Prep', 'Healthy Eating'], 526: ['Spicy Crab Snack', 'Salted Egg Flavor', 'Seafood Delight', 'Crunchy Biscuit', 'Late Night Snack', 'Savory Treat', 'Unique Snack', 'Wild Caught Crab', 'Finger-Licking Good', 'Vacuum Fried'], 527: ['Crab Snack', 'Salted Crispy Crab', 'Gourmet Biscuits', 'Evening Snack', 'Pepper Salt Flavor', 'Seafood Delicacy', 'Crispy Sea Crab', 'Premium Snack', 'Savory Treats', 'Unique Food Experience'], 530: ['USDA Prime Boneless Beef Ribs', 'American Beef', 'Blue Ribbon Beef', 'Tender Shoulder Beef', 'Dry-Aged Beef', 'BBQ Meat', 'Grass-Fed Beef', 'Ribeye Recipe', 'Angus Beef', 'Gourmet Beef Ribs'], 531: ['Japanese Sweet Potato', 'Resistant Starch', 'Light Snack', 'Fasting', 'Low Carb Diet', 'Dietary Control', 'Weight Loss Recipe', 'Fitness Meal', 'Meal Prep', 'Detox Diet'], 534: ['Boneless Milkfish Fillet', 'High Protein Fish', 'Milkfish Recipe Ingredients', 'Milkfish Soup', 'Fish Fillet', 'Precious Fish Cut', 'Fresh Tainan Milkfish', 'Nutritious Fish', 'Milkfish Belly Fillet', 'Fish Cuisine'], 535: ['Shi Drum Fish Skin', 'Collagen-Rich Fish Skin', 'Premium Delicacy', 'Versatile Cooking Ingredient', 'Nutritious Snack', 'Shi Drum Fish Recipes', 'Healthy Eating Option', 'Beauty Benefits', 'Shi Drum Fish Soup', 'Top-Grade Flavor'], 554: ['Beef slices', 'Hot pot meat', 'American Blue Ribbon beef', 'Tender beef slices', 'Premium shoulder beef', 'American beef', 'Sautéed beef', 'Quality meat', 'Grilling option', 'Succulent texture'], 556: ['Prime American Beef', 'Angus Beef', 'Ribeye Steak', 'Beef Tenderloin', 'Cube Beef', 'Beef Cutlet', 'Beef Soup', 'Stir-fried Beef', 'Juicy Beef', 'Gourmet Beef'], 565: ['Mozzarella Cheese Stick', 'Snack Food', 'Cheese Snack', 'Crispy Cheese Stick', 'Appetizer', 'Air Fryer Recipe', 'Late-Night Snack', 'Cheese Lover', 'Stringy Cheese', 'American Fried Food'], 578: ['Vegetable Crisps', 'Snack Mix', 'Crispy Veggie Chips', 'Office Snacks', 'Healthy Snacking', 'Root Vegetables', 'Gourmet Chips', 'Non-GMO Snacks', 'Office Pantry Essentials', 'Vegetarian Snacks'], 579: ['Fruit Crisps', 'Office Snacks', 'Apple Crisps', 'Pineapple Crisps', 'Banana Crisps', 'Strawberry Crisps', 'Starfruit Crisps', 'Healthy Snacking', 'Gourmet Treats', 'Preservative-Free'], 592: ['Gourmet Powdered Liver', 'Sesame Oil Delight', 'Perfect Pairing with Drinks', 'Private Recipe', 'Taiwanese Delicacy', 'Must-Try for Drinking Sessions', 'Flavorful Small Plates', 'i3fresh Specialty', 'Exquisite Sesame Powdered Liver', 'Braised Liver Dish'], 596: ['Whiting fish', 'Seafood delicacy', 'Seafood recipes', 'Whiting fish congee', 'Whiting fish omelette', 'Southern Kiss Fish', 'Dried small fish', 'Premium whiting fish', 'Seafood cooking', 'Whiting fish without bleaching'], 636: ['Smoked Boneless Phoenix Claws', 'Appetizer', 'Snack', 'Sichuan Flavor', 'Ready-to-Eat', 'Chill and Serve', 'Q Texture (chewy texture)', 'Boneless Phoenix Claws', 'TV Snack', 'Gelatinous Texture'], 644: ['Karala Roll', 'Snack', 'Biscuit', 'Afternoon Tea', 'Midnight Snack', 'Salt and Pepper Flavor', 'Salt and Pepper', 'Freshly Baked', 'Low Temperature Freezing', 'Sweet and Non-greasy'], 645: ['Kara Roll Snack', 'Mustard Flavor', 'Crispy Snack', 'Gourmet Snack', 'Afternoon Tea Delight', 'Midnight Snacking', 'Biscuit Treat', 'Tangy Plum Flavor', 'Dragon Ball Inspired', 'Fresh and Sweet'], 646: ['Gourmet Snack', 'Calamari Flavoured', 'Dragon Ball-inspired', 'Argentine Squid', 'Lightly Baked', 'Midnight Snack', 'Tea Time', 'Crispy Biscuits', 'Sweet and Savory', 'Fresh and Light'], 647: ['Gourmet snacks', 'Mustard flavor', 'Dragon balls', 'Argentine squid', 'Biscuits', 'Gourmand delights', 'Afternoon tea', 'Late-night snack', 'Umami taste', 'Unique baking technique'], 649: ['Spicy Chicken Feet (Boneless)', 'Sichuan Flavor', 'Smoked', 'Appetizer', 'Easy-to-open', 'Ready-to-eat', 'Cold Dish', 'Rich Texture', 'Spicy', 'Finger Food'], 695: ['Strawberry Crispy Fruit', 'Freeze-Dried Strawberry', 'Popular Snack', 'Office Snack', 'Group Buy Snack', 'Fruit Snack', 'Crispy Snack', 'Super Popular', 'Freeze-Dried Fruit', 'Sweet and Tangy'], 701: ['Marinated Pork Knuckles', 'Taiwanese Delicacy', 'Ready-to-Eat', 'Citrus Garlic Flavor', 'Authentic Taiwanese Cuisine', 'Gourmet Pork Dish', 'Heat and Serve', 'Lemon Garlic Pork Knuckles', 'Taiwanese Street Food', 'Gourmet Meal Kit'], 736: ['Guava', 'Dried Fruit', 'Gourmet Snack', 'Taiwanese Produce', 'Office Snack', 'Healthy Snack', 'Preservatives-Free', 'Low-Temperature Baking', 'Natural Flavor', 'Fiber-rich'], 737: ['Peach Dried Fruit', 'Taiwan Peach', 'Snacks', 'Fruit Snacks', 'Healthy Snacking', 'Gourmet Treats', 'Low-Temperature Baked', 'Natural Flavor', 'Tasty Dessert', 'Fruit Delight'], 740: ['Mulberry', 'Antioxidants', 'Taiwanese Fruit', 'Anthocyanins', 'Artisanal', 'Health Benefits', 'Yizhu Township', 'Freshly Harvested', 'Natural Farming', 'Superfood'], 753: ['French Fries', 'Fast Food', 'American Snacks', 'Golden Crispy Fries', 'Air Fryer Meals', 'Midnight Snack', 'Fried Foods', 'Potatoes', 'Crispy Fries', 'Snack Food'], 765: ['Grass-fed beef', 'New Zealand beef', 'Fillet steak', 'Top-grade beef', 'Cube steak', 'Premium quality', 'Natural grazing', 'Low fat content', 'Juicy flavor', 'Gourmet restaurant-grade'], 816: ['Norwegian Mackerel', 'Seafood Delight', 'Grilled Fish', 'Japanese Grilled Fish', 'DHA Enriched', 'Meal Prep', 'Bento Box Staple', 'Gourmet Fish', 'Fish Recipes', 'Healthy Omega-3'], 818: ['Boneless Chicken Thigh Fillet', 'Chicken Thigh Recipe', 'Meal Prep', 'Grilled Chicken', 'Quick Frozen', 'Premium Meat', 'Lunch Box Main Course', 'Chicken Thigh Dish', 'Boneless Chicken', 'Chicken Recipe'], 824: ['Chicken Nuggets', 'Tender Chicken', 'Fried Food', 'Snack', 'Premium Chicken Nuggets', 'Juicy Chicken', 'Quick Snack', 'High Meat Content', 'Popular Snack', 'Family Favorite'], 835: ['Spicy Snack', 'Sichuan Flavors', 'Crispy Shrimp', 'Gourmet Snack', 'Group Purchase', 'Afternoon Tea', 'Authentic Taste', 'Late-Night Snack', 'Delicious Biscuits', 'Antibiotic-Free Shrimp'], 836: ['Gourmet Crab Snack', 'Meimei Crab Flavor', 'Crispy Seafood Snack', 'Crab Biscuit Delight', 'Evening Tea Treat', 'Convenient Crab Snack', 'Wild-Caught Crab Delight', 'Flavorful Tea Time Snack', 'Delicious Midnight Bite', 'Unique Gourmet Crab Experience'], 890: ['Angus beef', 'Ribeye steak', 'Grass-fed beef', 'American beef', 'Marbling', 'Grilled beef', 'Barbecue', 'Juicy tender', 'Beef recipe', 'Steak dining'], 891: ['Sweet White Shrimp', 'Fresh Seafood', 'Taiwan Shrimp', 'Shrimp Recipes', 'Shellfish', 'Healthy Shrimp', 'Quick-Frozen', 'Deveined Shrimp', 'Seafood Dishes', 'Meal Prep'], 925: ['Canadian Capelin', 'Fish Roe', 'Easy Meal Prep', 'Crunchy Snack', 'Fish Recipes', 'Gourmet Fish', \"Kids' Favorite\", 'Seafood Delicacy', 'Appetizer Pairing', 'Fish Meat dishes'], 926: ['Edamame', 'Healthy Eating', 'Meal Prep', 'Fitness', 'Salted Edamame', 'Dietary Control', 'Snack', 'Green Soybean Pods', 'Fresh Ingredients', 'Source Traceability'], 949: ['Prime Grade Steak', '16oz Mega-sized Steak', 'Marble Texture Beef', 'Wet-aged Steak', 'Buy One Get One Free Offer', 'Limited Time Deal', 'Juicy Tender Steak', 'American and Australian Beef', 'Thick Cut Sirloin', 'Grilling Steak'], 1014: ['High Protein Chicken Breast', 'Fitness Meal Prep', 'Low Calorie Diet', 'Muscle Building', 'Lean Chicken Breast', 'Ready-to-Eat', 'Nutritionally Balanced', 'Healthy Eating', 'Weight Management', 'Gourmet Protein'], 1026: ['Thick Cut Steak', 'Prime Grade', 'Ribeye Steak', \"President's Choice\", 'Juicy Steak', 'Premium Beef', 'Giant Cut', 'Marbling', 'Tender Texture', 'Gourmet Meat'], 1034: ['Air-fried Seafood Combo', 'Crispy Chicken Nuggets', 'American-style Appetizers', 'Snack Food Bundle', 'Air Fryer Recipes', 'Fried Calamari Strips', 'Crispy Potato Sticks', 'Late Night Snacks', 'Taiwanese Snack Foods', 'Air-fried Delicacies'], 1036: ['Fried Snacks', 'American Style', 'Air Fryer Cooking', 'Midnight Snack', 'Air-Fried Delights', 'Chicken Nuggets', 'Crispy Fries', 'Snack Combo', 'Chicken Tenders', 'Original Flavor'], 1037: ['Deep-Fried Delights', 'Family Feast Combo', 'Crispy Chicken Nuggets', 'Golden Fries', 'Gourmet Fish Fillets', 'Fried Favorites', 'Air-Fryer Convenience', 'Value Meal Set', 'Crispy Treats', 'Finger Food Selection'], 1039: ['Frozen Vegetables Selection', 'Quick Frozen Vegetables', 'Healthy Meal Prep', 'Convenient Frozen Veggies', 'Fresh Frozen Vegetables', 'Nutrient-Rich Veggies', 'Time-Saving Vegetables', 'Quality Frozen Produce', 'Versatile Vegetable Options', 'Instant Meal Solution'], 1065: ['Specialty coffee', 'Small-scale farming', 'Limited edition', 'Japanese origin', 'Artisanal blend', 'Time-limited offer', 'Group buying', 'Single-origin', 'Arabica variety', 'Fragrant wood notes'], 1075: ['Gourmet Fruit Spread', 'Premium Citrus Jam', 'Artisanal Yellow Pomelo Jam', 'Limited Time Offer', 'Natural Fruit Preserve', 'Local Tainan Specialty', 'Tangy Sweet Flavor', 'Handmade Fruit Conserve', 'Exclusive Group Purchase', 'No Additives Preserves'], 1098: ['Low-calorie diet', 'High protein', 'Meal prep', 'Fitness recipe', 'Muscle building', 'Weight loss', 'Nutritious protein', 'Ready-to-eat', 'Herbal cuisine', 'Tender chicken breast'], 1099: ['Healthy Eating', 'Meal Prep', 'Fitness', 'Weight Control', 'Low-Calorie', 'Cauliflower Rice', 'Healthier Cooking', 'Diet Control', 'Convenience', 'Nutritious Options'], 1100: ['Edamame', 'HealthySnacking', 'FrozenGreenBeans', 'MealPrep', 'FitnessFood', 'SaltFree', 'ReadyToEat', 'Appetizer', 'Healthyeating', 'SnackOption'], 1121: ['Frozen Mixed Berries', 'Berry Bowl', 'Smoothie Mix', 'Cranberry Juice', 'Blackberry Delight', 'Frozen Fruit Blend', 'Quick Meal Prep', 'Baking Essentials', 'Nutrient-Rich Berries', 'Versatile Ingredient'], 1123: ['Frozen blackberries', 'Berry smoothie', 'Frozen fruit bowl', 'Blackberries', 'Freshly frozen', 'Quick meal prep', 'Juicy berries', 'Nutritious blackberries', 'Versatile ingredient', 'Seasonal harvest'], 1125: ['Frozen Berries', 'Mixed Berries', 'Smoothie Ingredients', 'Berry Bowl', 'Berry Juice', 'Quick Meal Prep', 'Berry Smoothie', 'Baking With Berries', 'Berry Jam', 'Nutrient-rich Berries'], 1147: ['Low Calorie Recipes', 'Fitness Meal Ideas', 'High Protein Options', 'Grain Bowls', 'Lean Cuisine', 'Fitness Nutrition', 'Muscle Building Foods', 'Meal Prep', 'Quinoa', 'Balanced Diet'], 1195: ['Cheese Balls', 'Snack Food', 'Cheddar Cheese', 'American Cheese', 'Air Fryer Recipes', 'Party Snack', 'Late Night Snack', 'Fried Snacks', 'Original Flavor', 'Crispy Cheese Balls'], 1197: ['New Zealand Pumpkin', 'Roasted Chestnut Pumpkin', 'Healthy Eating', 'Meal Prep', 'Fitness Food', 'Quick Recipes', 'Frozen Vegetables', 'Nutritious Cooking', 'Weight Management', 'Convenience'], 1198: ['Non-GMO Tofu Skin', 'Low Carb Snack', 'Healthy Eating', 'Fitness Food', 'Meal Prep', 'Weight Loss', 'Carb Reduction', 'Natural Ingredients', 'Fasting Diet', 'Controlled Diet'], 1210: ['Chicken Thigh Fillet', 'Boneless Chicken Thigh', 'Meal Prep', 'Marinated Chicken', 'Grilled Meat', 'Chicken Recipe', 'Lunchbox Main Dish', 'Easy Meal Prep', 'Tender Chicken', 'Frozen Chicken'], 1216: ['Salmon fillet', 'Fish dishes', 'Healthy recipes', 'Protein-rich', 'Meal prep', 'Muscle building', 'Weight management', 'Grilled salmon', 'High-quality protein', 'Chilean salmon'], 1217: ['Salmon fillet', 'DHA-rich', 'Meal prep', 'High protein', 'Salmon recipes', 'Fitness diet', 'Lunchbox main', 'Bodybuilding', 'Quality protein', 'Omega-3'], 1232: ['Weight Loss', 'Low Carb', 'Calorie Deficit', 'Health Eating', 'Meal Prep', 'Protein', 'Microwaveable', 'Fitness', 'Portion Control', 'Convenience'], 1233: ['Customized Caloric Deficit Meals', 'Weight Loss', 'Low Carbs', 'Healthy Eating', 'Meal Preparation', 'Microwavable', 'Fitness', 'Protein', 'Portion Control', 'Light Meals'], 1234: ['Weight Loss Meals', 'Calorie Deficit', 'Low Carb', 'Healthy Eating', 'Meal Prep', 'Fitness Nutrition', 'Protein-rich', 'Microwaveable', 'Light Meals', 'Food Control'], 1235: ['Weight Loss', 'Customized Meal Plan', 'Calorie Deficit', 'Low Carb', 'Meal Prep', 'Healthy Eating', 'Microwavable', 'Fitness', 'Protein Rich', 'Controlled Diet'], 1236: ['Weight loss', 'Calorie deficit', 'Meal prep', 'Healthy eating', 'Low-carb', 'Protein', 'Quick meals', 'Fitness', 'Control diet', 'Convenience'], 1237: ['Weight Loss', 'Calorie Deficit', 'Health Eating', 'Low Carb', 'Meal Prep', 'Protein', 'Fitness', 'Microwaveable', 'Light Meals', 'Food Control'], 1240: ['Fried Onion Rings', 'Appetizer', 'Snack', 'Party Food', 'Air Fryer Recipe', 'American Fried Snacks Platter', 'Crispy Onion Rings', 'Late Night Snack', 'Fried Food', 'Air Fryer Cooking'], 1242: ['Summer Delight Mango', 'Group Buy', 'Limited Time Offer', 'Fresh Mango', 'Sweet and Juicy', 'Premium Quality', 'Red Ripe Mango', 'Special Selection', 'Seasonal Treat', 'Irresistible Flavor'], 1285: ['Purple Sweet Potato', 'Roasted Purple Sweet Potato', 'Organic Farming', 'Low-carb Diet', 'Healthy Eating', 'Fitness Recipes', 'Weight Management', 'Plant-Based Diet', 'Antioxidant-Rich', 'Nutrient-Dense'], 1404: ['Fresh Frozen Gold Eye Snapper Fillet', 'Taiwan Snapper', 'Snapper Fillet', 'Fish Meat Recipes', 'Fish Soup', 'Health-boosting Food', 'Post-surgery Diet', 'Nutritious Fish', 'Recovery Diet', 'Gold Eye Snapper Species'], 1418: ['Pumpkin Soup', 'Creamy Soup', 'Snack', 'Pumpkin', 'Corn Soup', 'Comfort Food', 'Night Snack', 'Healthy Choice', 'Creamy Pumpkin Soup', 'No MSG'], 1419: ['Seafood Chowder', 'Instant Meal', 'Gourmet Soup', 'Heat and Serve', 'Midnight Snack', 'Soup Mix', 'Convenience Food', 'Seafood Delight', 'Easy Prep', 'Brunch Option'], 1437: ['Sweet Potato', 'Roasted Sweet Potato', 'Organic Farming', 'Resistant Starch', 'Healthy Eating', 'Weight Management', 'Meal Prep', 'Low Carb Diet', 'Detox Diet', 'Japanese Sweet Potato'], 1440: ['Seaweed', 'Handmade squid balls', 'Hot pot ingredients', 'Coral grass', 'Local delicacies from Penghu', 'Seaweed soup', 'Seaweed salad', 'Gourmet selection from Penghu', 'Oceanic delicacies', 'Authentic flavors'], 1441: ['Seaweed snacks', 'Gourmet seafood selection', 'Handmade squid balls', 'Hot pot ingredients', 'Coral grass delicacy', 'Local delights from Penghu', 'Seaweed soup mix', 'Seafood salad essentials', 'Exquisite ball-shaped treats', 'Premium natural ingredients'], 1442: ['Seaweed', 'Hotpot ingredients', 'Handmade squid balls', 'Purified seaweed', 'Coral grass', 'Seaweed soup', 'Seafood delicacies', 'Local delicacies', 'Gourmet selection', 'Healthy choices'], 1452: ['Healthy Eating', 'Meal Planning', 'Fitness', 'Low Carb', 'Balanced Diet', 'Quinoa Recipes', 'Prepping Meals', 'Quinoa Varieties', 'Fitness Nutrition', 'Flavorful Dishes'], 1453: ['Healthy Eating', 'Meal Prep', 'Fitness', 'Low Carb', 'Healthier Cooking', 'Quinoa and Soybeans', 'Balanced Diet', 'Vegetarian Options', 'Quick and Easy Meals', 'Nutritious Ingredients'], 1454: ['Healthy Eating', 'Meal Prep', 'Fitness', 'Low Carb', 'Balanced Diet', 'Quinoa Edamame', 'Quinoa Millet', 'Quinoa Chickpea', 'Quinoa Rice Bowl', 'Japanese Teriyaki Chicken'], 1455: ['Healthy Eating', 'Meal Prep', 'Frozen Cauliflower Rice', 'Weight Management', 'Fitness', 'Calorie Control', 'Health Food', 'Healthy Cooking', 'Dietary Control', 'Cauliflower Rice'], 1491: ['Thin 0.01cm Dumpling Skin', 'Non-GMO Soybeans', 'Low Carb', 'i3fresh', 'Fresh Online Shopping', 'Gyoza Wrappers', 'Fresh Ingredients', 'Handmade', 'Group Buy', 'Satisfyingly Juicy'], 1494: ['Healthy Eating', 'Meal Prep', 'Fitness', 'Low Carb', 'Gourmet Cooking', 'Quinoa Rice', 'Pre-cooked Meals', 'Fitness Meals', 'Seafood Delights', 'Herbal Infusions'], 1495: ['Healthy Eating', 'Meal Prep', 'Fitness', 'Low Carb', 'Quinoa Rice', 'Balanced Diet', 'Precooked Meal', 'Healthier Choices', 'Quick and Easy', 'Flavorful Options'], 1496: ['Healthy Eating', 'Meal Prep', 'Fitness Food', 'Low Carb', 'Quinoa Edamame', 'Quinoa Millet', 'Quinoa Chickpeas', 'Convenient Meals', 'Balanced Nutrition', 'Quick & Easy'], 1497: ['High protein chicken breast', 'Fitness meal prep', 'Low calorie eating', 'Lean muscle building', 'Quick and easy meal', 'Healthy eating', 'Ready-to-eat chicken breast', 'Gym diet', 'Instant protein source', 'Nutrition-packed poultry'], 1499: ['High Protein', 'Meal Prep', 'Low Calorie', 'Fitness Recipe', 'Lean Muscle', 'Convenient', 'Healthy Eating', 'Quick Meal', 'Chicken Breast', 'Quality Protein'], 1512: ['Healthy Eating', 'Meal Prep', 'Weight Management', 'Fitness Food', 'Quick & Easy Meals', 'Low-Calorie Options', 'Balanced Nutrition', 'Health Conscious', 'Superfood', 'Meal Planning'], 1515: ['Frozen Corn Shoots', 'Healthy Eating', 'Meal Prep', 'Fitness', 'Frozen Vegetables', 'Dietary Control', 'Quick Meal Preparation', 'Nutritious Ingredients', 'Convenient Cooking', 'Quality Corn Shoots'], 1516: ['Chicken Thigh Recipe', 'Boneless Chicken Thigh', 'Meal Prep', 'Lunchbox Main Course', 'Party Food', 'Juicy Chicken Thigh', 'Snack Ideas', 'Marinated Chicken', 'Crispy Chicken', 'Flavorful Dish'], 1539: ['Premium Pork Chop', 'Easy Meal Prep', 'Taiwanese Pork', 'Bone-In Pork', 'Pork Cutlet', 'Pork Back Ribs', 'Delicious Pork Recipes', 'Meal Planning', 'Pork Loin', 'BBQ Pork'], 1575: ['Gourmet snack box', 'Crispy shrimp', 'Snack gift set', 'Additive-free snacks', 'Vacuum fried', 'Antibiotic-free', 'Group purchase', 'Cala crispy squid', 'Cala gift box', 'Biscuits'], 1686: ['Snacks', 'Vegetable Chips', 'Healthy Snack', 'Office Snack', 'Fruit and Vegetable Chips', 'Natural Snack', 'Variety Pack', 'Crunchy Snack', 'Low-Temperature Dried', 'Nutritious Chips'], 1687: ['Vegetable Crisps', 'Snack Mix', 'Office Snacks', 'Healthy Snacking', 'Sweet Potato', 'Root Vegetables', 'Mushroom Snacks', 'Carrot Chips', 'Wholesome Treats', 'Tasty Dried Vegetables'], 1688: ['Vegetable Chips', 'Snack Variety Pack', 'Fruit Crisps', 'Healthy Snacks', 'Office Snacks', 'Mixed Vegetable Chips', 'Dried Fruits', 'Sweet Potato Chips', 'Gourmet Snacks', 'Crispy Fruits'], 1700: ['Nutritious Soup', 'Vegetarian Dish', 'Mushroom Soup', 'Herbal Recipe', 'Gourmet Soup', 'Nourishing Broth', 'Unique Ingredients', 'Gourmet Vegetarian', 'Mushroom Delight', 'Slow-Cooked Goodness'], 1701: ['Healthy Eating', 'Meal Prep', 'Fitness Food', 'Low Carb', 'Convenience', 'Balanced Diet', 'Quinoa Rice', 'Lean Protein', 'Quick Meal', 'Savory Options'], 1719: ['Japanese-style meat slices', 'Pork recipe', 'Taiwanese pork', 'Marinated pork', 'Convenient meal preparation', 'Japanese cuisine', 'Premium pork', 'Meat dish', 'Grilled meat slices', 'Tasty pre-cooked food'], 1722: ['Gourmet Uwajima Caviar', 'Foodie Gifts', 'Lunar New Year Gift Set', 'Delicious Uwajima Caviar', 'Artisanal Uwajima Caviar', 'Premium Uwajima Caviar Box', 'Festive Food Gift', 'Uwajima Caviar Treats', 'Exclusive Uwajima Caviar', 'Snackable Caviar Delight'], 1729: ['Fresh Sheephead Fish', 'Taiwanese Specialty', 'Homemade Fish Balls', 'Hot Pot Ingredients', 'Quality Seafood', 'Gourmet Fish Recipes', 'Handcrafted Fish Balls', 'No Preservatives', 'Tainan Sheephead Fish', 'Fish Ball Soup'], 1746: ['Fried Chicken', 'Chicken Nuggets', 'Snack Food', 'Air Fryer Cooking', 'Home-style Cooking', 'Convenience Food', 'Party Snacks', 'Takeout', 'Late-night snack', \"McDonald's Style Chicken Nuggets\"], 1758: ['Meal Prep', 'Low Carb Diet', 'Fitness Food', 'High Protein', 'Ready to Eat', 'Weight Management', 'Muscle Building', 'Convenient Nutrition', 'Lean Chicken Breast', 'Quick Frozen Vegetables'], 1767: ['Healthy Eating', 'Meal Prep', 'Fitness Food', 'Low Carb', 'Balanced Nutrition', 'Quinoa Edamame', 'Red and White Quinoa', 'Convenient Meal', 'Nutrient-rich', 'Weight Management'], 1799: ['Durian Fruit', 'Thai Durian', 'Exotic Fruit', 'Premium Fruit', 'King of Fruits', 'Frozen Delight', 'Durian Gift Box', 'Tropical Fruit', 'Unique Flavor', 'Durian Experience'], 1816: ['Taiwanese Mackerel', 'Low-Salt Mackerel', 'Seafood Delight', 'Overnight Dried Fish', 'Grilled Fish', 'Japanese Grilled Fish', 'Izakaya Cuisine', 'DHA Rich', 'Meal Prep', 'Bento Main Dish'], 1857: ['Iberico Pork', 'Spanish BBQ Pork Slices', 'Pork Recipe Ideas', 'Gourmet Pork Dish', 'Iberico Pork Delicacy', 'BBQ Meat Selection', 'Premium Pork Cuts', 'Delicious Pork Grilling', 'Flavorful Spanish Pork', 'Succulent Pork Options'], 1858: ['A5 Wagyu', 'Premium Japanese Wagyu', 'Kumamoto Beef', 'Wagyu Hotpot Slices', 'Hotpot Beef Slices', 'Top Grade A5 Wagyu', 'Wagyu Beef', 'Japanese Hotpot', 'Wagyu Slices', 'Top Quality Wagyu'], 1859: ['A5 Wagyu', 'Japanese Wagyu', 'Premium Beef', 'Kumamoto Wagyu', 'Beef Cubes', 'Grilling Slices', 'Top-Grade Beef', 'Wagyu Beef', 'Marbled Beef', 'Finest Quality Beef'], 1860: ['Wagyu Beef Slices', 'Hotpot Meat Slices', 'BBQ Meat Slices', 'Marbled Beef', 'Premium Beef Cuts', 'Australian Wagyu', 'Grilled Meat', 'Snowflake Beef', 'Wagyu Hotpot', 'Grain-Fed Beef'], 1861: ['Wagyu Beef', 'BBQ', 'Grilled Beef', 'Australian Beef', 'Premium Wagyu', 'Marbling', 'Steak Cubes', 'Gourmet Beef', 'Wagyu Steak', 'Fine Dining'], 1864: ['Frozen Vegetables', 'Broccoli', 'Cauliflower', 'Carrots', 'Convenient Meal Prep', 'Healthy Eating', 'European Import', 'Quick Frozen', 'Nutritious Veggies', 'Meal Planning'], 1893: ['Pork Selection', 'Bento Box', 'Taiwanese Pork', 'Meal Prep', 'Pork Recipes', 'Pork Cuts', 'Pork Belly', 'Local Pork', 'Pork Loin', 'Pork Dish'], 1906: ['Boneless Chicken Thigh', 'Deep-Fried Snack', 'Air Fryer Recipes', 'Taiwanese Snack', 'Japanese Snack', 'Party Appetizer', 'Juicy Meat', 'Crispy Chicken', 'Midnight Snack', 'Air-Fried Delicacy'], 1914: ['Spanish Pork', 'Premium Pork', 'BBQ Meat', 'Pork Recipes', 'Gourmet Pork', 'Marbled Pork', 'Pork Cuts', 'Pork Belly', 'Meal Prep', 'Spanish Cuisine'], 1925: ['Weight loss', 'Low carb', 'Calorie deficit', 'Microwavable', 'Healthy eating', 'Meal prep', 'Protein-rich', 'Fitness', 'Controlled diet', 'Lean cuisine'], 1926: ['Weight loss', 'Low-carb', 'Calorie deficit', 'Healthymeals', 'Meal prep', 'High protein', 'Microwavable', 'Fitness', 'Portion control', 'Lean cuisine'], 1927: ['Weight Loss', 'Low Carb', 'Calorie Deficit', 'Meal Prep', 'Healthy Eating', 'Protein', 'Microwavable', 'Fitness', 'Portion Control', 'Lean Cuisine'], 1928: ['Low-carb', 'Weight loss', 'Calorie deficit', 'Meal prep', 'Light food', 'Healthy eating', 'Protein-rich', 'Microwaveable', 'Fitness', 'Portion control'], 1929: ['Low Carb', 'Weight Loss', 'Calorie Deficit', 'Healthy Eating', 'Meal Prep', 'Fitness', 'High Protein', 'Microwavable', 'Light Meals', 'Food Control'], 1930: ['Low Carb', 'Weight Loss', 'Calorie Deficit', 'Healthy Eating', 'Meal Prep', 'Protein', 'Microwavable', 'Light Meal', 'Fitness', 'Food Control'], 1931: ['Weight Loss', 'Low Carb', 'Calorie Deficit', 'Healthy Eating', 'Meal Prep', 'Fitness', 'Protein', 'Microwavable', 'Light Meal', 'Portion Control'], 1932: ['Weight Loss', 'Low Carb', 'Calorie Deficit', 'Healthy Eating', 'Meal Prep', 'Protein', 'Fitness', 'Microwavable', 'Light Meal', 'Control Diet'], 1997: ['High Protein', 'Low Carb', 'Fitness', 'Weight Loss', 'Healthy Meal Box', 'Lean Chicken Breast', 'Instant', 'Frozen Vegetables', 'Quinoa Edamame Mix', 'Dietary Fiber'], 1999: ['High Protein Selection', 'Low Carb Diet', 'Fitness Nutrition', 'Weight Loss Meals', 'Healthy Meal Box', 'Succulent Chicken Breast', 'Ready-to-Eat', 'Frozen Vegetables', 'Quinoa Edamame Mix', 'Chickpea Millet Bowl'], 2001: ['Crispy Pastry', 'Cheese', 'Breakfast', 'Snack', 'Chinese Dim Sum', 'Ready-to-Eat', 'Red Bean', 'Taro', 'Sweet Potato', 'Layered Texture'], 2005: ['Breakfast', 'Snack', 'Cheese', 'Scallion Pancakes', 'Ready-to-Eat', 'Chinese Snack', 'Crispy Crust', 'Sweet Potato', 'Red Bean', 'Dim Sum'], 2019: ['Fried Chicken', 'Salty Crispy Chicken', 'Air Fryer Cooking', 'Late-Night Snack', 'Snack Food', 'Taiwanese Fried Food', 'Boneless Fried Chicken', 'Chicken Popcorn', 'Crispy Fried Chicken', 'Air-Fried Delicacies'], 2027: ['Premium Musang King Durian', 'Malaysian Durian', 'i3fresh', 'Fresh Fruit Meat', 'Exotic Fruits', 'Online Shopping', 'Gourmet Delights', 'Durian Lover', 'Luxurious Treat', 'Taste of Malaysia'], 2048: ['Taiwanese cuisine', 'Pork cartilage', 'Traditional flavors', 'Instant meal', 'Heritage recipe', 'Local delicacy', 'Taiwanese pork', 'Slow-cooked', 'SGS certified', 'Easy prep'], 2049: ['Taiwanese Delicacy', 'Braised Pork Cartilage', 'Slow-cooked Goodness', 'Traditional Flavor', 'Easy to Prepare', 'Pork Soft Bones', 'Authentic Taste', 'Nostalgic Recipe', 'Top-rated Heritage', 'Instant Heat-and-Eat'], 2077: ['Prime Grade Beef', 'Hot Pot Sliced Beef', 'Marbled Beef', 'Snowflake Beef', 'Grilled Beef Slices', 'BBQ Meat Slices', 'Premium American Beef', 'Tender Beef', 'Gourmet Beef', 'Succulent Meat'], 2083: ['100% fruit juice', 'Freshly squeezed juice', 'Pineapple juice', 'Orange juice', 'Guava juice', 'Dragon fruit juice', 'Lime juice', 'Pure fruit juice', 'Variety of flavors', 'Natural fruit flavors'], 2124: ['Thai Style', 'Healthy Eating', 'Meal Prep', 'Fitness Nutrition', 'Thai Cuisine', 'Clean Eating', 'Weight Management', 'Fresh Ingredients', 'Balanced Diet', 'Low-Calorie'], 2125: ['Plant-based meat', 'Thai cuisine', 'Thai-style lemon pork', 'Vegan meat', 'Stir-fried pork', 'Fresh ingredients', 'Thai cooking', 'Vegetarian-friendly', 'Flavorful dish', 'Meat substitute'], 2239: ['Healthy Eating', 'Meal Prep', 'Fitness', 'Low Carb', 'Dietary Control', 'Quinoa Edamame', 'Red and White Quinoa', 'Balanced Nutrition', 'Pre-cooked Meals', 'High Protein'], 2240: ['Dumplings', 'Healthy Eating', 'Meal Prep', 'Fitness', 'Kimchi', 'Spicy Peppers', 'Cabbage', 'Shrimp', 'Corn Meat', 'Low Carb'], 2254: ['Gourmet Pizza Selection', 'Artisanal Handcrafted Pizza', 'Italian Red Sauce Base', 'European Mozzarella Cheese', 'Apple Honey Mustard Pizza', 'Savory Sausage Toppings', 'Indian Curry Chicken Pizza', 'Spicy Kimchi Pork Pizza', 'Hawaiian Flavor Pizza', 'Margherita Pizza'], 2265: ['Low-carb diet', 'Meal prep', 'Fitness recipes', 'Lean protein', 'High protein', 'Quick and easy', 'Weight management', 'Convenient meals', 'Muscle building', 'Vegetable options'], 2266: ['Sashimi', 'Swordfish Sashimi', 'Salmon Sashimi', 'Black Skin Swordfish Sashimi', 'Yellowtail Sashimi', 'Thaw & Eat', 'Fresh Fish', 'Japanese Cuisine', 'Gourmet Food', 'Convenient Dining'], 2270: ['High Protein Chicken Breast', 'Fitness Meal Prep', 'Lean Muscle', 'Low Calorie Diet', 'Healthy Eating', 'Quick and Easy', 'Nutritious Chicken Breast', 'Muscle Building', 'Weight Loss Recipe', 'Tender Chicken Breast'], 2312: ['American beef', 'Beef chunks', 'Welfare beef', 'Beef cuts', 'Prime beef', 'Beef stew', 'Beef noodles', 'Beef dishes', 'Tender beef', 'Value beef'], 2477: ['Sweet Potato', 'Roasted Sweet Potato', 'Organic Farming', 'Low-carb Diet', 'Japan Sweet Potato', 'Weight Management', 'Detox Diet', 'No Pesticides', 'Resistant Starch', 'Fitness Meal Prep'], 2495: ['Healthy Eating', 'Meal Preparation', 'Fitness', 'Frozen Vegetables', 'Dietary Control', 'Corn Shoots', 'Convenience', 'Quick Meal', 'Quality Ingredients', 'I.Q.F Rapid Freezing'], 2570: ['American Beef', 'Ribeye Steak', 'Grilled Steak', 'Blue Ribbon Beef', 'Dry-Aged Beef', 'Grass-Fed Beef', 'New York Strip', 'Beef Recipes', 'Premium Cut', 'Special Sale Offer'], 2572: ['Crispy Pastry', 'Cheese', 'Breakfast', 'Snack', 'Heat and Eat', 'Red Bean', 'Sweet Potato', 'Chinese Snack', 'Crispy Crust', 'Yam'], 2574: ['Snack food', 'Breakfast item', 'Crispy pancakes', 'Chinese dim sum', 'Quick and easy meal', 'Savory pastries', 'Tarot fragrance', 'Healthy ingredients', 'Convenience food', 'Scallion pancakes'], 2576: ['Braised Pork', 'Taiwanese Cuisine', 'Taiwanese Meat Dish', 'Taiwanese Street Food', 'Pork Rice Bowl', 'Night Market Snack', 'Traditional Taiwanese Recipe', 'Premium Pork Meat', 'Local Favorite Dish', 'Authentic Taiwanese Flavor'], 2577: ['Lu Rou', 'Minced Pork', 'Taiwanese Cuisine', 'Braised Pork Rice', 'Night Market Snack', 'Pork Belly', 'Taiwanese Dish', 'Authentic Taiwanese', 'Famous Recipe', 'Meat Sauce'], 2678: ['Pork cutlet', 'Taiwanese pork', 'Meal prep', 'Easy cooking', 'Gourmet pork', 'Pork recipe', 'Bento meal', 'Heat and eat', 'BBQ pork', 'Pork slices'], 2679: ['Frozen Vegetables', 'Quick Meal Prep', 'Cucumber', 'Onion Strips', 'Bitter Melon', 'Shiitake Mushrooms', 'Convenient Cooking', 'Corn Kernels', 'Radish Cubes', 'Fitness Meals'], 2712: ['Taiwanese Chicken', 'Chicken Breast', 'Chicken Wings', 'Gourmet Chicken', 'Chicken Recipes', 'Meal Prep', 'Premium Poultry', 'Tender Chicken', 'Taiwanese Cuisine', 'Smoked Chicken'], 2782: ['Grilled Eel', 'Unagi', 'Japanese Eel', 'Eel Rice Bowl', 'Japanese Cuisine', 'Gourmet Japanese Food', 'Premium Eel Dish', 'Savory Sweet Eel Sauce', 'Taiwan Fresh Eel', 'Delicate and Smooth Texture'], 2799: ['Healthy Shrimp', 'Freshwater Shrimp', 'Taiwanese Shrimp', 'Non-toxic Shrimp', 'Shrimp Recipes', 'Hot Pot Seafood', 'Sustainable Shrimp Farming', 'Premium Shrimp', 'Delicious Shrimp Dishes', 'Safe Shrimp Harvesting'], 2803: ['Chicken Leg Recipe', 'Meal Prep', 'Roasted Chicken Leg', 'Country-style Salt and Pepper Chicken Leg', 'Delicious Chicken Leg', 'Spicy Chicken Leg', 'Convenience Meal', 'Chicken Thigh', 'Chicken Leg Dish', 'Flavorful Grilled Chicken Leg'], 2823: ['Japanese grilled fish', 'DHA supplement', 'Bento box main dish', 'Seafood recipe', 'Izakaya cuisine', 'Natural fish oil', 'Overnight-dried fish', 'Gourmet dried fish', 'Seafood delicacy', 'Yellowfin trevally'], 2832: ['Frozen Seafood Mix', 'Squid', 'Scallops', 'White Shrimp', 'Seafood Platter', 'Instant Seafood', 'Meal Prep', 'Seafood Recipe', 'Seafood Dish', 'Prepared Seafood'], 2840: ['Roast Goose Breast', 'Steamed Goose Leg', 'Gourmet Goose Selections', 'Sugarcane-infused Goose', 'Duck Meat Delicacies', 'Heat-and-Eat Meals', 'Premium White Roman Goose', 'Handcrafted Goose Products', 'Tender Goose Meat', 'Artisanal Poultry Selection'], 2851: ['Milk Tea Bun', 'Sweet Potato Filling', 'Limited Time Offer', 'Group Purchase', 'Steamed Bun', 'Snack Delight', 'Irresistible Treat', 'Soft and Fluffy', 'Unique Flavor Combination', 'Asian Dessert'], 2886: ['Dumplings', 'Pan-fried dumplings', 'Soup dumplings', 'Wonton', 'Bamboo shoot', 'Glutinous rice', 'Pork', 'Steamed bun', 'Fresh meat', 'Xiaoyuechuan'], 2887: ['Delicious Dumplings', 'Pork Filling', 'Steamed Dumplings', 'Pan-fried Dumplings', 'Pork Delights', 'Sweet Bamboo Shoots', 'Glutinous Rice', 'Stuffed Buns', 'Dim Sum Treats', 'Nourishing Broth'], 2903: ['Salt-Free Mackerel', 'Seafood Delight', 'Grilled Fish', 'Japanese Style Grilled Fish', 'Sashimi Grade', 'Low-Sodium', 'Healthy Eating', 'Omega-3 Rich', 'Meal Prep', 'Bento Main Dish'], 2907: ['USDA beef', 'Blue Ribbon steak', 'Tender shoulder steak', 'Grilled steak', 'Grass-fed beef', 'Prime rib', 'Beef recipes', 'Natural grazing', 'Wet-aged beef', 'Barbecue beef'], 2917: ['Non-fried noodles', 'Vegetable-based', 'Vegetarian noodles', 'Instant noodles', 'Natural ingredients', 'Wild vegetables', 'Soup noodles', 'Healthy instant food', 'Convenient meal', 'Quick and delicious'], 2918: ['Non-fried noodles', 'Vegetarian meal', 'Instant vegetable noodles', 'Instant meal', 'Noodles with vegetables', 'Healthy instant noodles', 'Convenient meal', 'Vegetarian noodles', 'Non-fried instant noodles', 'Quick veggie noodles'], 2947: ['Pork trotter', 'Taiwanese cuisine', 'Braised pork trotter', 'Secret recipe', 'Gourmet delight', 'Local delicacy', 'Appetizer', 'Taiwanese pork dish', 'Marinated pork', 'Popular dish'], 2955: ['Frozen Spinach', 'Healthy Eating', 'Meal Prep', 'Fitness', 'Quick Cooking', 'Convenience', 'Frozen Vegetables', 'Nutritious', 'Weight Management', 'Spinach'], 2988: ['Ready-to-eat', 'Chinese cuisine', 'Hot pot soup', 'Soup package', 'Beef soup', 'Gourmet soup', 'Easy meal', 'Low-fat beef', 'Signature dish', 'Warm and hearty'], 3021: ['Taiwanese Fresh Chicken', 'Smoked Chicken', 'Chicken Breast Selection', 'Chicken Wings Selection', 'Tender Juicy Chicken', 'No Gamey Taste', 'Traditional Smoking Method', 'Multipack Chicken Choices', 'Sugar Cane Chicken', 'Ready-to-Cook Chicken Meals'], 3039: ['Ready-to-Eat', 'Luan Beef Shank', 'Cooking Packet', 'Braised Beef', 'Gourmet Delight', 'Quick Meal', 'Tender Texture', 'Homemade Recipe', 'Savory Sweetness', 'Convenient Heat-and-Eat'], 3062: ['Smoked Chicken Slices', 'Breakfast Option', 'Ready to Heat', 'Chicken Recipe Ideas', 'Meal Prep', 'Chicken Thigh Meat', 'Gourmet Delicacy', 'Flavorful Smoked Chicken', 'Tender and Juicy', 'German Smoking Method'], 3227: ['Mixed Frozen Berries', 'Smoothie Ingredients', 'Berry Bowl', 'Freshly Frozen Berries', 'Quick Meal Prep', 'Berry Smoothie', 'Baking with Berries', 'Nutrient-Rich Fruit', 'Versatile Berries', 'Berry Juice'], 3232: ['Italian Pasta', 'Pesto Sauce', 'Red Sauce Pasta', 'Creamy White Sauce', 'Spicy Meat Sauce', 'Durum Wheat', 'Heat and Eat', 'Ready-to-Cook Pack', 'Authentic Italian', 'Convenient Meal'], 3233: ['Gourmet Italian Pasta', 'Convenience Pack', 'Delectable Sauces', 'Durum Wheat Pasta', 'Instant Heat and Eat', 'Variety of Sauces', 'Satisfying Portions', 'Italian Style', 'Quick Meal Solution', 'Flavorful Choices'], 3239: ['Nostalgic Taiwanese Cuisine', 'Tainan Traditional Delicacy', 'Pork Cartilage Noodles', 'Quick and Easy Meal', 'Taiwanese Pork', 'Hearty Broth', 'Authentic Taste', 'SGS Certified', 'Gourmet Noodles', 'Slow-cooked Flavor'], 3304: ['Seafood Chowder', 'Creamy Soup', 'Winter Comfort', 'Lobster', 'Squid', 'Pumpkin Soup', 'Soup Selection', 'Homemade Broth', 'Seafood Delight', 'Gourmet Chowders'], 3306: ['Seafood Chowder', 'Lobster Soup', 'Squid', 'Seafood Soup', 'Pumpkin Soup', 'Rich Broth', 'New Zealand Pumpkin', 'Creamy Texture', 'Shellfish', 'Chewing Sensation'], 3319: ['Grilled Fish', 'DHA Rich', 'Easy Meal Prep', 'Japanese Grilled Fish', 'Gourmet Fish Dish', 'Healthy Fish Recipe', 'Limited Sale', 'Bento Main', 'Sea Salt Marinated', 'Boneless Fish'], 3329: ['Golden Crispy Sweet Potato Fries', 'Air Fryer Snack', 'Homemade Snacks', 'Crispy Sweet Potatoes', 'Fiber-Rich', 'Handmade Delights', 'Snack Time', 'Crispy Treats', 'Taiwanese Delicacy', 'Healthy Snacking'], 3340: ['Summer Snack', 'Clam Dish', 'Appetizer', 'Traditional Chinese Medicine Ingredients', 'Refreshing Salad', 'Late-Night Snack', 'Small Plates', 'Wine Pairing', 'Fresh Clams', 'Tasty and Nutritious'], 3346: ['Taiwanese Caviar', 'Lunar New Year Snack', 'Gourmet Snack', 'Traditional Twist', 'Ready-to-Eat', 'Festive Treat', 'Premium Delicacy', 'Exotic Flavors', \"Taiwan's Best\", 'Convenient Indulgence'], 3362: ['Salmon Fillet', 'DHA Source', 'Meal Prep', 'High Protein', 'Fitness Fuel', 'Salmon Recipes', 'Healthy Meal', 'Muscle Building', 'Weight Management', 'Gourmet Fish'], 3366: ['Premium Seafood', 'King Crab Legs', 'Wild Caught Crab', 'Gourmet Delicacy', 'Crab Feast', 'Frozen Gourmet Crab', 'Japanese Delicacy', 'Succulent Crab Meat', 'Top-Quality Seafood', 'Exquisite Crab Variety'], 3367: ['Chilean King Crab Legs', 'Premium Seafood', 'King Crab', 'Antarctic King Crab', 'Crab Legs', 'Frozen King Crab', 'Gourmet Seafood', 'Delicacy from Chile', 'Pure Ocean Delicacy', 'Last Pristine Marine Reserve'], 3369: ['Shilu Fish Selection', 'Shilu Fish Delicacies', 'Taiwanese Shilu Fish', 'Shilu Fish Recipes', 'Hot Pot Ingredients', 'Handmade Fish Balls', 'Fresh Shilu Fish', 'Preservative-Free', 'Homemade Fish Ball Soup', 'Gourmet Fish Dishes'], 3373: ['Pork Belly Dish', 'Bento Meal', 'Meal Prep', 'Traditional Pork', 'Taiwanese Cuisine', 'Easy Heating', 'Smoked Pork Belly', 'Cooking Pork', 'Gourmet Meal', 'Flavorful Pork'], 3395: ['Vegetarian Noodles', 'Instant Noodles', 'Non-fried Noodles', 'Vegetable Noodles', 'Soup Noodles', 'Healthy Convenience', 'Quick Meal', 'Wild Vegetables', 'Noodle Bowl', 'Ready-to-Eat'], 3400: ['Salmon Sashimi', 'High Protein Meal', 'Salmon Recipes', 'Meal Prep', 'Fitness Diet', 'Bodybuilding Nutrition', 'Omega-3 Source', 'Lunch Box Idea', 'Fresh Seafood', 'Muscle Building'], 3409: ['Prime Ribeye', 'American Beef', 'Australian Beef', 'Short Rib', 'Thick Cut', 'Sirloin', 'Juicy', 'Marbling', 'Premium Quality', 'Gourmet Beef'], 3427: ['Gourmet Squid Snacks', 'Healthy Snack Options', 'Artisanal Squid Chips', 'Preservative-free Treats', 'Unique Seafood Snacks', 'Premium Baked Squid', 'Exquisite Snack Gift Box', 'Crunchy Calamari Bites', 'Group Purchase Discounts', 'Antibiotic-free Delights'], 3431: ['Boneless Seasoned Chicken Thighs', 'Chicken Thigh Recipes', 'Meal Prep', 'Lunchbox Main', 'Seasoned Chicken Thigh Cutlets', 'Taiwanese Chicken Thighs', 'Easy Cooking', 'Delicious Chicken Thighs', 'Convenient Meals', 'Juicy Chicken Thighs'], 3489: ['Squid rings', 'Seafood delicacy', 'Argentinian calamari', 'Gourmet seafood', 'Quick-frozen squid', 'Seafood recipes', 'Calamari soup', 'Tender texture', 'Cooking calamari', 'Authentic flavors'], 3521: ['Lean Protein', 'Fitness Recipe', 'Meal Prep', 'Low Calorie', 'High Protein', 'Muscle Building', 'Ready-to-Eat', 'Healthy Eating', 'Chicken Breast', 'Fitness Food'], 3522: ['Low Carb Diet', 'High Protein', 'Fitness Recipes', 'Meal Prep', 'Chicken Breast', 'Lean Muscle', 'Ready-to-Eat', 'Health Conscious', 'Quick Meal', 'Salad Option'], 3523: ['European Imported Frozen Vegetables', 'Quick Meal Prep', 'High-Quality Frozen Vegetables', 'Convenient Frozen Veggies', 'Broccoli', 'Cauliflower', 'Carrots', 'Sweet Peas', 'Green Beans', 'Red Bell Pepper'], 3524: ['Flash Frozen Vegetables', 'Quick Meal Preparation', 'Sweet Peas and Carrots', 'Broccoli and Cauliflower', 'Red Bell Peppers', 'Nutrient-Rich Vegetables', 'Kid-friendly Lunch Ingredients', 'Fitness Meal Prep', 'Convenient Cooking', 'Mixed Vegetable Pack'], 3525: ['Frozen Vegetables', 'Meal Prep', 'Quick Meal', 'Fresh Frozen Vegetables', 'Broccoli', 'Green Beans', 'Spinach', 'Convenient', 'Mixed Vegetables', 'Potatoes'], 3530: ['High Protein Chicken Breast', 'Fitness Recipe', 'Low Calorie Meal', 'Muscle Building', 'Ready-to-Eat', 'Lean Chicken Breast', 'Quality Protein', 'Meal Prep', 'Healthier Eating', 'Tender Chicken Breast'], 3532: ['Sweet Potato Delights', 'Roasted Sweet Potato', 'Healthy Snacking', 'Organic Farming', 'Low Carb Diet', 'Fitness Recipes', 'Detox Meal', 'Japanese Sweet Potato', 'Weight Management', 'Nutrient-rich Choices'], 3534: ['Low-calorie diet', 'High protein', 'Fitness recipes', 'Meal prep', 'Quinoa', 'Muscle gain', 'Weight loss', 'Ready-to-eat', 'Lean chicken breast', 'Superfoods'], 3536: ['Organic Vegetables', 'Salad Box', 'Weight Loss', 'Health Food', 'Low Carb', 'Meal Prep', 'Fresh Greens', 'Detox', 'Healthy Eating', 'Fitness Journey'], 3537: ['Frozen Cauliflower Rice', 'Low-Calorie Meal', 'Healthy Eating', 'Fitness Recipe', 'Meal Prep', 'Weight Loss', 'Onion', 'Sweet Corn', 'Edamame', 'Quinoa'], 3538: ['Low Sodium Saba Fish', 'Fresh Seafood', 'Japanese Grilled Fish', 'Healthy Eating', 'Salt Control', 'DHA Supplement', 'Ready-to-Eat Meals', 'Sashimi-grade Fish', 'Salt-free Saba', 'Southern Au Specialties'], 3539: ['Japanese BBQ Pork Slices', 'Marinated Pork', 'Quick Meal Options', 'Fresh Meat', 'Japanese Cuisine', 'BBQ Ready', 'Convenience Food', 'Gourmet Delight', 'Online Grocery', 'Premium Quality Pork'], 3540: ['Microwavable Quinoa Rice', 'Healthy Fitness Meal', 'Convenient Ready-to-Eat', 'Low-Carb Quinoa Option', 'Online Grocery', 'Fresh Grain Blend', 'Fitness Nutrition', 'Time-Saving Meal', 'Group Buying', 'Quick Meal Prep'], 3542: ['Seafood Chowder', 'Creamy Soup', 'Winter Delight', 'Lobster Bisque', 'Pumpkin Soup', 'Homestyle Cooking', 'Rich Broth', 'Gourmet Treat', 'Comfort Food', 'Soup Selection'], 3543: ['Wild Vegetables', 'Instant Noodles', 'Vegetarian Noodles', 'Non-Fried Noodles', 'Vegetable Noodles', 'Convenience Food', 'Soup Noodles', 'Healthy Eating', 'Quick Meal', 'Nourishing Ingredients'], 3545: ['Thin Dumpling Wrappers', 'Non-GMO Soybeans', 'High Protein', 'Low Carb', 'Fitness', 'Meal Prep', 'Handmade', 'Juicy Fillings', 'Easy to Cook', 'Delicious Flavor'], 3546: ['i3fresh', 'Fresh Salmon', 'Chilean Salmon', 'Online Shopping', 'Gourmet Seafood', 'Premium Quality', 'Frozen Salmon', 'Health Benefits', 'Home Delivery', 'Seafood Delicacy'], 3547: ['Cauliflower', 'White cauliflower rice', 'Low-calorie diet', 'Health food', 'Weight management', 'Fitness recipes', 'Meal prep', 'Healthy eating', 'Cauliflower rice', 'Dietary control'], 3549: ['USDA Beef', 'Angus Beef', 'Prime Ribeye', 'Tender Shoulder Beef', 'Premium Beef Cuts', 'Grilled Meat', 'Boneless Beef Ribs', 'Blue Ribbon Steak', 'Grass-Fed Beef', 'Beef Recipes'], 3551: ['Pearl guava', 'Local produce', 'Taiwanese fruit', 'Xizhou guava', 'Fresh and crispy', 'Low GI', 'Nutrient-rich', 'Healthy snack', 'Sweet aroma', 'Ideal for diets'], 3568: ['Italian Pasta Selection', 'Pesto Sauce', 'Tomato Sauce', 'Creamy White Sauce', 'Spicy Meat Sauce', 'Durum Wheat', 'Heat-and-Eat', 'Meal Kit', 'Authentic Italian', 'Gourmet Pasta Options'], 3650: ['Premium New Zealand Beef', 'Knuckle Cut', 'Steak Recipes', 'Grilling', 'Pan-Seared Steak', 'Grass-Fed Beef', 'Roast Beef', 'Gourmet Meat', 'Cooking Ingredients', 'Braising Beef'], 3663: ['21oz Presidential Steak', 'Prime Grade Beef', 'Thick Cut Steak', 'Marble Texture Beef', 'Wet-aged Steak', 'Juicy Tender Steak', 'BBQ and Grill Ready', 'Frosted Flank Steak', 'Gourmet Meat Cut', 'Natural Pasture Raised Beef'], 3680: ['Appetizers', 'Small bites', 'Chicken gizzards', 'Chicken liver', 'Chicken hearts', 'Chicken feet', 'Phoenix claws', 'Snacks', 'Braised flavors', 'TV snacks'], 3728: ['Taiwanese pork', 'Traditional flavor', 'Pork belly recipe', 'Gourmet pork', 'Easy meal prep', 'Authentic taste', 'Ready-to-eat', 'Taiwanese cuisine', 'Pork dish', 'Flavorful pork'], 3794: ['Gourmet Street Food', 'Traditional Taiwanese Snack', 'Breakfast Delicacy', 'Crispy Pan-Fried Buns', 'Night Market Favorite', 'Authentic Taiwanese Cuisine', 'Quick and Easy to Prepare', 'Savory Dim Sum', 'Crispy Outer Shell', 'Juicy Filling'], 3798: ['Weight Loss', 'Low Carb', 'Health Meal', 'Microwaveable', 'Meal Prep', 'Fitness', 'Healthy Eating', 'Low Calorie', 'Light Snack', 'Dietary Control'], 3812: ['USDA Angus Beef', 'Ribeye Steak', 'Grilling Recipes', 'Bone-In Beef', 'Blue Ribbon Steak', 'Tender Shoulder Beef', 'Wet-Aged Beef', 'Natural Grazing', 'Barbecue Cuts', 'Premium Angus Beef'], 3818: ['Sweet dessert', 'Chinese dessert', 'Silver ear fungus', 'Nutritious dessert', 'Healthy dessert', 'Silver ear soup', 'White fungus soup', 'Refreshing dessert', 'Fruit infused dessert', 'Ready-to-eat'], 3819: ['Pork Ribs', 'Bento Box', 'Traditional Pork Chop', 'Taiwanese Cuisine', 'Flavored Pork Cutlet', 'Pork Recipe', 'Meal Prep', 'Taiwanese Pork Chops', 'Gourmet Pork', 'Classic Ribs'], 3820: ['Pork Chops', 'Bento Box', 'Traditional Taste', 'Taiwanese Pork', 'Meal Prep', 'Pork Recipes', 'Pork Cutlets', 'Tender Pork', 'Taiwanese Cuisine', 'Flavorful Pork'], 3839: ['Mackerel', 'Low-salt mackerel', 'Seafood', 'Japanese grilled fish', 'Fish recipe', 'DHA', 'Natural fish oil', 'Meal preparation', 'Bento main dish', 'Bento recipe'], 3843: ['Taiwanese Street Food', 'Nourishing Soup', 'Four Treasures Soup', 'Pork Intestine', 'Traditional Chinese Soup', 'Night Market Delights', 'Herbal Soup', 'Four Divine Ingredients', 'Rejuvenating Broth', 'Comforting Nourishment'], 3864: ['Wild Fish Fillet', 'Fish Meat Recipes', 'Meal Prep', 'Premium Meat and Fish', 'Fresh Frozen Seafood', 'Gourmet Fish Dishes', 'Sashimi-grade Fish', 'High-quality Seafood', 'Wild-Caught Fish', 'Sustainable Fishing Practices'], 3883: ['Iberico Pork', 'Spanish Pork', 'Premium Pork', 'Grilled Meat', 'Pork Recipes', 'Gourmet Pork', 'Quick Meals', 'Meal Prep', 'Succulent Pork', 'Oak-Flavored Pork'], 3901: ['Healthy Eating', 'Low Calorie', 'Fitness Recipe', 'Meal Prep', 'High Protein', 'Muscle Building', 'Weight Loss', 'Quinoa', 'Chickpeas', 'Salad Option'], 3915: ['Mango Sorbet', 'Summer Treat', 'Artisanal Dessert', 'Chilled Delight', 'Natural Ingredients', 'Refreshing Flavor', 'Traditional Recipe', 'Seasonal Fruit', 'Sweet and Tangy', 'Gourmet Ice Cream'], 3932: ['Akaushi Beef', 'Marbling', 'American Wagyu', 'BBQ meat slices', 'Beef slices', 'Premium beef', 'Natural beef', 'Grilled meat slices', 'Hotpot meat slices', 'Grain-fed beef'], 3943: ['Poison-free shrimp', 'Safe-to-eat shrimp', 'Pesticide-free shrimp', 'White shrimp meat', 'Non-inflated shrimp', 'Certified purity', 'No chemical treatment', 'Secure shrimp', 'Freshwater prawns', 'Chemical-free seafood'], 3972: ['Snack Gift Box', 'Crispy Shrimp', 'Group Buy', 'Healthy Snack', 'Antibiotic-Free', 'Biscuits', 'Crispy Squid', 'Gourmet Seafood', 'No Additives', 'Unique Vacuum Fry'], 3976: ['Marinated Clams', 'Spicy Flavor', 'Appetizers', 'Taiwanese Delicacy', 'Fresh Clams', 'Gourmet Delights', 'Pickled Seafood', 'Tasty Side Dish', 'Tantalizing Snack', 'Authentic Taste'], 4001: ['Spicy Peeling Chili Fish Balls', 'Handmade Fish Balls', 'Fresh Shilim Fish', 'Hot Pot Ingredients', 'Spicy Pepper Flavor', 'Authentic Taiwan Fish Balls', 'No Toxic Fish Balls', 'Preservative-Free Balls', 'Peeling Chili Fusion', 'Gourmet Fish Ball Soup'], 4026: ['Iberico pork', 'BBQ meat', 'Spanish pork', 'Meal prep', 'Grilled meat', 'Pork recipes', 'Premium meat', 'Gourmet food', 'Tender pork', 'Flavorful meat'], 4031: ['Prime Grade Steak', 'Air Fryer Recipes', 'Convenience Meals', 'Lean Protein', \"President's Choice Steak\", 'Norwegian Sashimi', 'Fitness Meal Prep', 'Gourmet Beef Cuts', 'Healthy Snacking', 'Seafood Delights'], 4036: ['Japanese Black Clams', 'Seafood Delicacy', 'Shellfish Soup', 'Clam Chowder', 'Health Benefits', 'Shellfish Delight', 'Rare and Precious', 'Energizing', 'Nutrient-rich', 'Easy Cooking'], 4043: ['Chicken thigh chunks', 'Meal prep', 'Chicken recipes', 'Value pack', 'Welfare chicken meat', 'Juicy chicken thigh', 'Convenience cooking', 'Budget-friendly option', 'Versatile ingredient', 'Nutritious protein choice'], 4045: ['High Protein', 'Meal Prep', 'Low Calorie', 'Fitness Recipe', 'Lean Muscle', 'Ready-to-Eat', 'Chicken Breast', 'Nutritious', 'Convenient', 'Low Carb'], 4047: ['Low Carb Diet', 'Fitness Meal', 'High Protein', 'Meal Prep', 'Lean Chicken Breast', 'Weight Management', 'Quick and Easy', 'Muscle Building', 'Healthy Eating', 'Frozen Vegetables'], 4054: ['Japanese A5 Wagyu', 'Hotpot Meat Slices', 'Grilled Beef', 'Marbling', 'Wagyu Beef', 'BBQ Meat Slices', 'Premium Beef Cuts', 'Snowflake Wagyu', 'Wagyu Hotpot', 'Natural Beef'], 4055: ['A5 Wagyu beef', 'Hot pot beef slices', 'Premium beef selection', 'Japanese Wagyu', 'Australian Wagyu', 'Grilled beef slices', 'Marble pattern beef', 'Natural beef', 'Wagyu hot pot', 'Wagyu gift set'], 4056: ['A5 Wagyu', 'Japanese Wagyu', 'Hot Pot Beef Slices', 'Premium Beef Selection', 'Marbled Beef', 'Barbecue Beef', 'Wagyu Assortment', 'Wagyu Hot Pot', 'Fine Dining Beef', 'Gourmet Beef Selection'], 4059: ['Chicken Leg Meat', 'Meal Prep', 'Bone-In Chicken', 'Chicken Thigh Chunks', 'Quality Chicken', 'Chicken Recipe', 'Frozen Chicken', 'Bone-In Thigh', 'Nutritious Chicken', 'Chicken Soup'], 4060: ['Durian ice cream', 'Malaysian fruit', 'Premium fruit', 'Musang King durian', 'Fruit ice cream', 'Exotic fruit', 'Durian dessert', 'Authentic Malaysian', 'King of fruits', 'Gourmet treat'], 4070: ['Seafood', 'Wild Cuttlefish', 'Seafood Recipe', 'Frozen Cuttlefish', 'Cooking Seafood', 'Taiwanese Cuttlefish', 'Sashimi Grade', 'Fresh Frozen', 'Meal Preparation', 'Squid'], 4075: ['Gourmet Chicken Rolls', 'Taiwanese Chicken Dish', 'Juicy Chicken Rolls', 'Oven-baked Delicacy', 'Night Market Delight', 'Delectable Meat Rolls', 'Signature Chef Recipe', 'Crispy Chicken Wrap', 'Succulent Chicken Dish', 'Premium Quality Chicken'], 4083: ['Durian Ice Cream', 'Fruit Dessert', 'Premium Fruit', 'Malaysian Durian', 'Cat Mountain King Durian', 'Gourmet Ice Cream', 'Fruit Pastry', 'Exotic Fruits', 'Durian Delight', 'Luxury Treat'], 4092: ['Seafood', 'Scallop', 'Gourmet', 'Meal prep', 'Grilling', 'Jumbo scallop', 'Frozen food', 'Recipe', 'Fine dining', 'Premium seafood'], 4102: ['Taiwanese Turnip Cake', 'Chinese Cuisine', 'Heat-and-Eat', 'Dim Sum', 'Vegetarian', 'Authentic Taste', 'Hong Kong Style', 'Air Fryer Recipes', 'Breakfast Option', 'Late-Night Snack'], 4103: ['Grass-fed Beef Tongue', 'Beef Recipes', 'Meal Prep', 'New Zealand Beef', 'Hot Pot', 'Sliced Meat', 'Beef Tongue Dish', 'Grass-fed Beef', 'Marinated Beef', 'Tender Texture'], 4125: ['Pork Recipes', 'Japanese Cuisine', 'Meal Prep', 'Ready to Heat', 'Marinated Meat', 'Pork Slices', 'Gourmet Pork', 'Authentic Flavor', 'Taiwanese Pork', 'Succulent Meat'], 4139: ['Low Calorie Meal', 'High Protein Diet', 'Fitness Meal Prep', 'Lean Muscle Building', 'Quick & Easy Food', 'Healthy Eating', 'Protein-Rich Chicken', 'Ready-to-Eat', 'Gym Meal', 'Nutritious Options'], 4140: ['Ready-to-eat', 'Grilled Chicken Wings', 'Marinated Chicken', 'Finger-Licking Good', 'Variety Pack', 'Easy Preparation', 'Grilled Meat', 'Chicken Drumsticks', 'Party Food', 'Frozen Delights'], 4141: ['Taiwanese Street Food', 'Chicken Rice Wrap', 'Taiwanese Cuisine', 'Night Market Snack', 'Golden Chicken Rice Wrap', 'Taiwanese Specialty', 'Green Curry Flavor', 'Handcrafted Rice Packet', 'Frozen Meal Option', 'Boneless Chicken Delight'], 4144: ['High Protein', 'Low Carb', 'Weight Loss', 'Meal Prep', 'Healthy Eating', 'Calorie Deficit', 'Microwaveable', 'Fitness', 'Diet Control', 'Light Meal'], 4180: ['Barramundi Fish Fillet', 'Fresh Fish Recipe', 'Healthy Meal Prep', 'Gourmet Fish Dish', 'Premium Barramundi', 'Boneless Fish Fillet', 'Bento Box Staple', 'Vietnamese Barramundi', 'No Additives Fish', 'High-Quality Seafood'], 4181: ['Fried Mushrooms', 'Snack', 'Party Food', 'Crispy Snack', 'Air Fryer Recipe', 'Garlic Salt', 'Late Night Snack', 'Finger Food', 'Crispy Chicken Nuggets', 'Taiwanese Snack'], 4183: ['Wild Pacific Saury', 'Frozen Fresh Fish', 'Sashimi Grade', 'Easy Cooking Fish', 'Grilled Fish', 'Lunch Meal Prep', 'Ocean Catch', 'Fish Recipes', 'Bento Box Staple', 'Nutrient-Rich'], 4194: ['Cheese Pull-Apart Pancake', 'Breakfast Snack', 'Chinese Pastry', 'Scallion Cheese Pancake', 'Savory Breakfast', 'Gourmet Delight', 'Warm Cheese Treat', 'Flavorsome Snack', 'Scrumptious Bites', 'Authentic Flavors'], 4196: ['Sugarcane Chicken', 'Chicken Breast', 'Chicken Wings', 'Chicken Recipe', 'Meal Prep', 'Oil Scallion Chicken', 'Smoked Sugarcane Chicken', 'QQ Chicken Meat', 'Fresh Tender Chicken', 'Popular Oil Scallion Chicken'], 4213: ['Health supplement', 'Pineapple enzyme', 'Probiotic jelly', 'Weight management', 'Artisanal produce', 'Digestive health', 'Convenient snack', 'Taiwanese agriculture', 'Enzyme nutrition', 'Ready-to-eat'], 4214: ['Organic fish soup', 'Chicken essence', 'EU certified', 'Nutritious broth', 'Local delicacy', 'Sustainable farming', 'Health booster', 'Herbal infusion', 'Taiwanese cuisine', 'Eco-friendly harvesting'], 4216: ['Dry-aged king mackerel fillet', 'Sustainable fish', 'EU certified', 'Natural aging process', 'High Omega-3 content', 'Gourmet fish cuts', 'Non-toxic seafood', 'High-quality seafood', 'Lean fish meat', 'Culinary inspiration'], 4227: ['Australian Wagyu', 'Chocolate-infused beef', 'Grilling recipes', 'Marbled Wagyu', 'Prime rib', 'Beef shoulder', 'Gourmet steaks', 'Wagyu delicacy', 'Beef marbling', 'Premium cuts'], 4230: ['Taiwanese cuisine', 'Appetizers', 'Marinated pig ears', 'Snack food', 'Small dishes', 'Pork delicacy', 'Crispy texture', 'Gourmet food', 'Pork delicacy', 'Flavorful appetizers'], 4231: ['Edamame', 'High Protein', 'Healthy Eating', 'Black Pepper Edamame', 'Fitness', 'Meal Prep', 'Nutritious Snack', 'Appetizer', 'Health Food', 'Dietary Control'], 4232: ['American Beef Slices', 'Pork Recipes', 'Hot Pot Beef', 'Grilling Meat Selection', 'Premium Beef Cuts', 'Pork Cooking Ideas', 'Tender Beef Slices', 'Meat Preparation Tips', 'BBQ Meat Slices', 'Gourmet Beef Selection'], 4255: ['Hot Pot Base', 'Sichuan Spicy Hot Pot', 'Sichuan Mala Hot Pot', 'Northeast Sour Cabbage Hot Pot', 'Ready-to-Eat Hot Pot', 'Flavorful Broth', 'Spicy Broth', 'Authentic Hot Pot', 'Spicy and Aromatic', 'Easy Preparation'], 4261: ['A5 Wagyu', 'Wagyu Burgers', 'Japanese Beef', 'Gourmet Burgers', 'Premium Meat', 'Juicy Patties', 'Hand-Cut Steaks', 'Artisanal Beef', 'Marbled Meat', 'Exquisite Cuisine'], 4267: ['Mushroom Pumpkin Congee', 'Seafood Medley Congee', 'Spinach Porcini Mushroom Congee', 'Comforting Rice Porridge', 'Vegan Congee', 'Ready-to-Eat Meal', 'Wholesome Ingredients', 'Nutritious Rice Porridge', 'Convenience Food', 'Vegetarian Option'], 4293: ['Three-Cup Chicken', 'Taiwanese Drunken Chicken', 'Chef Wu Bingcheng', 'Easy to Prepare', 'Ready to Heat', \"Chef's Special\", 'Gourmet Convenience', 'Home Cooked', 'Instant Meal', 'Authentic Flavor'], 4302: ['Taro Pearls', 'Sweet Potato Pearls', 'Chewy Tapioca', 'Taiwanese Dessert Soup', 'Warm Sweet Soup', 'Signature Taro Balls', 'Sweet Yam Pearls', 'Heart-Warming Dessert', 'Taro Dessert Option', 'Cold or Hot Selection'], 4322: ['Frozen Passion fruit Juice', '100% Fruit Juice', 'Pure Passion fruit Juice', 'Natural Fruit Juice', 'Freshly Harvested Passion fruit', 'Juice with Passion fruit Pulp', 'Frozen Fresh Juice', 'Exotic Fruit Juice', 'Versatile Fruit Juice', 'Delicious Nectar'], 4345: ['Instant Chicken Soups', 'Medicinal Herbal Soups', 'Gourmet Chicken Broths', 'Nutritious Soup Selection', 'Heat-and-Eat Packs', 'Premium Soup Bundle', 'Traditional Bone Broths', 'Quick Meal Solutions', 'Healthful Soup Varieties', 'Revitalizing Chicken Recipes'], 4356: ['Abalone snack', 'Spicy abalone', 'Gourmet abalone', 'Seafood delicacy', 'Flavorful abalone', 'Premium pickled abalone', 'Snack selection', 'Exotic snack', 'Gourmet treat', 'Spicy delicacy'], 4413: ['Fried Squid Snack', 'Party Snack', 'Air Fryer Recipe', 'Late-Night Snack', 'Taiwanese Fried Food', 'Crispy Squid', 'Salt and Pepper Flavor', 'Seafood Snack', 'Crispy Chicken', 'Delicious Squid Bites'], 4422: ['Italian Style', 'Risotto', 'Creamy White Sauce', 'Tomato Meat Sauce', 'Pesto Chicken with Pine Nuts', 'Mexican Spicy Meat Sauce', 'Ready to Heat', 'Condiment Pack', 'Gourmet Rice', 'Flavorful Sauces'], 4473: ['Hotpot base', 'Vegetarian broth', 'Meatless hotpot', 'Spicy tofu base', 'Vegan soup', 'Meat substitute', 'Cooking kit', 'Tofu beef', 'Meat-free broth', 'Spicy flavor'], 4475: ['Instant-Ready Soup', 'Nutritious Chicken Soup', 'Herbal Infused Broth', 'Gourmet Soup Selection', 'Easy-Heat Meal', 'Premium Chicken Broth', 'Healthful Ingredients', 'Traditional Bone Broth', 'Flavorful Soup Options', 'Nourishing Soups'], 4478: ['Konjac Noodles', 'Low-Calorie', 'Refreshing Drink', 'Summer Coolers', 'Winter Melon', 'Plum Flavor', 'Vegetarian', 'Pumpkin', 'Appetite Suppressant', 'High Fiber'], 4479: ['Instant Soup', 'Nourishing Chicken Soup', 'Herbal Broth', 'Heat and Eat', 'Soup Pack', 'Premium Chicken Soup', 'Ginseng Red Date Chicken Soup', 'Bone Nourishing Soup', 'Healthful Chicken Soup', 'Traditional Broth'], 4489: ['Broth', 'Ready-to-cook', 'Pork ribs', 'Authentic Taiwanese', 'Long-simmered', 'Dragon Mountain Temple', 'Fresh ingredients', 'Soup delicacy', 'Queue-worthy', 'Tasty simplicity'], 4517: ['Pork Recipes', 'Unique Flavors', 'Chinese Cuisine', 'Meal Prep', 'Braised Pork Knuckle', 'Traditional Cooking', 'Gourmet Cooking', 'Delicious Marinade', 'Tender Meat', 'Slow-Cooked Delight'], 4518: ['Taiwanese Taro Stew Rice Noodle Soup', 'Authentic Taiwanese Cuisine', 'Taro Root Delicacy', 'Festive New Year Dish', \"Wu Bingcheng's Signature\", 'Taro Rice Noodles', 'Flavorful Soup', 'Lunar New Year Pre-order', 'Soft and Dense Taro Texture', 'Traditional Taiwanese Flavor'], 4526: ['Fresh Frozen Seafood', 'Salmon Fillet', 'Chilean Sea Bass', 'Cod Fillet', 'Seafood Selection', 'Gourmet Fish', 'High-Quality Frozen Fish', 'Popular Seafood Combo', 'Premium Seafood Ingredients', 'Quick Frozen for Freshness'], 4536: ['Healthy Eating', 'Meal Control', 'Fitness', 'Meal Prep', 'Low-Carb', 'Japanese Style Chicken Breast', 'Frozen Cauliflower', 'Quinoa Edamame', 'Healthy Cooking', 'Convenience'], 4538: ['BBQ essentials', 'Meat variety pack', 'Premium meat selection', 'Grilling favorites', 'Japanese barbecue meats', 'No-beef assortment', 'Gourmet meat bundle', 'Pork and chicken delights', 'Culinary delicacies', 'Value meat pack'], 4540: ['New Zealand Beef', 'Chicken Recipe', 'Beef Fillet', 'Meal Prep', 'Bone-in Chicken Thighs', 'Grass-fed Beef', 'Beef Cubes', 'Chicken Thighs', 'Cooking with Chicken', 'Beef Tenderloin'], 4545: ['Premium Beef Selection', 'Fillet Steak Cubes', 'Ribeye Steaks', 'Wagyu Sirloin', 'Presidential Cut Ribeye', 'Angus Wing Rib Steaks', 'Tender Shoulder Beef', 'Succulent Beef Cuts', 'Cube Beef', 'Economic Beef Bundle'], 4554: ['Marinated Clams', 'Spicy Clams', 'Taiwanese Delicacy', 'Appetizer Dish', 'Fresh Clams', 'Hot and Spicy Sauce', 'Tainan Specialty', 'Savory Marination', 'Tasty Seafood', 'Gourmet Small Plates'], 4558: ['Thai cuisine', 'Handmade moon shrimp cake', 'Ready-to-eat', 'Golden handmade moon shrimp cake', 'Shrimp cake', 'Handmade shrimp cake', 'Golden moon shrimp cake', 'Shrimp', 'Fresh ingredients', 'Q-elastic squid chunks'], 4580: ['Taiwan Fruit', 'Direct From Origin', 'Guava', 'Premium Quality', 'XiZhou Emperor Guava', 'Black Alluvial Soil', 'Crispy and Sweet', 'Fragrant Aroma', 'Natural Nutrients', 'Loved by Consumers'], 4589: ['Seafood delicacy', 'Japanese gourmet', 'Health and wellness', 'Nutrient-rich', 'Black clam', 'Premium quality', 'Immune boosting', 'Gastronomic delight', 'Quick and easy cooking', 'Culinary convenience'], 4591: ['HealthBoost', 'TraditionalFlavors', 'JapaneseDelicacy', 'ArtisanalPreservation', 'GourmetSeafood', 'ImmuneSupport', 'AppetizerChoice', 'CulinaryDelight', 'SeasonalFavorite', 'ExquisiteTaste'], 4593: ['Black Clam Extract', 'Japanese Black Clam', 'Natural Fermentation', 'Health Tonic', 'Traditional Japanese Ingredient', 'Nourishing Elixir', 'Umami Flavor', 'Handcrafted Soy Sauce', 'Premium Seafood', 'Herbal Supplement'], 4594: ['Black Clam Essence', 'Health Supplement', 'Japanese Delicacy', 'Traditional Remedy', 'Nutrient Concentrate', 'Premium Seafood', 'Natural Ingredients', 'Wellness Gift', 'Immune Boost', 'Energy Tonic'], 4628: ['Dumplings', 'Kimchi dumplings', 'Ready-to-eat dumplings', 'High-quality ingredients', 'Handmade dumplings', 'Pork and vegetable dumplings', 'Steamed dumplings', 'Pan-fried dumplings', 'Premium dumplings', 'Savory broth-infused'], 4631: ['Dumplings', 'Pork and chive dumplings', 'Freshly made dumplings', 'Convenient ready-to-eat', 'Pan-fried dumplings', 'Handmade', 'Juicy filling', 'Pork dumplings', 'Authentic flavors', 'Gourmet dumplings'], 4634: ['Kimchi Dumplings', 'Korean Style', 'Gyoza', 'Ready-to-Eat', 'Tangy Dumplings', 'Spicy Kimchi', 'Pork Dumplings', 'Juicy Fillings', 'Fermented Kimchi', 'Fish Sauce Flavor'], 4635: ['Spicy Chili Dumplings', 'Handmade Fresh Pork Dumplings', 'Quick and Easy to Prepare', 'Gourmet Pork and Chili Dumplings', 'Exquisite Gyoza Selection', 'Premium Ingredients', 'Thin and Juicy Dumpling Skins', 'Artisanal Dumpling Making', 'Authentic Flavor Fusion', 'Savory Hot Chili Dumplings'], 4636: ['Corn Filled Dumplings', 'Gourmet Pork Dumplings', 'Quick Heat-and-Eat', 'Taiwanese Dumplings', 'Corn Dumplings', 'Dumplings with Sweet Corn', 'Premium Dumpling Skins', 'Vegetable Pork Dumplings', 'Juicy Soup Dumplings', 'Unique Taiwanese Dumplings'], 4648: ['Prime beef', 'Ribeye steak', 'Grilling', 'Beef recipes', 'Prime cut', 'Marbling', 'American beef', 'BBQ', 'Steak cooking', 'Juicy beef'], 4649: ['Taiwanese Freshly Harvested Water Peaches', 'Tropical Ground Peaches', 'Juicy and Sweet Fruit', \"Taiwan's Grown Water Peaches\", 'Limited-Time Offer', 'Sweet and Flavorful', 'Juicy Fruit', 'Group Purchase', 'Aromatic Fruit', 'Sweet and Juicy Peaches'], 4650: ['Taiwan Water Honey Peach', 'Fresh Tropical Fruit', 'Juicy and Sweet', 'Limited Time Offer', 'Group Purchase', 'Flavorful Peach', 'Juicy Fruit', 'Taiwan Peaches', 'Online Shopping Deal', 'Sweet and Fragrant'], 4651: ['Taiwanese peaches', 'Sweet and juicy', 'Tropical peaches', 'Limited-time offer', 'Freshly picked', 'Succulent fruit', 'Group buy', 'Juicy peaches', 'Flavorful peaches', 'Irresistible taste'], 4652: ['Hotpot beef slices', 'BBQ beef slices', 'Wagyu beef', 'Marble beef', 'Grilled beef slices', 'Premium beef', 'Australian Wagyu', 'Snowflake beef slices', 'Grilled meat', 'Gourmet beef'], 4670: ['Gourmet Instant Noodles', 'Premium Udon Noodles', 'Authentic Ramen', 'Frozen Ready-to-Eat Noodles', 'Fine Oolong Noodles', 'High-Quality Ingredients', 'Original Flavor Noodles', 'Convenient Meal Option', \"Noodle Lover's Delight\", 'Artisanal Noodle Selection'], 4675: ['Freshly Harvested Lala Mountain Peaches', 'Group Purchase', 'Limited Time Deal', 'Sweet and Juicy Peaches', 'Local Sourced', 'Summer Delicacy', 'Aromatic Flavor', 'Premium Quality Peaches', 'Direct From Farm', 'Home Delivery'], 4705: ['Snack', 'Appetizer', 'Smoked', 'Spicy', 'Boneless', 'Sichuan flavor', 'Ready-to-eat', 'Gelatinous texture', 'Social gathering', 'TV companion']}\n"
     ]
    }
   ],
   "source": [
    "import final\n",
    "print(final.data.product_tags_v5_en())"
   ]
  },
  {
   "cell_type": "code",
   "execution_count": 8,
   "metadata": {},
   "outputs": [],
   "source": [
    "import json\n",
    "import os\n",
    "assert set(single_inference_results) == set(final.AVAILABLE_PRODUCT_IDS)\n",
    "log_dir = 'results/ckpt-14-2'\n",
    "os.makedirs(log_dir, exist_ok=True)\n",
    "with open(os.path.join(log_dir, 'generation_config.json'), 'w', encoding='utf8') as fout:\n",
    "    json.dump(generation_config.to_dict(), fout, indent=4)\n",
    "with open(os.path.join(log_dir, 'raw_predict.json'), 'w', encoding='utf8') as fout:\n",
    "    json.dump(single_inference_results, fout, ensure_ascii=False)\n",
    "# single_inference_results"
   ]
  },
  {
   "cell_type": "code",
   "execution_count": null,
   "metadata": {},
   "outputs": [],
   "source": [
    "\"\"\"Parse the results here\"\"\"\n",
    "\n",
    "enhanced_tags: dict[int, list[str]] = ...\n",
    "# keys are pids, values are tags\n",
    "assert set(enhanced_tags) == set(final.AVAILABLE_PRODUCT_IDS)\n",
    "\"\"\"Save the enhanced tags if the results satisfy !!!!\"\"\""
   ]
  },
  {
   "cell_type": "code",
   "execution_count": null,
   "metadata": {},
   "outputs": [],
   "source": [
    "assert set(enhanced_tags) == set(final.AVAILABLE_PRODUCT_IDS)\n",
    "import pandas as pd\n",
    "rows = []\n",
    "for split, merged_df in final.data.merged_df().items():\n",
    "    baseline_scores = final.utils.baseline_score(merged_df)\n",
    "    metrics = final.ranking_metrics(baseline_scores, merged_df['y_true'])\n",
    "    metrics['name'] = f'baseline/{split}'\n",
    "    rows.append(metrics)\n",
    "\n",
    "    metrics = final.TagsEvaluator(PRODUCT_RAW_TAGS).cal_ranking_metrics(merged_df)\n",
    "    metrics['name'] = f'raw_tags/{split}'\n",
    "    rows.append(metrics)\n",
    "\n",
    "    metrics = final.TagsEvaluator(enhanced_tags).cal_ranking_metrics(merged_df)\n",
    "    metrics['name'] = f'enhanced_tags/{split}'\n",
    "    rows.append(metrics)\n",
    "\n",
    "res_df = pd.DataFrame(rows).set_index('name')\n",
    "print(res_df)"
   ]
  }
 ],
 "metadata": {
  "kernelspec": {
   "display_name": "venv_final",
   "language": "python",
   "name": "python3"
  },
  "language_info": {
   "codemirror_mode": {
    "name": "ipython",
    "version": 3
   },
   "file_extension": ".py",
   "mimetype": "text/x-python",
   "name": "python",
   "nbconvert_exporter": "python",
   "pygments_lexer": "ipython3",
   "version": "3.10.12"
  }
 },
 "nbformat": 4,
 "nbformat_minor": 2
}
