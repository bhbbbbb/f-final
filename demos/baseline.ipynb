{
  "nbformat": 4,
  "nbformat_minor": 0,
  "metadata": {
    "colab": {
      "provenance": [],
      "authorship_tag": "ABX9TyOG0Y1IuR0F8DTFM56HaJLj"
    },
    "kernelspec": {
      "name": "python3",
      "display_name": "Python 3"
    },
    "language_info": {
      "name": "python"
    }
  },
  "cells": [
    {
      "cell_type": "code",
      "execution_count": null,
      "metadata": {
        "id": "ZP5eepH12La8",
        "colab": {
          "base_uri": "https://localhost:8080/"
        },
        "outputId": "ab22b657-66d9-4116-9179-f6ba4d6898ed"
      },
      "outputs": [
        {
          "output_type": "stream",
          "name": "stdout",
          "text": [
            "Collecting git+https://github.com/bhbbbbb/f-final\n",
            "  Cloning https://github.com/bhbbbbb/f-final to /tmp/pip-req-build-9eo9x3ee\n",
            "  Running command git clone --filter=blob:none --quiet https://github.com/bhbbbbb/f-final /tmp/pip-req-build-9eo9x3ee\n",
            "  Resolved https://github.com/bhbbbbb/f-final to commit 321743ce81cd122f20dd75f503e39849ee9863c9\n",
            "  Installing build dependencies ... \u001b[?25l\u001b[?25hdone\n",
            "  Getting requirements to build wheel ... \u001b[?25l\u001b[?25hdone\n",
            "  Installing backend dependencies ... \u001b[?25l\u001b[?25hdone\n",
            "  Preparing metadata (pyproject.toml) ... \u001b[?25l\u001b[?25hdone\n",
            "Requirement already satisfied: packaging in /usr/local/lib/python3.10/dist-packages (from final==0.0.0) (24.0)\n"
          ]
        }
      ],
      "source": [
        "!pip install git+https://github.com/bhbbbbb/f-final"
      ]
    },
    {
      "cell_type": "markdown",
      "source": [
        "Data will be downloaded automatically and cached in the directory `dataset`.\n",
        "\n",
        "Note that `merged_df` has been split with ratio train:val:test=0.7:0.2:0.1 (following hw3)."
      ],
      "metadata": {
        "id": "w_AUvkje2v6s"
      }
    },
    {
      "cell_type": "code",
      "source": [
        "import final\n",
        "from final import data\n",
        "# data.set_password(<password>)"
      ],
      "metadata": {
        "id": "YyqLaK8D2rq4"
      },
      "execution_count": null,
      "outputs": []
    },
    {
      "cell_type": "code",
      "source": [
        "PID_MAPPING = {pid: i for i, pid in enumerate(final.AVAILABLE_PRODUCT_IDS)}\n",
        "def cal_scores(loads: list[dict]):\n",
        "    loads = [PID_MAPPING[load['item_id']] for load in loads]\n",
        "    scores = np.random.randint(-1000, 0, len(final.AVAILABLE_PRODUCT_IDS))\n",
        "    for i, pid in enumerate(loads):\n",
        "        scores[pid] = i\n",
        "    return scores\n",
        "\n",
        "def products_set_to_array(products: set[int]):\n",
        "    a = np.zeros(final.N_RPODUCTS, dtype=int)\n",
        "    a[[PID_MAPPING[pid] for pid in products]] = 1\n",
        "    return a"
      ],
      "metadata": {
        "id": "NKisS1Q_3zxz"
      },
      "execution_count": null,
      "outputs": []
    },
    {
      "cell_type": "code",
      "source": [
        "import numpy as np\n",
        "from pprint import pprint\n",
        "from final import evaluate\n",
        "for split, df in data.merged_df().items():\n",
        "    scores = np.array(df['loads'].map(cal_scores).to_list())\n",
        "    y_true = np.array(df['products'].map(products_set_to_array).to_list())\n",
        "    print(f'Metrics on {split}:')\n",
        "    pprint(evaluate.ranking_metrics(scores, y_true, ks=[1, 5, 10, 20]))\n"
      ],
      "metadata": {
        "colab": {
          "base_uri": "https://localhost:8080/"
        },
        "id": "Fd4-3yrC2Qmm",
        "outputId": "3cf358b4-bcbf-4014-852b-aff370bcf5f4"
      },
      "execution_count": null,
      "outputs": [
        {
          "output_type": "stream",
          "name": "stdout",
          "text": [
            "Metrics on train:\n",
            "{'hr@1': 0.8228779884046642,\n",
            " 'hr@10': 0.8936168265755915,\n",
            " 'hr@20': 0.9008455548347466,\n",
            " 'hr@5': 0.8653214774281806,\n",
            " 'mrr@1': 0.8228779884046642,\n",
            " 'mrr@10': 1.0890411203240986,\n",
            " 'mrr@20': 1.091815945899009,\n",
            " 'mrr@5': 1.066345297809046,\n",
            " 'ndcg@1': 0.8228779884046642,\n",
            " 'ndcg@10': 0.8493254748856615,\n",
            " 'ndcg@20': 0.8523419546205983,\n",
            " 'ndcg@5': 0.8354896887750748}\n",
            "Metrics on val:\n",
            "{'hr@1': 0.8388328333787838,\n",
            " 'hr@10': 0.8968849152241571,\n",
            " 'hr@20': 0.9054309014017223,\n",
            " 'hr@5': 0.8646850286337606,\n",
            " 'mrr@1': 0.8388328333787838,\n",
            " 'mrr@10': 1.1227822362469213,\n",
            " 'mrr@20': 1.1261647729469466,\n",
            " 'mrr@5': 1.0942050722661576,\n",
            " 'ndcg@1': 0.8388328333787838,\n",
            " 'ndcg@10': 0.8555743471276398,\n",
            " 'ndcg@20': 0.8592310996748552,\n",
            " 'ndcg@5': 0.8393520412203905}\n",
            "Metrics on test:\n",
            "{'hr@1': 0.8457983193277311,\n",
            " 'hr@10': 0.9041673336001066,\n",
            " 'hr@20': 0.9101033595256284,\n",
            " 'hr@5': 0.8747128851540616,\n",
            " 'mrr@1': 0.8457983193277311,\n",
            " 'mrr@10': 1.1203349673202614,\n",
            " 'mrr@20': 1.1227658939350635,\n",
            " 'mrr@5': 1.096176470588235,\n",
            " 'ndcg@1': 0.8457983193277311,\n",
            " 'ndcg@10': 0.8642927415511366,\n",
            " 'ndcg@20': 0.8668802735455775,\n",
            " 'ndcg@5': 0.8497268724769417}\n"
          ]
        }
      ]
    }
  ]
}